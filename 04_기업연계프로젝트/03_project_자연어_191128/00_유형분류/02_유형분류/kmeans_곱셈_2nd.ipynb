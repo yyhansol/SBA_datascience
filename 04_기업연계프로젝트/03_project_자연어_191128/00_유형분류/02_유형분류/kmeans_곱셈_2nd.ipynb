{
 "cells": [
  {
   "cell_type": "markdown",
   "metadata": {},
   "source": [
    "#  < 곱셈 >"
   ]
  },
  {
   "cell_type": "code",
   "execution_count": 1,
   "metadata": {},
   "outputs": [],
   "source": [
    "import pandas as pd\n",
    "import numpy as np"
   ]
  },
  {
   "cell_type": "code",
   "execution_count": 2,
   "metadata": {},
   "outputs": [],
   "source": [
    "df = pd.read_excel(\"./data/math_func_type.xlsx\",sheet_name=2, encoding='utf-8')"
   ]
  },
  {
   "cell_type": "code",
   "execution_count": 3,
   "metadata": {},
   "outputs": [
    {
     "data": {
      "text/plain": [
       "120"
      ]
     },
     "execution_count": 3,
     "metadata": {},
     "output_type": "execute_result"
    }
   ],
   "source": [
    "len(df)"
   ]
  },
  {
   "cell_type": "code",
   "execution_count": 4,
   "metadata": {},
   "outputs": [],
   "source": [
    "plus = df['키워드1'].values"
   ]
  },
  {
   "cell_type": "markdown",
   "metadata": {},
   "source": [
    "## 1. 정수인코딩"
   ]
  },
  {
   "cell_type": "code",
   "execution_count": 5,
   "metadata": {},
   "outputs": [
    {
     "name": "stdout",
     "output_type": "stream",
     "text": [
      "[['씩', '모두', '몇'], ['씩', '몇'], ['씩', '씩', '모두', '몇'], ['씩', '씩', '모두', '몇'], ['씩', '는', '의', '만큼', '모두', '몇'], ['씩', '남은', '몇'], ['씩', '씩', '모두', '부족해', '나머지', '씩', '몇', '필요합니까'], ['모두', '그', '중', '에서', '씩', '남은', '몇'], ['월', '일', '주일', '후', '몇', '월', '몇', '일'], ['씩', '씩', '몇'], ['씩', '씩', '몇'], ['씩', '씩', '모두', '몇'], ['의', '씩', '의', '씩', '나머지', '의', '씩', '각', '상자', '에서', '씩', '남은', '종이', '모두', '몇'], ['과', '이', '각각', '씩', '씩', '씩', '모두', '몇', '필요합니까'], ['씩', '더', '모두', '몇'], ['씩', '남는', '몇'], ['씩', '모두', '몇'], ['씩', '모두', '몇'], ['주일', '모두', '며칠'], ['씩', '씩', '씩', '몇'], ['씩', '씩', '모두', '몇'], ['주일', '모두', '며칠'], ['씩', '모두', '몇'], ['씩', '씩', '모두', '몇'], ['의', '씩', '의', '씩', '모두', '몇'], ['씩', '씩', '에', '은', '씩', '는', '씩', '는', '모두', '몇', '가', '필요합니까', '(', '단', '따로'], ['씩', '더', '부족', '몇'], ['씩', '씩', '몇'], ['월', '일', '주일', '후', '몇', '월', '몇', '일'], ['씩', '짓지', '못', '하는', '몇'], ['씩', '이', '중', '몇', '남은'], ['월', '일', '주일', '후', '몇', '월', '며칠'], ['중', '와', '모두', '몇'], ['씩', '모두', '씩', '나눠', '나머지', '모두', '몇'], ['씩', '씩', '모두', '씩', '몇', '필요합니까'], ['은', '씩', '은', '씩', '이', '중', '에서', '와', '팔았다', '남은', '몇'], ['각각', '와', '씩', '모두', '몇'], ['씩', '그', '중', '에서', '먹었습니다', '남아', '있는', '모두', '몇'], ['는', '씩', '는', '씩', '와', '에', '들어있는', '모두', '몇'], ['씩', '남았습니다', '씩', '모두', '몇'], ['자동차', '바퀴', '의', '수'], ['에', '씩', '에', '모두', '몇'], ['은', '점', '은', '점', '은', '점', '이', '이', '이', '모두', '몇', '점'], ['는', '에', '씩', '는', '에', '씩', '와', '모두', '몇'], ['에', '씩', '에', '모두', '몇'], ['의', '다리는', '개', '의', '다리는', '모두', '몇'], ['이', '씩', '이', '모두', '몇'], ['점', '짜리', '개', '점', '짜리', '개', '점', '짜리', '개', '점', '짜리', '개', '점', '짜리', '개', '모두', '몇', '점'], ['명의', '가위바위보', '모두', '보', '손가락', '모두', '몇'], ['의', '의', '모두', '몇'], ['각형', '개', '각형', '개', '수의', '합', '은', '모두', '몇', '개'], ['에', '씩', '와', '모두', '몇'], ['에', '씩', '모두', '몇', '가', '더', '필요한지'], ['에', '씩', '모두', '에', '씩', '몇'], ['명의', '가위바위보', '명의', '가위', '이겼을', '때', '명의', '손가락', '모두', '몇', '개'], ['의', '다리는', '개', '의', '다리는', '모두', '몇'], ['당', '씩', '의', '모두', '몇'], ['에', '모두', '몇'], ['에', '씩', '먹었다면', '남은', '몇'], ['매일', '씩', '일', '동안', '모두', '몇'], ['의', '의', '모두', '몇'], ['의', '의', '몇'], ['에', '씩', '에', '모두', '몇'], ['의', '인', '이어', '붙였습니다', '전체', '몇'], ['에', '씩', '에는', '모두', '몇'], ['에', '씩', '에는', '모두', '몇'], ['씩', '에게', '모두', '몇', '필요한지'], ['열', '리지', '않은', '열린', '몇'], ['에', '씩', '에', '모두', '몇'], ['씩', '8', '번', '몇', '까지'], ['에', '씩', '모두', '몇'], ['두발', '자전거', '와', '세', '발', '자전거', '의', '바퀴', '는', '모두', '몇', '개'], ['에', '씩', '이', '중', '에서', '남은', '몇'], ['에', '씩', '에는', '모두', '몇'], ['오토바이', '와', '승용차', '바퀴', '모두', '몇', '개'], ['에', '씩', '에', '모두', '몇'], ['자동차', '의', '바퀴', '수', '는', '모두', '몇', '개'], ['에', '씩', '모두', '몇'], ['점', '을', '번', '점', '을', '번', '점', '을', '번', '모두', '몇', '점'], ['에', '씩', '주일', '동안', '모두', '몇'], ['는', '의', '몇', '배'], ['는', '의', '배', '몇'], ['모두', '몇', ':,', ':,', '는', '의', '배', '만큼'], ['는', '씩', '는', '씩', '더', '많이', '누구'], ['차', '의', '배는', '의', '배는'], ['승용차', '대', '오토바이', '대', '어느', '것', '의', '바퀴', '가', '몇', '개', '더', '많습니까'], ['는', '는', '의', '배', '만큼', '는', '몇'], ['비교', ':,', '씩', ':,', '씩'], ['씩', '씩', '같습니까'], ['어떤', '수', '에', '를', '곱', '해야', '할', '것', '을', '잘못', '하여', '을', '곱', '했더니'], ['각형', '개', '각형', '개', '어느', '몇', '개', '더', '많은지'], ['에', '씩', '일', '동안', '에', '씩', '며칠', '동안'], ['각형', '개', '각형', '개', '어느', '몇', '개', '더', '많습니까'], ['의', '의', '의', '배', '보다', '더', '많습니다', '는', '보다', '몇', '더', '많은지'], ['는', '는', '의', '배', '만큼', '모두', '몇'], ['누가', '몇', '더', '많이', ':,', '의', '배', '만큼', ':,', '씩'], ['는', '에', '씩', '일', '동안', '는', '에', '보다', '씩', '많게', '주일', '동안', '모두', '몇'], ['는', '는', '가', '의', '배', '는', '몇'], ['는', '에', '씩', '는', '에', '의', '배', '만큼', '주일', '동안', '는', '보다', '몇', '더', '많이'], ['의', '씩', '의', '5', '배', '모두', '몇'], ['의', '배', '모두', '몇', '개'], ['씩', '의', '배', '몇'], ['의', '배', '만큼', '모두', '몇'], ['씩', '씩', '누가', '몇', '더', '많습니까', '\\r'], ['씩', '다시', '에', '씩', '몇', '더', '필요합니까'], ['의', '배', '몇'], ['는', '는', '의', '배', '보다', '살', '더', '많습니다', '는', '의', '배', '는', '몇'], ['는', '씩', '는', '씩', '누가', '몇', '더', '많이'], ['는', '은', '의', '배', '보다', '더', '많이', '모두', '몇'], ['는', '는', '의', '배', '만큼', '는', '모두', '몇'], ['씩', '의', '배', '보다', '몇', '큰', '수'], ['는', '는', '의', '배', '보다', '더', '적습니다', '는', '몇'], ['는', '씩', '는', '씩', '더', '많이', '누구'], ['는', '씩', '는', '의', '배', '는', '모두', '몇'], ['은', '는', '의', '배', '만큼', '는', '의', '배', '만큼', '모두', '몇'], ['는', '씩', '는', '씩', '누가', '몇', '더'], ['는', '씩', '는', '씩', '더', '많이', '누구'], ['는', '씩', '는', '씩', '더', '많이', '누구'], ['는', '는', '의', '배', '보다', '더', '많이', '는', '보다', '더', '적게', '모두', '몇', '개'], ['는', '씩', '는', '의', '배', '는', '보다', '더', '모두', '몇']]\n"
     ]
    }
   ],
   "source": [
    "from nltk.tokenize import sent_tokenize\n",
    "from nltk.tokenize import word_tokenize\n",
    "from nltk.corpus import stopwords\n",
    "from konlpy.tag import Kkma  \n",
    "from konlpy.tag import Okt  \n",
    "\n",
    "# 정제와 단어 토큰화\n",
    "vocab={} # 파이썬의 dictionary 자료형\n",
    "sentences = []\n",
    "stop_words =', '\n",
    "\n",
    "kkma=Kkma()\n",
    "okt=Okt()  \n",
    "\n",
    "for i in range(len(plus)):\n",
    "    sentence = okt.morphs(plus[i])\n",
    "    result = []\n",
    "\n",
    "    for word in sentence: \n",
    "        word=word.lower() # 모든 단어를 소문자화하여 단어의 개수를 줄입니다.\n",
    "        if word not in stop_words: # 단어 토큰화 된 결과에 대해서 불용어를 제거합니다.\n",
    "            if len(word) > 0: # 단어 길이가 1이하인 경우에 대하여 추가로 단어를 제거합니다.\n",
    "                result.append(word)\n",
    "                if word not in vocab:\n",
    "                    vocab[word] = 0 \n",
    "                vocab[word] += 1\n",
    "    sentences.append(result) \n",
    "print(sentences)"
   ]
  },
  {
   "cell_type": "code",
   "execution_count": 6,
   "metadata": {},
   "outputs": [],
   "source": [
    "vocab_sorted=sorted(vocab.items(), key=lambda x:x[1], reverse=True)"
   ]
  },
  {
   "cell_type": "code",
   "execution_count": 7,
   "metadata": {},
   "outputs": [
    {
     "name": "stdout",
     "output_type": "stream",
     "text": [
      "[('씩', 116), ('몇', 110), ('모두', 73), ('는', 60), ('의', 52), ('에', 35), ('배', 25), ('더', 24), ('개', 23), ('점', 14), ('보다', 11), ('만큼', 10), ('이', 9), ('은', 9), ('많이', 9), ('일', 8), ('주일', 8), ('와', 8), ('남은', 7), ('동안', 7), ('중', 6), ('월', 6), ('각형', 6), (':,', 6), ('필요합니까', 5), ('에서', 5), ('바퀴', 5), ('짜리', 5), ('을', 5), ('며칠', 4), ('가', 4), ('수', 4), ('다리는', 4), ('명의', 4), ('번', 4), ('누구', 4), ('누가', 4), ('나머지', 3), ('후', 3), ('에는', 3), ('어느', 3), ('많습니까', 3), ('그', 2), ('각각', 2), ('자동차', 2), ('가위바위보', 2), ('손가락', 2), ('필요한지', 2), ('자전거', 2), ('오토바이', 2), ('승용차', 2), ('배는', 2), ('대', 2), ('것', 2), ('곱', 2), ('많은지', 2), ('많습니다', 2), ('부족해', 1), ('각', 1), ('상자', 1), ('종이', 1), ('과', 1), ('남는', 1), ('(', 1), ('단', 1), ('따로', 1), ('부족', 1), ('짓지', 1), ('못', 1), ('하는', 1), ('나눠', 1), ('팔았다', 1), ('먹었습니다', 1), ('남아', 1), ('있는', 1), ('들어있는', 1), ('남았습니다', 1), ('보', 1), ('수의', 1), ('합', 1), ('가위', 1), ('이겼을', 1), ('때', 1), ('당', 1), ('먹었다면', 1), ('매일', 1), ('인', 1), ('이어', 1), ('붙였습니다', 1), ('전체', 1), ('에게', 1), ('열', 1), ('리지', 1), ('않은', 1), ('열린', 1), ('8', 1), ('까지', 1), ('두발', 1), ('세', 1), ('발', 1), ('차', 1), ('비교', 1), ('같습니까', 1), ('어떤', 1), ('를', 1), ('해야', 1), ('할', 1), ('잘못', 1), ('하여', 1), ('했더니', 1), ('많게', 1), ('5', 1), ('\\r', 1), ('다시', 1), ('살', 1), ('큰', 1), ('적습니다', 1), ('적게', 1)]\n"
     ]
    }
   ],
   "source": [
    "print(vocab_sorted)"
   ]
  },
  {
   "cell_type": "code",
   "execution_count": 8,
   "metadata": {},
   "outputs": [
    {
     "name": "stdout",
     "output_type": "stream",
     "text": [
      "{'씩': 1, '몇': 2, '모두': 3, '는': 4, '의': 5, '에': 6, '배': 7, '더': 8, '개': 9, '점': 10, '보다': 11, '만큼': 12, '이': 13, '은': 14, '많이': 15, '일': 16, '주일': 17, '와': 18, '남은': 19, '동안': 20, '중': 21, '월': 22, '각형': 23, ':,': 24, '필요합니까': 25, '에서': 26, '바퀴': 27, '짜리': 28, '을': 29, '며칠': 30, '가': 31, '수': 32, '다리는': 33, '명의': 34, '번': 35, '누구': 36, '누가': 37, '나머지': 38, '후': 39, '에는': 40, '어느': 41, '많습니까': 42, '그': 43, '각각': 44, '자동차': 45, '가위바위보': 46, '손가락': 47, '필요한지': 48, '자전거': 49, '오토바이': 50, '승용차': 51, '배는': 52, '대': 53, '것': 54, '곱': 55, '많은지': 56, '많습니다': 57, '부족해': 58, '각': 59, '상자': 60, '종이': 61, '과': 62, '남는': 63, '(': 64, '단': 65, '따로': 66, '부족': 67, '짓지': 68, '못': 69, '하는': 70, '나눠': 71, '팔았다': 72, '먹었습니다': 73, '남아': 74, '있는': 75, '들어있는': 76, '남았습니다': 77, '보': 78, '수의': 79, '합': 80, '가위': 81, '이겼을': 82, '때': 83, '당': 84, '먹었다면': 85, '매일': 86, '인': 87, '이어': 88, '붙였습니다': 89, '전체': 90, '에게': 91, '열': 92, '리지': 93, '않은': 94, '열린': 95, '8': 96, '까지': 97, '두발': 98, '세': 99, '발': 100, '차': 101, '비교': 102, '같습니까': 103, '어떤': 104, '를': 105, '해야': 106, '할': 107, '잘못': 108, '하여': 109, '했더니': 110, '많게': 111, '5': 112, '\\r': 113, '다시': 114, '살': 115, '큰': 116, '적습니다': 117, '적게': 118}\n"
     ]
    }
   ],
   "source": [
    "word_to_index={}\n",
    "i=0\n",
    "for (word, frequency) in vocab_sorted :\n",
    "    if frequency > 0 : # 정제(Cleaning) 챕터에서 언급했듯이 빈도수가 적은 단어는 제외한다.\n",
    "        i=i+1\n",
    "        word_to_index[word]=i\n",
    "print(word_to_index)"
   ]
  },
  {
   "cell_type": "code",
   "execution_count": 9,
   "metadata": {},
   "outputs": [],
   "source": [
    "word_to_index['OOV']=len(word_to_index)+1"
   ]
  },
  {
   "cell_type": "code",
   "execution_count": 10,
   "metadata": {},
   "outputs": [
    {
     "name": "stdout",
     "output_type": "stream",
     "text": [
      "[[1, 3, 2], [1, 2], [1, 1, 3, 2], [1, 1, 3, 2], [1, 4, 5, 12, 3, 2], [1, 19, 2], [1, 1, 3, 58, 38, 1, 2, 25], [3, 43, 21, 26, 1, 19, 2], [22, 16, 17, 39, 2, 22, 2, 16], [1, 1, 2], [1, 1, 2], [1, 1, 3, 2], [5, 1, 5, 1, 38, 5, 1, 59, 60, 26, 1, 19, 61, 3, 2], [62, 13, 44, 1, 1, 1, 3, 2, 25], [1, 8, 3, 2], [1, 63, 2], [1, 3, 2], [1, 3, 2], [17, 3, 30], [1, 1, 1, 2], [1, 1, 3, 2], [17, 3, 30], [1, 3, 2], [1, 1, 3, 2], [5, 1, 5, 1, 3, 2], [1, 1, 6, 14, 1, 4, 1, 4, 3, 2, 31, 25, 64, 65, 66], [1, 8, 67, 2], [1, 1, 2], [22, 16, 17, 39, 2, 22, 2, 16], [1, 68, 69, 70, 2], [1, 13, 21, 2, 19], [22, 16, 17, 39, 2, 22, 30], [21, 18, 3, 2], [1, 3, 1, 71, 38, 3, 2], [1, 1, 3, 1, 2, 25], [14, 1, 14, 1, 13, 21, 26, 18, 72, 19, 2], [44, 18, 1, 3, 2], [1, 43, 21, 26, 73, 74, 75, 3, 2], [4, 1, 4, 1, 18, 6, 76, 3, 2], [1, 77, 1, 3, 2], [45, 27, 5, 32], [6, 1, 6, 3, 2], [14, 10, 14, 10, 14, 10, 13, 13, 13, 3, 2, 10], [4, 6, 1, 4, 6, 1, 18, 3, 2], [6, 1, 6, 3, 2], [5, 33, 9, 5, 33, 3, 2], [13, 1, 13, 3, 2], [10, 28, 9, 10, 28, 9, 10, 28, 9, 10, 28, 9, 10, 28, 9, 3, 2, 10], [34, 46, 3, 78, 47, 3, 2], [5, 5, 3, 2], [23, 9, 23, 9, 79, 80, 14, 3, 2, 9], [6, 1, 18, 3, 2], [6, 1, 3, 2, 31, 8, 48], [6, 1, 3, 6, 1, 2], [34, 46, 34, 81, 82, 83, 34, 47, 3, 2, 9], [5, 33, 9, 5, 33, 3, 2], [84, 1, 5, 3, 2], [6, 3, 2], [6, 1, 85, 19, 2], [86, 1, 16, 20, 3, 2], [5, 5, 3, 2], [5, 5, 2], [6, 1, 6, 3, 2], [5, 87, 88, 89, 90, 2], [6, 1, 40, 3, 2], [6, 1, 40, 3, 2], [1, 91, 3, 2, 48], [92, 93, 94, 95, 2], [6, 1, 6, 3, 2], [1, 96, 35, 2, 97], [6, 1, 3, 2], [98, 49, 18, 99, 100, 49, 5, 27, 4, 3, 2, 9], [6, 1, 13, 21, 26, 19, 2], [6, 1, 40, 3, 2], [50, 18, 51, 27, 3, 2, 9], [6, 1, 6, 3, 2], [45, 5, 27, 32, 4, 3, 2, 9], [6, 1, 3, 2], [10, 29, 35, 10, 29, 35, 10, 29, 35, 3, 2, 10], [6, 1, 17, 20, 3, 2], [4, 5, 2, 7], [4, 5, 7, 2], [3, 2, 24, 24, 4, 5, 7, 12], [4, 1, 4, 1, 8, 15, 36], [101, 5, 52, 5, 52], [51, 53, 50, 53, 41, 54, 5, 27, 31, 2, 9, 8, 42], [4, 4, 5, 7, 12, 4, 2], [102, 24, 1, 24, 1], [1, 1, 103], [104, 32, 6, 105, 55, 106, 107, 54, 29, 108, 109, 29, 55, 110], [23, 9, 23, 9, 41, 2, 9, 8, 56], [6, 1, 16, 20, 6, 1, 30, 20], [23, 9, 23, 9, 41, 2, 9, 8, 42], [5, 5, 5, 7, 11, 8, 57, 4, 11, 2, 8, 56], [4, 4, 5, 7, 12, 3, 2], [37, 2, 8, 15, 24, 5, 7, 12, 24, 1], [4, 6, 1, 16, 20, 4, 6, 11, 1, 111, 17, 20, 3, 2], [4, 4, 31, 5, 7, 4, 2], [4, 6, 1, 4, 6, 5, 7, 12, 17, 20, 4, 11, 2, 8, 15], [5, 1, 5, 112, 7, 3, 2], [5, 7, 3, 2, 9], [1, 5, 7, 2], [5, 7, 12, 3, 2], [1, 1, 37, 2, 8, 42, 113], [1, 114, 6, 1, 2, 8, 25], [5, 7, 2], [4, 4, 5, 7, 11, 115, 8, 57, 4, 5, 7, 4, 2], [4, 1, 4, 1, 37, 2, 8, 15], [4, 14, 5, 7, 11, 8, 15, 3, 2], [4, 4, 5, 7, 12, 4, 3, 2], [1, 5, 7, 11, 2, 116, 32], [4, 4, 5, 7, 11, 8, 117, 4, 2], [4, 1, 4, 1, 8, 15, 36], [4, 1, 4, 5, 7, 4, 3, 2], [14, 4, 5, 7, 12, 4, 5, 7, 12, 3, 2], [4, 1, 4, 1, 37, 2, 8], [4, 1, 4, 1, 8, 15, 36], [4, 1, 4, 1, 8, 15, 36], [4, 4, 5, 7, 11, 8, 15, 4, 11, 8, 118, 3, 2, 9], [4, 1, 4, 5, 7, 4, 11, 8, 3, 2]]\n"
     ]
    }
   ],
   "source": [
    "encoded=[]\n",
    "for s in sentences:\n",
    "    temp = []\n",
    "    for w in s:\n",
    "        try:\n",
    "            temp.append(word_to_index[w])\n",
    "        except KeyError:\n",
    "            temp.append(word_to_index['OOV'])\n",
    "    encoded.append(temp)\n",
    "print(encoded)"
   ]
  },
  {
   "cell_type": "code",
   "execution_count": 11,
   "metadata": {},
   "outputs": [
    {
     "name": "stdout",
     "output_type": "stream",
     "text": [
      "샘플의 최대 길이 : 18\n"
     ]
    }
   ],
   "source": [
    "max_len=max(len(l) for l in encoded) # 모든 샘플에서 길이가 가장 긴 샘플의 길이 출력\n",
    "print('샘플의 최대 길이 : {}'.format(max_len))"
   ]
  },
  {
   "cell_type": "code",
   "execution_count": 12,
   "metadata": {},
   "outputs": [
    {
     "name": "stdout",
     "output_type": "stream",
     "text": [
      "샘플의 최소 길이 : 2\n"
     ]
    }
   ],
   "source": [
    "min_len=min(len(l) for l in encoded) # 모든 샘플에서 길이가 가장 긴 샘플의 길이 출력\n",
    "print('샘플의 최소 길이 : {}'.format(min_len))"
   ]
  },
  {
   "cell_type": "code",
   "execution_count": 13,
   "metadata": {},
   "outputs": [],
   "source": [
    "from tensorflow.keras.preprocessing.text import Tokenizer\n",
    "from tensorflow.keras.preprocessing.sequence import pad_sequences\n",
    "import numpy as np\n",
    "from tensorflow.keras.utils import to_categorical"
   ]
  },
  {
   "cell_type": "code",
   "execution_count": 14,
   "metadata": {},
   "outputs": [],
   "source": [
    "sequences = pad_sequences(encoded, maxlen=max_len, padding='pre')"
   ]
  },
  {
   "cell_type": "code",
   "execution_count": 15,
   "metadata": {},
   "outputs": [
    {
     "name": "stdout",
     "output_type": "stream",
     "text": [
      "[[ 0  0  0 ...  1  3  2]\n",
      " [ 0  0  0 ...  0  1  2]\n",
      " [ 0  0  0 ...  1  3  2]\n",
      " ...\n",
      " [ 0  0  0 ...  8 15 36]\n",
      " [ 0  0  0 ...  3  2  9]\n",
      " [ 0  0  0 ...  8  3  2]]\n"
     ]
    }
   ],
   "source": [
    "print(sequences)\n"
   ]
  },
  {
   "cell_type": "code",
   "execution_count": 16,
   "metadata": {},
   "outputs": [],
   "source": [
    "df_1 = pd.DataFrame(columns=('1','2','3','4','5','6','7','8','9','10','11','12','13','14','15','16','17','18'))"
   ]
  },
  {
   "cell_type": "code",
   "execution_count": 17,
   "metadata": {},
   "outputs": [],
   "source": [
    "for i in range(120):\n",
    "    df_1.loc[i] = sequences[i]"
   ]
  },
  {
   "cell_type": "code",
   "execution_count": 18,
   "metadata": {},
   "outputs": [
    {
     "data": {
      "text/html": [
       "<div>\n",
       "<style scoped>\n",
       "    .dataframe tbody tr th:only-of-type {\n",
       "        vertical-align: middle;\n",
       "    }\n",
       "\n",
       "    .dataframe tbody tr th {\n",
       "        vertical-align: top;\n",
       "    }\n",
       "\n",
       "    .dataframe thead th {\n",
       "        text-align: right;\n",
       "    }\n",
       "</style>\n",
       "<table border=\"1\" class=\"dataframe\">\n",
       "  <thead>\n",
       "    <tr style=\"text-align: right;\">\n",
       "      <th></th>\n",
       "      <th>1</th>\n",
       "      <th>2</th>\n",
       "      <th>3</th>\n",
       "      <th>4</th>\n",
       "      <th>5</th>\n",
       "      <th>6</th>\n",
       "      <th>7</th>\n",
       "      <th>8</th>\n",
       "      <th>9</th>\n",
       "      <th>10</th>\n",
       "      <th>11</th>\n",
       "      <th>12</th>\n",
       "      <th>13</th>\n",
       "      <th>14</th>\n",
       "      <th>15</th>\n",
       "      <th>16</th>\n",
       "      <th>17</th>\n",
       "      <th>18</th>\n",
       "    </tr>\n",
       "  </thead>\n",
       "  <tbody>\n",
       "    <tr>\n",
       "      <td>0</td>\n",
       "      <td>0</td>\n",
       "      <td>0</td>\n",
       "      <td>0</td>\n",
       "      <td>0</td>\n",
       "      <td>0</td>\n",
       "      <td>0</td>\n",
       "      <td>0</td>\n",
       "      <td>0</td>\n",
       "      <td>0</td>\n",
       "      <td>0</td>\n",
       "      <td>0</td>\n",
       "      <td>0</td>\n",
       "      <td>0</td>\n",
       "      <td>0</td>\n",
       "      <td>0</td>\n",
       "      <td>1</td>\n",
       "      <td>3</td>\n",
       "      <td>2</td>\n",
       "    </tr>\n",
       "    <tr>\n",
       "      <td>1</td>\n",
       "      <td>0</td>\n",
       "      <td>0</td>\n",
       "      <td>0</td>\n",
       "      <td>0</td>\n",
       "      <td>0</td>\n",
       "      <td>0</td>\n",
       "      <td>0</td>\n",
       "      <td>0</td>\n",
       "      <td>0</td>\n",
       "      <td>0</td>\n",
       "      <td>0</td>\n",
       "      <td>0</td>\n",
       "      <td>0</td>\n",
       "      <td>0</td>\n",
       "      <td>0</td>\n",
       "      <td>0</td>\n",
       "      <td>1</td>\n",
       "      <td>2</td>\n",
       "    </tr>\n",
       "    <tr>\n",
       "      <td>2</td>\n",
       "      <td>0</td>\n",
       "      <td>0</td>\n",
       "      <td>0</td>\n",
       "      <td>0</td>\n",
       "      <td>0</td>\n",
       "      <td>0</td>\n",
       "      <td>0</td>\n",
       "      <td>0</td>\n",
       "      <td>0</td>\n",
       "      <td>0</td>\n",
       "      <td>0</td>\n",
       "      <td>0</td>\n",
       "      <td>0</td>\n",
       "      <td>0</td>\n",
       "      <td>1</td>\n",
       "      <td>1</td>\n",
       "      <td>3</td>\n",
       "      <td>2</td>\n",
       "    </tr>\n",
       "    <tr>\n",
       "      <td>3</td>\n",
       "      <td>0</td>\n",
       "      <td>0</td>\n",
       "      <td>0</td>\n",
       "      <td>0</td>\n",
       "      <td>0</td>\n",
       "      <td>0</td>\n",
       "      <td>0</td>\n",
       "      <td>0</td>\n",
       "      <td>0</td>\n",
       "      <td>0</td>\n",
       "      <td>0</td>\n",
       "      <td>0</td>\n",
       "      <td>0</td>\n",
       "      <td>0</td>\n",
       "      <td>1</td>\n",
       "      <td>1</td>\n",
       "      <td>3</td>\n",
       "      <td>2</td>\n",
       "    </tr>\n",
       "    <tr>\n",
       "      <td>4</td>\n",
       "      <td>0</td>\n",
       "      <td>0</td>\n",
       "      <td>0</td>\n",
       "      <td>0</td>\n",
       "      <td>0</td>\n",
       "      <td>0</td>\n",
       "      <td>0</td>\n",
       "      <td>0</td>\n",
       "      <td>0</td>\n",
       "      <td>0</td>\n",
       "      <td>0</td>\n",
       "      <td>0</td>\n",
       "      <td>1</td>\n",
       "      <td>4</td>\n",
       "      <td>5</td>\n",
       "      <td>12</td>\n",
       "      <td>3</td>\n",
       "      <td>2</td>\n",
       "    </tr>\n",
       "  </tbody>\n",
       "</table>\n",
       "</div>"
      ],
      "text/plain": [
       "   1  2  3  4  5  6  7  8  9 10 11 12 13 14 15  16 17 18\n",
       "0  0  0  0  0  0  0  0  0  0  0  0  0  0  0  0   1  3  2\n",
       "1  0  0  0  0  0  0  0  0  0  0  0  0  0  0  0   0  1  2\n",
       "2  0  0  0  0  0  0  0  0  0  0  0  0  0  0  1   1  3  2\n",
       "3  0  0  0  0  0  0  0  0  0  0  0  0  0  0  1   1  3  2\n",
       "4  0  0  0  0  0  0  0  0  0  0  0  0  1  4  5  12  3  2"
      ]
     },
     "execution_count": 18,
     "metadata": {},
     "output_type": "execute_result"
    }
   ],
   "source": [
    "df_1.head()"
   ]
  },
  {
   "cell_type": "code",
   "execution_count": 19,
   "metadata": {},
   "outputs": [],
   "source": [
    "data_points = df_1.values"
   ]
  },
  {
   "cell_type": "markdown",
   "metadata": {},
   "source": [
    "## 2. k-means\n",
    "* elbow curve\n",
    "* 8개의 군집 설정"
   ]
  },
  {
   "cell_type": "code",
   "execution_count": 20,
   "metadata": {},
   "outputs": [],
   "source": [
    "from sklearn.cluster import KMeans\n",
    "import matplotlib.pyplot as plt"
   ]
  },
  {
   "cell_type": "code",
   "execution_count": 21,
   "metadata": {},
   "outputs": [],
   "source": [
    "def elbow(X):\n",
    "    sse=[]\n",
    "    for i in range(1,11):\n",
    "        km=KMeans(n_clusters=i,init=\"k-means++\",random_state=0)\n",
    "        km.fit(X)\n",
    "        sse.append(km.inertia_)\n",
    "    plt.plot(range(1, 11),sse,marker=\"o\")\n",
    "    plt.show()\n"
   ]
  },
  {
   "cell_type": "code",
   "execution_count": 22,
   "metadata": {},
   "outputs": [
    {
     "data": {
      "image/png": "[encoded data removed]",
      "text/plain": [
       "<Figure size 432x288 with 1 Axes>"
      ]
     },
     "metadata": {
      "needs_background": "light"
     },
     "output_type": "display_data"
    }
   ],
   "source": [
    "elbow(data_points)"
   ]
  },
  {
   "cell_type": "code",
   "execution_count": 23,
   "metadata": {},
   "outputs": [],
   "source": [
    "kmeans = KMeans(n_clusters = 8).fit(data_points)"
   ]
  },
  {
   "cell_type": "code",
   "execution_count": 24,
   "metadata": {},
   "outputs": [],
   "source": [
    "df_1['cluster_id'] = kmeans.labels_"
   ]
  },
  {
   "cell_type": "code",
   "execution_count": 25,
   "metadata": {},
   "outputs": [
    {
     "data": {
      "text/html": [
       "<div>\n",
       "<style scoped>\n",
       "    .dataframe tbody tr th:only-of-type {\n",
       "        vertical-align: middle;\n",
       "    }\n",
       "\n",
       "    .dataframe tbody tr th {\n",
       "        vertical-align: top;\n",
       "    }\n",
       "\n",
       "    .dataframe thead th {\n",
       "        text-align: right;\n",
       "    }\n",
       "</style>\n",
       "<table border=\"1\" class=\"dataframe\">\n",
       "  <thead>\n",
       "    <tr style=\"text-align: right;\">\n",
       "      <th></th>\n",
       "      <th>1</th>\n",
       "      <th>2</th>\n",
       "      <th>3</th>\n",
       "      <th>4</th>\n",
       "      <th>5</th>\n",
       "      <th>6</th>\n",
       "      <th>7</th>\n",
       "      <th>8</th>\n",
       "      <th>9</th>\n",
       "      <th>10</th>\n",
       "      <th>11</th>\n",
       "      <th>12</th>\n",
       "      <th>13</th>\n",
       "      <th>14</th>\n",
       "      <th>15</th>\n",
       "      <th>16</th>\n",
       "      <th>17</th>\n",
       "      <th>18</th>\n",
       "      <th>cluster_id</th>\n",
       "    </tr>\n",
       "  </thead>\n",
       "  <tbody>\n",
       "    <tr>\n",
       "      <td>0</td>\n",
       "      <td>0</td>\n",
       "      <td>0</td>\n",
       "      <td>0</td>\n",
       "      <td>0</td>\n",
       "      <td>0</td>\n",
       "      <td>0</td>\n",
       "      <td>0</td>\n",
       "      <td>0</td>\n",
       "      <td>0</td>\n",
       "      <td>0</td>\n",
       "      <td>0</td>\n",
       "      <td>0</td>\n",
       "      <td>0</td>\n",
       "      <td>0</td>\n",
       "      <td>0</td>\n",
       "      <td>1</td>\n",
       "      <td>3</td>\n",
       "      <td>2</td>\n",
       "      <td>0</td>\n",
       "    </tr>\n",
       "    <tr>\n",
       "      <td>1</td>\n",
       "      <td>0</td>\n",
       "      <td>0</td>\n",
       "      <td>0</td>\n",
       "      <td>0</td>\n",
       "      <td>0</td>\n",
       "      <td>0</td>\n",
       "      <td>0</td>\n",
       "      <td>0</td>\n",
       "      <td>0</td>\n",
       "      <td>0</td>\n",
       "      <td>0</td>\n",
       "      <td>0</td>\n",
       "      <td>0</td>\n",
       "      <td>0</td>\n",
       "      <td>0</td>\n",
       "      <td>0</td>\n",
       "      <td>1</td>\n",
       "      <td>2</td>\n",
       "      <td>0</td>\n",
       "    </tr>\n",
       "    <tr>\n",
       "      <td>2</td>\n",
       "      <td>0</td>\n",
       "      <td>0</td>\n",
       "      <td>0</td>\n",
       "      <td>0</td>\n",
       "      <td>0</td>\n",
       "      <td>0</td>\n",
       "      <td>0</td>\n",
       "      <td>0</td>\n",
       "      <td>0</td>\n",
       "      <td>0</td>\n",
       "      <td>0</td>\n",
       "      <td>0</td>\n",
       "      <td>0</td>\n",
       "      <td>0</td>\n",
       "      <td>1</td>\n",
       "      <td>1</td>\n",
       "      <td>3</td>\n",
       "      <td>2</td>\n",
       "      <td>0</td>\n",
       "    </tr>\n",
       "    <tr>\n",
       "      <td>3</td>\n",
       "      <td>0</td>\n",
       "      <td>0</td>\n",
       "      <td>0</td>\n",
       "      <td>0</td>\n",
       "      <td>0</td>\n",
       "      <td>0</td>\n",
       "      <td>0</td>\n",
       "      <td>0</td>\n",
       "      <td>0</td>\n",
       "      <td>0</td>\n",
       "      <td>0</td>\n",
       "      <td>0</td>\n",
       "      <td>0</td>\n",
       "      <td>0</td>\n",
       "      <td>1</td>\n",
       "      <td>1</td>\n",
       "      <td>3</td>\n",
       "      <td>2</td>\n",
       "      <td>0</td>\n",
       "    </tr>\n",
       "    <tr>\n",
       "      <td>4</td>\n",
       "      <td>0</td>\n",
       "      <td>0</td>\n",
       "      <td>0</td>\n",
       "      <td>0</td>\n",
       "      <td>0</td>\n",
       "      <td>0</td>\n",
       "      <td>0</td>\n",
       "      <td>0</td>\n",
       "      <td>0</td>\n",
       "      <td>0</td>\n",
       "      <td>0</td>\n",
       "      <td>0</td>\n",
       "      <td>1</td>\n",
       "      <td>4</td>\n",
       "      <td>5</td>\n",
       "      <td>12</td>\n",
       "      <td>3</td>\n",
       "      <td>2</td>\n",
       "      <td>0</td>\n",
       "    </tr>\n",
       "  </tbody>\n",
       "</table>\n",
       "</div>"
      ],
      "text/plain": [
       "   1  2  3  4  5  6  7  8  9 10 11 12 13 14 15  16 17 18  cluster_id\n",
       "0  0  0  0  0  0  0  0  0  0  0  0  0  0  0  0   1  3  2           0\n",
       "1  0  0  0  0  0  0  0  0  0  0  0  0  0  0  0   0  1  2           0\n",
       "2  0  0  0  0  0  0  0  0  0  0  0  0  0  0  1   1  3  2           0\n",
       "3  0  0  0  0  0  0  0  0  0  0  0  0  0  0  1   1  3  2           0\n",
       "4  0  0  0  0  0  0  0  0  0  0  0  0  1  4  5  12  3  2           0"
      ]
     },
     "execution_count": 25,
     "metadata": {},
     "output_type": "execute_result"
    }
   ],
   "source": [
    "df_1.head()"
   ]
  },
  {
   "cell_type": "code",
   "execution_count": 26,
   "metadata": {},
   "outputs": [
    {
     "data": {
      "text/plain": [
       "0      0\n",
       "1      0\n",
       "2      0\n",
       "3      0\n",
       "4      0\n",
       "      ..\n",
       "115    0\n",
       "116    4\n",
       "117    4\n",
       "118    5\n",
       "119    0\n",
       "Name: cluster_id, Length: 120, dtype: int32"
      ]
     },
     "execution_count": 26,
     "metadata": {},
     "output_type": "execute_result"
    }
   ],
   "source": [
    "df_1['cluster_id']"
   ]
  },
  {
   "cell_type": "code",
   "execution_count": 27,
   "metadata": {},
   "outputs": [
    {
     "data": {
      "text/plain": [
       "(array([65.,  2.,  1.,  0., 16., 17.,  0.,  8.,  4.,  7.]),\n",
       " array([0. , 0.7, 1.4, 2.1, 2.8, 3.5, 4.2, 4.9, 5.6, 6.3, 7. ]),\n",
       " <a list of 10 Patch objects>)"
      ]
     },
     "execution_count": 27,
     "metadata": {},
     "output_type": "execute_result"
    },
    {
     "data": {
      "image/png": "[encoded data removed]",
      "text/plain": [
       "<Figure size 432x288 with 1 Axes>"
      ]
     },
     "metadata": {
      "needs_background": "light"
     },
     "output_type": "display_data"
    }
   ],
   "source": [
    "plt.hist(df_1['cluster_id'])"
   ]
  },
  {
   "cell_type": "code",
   "execution_count": 28,
   "metadata": {},
   "outputs": [
    {
     "name": "stdout",
     "output_type": "stream",
     "text": [
      "한 장의 길이가 4cm인 색 테이프 4장을 그림과 같이 겹치지 않게 이어 붙였습니다. 이어 붙인 색 테이프의 전체 길이는 몇 cm인지 풀이 과정을 쓰고, 답을 구하시오. \n",
      "사과가 열리지 않은 사과나무가 5그루 있습니다. 이 사과나무에 열린 사과는 몇 개인지 풀이 과정을 쓰고, 답을 구하시오. \n"
     ]
    }
   ],
   "source": [
    "for i in range(len(df)):\n",
    "    if df_1['cluster_id'][i]==1:\n",
    "        print(df['질문'][i])"
   ]
  },
  {
   "cell_type": "markdown",
   "metadata": {},
   "source": [
    "## 3. 워드투벡터"
   ]
  },
  {
   "cell_type": "code",
   "execution_count": 83,
   "metadata": {},
   "outputs": [],
   "source": [
    "from gensim.models import Word2Vec\n",
    "import matplotlib.pyplot as plt"
   ]
  },
  {
   "cell_type": "code",
   "execution_count": 89,
   "metadata": {},
   "outputs": [],
   "source": [
    "def plot_2d_graph(vocabs, xs, ys):\n",
    "    plt.figure(figsize=(8,6))\n",
    "    plt.scatter(xs, ys, marker = 'o')\n",
    "#     xlim()\n",
    "#     ylim(-0.01,0.103)\n",
    "    for i, v in enumerate(vocabs):\n",
    "        plt.annotate(v, xy=(xs[i], ys[i]))"
   ]
  },
  {
   "cell_type": "code",
   "execution_count": 90,
   "metadata": {},
   "outputs": [],
   "source": [
    "model = Word2Vec(sentences, size=300, window=3, min_count=1, workers=1)"
   ]
  },
  {
   "cell_type": "code",
   "execution_count": 91,
   "metadata": {},
   "outputs": [],
   "source": [
    "word_vectors = model.wv\n",
    "vocabs = word_vectors.vocab.keys()\n",
    "word_vectors_list = [word_vectors[v] for v in vocabs]"
   ]
  },
  {
   "cell_type": "code",
   "execution_count": 92,
   "metadata": {},
   "outputs": [],
   "source": [
    "from sklearn.decomposition import PCA\n",
    "pca = PCA(n_components=5)\n",
    "xys = pca.fit_transform(word_vectors_list)\n",
    "xs = xys[:,0]\n",
    "ys = xys[:,1]"
   ]
  },
  {
   "cell_type": "code",
   "execution_count": 93,
   "metadata": {},
   "outputs": [
    {
     "name": "stderr",
     "output_type": "stream",
     "text": [
      "C:\\Python\\Anaconda3\\lib\\site-packages\\matplotlib\\backends\\backend_agg.py:211: RuntimeWarning: Glyph 47784 missing from current font.\n",
      "  font.set_text(s, 0.0, flags=flags)\n",
      "C:\\Python\\Anaconda3\\lib\\site-packages\\matplotlib\\backends\\backend_agg.py:211: RuntimeWarning: Glyph 46160 missing from current font.\n",
      "  font.set_text(s, 0.0, flags=flags)\n",
      "C:\\Python\\Anaconda3\\lib\\site-packages\\matplotlib\\backends\\backend_agg.py:180: RuntimeWarning: Glyph 47784 missing from current font.\n",
      "  font.set_text(s, 0, flags=flags)\n",
      "C:\\Python\\Anaconda3\\lib\\site-packages\\matplotlib\\backends\\backend_agg.py:180: RuntimeWarning: Glyph 46160 missing from current font.\n",
      "  font.set_text(s, 0, flags=flags)\n",
      "C:\\Python\\Anaconda3\\lib\\site-packages\\matplotlib\\backends\\backend_agg.py:211: RuntimeWarning: Glyph 47751 missing from current font.\n",
      "  font.set_text(s, 0.0, flags=flags)\n",
      "C:\\Python\\Anaconda3\\lib\\site-packages\\matplotlib\\backends\\backend_agg.py:176: RuntimeWarning: Glyph 47751 missing from current font.\n",
      "  font.load_char(ord(s), flags=flags)\n",
      "C:\\Python\\Anaconda3\\lib\\site-packages\\matplotlib\\backends\\backend_agg.py:211: RuntimeWarning: Glyph 51452 missing from current font.\n",
      "  font.set_text(s, 0.0, flags=flags)\n",
      "C:\\Python\\Anaconda3\\lib\\site-packages\\matplotlib\\backends\\backend_agg.py:211: RuntimeWarning: Glyph 50632 missing from current font.\n",
      "  font.set_text(s, 0.0, flags=flags)\n",
      "C:\\Python\\Anaconda3\\lib\\site-packages\\matplotlib\\backends\\backend_agg.py:211: RuntimeWarning: Glyph 49845 missing from current font.\n",
      "  font.set_text(s, 0.0, flags=flags)\n",
      "C:\\Python\\Anaconda3\\lib\\site-packages\\matplotlib\\backends\\backend_agg.py:211: RuntimeWarning: Glyph 45768 missing from current font.\n",
      "  font.set_text(s, 0.0, flags=flags)\n",
      "C:\\Python\\Anaconda3\\lib\\site-packages\\matplotlib\\backends\\backend_agg.py:211: RuntimeWarning: Glyph 45796 missing from current font.\n",
      "  font.set_text(s, 0.0, flags=flags)\n",
      "C:\\Python\\Anaconda3\\lib\\site-packages\\matplotlib\\backends\\backend_agg.py:180: RuntimeWarning: Glyph 51452 missing from current font.\n",
      "  font.set_text(s, 0, flags=flags)\n",
      "C:\\Python\\Anaconda3\\lib\\site-packages\\matplotlib\\backends\\backend_agg.py:180: RuntimeWarning: Glyph 50632 missing from current font.\n",
      "  font.set_text(s, 0, flags=flags)\n",
      "C:\\Python\\Anaconda3\\lib\\site-packages\\matplotlib\\backends\\backend_agg.py:180: RuntimeWarning: Glyph 49845 missing from current font.\n",
      "  font.set_text(s, 0, flags=flags)\n",
      "C:\\Python\\Anaconda3\\lib\\site-packages\\matplotlib\\backends\\backend_agg.py:180: RuntimeWarning: Glyph 45768 missing from current font.\n",
      "  font.set_text(s, 0, flags=flags)\n",
      "C:\\Python\\Anaconda3\\lib\\site-packages\\matplotlib\\backends\\backend_agg.py:180: RuntimeWarning: Glyph 45796 missing from current font.\n",
      "  font.set_text(s, 0, flags=flags)\n",
      "C:\\Python\\Anaconda3\\lib\\site-packages\\matplotlib\\backends\\backend_agg.py:211: RuntimeWarning: Glyph 45908 missing from current font.\n",
      "  font.set_text(s, 0.0, flags=flags)\n",
      "C:\\Python\\Anaconda3\\lib\\site-packages\\matplotlib\\backends\\backend_agg.py:176: RuntimeWarning: Glyph 45908 missing from current font.\n",
      "  font.load_char(ord(s), flags=flags)\n",
      "C:\\Python\\Anaconda3\\lib\\site-packages\\matplotlib\\backends\\backend_agg.py:211: RuntimeWarning: Glyph 50728 missing from current font.\n",
      "  font.set_text(s, 0.0, flags=flags)\n",
      "C:\\Python\\Anaconda3\\lib\\site-packages\\matplotlib\\backends\\backend_agg.py:211: RuntimeWarning: Glyph 47732 missing from current font.\n",
      "  font.set_text(s, 0.0, flags=flags)\n",
      "C:\\Python\\Anaconda3\\lib\\site-packages\\matplotlib\\backends\\backend_agg.py:180: RuntimeWarning: Glyph 50728 missing from current font.\n",
      "  font.set_text(s, 0, flags=flags)\n",
      "C:\\Python\\Anaconda3\\lib\\site-packages\\matplotlib\\backends\\backend_agg.py:180: RuntimeWarning: Glyph 47732 missing from current font.\n",
      "  font.set_text(s, 0, flags=flags)\n",
      "C:\\Python\\Anaconda3\\lib\\site-packages\\matplotlib\\backends\\backend_agg.py:211: RuntimeWarning: Glyph 48372 missing from current font.\n",
      "  font.set_text(s, 0.0, flags=flags)\n",
      "C:\\Python\\Anaconda3\\lib\\site-packages\\matplotlib\\backends\\backend_agg.py:180: RuntimeWarning: Glyph 48372 missing from current font.\n",
      "  font.set_text(s, 0, flags=flags)\n",
      "C:\\Python\\Anaconda3\\lib\\site-packages\\matplotlib\\backends\\backend_agg.py:211: RuntimeWarning: Glyph 47566 missing from current font.\n",
      "  font.set_text(s, 0.0, flags=flags)\n",
      "C:\\Python\\Anaconda3\\lib\\site-packages\\matplotlib\\backends\\backend_agg.py:180: RuntimeWarning: Glyph 47566 missing from current font.\n",
      "  font.set_text(s, 0, flags=flags)\n",
      "C:\\Python\\Anaconda3\\lib\\site-packages\\matplotlib\\backends\\backend_agg.py:211: RuntimeWarning: Glyph 44032 missing from current font.\n",
      "  font.set_text(s, 0.0, flags=flags)\n",
      "C:\\Python\\Anaconda3\\lib\\site-packages\\matplotlib\\backends\\backend_agg.py:211: RuntimeWarning: Glyph 51652 missing from current font.\n",
      "  font.set_text(s, 0.0, flags=flags)\n",
      "C:\\Python\\Anaconda3\\lib\\site-packages\\matplotlib\\backends\\backend_agg.py:180: RuntimeWarning: Glyph 44032 missing from current font.\n",
      "  font.set_text(s, 0, flags=flags)\n",
      "C:\\Python\\Anaconda3\\lib\\site-packages\\matplotlib\\backends\\backend_agg.py:180: RuntimeWarning: Glyph 51652 missing from current font.\n",
      "  font.set_text(s, 0, flags=flags)\n",
      "C:\\Python\\Anaconda3\\lib\\site-packages\\matplotlib\\backends\\backend_agg.py:211: RuntimeWarning: Glyph 51648 missing from current font.\n",
      "  font.set_text(s, 0.0, flags=flags)\n",
      "C:\\Python\\Anaconda3\\lib\\site-packages\\matplotlib\\backends\\backend_agg.py:180: RuntimeWarning: Glyph 51648 missing from current font.\n",
      "  font.set_text(s, 0, flags=flags)\n",
      "C:\\Python\\Anaconda3\\lib\\site-packages\\matplotlib\\backends\\backend_agg.py:211: RuntimeWarning: Glyph 44256 missing from current font.\n",
      "  font.set_text(s, 0.0, flags=flags)\n",
      "C:\\Python\\Anaconda3\\lib\\site-packages\\matplotlib\\backends\\backend_agg.py:176: RuntimeWarning: Glyph 44256 missing from current font.\n",
      "  font.load_char(ord(s), flags=flags)\n",
      "C:\\Python\\Anaconda3\\lib\\site-packages\\matplotlib\\backends\\backend_agg.py:211: RuntimeWarning: Glyph 51500 missing from current font.\n",
      "  font.set_text(s, 0.0, flags=flags)\n",
      "C:\\Python\\Anaconda3\\lib\\site-packages\\matplotlib\\backends\\backend_agg.py:180: RuntimeWarning: Glyph 51500 missing from current font.\n",
      "  font.set_text(s, 0, flags=flags)\n",
      "C:\\Python\\Anaconda3\\lib\\site-packages\\matplotlib\\backends\\backend_agg.py:211: RuntimeWarning: Glyph 51060 missing from current font.\n",
      "  font.set_text(s, 0.0, flags=flags)\n",
      "C:\\Python\\Anaconda3\\lib\\site-packages\\matplotlib\\backends\\backend_agg.py:211: RuntimeWarning: Glyph 51228 missing from current font.\n",
      "  font.set_text(s, 0.0, flags=flags)\n",
      "C:\\Python\\Anaconda3\\lib\\site-packages\\matplotlib\\backends\\backend_agg.py:180: RuntimeWarning: Glyph 51060 missing from current font.\n",
      "  font.set_text(s, 0, flags=flags)\n",
      "C:\\Python\\Anaconda3\\lib\\site-packages\\matplotlib\\backends\\backend_agg.py:180: RuntimeWarning: Glyph 51228 missing from current font.\n",
      "  font.set_text(s, 0, flags=flags)\n",
      "C:\\Python\\Anaconda3\\lib\\site-packages\\matplotlib\\backends\\backend_agg.py:211: RuntimeWarning: Glyph 44552 missing from current font.\n",
      "  font.set_text(s, 0.0, flags=flags)\n",
      "C:\\Python\\Anaconda3\\lib\\site-packages\\matplotlib\\backends\\backend_agg.py:180: RuntimeWarning: Glyph 44552 missing from current font.\n",
      "  font.set_text(s, 0, flags=flags)\n",
      "C:\\Python\\Anaconda3\\lib\\site-packages\\matplotlib\\backends\\backend_agg.py:211: RuntimeWarning: Glyph 45813 missing from current font.\n",
      "  font.set_text(s, 0.0, flags=flags)\n",
      "C:\\Python\\Anaconda3\\lib\\site-packages\\matplotlib\\backends\\backend_agg.py:180: RuntimeWarning: Glyph 45813 missing from current font.\n",
      "  font.set_text(s, 0, flags=flags)\n",
      "C:\\Python\\Anaconda3\\lib\\site-packages\\matplotlib\\backends\\backend_agg.py:211: RuntimeWarning: Glyph 46308 missing from current font.\n",
      "  font.set_text(s, 0.0, flags=flags)\n",
      "C:\\Python\\Anaconda3\\lib\\site-packages\\matplotlib\\backends\\backend_agg.py:211: RuntimeWarning: Glyph 50668 missing from current font.\n",
      "  font.set_text(s, 0.0, flags=flags)\n",
      "C:\\Python\\Anaconda3\\lib\\site-packages\\matplotlib\\backends\\backend_agg.py:180: RuntimeWarning: Glyph 46308 missing from current font.\n",
      "  font.set_text(s, 0, flags=flags)\n",
      "C:\\Python\\Anaconda3\\lib\\site-packages\\matplotlib\\backends\\backend_agg.py:180: RuntimeWarning: Glyph 50668 missing from current font.\n",
      "  font.set_text(s, 0, flags=flags)\n",
      "C:\\Python\\Anaconda3\\lib\\site-packages\\matplotlib\\backends\\backend_agg.py:211: RuntimeWarning: Glyph 50772 missing from current font.\n",
      "  font.set_text(s, 0.0, flags=flags)\n",
      "C:\\Python\\Anaconda3\\lib\\site-packages\\matplotlib\\backends\\backend_agg.py:211: RuntimeWarning: Glyph 50612 missing from current font.\n",
      "  font.set_text(s, 0.0, flags=flags)\n",
      "C:\\Python\\Anaconda3\\lib\\site-packages\\matplotlib\\backends\\backend_agg.py:211: RuntimeWarning: Glyph 50836 missing from current font.\n",
      "  font.set_text(s, 0.0, flags=flags)\n",
      "C:\\Python\\Anaconda3\\lib\\site-packages\\matplotlib\\backends\\backend_agg.py:180: RuntimeWarning: Glyph 50772 missing from current font.\n",
      "  font.set_text(s, 0, flags=flags)\n",
      "C:\\Python\\Anaconda3\\lib\\site-packages\\matplotlib\\backends\\backend_agg.py:180: RuntimeWarning: Glyph 50612 missing from current font.\n",
      "  font.set_text(s, 0, flags=flags)\n",
      "C:\\Python\\Anaconda3\\lib\\site-packages\\matplotlib\\backends\\backend_agg.py:180: RuntimeWarning: Glyph 50836 missing from current font.\n",
      "  font.set_text(s, 0, flags=flags)\n",
      "C:\\Python\\Anaconda3\\lib\\site-packages\\matplotlib\\backends\\backend_agg.py:211: RuntimeWarning: Glyph 45347 missing from current font.\n",
      "  font.set_text(s, 0.0, flags=flags)\n",
      "C:\\Python\\Anaconda3\\lib\\site-packages\\matplotlib\\backends\\backend_agg.py:180: RuntimeWarning: Glyph 45347 missing from current font.\n",
      "  font.set_text(s, 0, flags=flags)\n",
      "C:\\Python\\Anaconda3\\lib\\site-packages\\matplotlib\\backends\\backend_agg.py:211: RuntimeWarning: Glyph 45216 missing from current font.\n",
      "  font.set_text(s, 0.0, flags=flags)\n",
      "C:\\Python\\Anaconda3\\lib\\site-packages\\matplotlib\\backends\\backend_agg.py:211: RuntimeWarning: Glyph 50500 missing from current font.\n",
      "  font.set_text(s, 0.0, flags=flags)\n",
      "C:\\Python\\Anaconda3\\lib\\site-packages\\matplotlib\\backends\\backend_agg.py:180: RuntimeWarning: Glyph 45216 missing from current font.\n",
      "  font.set_text(s, 0, flags=flags)\n",
      "C:\\Python\\Anaconda3\\lib\\site-packages\\matplotlib\\backends\\backend_agg.py:180: RuntimeWarning: Glyph 50500 missing from current font.\n",
      "  font.set_text(s, 0, flags=flags)\n",
      "C:\\Python\\Anaconda3\\lib\\site-packages\\matplotlib\\backends\\backend_agg.py:176: RuntimeWarning: Glyph 47784 missing from current font.\n",
      "  font.load_char(ord(s), flags=flags)\n",
      "C:\\Python\\Anaconda3\\lib\\site-packages\\matplotlib\\backends\\backend_agg.py:211: RuntimeWarning: Glyph 50556 missing from current font.\n",
      "  font.set_text(s, 0.0, flags=flags)\n",
      "C:\\Python\\Anaconda3\\lib\\site-packages\\matplotlib\\backends\\backend_agg.py:180: RuntimeWarning: Glyph 50556 missing from current font.\n",
      "  font.set_text(s, 0, flags=flags)\n",
      "C:\\Python\\Anaconda3\\lib\\site-packages\\matplotlib\\backends\\backend_agg.py:211: RuntimeWarning: Glyph 50752 missing from current font.\n",
      "  font.set_text(s, 0.0, flags=flags)\n",
      "C:\\Python\\Anaconda3\\lib\\site-packages\\matplotlib\\backends\\backend_agg.py:211: RuntimeWarning: Glyph 49436 missing from current font.\n",
      "  font.set_text(s, 0.0, flags=flags)\n",
      "C:\\Python\\Anaconda3\\lib\\site-packages\\matplotlib\\backends\\backend_agg.py:180: RuntimeWarning: Glyph 50752 missing from current font.\n",
      "  font.set_text(s, 0, flags=flags)\n",
      "C:\\Python\\Anaconda3\\lib\\site-packages\\matplotlib\\backends\\backend_agg.py:180: RuntimeWarning: Glyph 49436 missing from current font.\n",
      "  font.set_text(s, 0, flags=flags)\n",
      "C:\\Python\\Anaconda3\\lib\\site-packages\\matplotlib\\backends\\backend_agg.py:176: RuntimeWarning: Glyph 50728 missing from current font.\n",
      "  font.load_char(ord(s), flags=flags)\n",
      "C:\\Python\\Anaconda3\\lib\\site-packages\\matplotlib\\backends\\backend_agg.py:211: RuntimeWarning: Glyph 49345 missing from current font.\n",
      "  font.set_text(s, 0.0, flags=flags)\n",
      "C:\\Python\\Anaconda3\\lib\\site-packages\\matplotlib\\backends\\backend_agg.py:211: RuntimeWarning: Glyph 51088 missing from current font.\n",
      "  font.set_text(s, 0.0, flags=flags)\n",
      "C:\\Python\\Anaconda3\\lib\\site-packages\\matplotlib\\backends\\backend_agg.py:180: RuntimeWarning: Glyph 49345 missing from current font.\n",
      "  font.set_text(s, 0, flags=flags)\n",
      "C:\\Python\\Anaconda3\\lib\\site-packages\\matplotlib\\backends\\backend_agg.py:180: RuntimeWarning: Glyph 51088 missing from current font.\n",
      "  font.set_text(s, 0, flags=flags)\n",
      "C:\\Python\\Anaconda3\\lib\\site-packages\\matplotlib\\backends\\backend_agg.py:211: RuntimeWarning: Glyph 50640 missing from current font.\n",
      "  font.set_text(s, 0.0, flags=flags)\n",
      "C:\\Python\\Anaconda3\\lib\\site-packages\\matplotlib\\backends\\backend_agg.py:176: RuntimeWarning: Glyph 50640 missing from current font.\n",
      "  font.load_char(ord(s), flags=flags)\n",
      "C:\\Python\\Anaconda3\\lib\\site-packages\\matplotlib\\backends\\backend_agg.py:211: RuntimeWarning: Glyph 50504 missing from current font.\n",
      "  font.set_text(s, 0.0, flags=flags)\n",
      "C:\\Python\\Anaconda3\\lib\\site-packages\\matplotlib\\backends\\backend_agg.py:176: RuntimeWarning: Glyph 50504 missing from current font.\n",
      "  font.load_char(ord(s), flags=flags)\n",
      "C:\\Python\\Anaconda3\\lib\\site-packages\\matplotlib\\backends\\backend_agg.py:211: RuntimeWarning: Glyph 50508 missing from current font.\n",
      "  font.set_text(s, 0.0, flags=flags)\n",
      "C:\\Python\\Anaconda3\\lib\\site-packages\\matplotlib\\backends\\backend_agg.py:211: RuntimeWarning: Glyph 47582 missing from current font.\n",
      "  font.set_text(s, 0.0, flags=flags)\n",
      "C:\\Python\\Anaconda3\\lib\\site-packages\\matplotlib\\backends\\backend_agg.py:211: RuntimeWarning: Glyph 51008 missing from current font.\n",
      "  font.set_text(s, 0.0, flags=flags)\n",
      "C:\\Python\\Anaconda3\\lib\\site-packages\\matplotlib\\backends\\backend_agg.py:180: RuntimeWarning: Glyph 50508 missing from current font.\n",
      "  font.set_text(s, 0, flags=flags)\n",
      "C:\\Python\\Anaconda3\\lib\\site-packages\\matplotlib\\backends\\backend_agg.py:180: RuntimeWarning: Glyph 47582 missing from current font.\n",
      "  font.set_text(s, 0, flags=flags)\n",
      "C:\\Python\\Anaconda3\\lib\\site-packages\\matplotlib\\backends\\backend_agg.py:180: RuntimeWarning: Glyph 51008 missing from current font.\n",
      "  font.set_text(s, 0, flags=flags)\n",
      "C:\\Python\\Anaconda3\\lib\\site-packages\\matplotlib\\backends\\backend_agg.py:211: RuntimeWarning: Glyph 49688 missing from current font.\n",
      "  font.set_text(s, 0.0, flags=flags)\n",
      "C:\\Python\\Anaconda3\\lib\\site-packages\\matplotlib\\backends\\backend_agg.py:176: RuntimeWarning: Glyph 49688 missing from current font.\n",
      "  font.load_char(ord(s), flags=flags)\n",
      "C:\\Python\\Anaconda3\\lib\\site-packages\\matplotlib\\backends\\backend_agg.py:211: RuntimeWarning: Glyph 45458 missing from current font.\n",
      "  font.set_text(s, 0.0, flags=flags)\n",
      "C:\\Python\\Anaconda3\\lib\\site-packages\\matplotlib\\backends\\backend_agg.py:180: RuntimeWarning: Glyph 45458 missing from current font.\n",
      "  font.set_text(s, 0, flags=flags)\n",
      "C:\\Python\\Anaconda3\\lib\\site-packages\\matplotlib\\backends\\backend_agg.py:211: RuntimeWarning: Glyph 46504 missing from current font.\n",
      "  font.set_text(s, 0.0, flags=flags)\n",
      "C:\\Python\\Anaconda3\\lib\\site-packages\\matplotlib\\backends\\backend_agg.py:180: RuntimeWarning: Glyph 46504 missing from current font.\n",
      "  font.set_text(s, 0, flags=flags)\n",
      "C:\\Python\\Anaconda3\\lib\\site-packages\\matplotlib\\backends\\backend_agg.py:211: RuntimeWarning: Glyph 50620 missing from current font.\n",
      "  font.set_text(s, 0.0, flags=flags)\n",
      "C:\\Python\\Anaconda3\\lib\\site-packages\\matplotlib\\backends\\backend_agg.py:211: RuntimeWarning: Glyph 47560 missing from current font.\n",
      "  font.set_text(s, 0.0, flags=flags)\n",
      "C:\\Python\\Anaconda3\\lib\\site-packages\\matplotlib\\backends\\backend_agg.py:211: RuntimeWarning: Glyph 45208 missing from current font.\n",
      "  font.set_text(s, 0.0, flags=flags)\n",
      "C:\\Python\\Anaconda3\\lib\\site-packages\\matplotlib\\backends\\backend_agg.py:180: RuntimeWarning: Glyph 50620 missing from current font.\n",
      "  font.set_text(s, 0, flags=flags)\n",
      "C:\\Python\\Anaconda3\\lib\\site-packages\\matplotlib\\backends\\backend_agg.py:180: RuntimeWarning: Glyph 47560 missing from current font.\n",
      "  font.set_text(s, 0, flags=flags)\n",
      "C:\\Python\\Anaconda3\\lib\\site-packages\\matplotlib\\backends\\backend_agg.py:180: RuntimeWarning: Glyph 45208 missing from current font.\n",
      "  font.set_text(s, 0, flags=flags)\n",
      "C:\\Python\\Anaconda3\\lib\\site-packages\\matplotlib\\backends\\backend_agg.py:211: RuntimeWarning: Glyph 50526 missing from current font.\n",
      "  font.set_text(s, 0.0, flags=flags)\n",
      "C:\\Python\\Anaconda3\\lib\\site-packages\\matplotlib\\backends\\backend_agg.py:176: RuntimeWarning: Glyph 50526 missing from current font.\n",
      "  font.load_char(ord(s), flags=flags)\n",
      "C:\\Python\\Anaconda3\\lib\\site-packages\\matplotlib\\backends\\backend_agg.py:211: RuntimeWarning: Glyph 51004 missing from current font.\n",
      "  font.set_text(s, 0.0, flags=flags)\n",
      "C:\\Python\\Anaconda3\\lib\\site-packages\\matplotlib\\backends\\backend_agg.py:211: RuntimeWarning: Glyph 47196 missing from current font.\n",
      "  font.set_text(s, 0.0, flags=flags)\n",
      "C:\\Python\\Anaconda3\\lib\\site-packages\\matplotlib\\backends\\backend_agg.py:180: RuntimeWarning: Glyph 51004 missing from current font.\n",
      "  font.set_text(s, 0, flags=flags)\n",
      "C:\\Python\\Anaconda3\\lib\\site-packages\\matplotlib\\backends\\backend_agg.py:180: RuntimeWarning: Glyph 47196 missing from current font.\n",
      "  font.set_text(s, 0, flags=flags)\n",
      "C:\\Python\\Anaconda3\\lib\\site-packages\\matplotlib\\backends\\backend_agg.py:211: RuntimeWarning: Glyph 45224 missing from current font.\n",
      "  font.set_text(s, 0.0, flags=flags)\n",
      "C:\\Python\\Anaconda3\\lib\\site-packages\\matplotlib\\backends\\backend_agg.py:211: RuntimeWarning: Glyph 51080 missing from current font.\n",
      "  font.set_text(s, 0.0, flags=flags)\n",
      "C:\\Python\\Anaconda3\\lib\\site-packages\\matplotlib\\backends\\backend_agg.py:180: RuntimeWarning: Glyph 45224 missing from current font.\n",
      "  font.set_text(s, 0, flags=flags)\n",
      "C:\\Python\\Anaconda3\\lib\\site-packages\\matplotlib\\backends\\backend_agg.py:180: RuntimeWarning: Glyph 51080 missing from current font.\n",
      "  font.set_text(s, 0, flags=flags)\n",
      "C:\\Python\\Anaconda3\\lib\\site-packages\\matplotlib\\backends\\backend_agg.py:211: RuntimeWarning: Glyph 44620 missing from current font.\n",
      "  font.set_text(s, 0.0, flags=flags)\n",
      "C:\\Python\\Anaconda3\\lib\\site-packages\\matplotlib\\backends\\backend_agg.py:180: RuntimeWarning: Glyph 44620 missing from current font.\n",
      "  font.set_text(s, 0, flags=flags)\n",
      "C:\\Python\\Anaconda3\\lib\\site-packages\\matplotlib\\backends\\backend_agg.py:211: RuntimeWarning: Glyph 45804 missing from current font.\n",
      "  font.set_text(s, 0.0, flags=flags)\n",
      "C:\\Python\\Anaconda3\\lib\\site-packages\\matplotlib\\backends\\backend_agg.py:211: RuntimeWarning: Glyph 47140 missing from current font.\n",
      "  font.set_text(s, 0.0, flags=flags)\n",
      "C:\\Python\\Anaconda3\\lib\\site-packages\\matplotlib\\backends\\backend_agg.py:180: RuntimeWarning: Glyph 45804 missing from current font.\n",
      "  font.set_text(s, 0, flags=flags)\n",
      "C:\\Python\\Anaconda3\\lib\\site-packages\\matplotlib\\backends\\backend_agg.py:180: RuntimeWarning: Glyph 47140 missing from current font.\n",
      "  font.set_text(s, 0, flags=flags)\n",
      "C:\\Python\\Anaconda3\\lib\\site-packages\\matplotlib\\backends\\backend_agg.py:211: RuntimeWarning: Glyph 44144 missing from current font.\n",
      "  font.set_text(s, 0.0, flags=flags)\n",
      "C:\\Python\\Anaconda3\\lib\\site-packages\\matplotlib\\backends\\backend_agg.py:211: RuntimeWarning: Glyph 47532 missing from current font.\n",
      "  font.set_text(s, 0.0, flags=flags)\n",
      "C:\\Python\\Anaconda3\\lib\\site-packages\\matplotlib\\backends\\backend_agg.py:180: RuntimeWarning: Glyph 44144 missing from current font.\n",
      "  font.set_text(s, 0, flags=flags)\n",
      "C:\\Python\\Anaconda3\\lib\\site-packages\\matplotlib\\backends\\backend_agg.py:180: RuntimeWarning: Glyph 47532 missing from current font.\n",
      "  font.set_text(s, 0, flags=flags)\n",
      "C:\\Python\\Anaconda3\\lib\\site-packages\\matplotlib\\backends\\backend_agg.py:176: RuntimeWarning: Glyph 46160 missing from current font.\n",
      "  font.load_char(ord(s), flags=flags)\n",
      "C:\\Python\\Anaconda3\\lib\\site-packages\\matplotlib\\backends\\backend_agg.py:211: RuntimeWarning: Glyph 49324 missing from current font.\n",
      "  font.set_text(s, 0.0, flags=flags)\n",
      "C:\\Python\\Anaconda3\\lib\\site-packages\\matplotlib\\backends\\backend_agg.py:211: RuntimeWarning: Glyph 46988 missing from current font.\n",
      "  font.set_text(s, 0.0, flags=flags)\n",
      "C:\\Python\\Anaconda3\\lib\\site-packages\\matplotlib\\backends\\backend_agg.py:180: RuntimeWarning: Glyph 49324 missing from current font.\n",
      "  font.set_text(s, 0, flags=flags)\n",
      "C:\\Python\\Anaconda3\\lib\\site-packages\\matplotlib\\backends\\backend_agg.py:180: RuntimeWarning: Glyph 46988 missing from current font.\n",
      "  font.set_text(s, 0, flags=flags)\n",
      "C:\\Python\\Anaconda3\\lib\\site-packages\\matplotlib\\backends\\backend_agg.py:211: RuntimeWarning: Glyph 46168 missing from current font.\n",
      "  font.set_text(s, 0.0, flags=flags)\n",
      "C:\\Python\\Anaconda3\\lib\\site-packages\\matplotlib\\backends\\backend_agg.py:176: RuntimeWarning: Glyph 46168 missing from current font.\n",
      "  font.load_char(ord(s), flags=flags)\n",
      "C:\\Python\\Anaconda3\\lib\\site-packages\\matplotlib\\backends\\backend_agg.py:176: RuntimeWarning: Glyph 51060 missing from current font.\n",
      "  font.load_char(ord(s), flags=flags)\n",
      "C:\\Python\\Anaconda3\\lib\\site-packages\\matplotlib\\backends\\backend_agg.py:211: RuntimeWarning: Glyph 54633 missing from current font.\n",
      "  font.set_text(s, 0.0, flags=flags)\n",
      "C:\\Python\\Anaconda3\\lib\\site-packages\\matplotlib\\backends\\backend_agg.py:211: RuntimeWarning: Glyph 54644 missing from current font.\n",
      "  font.set_text(s, 0.0, flags=flags)\n",
      "C:\\Python\\Anaconda3\\lib\\site-packages\\matplotlib\\backends\\backend_agg.py:180: RuntimeWarning: Glyph 54633 missing from current font.\n",
      "  font.set_text(s, 0, flags=flags)\n",
      "C:\\Python\\Anaconda3\\lib\\site-packages\\matplotlib\\backends\\backend_agg.py:180: RuntimeWarning: Glyph 54644 missing from current font.\n",
      "  font.set_text(s, 0, flags=flags)\n",
      "C:\\Python\\Anaconda3\\lib\\site-packages\\matplotlib\\backends\\backend_agg.py:211: RuntimeWarning: Glyph 54632 missing from current font.\n",
      "  font.set_text(s, 0.0, flags=flags)\n",
      "C:\\Python\\Anaconda3\\lib\\site-packages\\matplotlib\\backends\\backend_agg.py:211: RuntimeWarning: Glyph 44760 missing from current font.\n",
      "  font.set_text(s, 0.0, flags=flags)\n",
      "C:\\Python\\Anaconda3\\lib\\site-packages\\matplotlib\\backends\\backend_agg.py:180: RuntimeWarning: Glyph 54632 missing from current font.\n",
      "  font.set_text(s, 0, flags=flags)\n",
      "C:\\Python\\Anaconda3\\lib\\site-packages\\matplotlib\\backends\\backend_agg.py:180: RuntimeWarning: Glyph 44760 missing from current font.\n",
      "  font.set_text(s, 0, flags=flags)\n",
      "C:\\Python\\Anaconda3\\lib\\site-packages\\matplotlib\\backends\\backend_agg.py:211: RuntimeWarning: Glyph 44054 missing from current font.\n",
      "  font.set_text(s, 0.0, flags=flags)\n",
      "C:\\Python\\Anaconda3\\lib\\site-packages\\matplotlib\\backends\\backend_agg.py:180: RuntimeWarning: Glyph 44054 missing from current font.\n",
      "  font.set_text(s, 0, flags=flags)\n",
      "C:\\Python\\Anaconda3\\lib\\site-packages\\matplotlib\\backends\\backend_agg.py:180: RuntimeWarning: Glyph 44256 missing from current font.\n",
      "  font.set_text(s, 0, flags=flags)\n",
      "C:\\Python\\Anaconda3\\lib\\site-packages\\matplotlib\\backends\\backend_agg.py:211: RuntimeWarning: Glyph 45716 missing from current font.\n",
      "  font.set_text(s, 0.0, flags=flags)\n",
      "C:\\Python\\Anaconda3\\lib\\site-packages\\matplotlib\\backends\\backend_agg.py:180: RuntimeWarning: Glyph 45716 missing from current font.\n",
      "  font.set_text(s, 0, flags=flags)\n",
      "C:\\Python\\Anaconda3\\lib\\site-packages\\matplotlib\\backends\\backend_agg.py:176: RuntimeWarning: Glyph 54633 missing from current font.\n",
      "  font.load_char(ord(s), flags=flags)\n",
      "C:\\Python\\Anaconda3\\lib\\site-packages\\matplotlib\\backends\\backend_agg.py:211: RuntimeWarning: Glyph 46500 missing from current font.\n",
      "  font.set_text(s, 0.0, flags=flags)\n",
      "C:\\Python\\Anaconda3\\lib\\site-packages\\matplotlib\\backends\\backend_agg.py:180: RuntimeWarning: Glyph 46500 missing from current font.\n",
      "  font.set_text(s, 0, flags=flags)\n",
      "C:\\Python\\Anaconda3\\lib\\site-packages\\matplotlib\\backends\\backend_agg.py:211: RuntimeWarning: Glyph 51032 missing from current font.\n",
      "  font.set_text(s, 0.0, flags=flags)\n",
      "C:\\Python\\Anaconda3\\lib\\site-packages\\matplotlib\\backends\\backend_agg.py:180: RuntimeWarning: Glyph 49688 missing from current font.\n",
      "  font.set_text(s, 0, flags=flags)\n",
      "C:\\Python\\Anaconda3\\lib\\site-packages\\matplotlib\\backends\\backend_agg.py:180: RuntimeWarning: Glyph 51032 missing from current font.\n",
      "  font.set_text(s, 0, flags=flags)\n",
      "C:\\Python\\Anaconda3\\lib\\site-packages\\matplotlib\\backends\\backend_agg.py:211: RuntimeWarning: Glyph 54664 missing from current font.\n",
      "  font.set_text(s, 0.0, flags=flags)\n",
      "C:\\Python\\Anaconda3\\lib\\site-packages\\matplotlib\\backends\\backend_agg.py:180: RuntimeWarning: Glyph 45908 missing from current font.\n",
      "  font.set_text(s, 0, flags=flags)\n",
      "C:\\Python\\Anaconda3\\lib\\site-packages\\matplotlib\\backends\\backend_agg.py:180: RuntimeWarning: Glyph 54664 missing from current font.\n",
      "  font.set_text(s, 0, flags=flags)\n",
      "C:\\Python\\Anaconda3\\lib\\site-packages\\matplotlib\\backends\\backend_agg.py:211: RuntimeWarning: Glyph 49464 missing from current font.\n",
      "  font.set_text(s, 0.0, flags=flags)\n",
      "C:\\Python\\Anaconda3\\lib\\site-packages\\matplotlib\\backends\\backend_agg.py:176: RuntimeWarning: Glyph 49464 missing from current font.\n",
      "  font.load_char(ord(s), flags=flags)\n",
      "C:\\Python\\Anaconda3\\lib\\site-packages\\matplotlib\\backends\\backend_agg.py:211: RuntimeWarning: Glyph 50724 missing from current font.\n",
      "  font.set_text(s, 0.0, flags=flags)\n",
      "C:\\Python\\Anaconda3\\lib\\site-packages\\matplotlib\\backends\\backend_agg.py:180: RuntimeWarning: Glyph 50724 missing from current font.\n",
      "  font.set_text(s, 0, flags=flags)\n"
     ]
    },
    {
     "data": {
      "image/png": "[encoded data removed]",
      "text/plain": [
       "<Figure size 576x432 with 1 Axes>"
      ]
     },
     "metadata": {
      "needs_background": "light"
     },
     "output_type": "display_data"
    }
   ],
   "source": [
    "plot_2d_graph(vocabs, xs,ys)"
   ]
  },
  {
   "cell_type": "code",
   "execution_count": 27,
   "metadata": {},
   "outputs": [
    {
     "name": "stdout",
     "output_type": "stream",
     "text": [
      "[('하였더니', 0.16048750281333923), ('이', 0.1238383948802948), ('전체', 0.08498884737491608), ('많을까', 0.08361440896987915), ('씩', 0.07386093586683273), ('그', 0.07097120583057404), ('줬습니다', 0.07074728608131409), ('나오고', 0.0665823370218277), ('더', 0.05773638188838959), ('버려야', 0.0551939532160759)]\n"
     ]
    }
   ],
   "source": [
    "model_result=model.wv.most_similar(\"넣었더니\")\n",
    "print(model_result)"
   ]
  },
  {
   "cell_type": "code",
   "execution_count": null,
   "metadata": {},
   "outputs": [],
   "source": []
  }
 ],
 "metadata": {
  "kernelspec": {
   "display_name": "Python 3",
   "language": "python",
   "name": "python3"
  },
  "language_info": {
   "codemirror_mode": {
    "name": "ipython",
    "version": 3
   },
   "file_extension": ".py",
   "mimetype": "text/x-python",
   "name": "python",
   "nbconvert_exporter": "python",
   "pygments_lexer": "ipython3",
   "version": "3.7.4"
  }
 },
 "nbformat": 4,
 "nbformat_minor": 2
}
