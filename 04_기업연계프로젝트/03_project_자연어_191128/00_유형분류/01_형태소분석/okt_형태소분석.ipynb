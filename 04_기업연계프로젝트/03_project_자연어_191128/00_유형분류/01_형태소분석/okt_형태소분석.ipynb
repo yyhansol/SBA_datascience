{
 "cells": [
  {
   "cell_type": "code",
   "execution_count": 2,
   "metadata": {},
   "outputs": [],
   "source": [
    "import pandas as pd"
   ]
  },
  {
   "cell_type": "code",
   "execution_count": 10,
   "metadata": {},
   "outputs": [],
   "source": [
    "import platform\n",
    "\n",
    "import numpy as np\n",
    "import pandas as pd\n",
    "import matplotlib.pyplot as plt\n",
    "import seaborn as sns\n",
    "# sns.set()\n",
    "\n",
    "from matplotlib import font_manager, rc\n",
    "if platform.system() == 'Darwin':\n",
    "    rc('font', family='AppleGothic')\n",
    "elif platform.system() == 'Windows':\n",
    "    font_name = font_manager.FontProperties(fname=\"C:/Windows/Fonts/malgun.ttf\").get_name()\n",
    "    rc('font', family=font_name)\n",
    "else:\n",
    "    print(\"It's unknown system. Hangul fonts are not supported!\")\n",
    "    \n",
    "# plt.rcParams['axes.unicode_minus'] = False\n",
    "plt.rcParams[\"figure.figsize\"] = [12,6]\n",
    "\n",
    "%matplotlib inline"
   ]
  },
  {
   "cell_type": "code",
   "execution_count": 61,
   "metadata": {},
   "outputs": [
    {
     "data": {
      "text/html": [
       "<div>\n",
       "<style scoped>\n",
       "    .dataframe tbody tr th:only-of-type {\n",
       "        vertical-align: middle;\n",
       "    }\n",
       "\n",
       "    .dataframe tbody tr th {\n",
       "        vertical-align: top;\n",
       "    }\n",
       "\n",
       "    .dataframe thead th {\n",
       "        text-align: right;\n",
       "    }\n",
       "</style>\n",
       "<table border=\"1\" class=\"dataframe\">\n",
       "  <thead>\n",
       "    <tr style=\"text-align: right;\">\n",
       "      <th></th>\n",
       "      <th>질문</th>\n",
       "      <th>수식풀이</th>\n",
       "    </tr>\n",
       "  </thead>\n",
       "  <tbody>\n",
       "    <tr>\n",
       "      <th>0</th>\n",
       "      <td>준기는 동화책을 어제는 58쪽，오늘은 54쪽 읽었습니다. 준기는 어제와 오늘 동화책...</td>\n",
       "      <td>58+54=[112]</td>\n",
       "    </tr>\n",
       "    <tr>\n",
       "      <th>1</th>\n",
       "      <td>곤충관에서는 곤충에게 먹이를 아침에 47봉지，점심에 69봉지를 주었습니다. 아침과 ...</td>\n",
       "      <td>47+69=[116]</td>\n",
       "    </tr>\n",
       "    <tr>\n",
       "      <th>2</th>\n",
       "      <td>나무 아래에 기린이 7마리 있습니다. 5마리가 더 온다면 모두 몇 마리인지 덧셈식을...</td>\n",
       "      <td>7+5=[12]</td>\n",
       "    </tr>\n",
       "    <tr>\n",
       "      <th>3</th>\n",
       "      <td>연수는 지금까지 훌라후프 8개를 뛰어넘었습니다. 연수가 6개를 더 뛰어넘으면 모두 ...</td>\n",
       "      <td>8+6=[14]</td>\n",
       "    </tr>\n",
       "    <tr>\n",
       "      <th>4</th>\n",
       "      <td>아름이는 사탕 15개를 가진 다운이보다 사탕이 13개 더 많습니다. 아름이가 가진 ...</td>\n",
       "      <td>15+13=[28]</td>\n",
       "    </tr>\n",
       "  </tbody>\n",
       "</table>\n",
       "</div>"
      ],
      "text/plain": [
       "                                                  질문         수식풀이\n",
       "0  준기는 동화책을 어제는 58쪽，오늘은 54쪽 읽었습니다. 준기는 어제와 오늘 동화책...  58+54=[112]\n",
       "1  곤충관에서는 곤충에게 먹이를 아침에 47봉지，점심에 69봉지를 주었습니다. 아침과 ...  47+69=[116]\n",
       "2  나무 아래에 기린이 7마리 있습니다. 5마리가 더 온다면 모두 몇 마리인지 덧셈식을...     7+5=[12]\n",
       "3  연수는 지금까지 훌라후프 8개를 뛰어넘었습니다. 연수가 6개를 더 뛰어넘으면 모두 ...     8+6=[14]\n",
       "4  아름이는 사탕 15개를 가진 다운이보다 사탕이 13개 더 많습니다. 아름이가 가진 ...   15+13=[28]"
      ]
     },
     "execution_count": 61,
     "metadata": {},
     "output_type": "execute_result"
    }
   ],
   "source": [
    "#더하기\n",
    "df1=pd.read_excel(\"math_data.xlsx\",sheet_name=0)\n",
    "df1.head()"
   ]
  },
  {
   "cell_type": "code",
   "execution_count": 31,
   "metadata": {},
   "outputs": [],
   "source": [
    "df2=pd.read_excel(\"math_data.xlsx\",sheet_name=1)\n",
    "df3=pd.read_excel(\"math_data.xlsx\",sheet_name=2)\n",
    "df4=pd.read_excel(\"math_data.xlsx\",sheet_name=3)\n",
    "df5=pd.read_excel(\"math_data.xlsx\",sheet_name=4)"
   ]
  },
  {
   "cell_type": "code",
   "execution_count": 88,
   "metadata": {},
   "outputs": [],
   "source": [
    "df2['형태소'] = ''\n",
    "df3['형태소'] = ''\n",
    "df4['형태소'] = ''\n",
    "df5['형태소'] = ''\n",
    "for i in range(0, len(df2)):\n",
    "    df2['형태소'][i] = okt.pos(df2[\"질문\"][i])\n",
    "    \n",
    "for i in range(0, len(df3)):\n",
    "    df3['형태소'][i] = okt.pos(df3[\"질문\"][i])\n",
    "    \n",
    "for i in range(0, len(df4)):\n",
    "    df4['형태소'][i] = okt.pos(df4[\"질문\"][i])\n",
    "    \n",
    "for i in range(0, len(df5)):\n",
    "    df5['형태소'][i] = okt.pos(df5[\"질문\"][i])"
   ]
  },
  {
   "cell_type": "code",
   "execution_count": 62,
   "metadata": {},
   "outputs": [],
   "source": [
    "from konlpy.tag import Okt\n",
    "\n",
    "df1['형태소'] = ''\n",
    "\n",
    "okt=Okt()\n",
    "\n",
    "for i in range(0, len(df1)):\n",
    "    #df1['형태소'][i] = okt.morphs(df1[\"질문\"][i])\n",
    "    df1['형태소'][i] = okt.pos(df1[\"질문\"][i])\n",
    "    "
   ]
  },
  {
   "cell_type": "code",
   "execution_count": 63,
   "metadata": {},
   "outputs": [
    {
     "data": {
      "text/html": [
       "<div>\n",
       "<style scoped>\n",
       "    .dataframe tbody tr th:only-of-type {\n",
       "        vertical-align: middle;\n",
       "    }\n",
       "\n",
       "    .dataframe tbody tr th {\n",
       "        vertical-align: top;\n",
       "    }\n",
       "\n",
       "    .dataframe thead th {\n",
       "        text-align: right;\n",
       "    }\n",
       "</style>\n",
       "<table border=\"1\" class=\"dataframe\">\n",
       "  <thead>\n",
       "    <tr style=\"text-align: right;\">\n",
       "      <th></th>\n",
       "      <th>질문</th>\n",
       "      <th>수식풀이</th>\n",
       "      <th>형태소</th>\n",
       "    </tr>\n",
       "  </thead>\n",
       "  <tbody>\n",
       "    <tr>\n",
       "      <th>0</th>\n",
       "      <td>준기는 동화책을 어제는 58쪽，오늘은 54쪽 읽었습니다. 준기는 어제와 오늘 동화책...</td>\n",
       "      <td>58+54=[112]</td>\n",
       "      <td>[(준, Noun), (기는, Verb), (동화책, Noun), (을, Josa)...</td>\n",
       "    </tr>\n",
       "    <tr>\n",
       "      <th>1</th>\n",
       "      <td>곤충관에서는 곤충에게 먹이를 아침에 47봉지，점심에 69봉지를 주었습니다. 아침과 ...</td>\n",
       "      <td>47+69=[116]</td>\n",
       "      <td>[(곤충관, Noun), (에서는, Josa), (곤충, Noun), (에게, Jo...</td>\n",
       "    </tr>\n",
       "    <tr>\n",
       "      <th>2</th>\n",
       "      <td>나무 아래에 기린이 7마리 있습니다. 5마리가 더 온다면 모두 몇 마리인지 덧셈식을...</td>\n",
       "      <td>7+5=[12]</td>\n",
       "      <td>[(나무, Noun), (아래, Noun), (에, Josa), (기린, Noun)...</td>\n",
       "    </tr>\n",
       "    <tr>\n",
       "      <th>3</th>\n",
       "      <td>연수는 지금까지 훌라후프 8개를 뛰어넘었습니다. 연수가 6개를 더 뛰어넘으면 모두 ...</td>\n",
       "      <td>8+6=[14]</td>\n",
       "      <td>[(연수, Noun), (는, Josa), (지금, Noun), (까지, Josa)...</td>\n",
       "    </tr>\n",
       "    <tr>\n",
       "      <th>4</th>\n",
       "      <td>아름이는 사탕 15개를 가진 다운이보다 사탕이 13개 더 많습니다. 아름이가 가진 ...</td>\n",
       "      <td>15+13=[28]</td>\n",
       "      <td>[(아름이, Noun), (는, Josa), (사탕, Noun), (15, Numb...</td>\n",
       "    </tr>\n",
       "  </tbody>\n",
       "</table>\n",
       "</div>"
      ],
      "text/plain": [
       "                                                  질문         수식풀이  \\\n",
       "0  준기는 동화책을 어제는 58쪽，오늘은 54쪽 읽었습니다. 준기는 어제와 오늘 동화책...  58+54=[112]   \n",
       "1  곤충관에서는 곤충에게 먹이를 아침에 47봉지，점심에 69봉지를 주었습니다. 아침과 ...  47+69=[116]   \n",
       "2  나무 아래에 기린이 7마리 있습니다. 5마리가 더 온다면 모두 몇 마리인지 덧셈식을...     7+5=[12]   \n",
       "3  연수는 지금까지 훌라후프 8개를 뛰어넘었습니다. 연수가 6개를 더 뛰어넘으면 모두 ...     8+6=[14]   \n",
       "4  아름이는 사탕 15개를 가진 다운이보다 사탕이 13개 더 많습니다. 아름이가 가진 ...   15+13=[28]   \n",
       "\n",
       "                                                 형태소  \n",
       "0  [(준, Noun), (기는, Verb), (동화책, Noun), (을, Josa)...  \n",
       "1  [(곤충관, Noun), (에서는, Josa), (곤충, Noun), (에게, Jo...  \n",
       "2  [(나무, Noun), (아래, Noun), (에, Josa), (기린, Noun)...  \n",
       "3  [(연수, Noun), (는, Josa), (지금, Noun), (까지, Josa)...  \n",
       "4  [(아름이, Noun), (는, Josa), (사탕, Noun), (15, Numb...  "
      ]
     },
     "execution_count": 63,
     "metadata": {},
     "output_type": "execute_result"
    }
   ],
   "source": [
    "df1.head()"
   ]
  },
  {
   "cell_type": "code",
   "execution_count": 43,
   "metadata": {},
   "outputs": [
    {
     "data": {
      "text/plain": [
       "[('준', 'Noun'),\n",
       " ('기는', 'Verb'),\n",
       " ('동화책', 'Noun'),\n",
       " ('을', 'Josa'),\n",
       " ('어제', 'Noun'),\n",
       " ('는', 'Josa'),\n",
       " ('58', 'Number'),\n",
       " ('쪽', 'Noun'),\n",
       " ('，', 'Foreign'),\n",
       " ('오늘', 'Noun'),\n",
       " ('은', 'Josa'),\n",
       " ('54', 'Number'),\n",
       " ('쪽', 'Noun'),\n",
       " ('읽었습니다', 'Verb'),\n",
       " ('.', 'Punctuation'),\n",
       " ('준', 'Noun'),\n",
       " ('기는', 'Verb'),\n",
       " ('어제', 'Noun'),\n",
       " ('와', 'Josa'),\n",
       " ('오늘', 'Noun'),\n",
       " ('동화책', 'Noun'),\n",
       " ('을', 'Josa'),\n",
       " ('모두', 'Noun'),\n",
       " ('몇', 'Noun'),\n",
       " ('쪽', 'Noun'),\n",
       " ('읽었을까요', 'Verb'),\n",
       " ('?', 'Punctuation')]"
      ]
     },
     "execution_count": 43,
     "metadata": {},
     "output_type": "execute_result"
    }
   ],
   "source": [
    "a=df1[\"형태소\"][0]\n",
    "a"
   ]
  },
  {
   "cell_type": "code",
   "execution_count": 45,
   "metadata": {},
   "outputs": [
    {
     "name": "stdout",
     "output_type": "stream",
     "text": [
      "('준', 'Noun')\n",
      "준\n",
      "Noun\n"
     ]
    }
   ],
   "source": [
    "print(a[0])\n",
    "print(a[0][0])\n",
    "print(a[0][1])"
   ]
  },
  {
   "cell_type": "markdown",
   "metadata": {},
   "source": [
    "C:/Python/py/Anaconda/Lib/site-packages/konlpy/java/data/kE/dic_user.txt\n",
    "    \n",
    "여기서 사전에 없는 단어 품사추가 하기"
   ]
  },
  {
   "cell_type": "code",
   "execution_count": 58,
   "metadata": {},
   "outputs": [
    {
     "name": "stdout",
     "output_type": "stream",
     "text": [
      "동화책 을\n",
      "어제 는\n",
      "오늘 은\n",
      "어제 와\n",
      "동화책 을\n"
     ]
    }
   ],
   "source": [
    "#Josa=[\"은\",\"는\",\"이\",\"가\"]\n",
    "\n",
    "for i in range(0,len(a)-1):\n",
    "    if (a[i][1]==\"Noun\" and a[i+1][1] ==\"Josa\"):\n",
    "        print(a[i][0],a[i+1][0])"
   ]
  },
  {
   "cell_type": "code",
   "execution_count": 64,
   "metadata": {},
   "outputs": [
    {
     "name": "stdout",
     "output_type": "stream",
     "text": [
      "58 쪽\n",
      "54 쪽\n"
     ]
    }
   ],
   "source": [
    "for i in range(0,len(a)-1):\n",
    "    if (a[i][1]==\"Number\" and a[i+1][1] ==\"Noun\"):\n",
    "        print(a[i][0],a[i+1][0])"
   ]
  },
  {
   "cell_type": "code",
   "execution_count": 86,
   "metadata": {},
   "outputs": [
    {
     "data": {
      "text/html": [
       "<div>\n",
       "<style scoped>\n",
       "    .dataframe tbody tr th:only-of-type {\n",
       "        vertical-align: middle;\n",
       "    }\n",
       "\n",
       "    .dataframe tbody tr th {\n",
       "        vertical-align: top;\n",
       "    }\n",
       "\n",
       "    .dataframe thead th {\n",
       "        text-align: right;\n",
       "    }\n",
       "</style>\n",
       "<table border=\"1\" class=\"dataframe\">\n",
       "  <thead>\n",
       "    <tr style=\"text-align: right;\">\n",
       "      <th></th>\n",
       "      <th>질문</th>\n",
       "      <th>수식풀이</th>\n",
       "      <th>형태소</th>\n",
       "      <th>단위</th>\n",
       "    </tr>\n",
       "  </thead>\n",
       "  <tbody>\n",
       "    <tr>\n",
       "      <th>0</th>\n",
       "      <td>준기는 동화책을 어제는 58쪽，오늘은 54쪽 읽었습니다. 준기는 어제와 오늘 동화책...</td>\n",
       "      <td>58+54=[112]</td>\n",
       "      <td>[(준, Noun), (기는, Verb), (동화책, Noun), (을, Josa)...</td>\n",
       "      <td>[58쪽, 54쪽]</td>\n",
       "    </tr>\n",
       "    <tr>\n",
       "      <th>1</th>\n",
       "      <td>곤충관에서는 곤충에게 먹이를 아침에 47봉지，점심에 69봉지를 주었습니다. 아침과 ...</td>\n",
       "      <td>47+69=[116]</td>\n",
       "      <td>[(곤충관, Noun), (에서는, Josa), (곤충, Noun), (에게, Jo...</td>\n",
       "      <td>[47봉지, 69봉지]</td>\n",
       "    </tr>\n",
       "    <tr>\n",
       "      <th>2</th>\n",
       "      <td>나무 아래에 기린이 7마리 있습니다. 5마리가 더 온다면 모두 몇 마리인지 덧셈식을...</td>\n",
       "      <td>7+5=[12]</td>\n",
       "      <td>[(나무, Noun), (아래, Noun), (에, Josa), (기린, Noun)...</td>\n",
       "      <td>[7마리, 5마리]</td>\n",
       "    </tr>\n",
       "    <tr>\n",
       "      <th>3</th>\n",
       "      <td>연수는 지금까지 훌라후프 8개를 뛰어넘었습니다. 연수가 6개를 더 뛰어넘으면 모두 ...</td>\n",
       "      <td>8+6=[14]</td>\n",
       "      <td>[(연수, Noun), (는, Josa), (지금, Noun), (까지, Josa)...</td>\n",
       "      <td>[8개, 6개]</td>\n",
       "    </tr>\n",
       "    <tr>\n",
       "      <th>4</th>\n",
       "      <td>아름이는 사탕 15개를 가진 다운이보다 사탕이 13개 더 많습니다. 아름이가 가진 ...</td>\n",
       "      <td>15+13=[28]</td>\n",
       "      <td>[(아름이, Noun), (는, Josa), (사탕, Noun), (15, Numb...</td>\n",
       "      <td>[15개, 13개]</td>\n",
       "    </tr>\n",
       "  </tbody>\n",
       "</table>\n",
       "</div>"
      ],
      "text/plain": [
       "                                                  질문         수식풀이  \\\n",
       "0  준기는 동화책을 어제는 58쪽，오늘은 54쪽 읽었습니다. 준기는 어제와 오늘 동화책...  58+54=[112]   \n",
       "1  곤충관에서는 곤충에게 먹이를 아침에 47봉지，점심에 69봉지를 주었습니다. 아침과 ...  47+69=[116]   \n",
       "2  나무 아래에 기린이 7마리 있습니다. 5마리가 더 온다면 모두 몇 마리인지 덧셈식을...     7+5=[12]   \n",
       "3  연수는 지금까지 훌라후프 8개를 뛰어넘었습니다. 연수가 6개를 더 뛰어넘으면 모두 ...     8+6=[14]   \n",
       "4  아름이는 사탕 15개를 가진 다운이보다 사탕이 13개 더 많습니다. 아름이가 가진 ...   15+13=[28]   \n",
       "\n",
       "                                                 형태소            단위  \n",
       "0  [(준, Noun), (기는, Verb), (동화책, Noun), (을, Josa)...    [58쪽, 54쪽]  \n",
       "1  [(곤충관, Noun), (에서는, Josa), (곤충, Noun), (에게, Jo...  [47봉지, 69봉지]  \n",
       "2  [(나무, Noun), (아래, Noun), (에, Josa), (기린, Noun)...    [7마리, 5마리]  \n",
       "3  [(연수, Noun), (는, Josa), (지금, Noun), (까지, Josa)...      [8개, 6개]  \n",
       "4  [(아름이, Noun), (는, Josa), (사탕, Noun), (15, Numb...    [15개, 13개]  "
      ]
     },
     "execution_count": 86,
     "metadata": {},
     "output_type": "execute_result"
    }
   ],
   "source": [
    "df1['단위'] =''\n",
    "\n",
    "for i in range(0, len(df1)):\n",
    "    li=[]\n",
    "    for j in range(0,len(df1[\"형태소\"][i])-1):\n",
    "        if (df1[\"형태소\"][i][j][1]==\"Number\" and df1[\"형태소\"][i][j+1][1] ==\"Noun\"):\n",
    "            #print(a[j][0],a[j+1][0])\n",
    "            k=df1[\"형태소\"][i][j][0]+df1[\"형태소\"][i][j+1][0] \n",
    "            li.append(k)\n",
    "        elif (df1[\"형태소\"][i][j][1]==\"Number\" and df1[\"형태소\"][i][j+1][1] !=\"Noun\"):\n",
    "            li.append(df1[\"형태소\"][i][j][0])\n",
    "    df1['단위'][i] =li\n",
    "df1.head()"
   ]
  },
  {
   "cell_type": "code",
   "execution_count": 87,
   "metadata": {},
   "outputs": [],
   "source": [
    "df1.to_excel(\"plus.xlsx\",index=False)"
   ]
  },
  {
   "cell_type": "code",
   "execution_count": 89,
   "metadata": {},
   "outputs": [],
   "source": [
    "df2['단위'] =''\n",
    "\n",
    "for i in range(0, len(df2)):\n",
    "    li=[]\n",
    "    for j in range(0,len(df2[\"형태소\"][i])-1):\n",
    "        if (df2[\"형태소\"][i][j][1]==\"Number\" and df2[\"형태소\"][i][j+1][1] ==\"Noun\"):\n",
    "            k=df2[\"형태소\"][i][j][0]+df2[\"형태소\"][i][j+1][0] \n",
    "            li.append(k)\n",
    "        elif (df2[\"형태소\"][i][j][1]==\"Number\" and df2[\"형태소\"][i][j+1][1] !=\"Noun\"):\n",
    "            li.append(df2[\"형태소\"][i][j][0])\n",
    "    df2['단위'][i] =li"
   ]
  },
  {
   "cell_type": "code",
   "execution_count": 90,
   "metadata": {},
   "outputs": [],
   "source": [
    "df3['단위'] =''\n",
    "\n",
    "for i in range(0, len(df3)):\n",
    "    li=[]\n",
    "    for j in range(0,len(df3[\"형태소\"][i])-1):\n",
    "        if (df3[\"형태소\"][i][j][1]==\"Number\" and df3[\"형태소\"][i][j+1][1] ==\"Noun\"):\n",
    "            k=df3[\"형태소\"][i][j][0]+df3[\"형태소\"][i][j+1][0] \n",
    "            li.append(k)\n",
    "        elif (df3[\"형태소\"][i][j][1]==\"Number\" and df3[\"형태소\"][i][j+1][1] !=\"Noun\"):\n",
    "            li.append(df3[\"형태소\"][i][j][0])\n",
    "    df3['단위'][i] =li"
   ]
  },
  {
   "cell_type": "code",
   "execution_count": 91,
   "metadata": {},
   "outputs": [],
   "source": [
    "df4['단위'] =''\n",
    "\n",
    "for i in range(0, len(df4)):\n",
    "    li=[]\n",
    "    for j in range(0,len(df4[\"형태소\"][i])-1):\n",
    "        if (df4[\"형태소\"][i][j][1]==\"Number\" and df4[\"형태소\"][i][j+1][1] ==\"Noun\"):\n",
    "            k=df4[\"형태소\"][i][j][0]+df4[\"형태소\"][i][j+1][0] \n",
    "            li.append(k)\n",
    "        elif (df4[\"형태소\"][i][j][1]==\"Number\" and df4[\"형태소\"][i][j+1][1] !=\"Noun\"):\n",
    "            li.append(df4[\"형태소\"][i][j][0])\n",
    "    df4['단위'][i] =li"
   ]
  },
  {
   "cell_type": "code",
   "execution_count": 92,
   "metadata": {},
   "outputs": [],
   "source": [
    "df5['단위'] =''\n",
    "\n",
    "for i in range(0, len(df5)):\n",
    "    li=[]\n",
    "    for j in range(0,len(df5[\"형태소\"][i])-1):\n",
    "        if (df5[\"형태소\"][i][j][1]==\"Number\" and df5[\"형태소\"][i][j+1][1] ==\"Noun\"):\n",
    "            k=df5[\"형태소\"][i][j][0]+df5[\"형태소\"][i][j+1][0] \n",
    "            li.append(k)\n",
    "        elif (df5[\"형태소\"][i][j][1]==\"Number\" and df5[\"형태소\"][i][j+1][1] !=\"Noun\"):\n",
    "            li.append(df5[\"형태소\"][i][j][0])\n",
    "    df5['단위'][i] =li"
   ]
  },
  {
   "cell_type": "code",
   "execution_count": 93,
   "metadata": {},
   "outputs": [],
   "source": [
    "df2.to_excel(\"minus.xlsx\",index=False)\n",
    "df3.to_excel(\"multiply.xlsx\",index=False)\n",
    "df4.to_excel(\"division.xlsx\",index=False)\n",
    "df5.to_excel(\"mix.xlsx\",index=False)"
   ]
  },
  {
   "cell_type": "code",
   "execution_count": 97,
   "metadata": {},
   "outputs": [
    {
     "data": {
      "text/html": [
       "<div>\n",
       "<style scoped>\n",
       "    .dataframe tbody tr th:only-of-type {\n",
       "        vertical-align: middle;\n",
       "    }\n",
       "\n",
       "    .dataframe tbody tr th {\n",
       "        vertical-align: top;\n",
       "    }\n",
       "\n",
       "    .dataframe thead th {\n",
       "        text-align: right;\n",
       "    }\n",
       "</style>\n",
       "<table border=\"1\" class=\"dataframe\">\n",
       "  <thead>\n",
       "    <tr style=\"text-align: right;\">\n",
       "      <th></th>\n",
       "      <th>질문</th>\n",
       "      <th>수식풀이</th>\n",
       "      <th>형태소</th>\n",
       "      <th>단위</th>\n",
       "    </tr>\n",
       "  </thead>\n",
       "  <tbody>\n",
       "    <tr>\n",
       "      <th>0</th>\n",
       "      <td>민호는 구슬을 57개 가지고 있습니다. 그런데 민호가 우혁이에게 구슬을 8개 주었더...</td>\n",
       "      <td>57-8+12=[61]</td>\n",
       "      <td>[(민호, Noun), (는, Josa), (구슬, Noun), (을, Josa),...</td>\n",
       "      <td>[57개, 8개, 12개]</td>\n",
       "    </tr>\n",
       "    <tr>\n",
       "      <th>1</th>\n",
       "      <td>지선이는 사탕 23개를 동생이랑 나누어 가졌습니다.  동생이 3개를 더 가졌다면 지...</td>\n",
       "      <td>(23-3)÷2=[10]</td>\n",
       "      <td>[(지선, Noun), (이, Suffix), (는, Josa), (사탕, Noun...</td>\n",
       "      <td>[23개, 3개]</td>\n",
       "    </tr>\n",
       "    <tr>\n",
       "      <th>2</th>\n",
       "      <td>수현이와 진영이는 사탕 19개를 나누어 먹었습니다.  수현이가 진영이보다 5개 더 ...</td>\n",
       "      <td>(19-5)÷2=[7]</td>\n",
       "      <td>[(수현, Noun), (이, Suffix), (와, Josa), (진영, Noun...</td>\n",
       "      <td>[19개, 5개]</td>\n",
       "    </tr>\n",
       "    <tr>\n",
       "      <th>3</th>\n",
       "      <td>형진이와 진수는 색종이로 비행기를 17개 접었습니다.  형진이가 진수보다 3개 더 ...</td>\n",
       "      <td>(17-3)÷2=[7]</td>\n",
       "      <td>[(형, Noun), (진이와, Verb), (진수, Noun), (는, Josa)...</td>\n",
       "      <td>[17개, 3개]</td>\n",
       "    </tr>\n",
       "    <tr>\n",
       "      <th>4</th>\n",
       "      <td>민기와 형진이는 선물로 받은 연필 17자루를 나누어 갖기로 하였습니다.  민기가 형...</td>\n",
       "      <td>(17-3)÷2=[7]</td>\n",
       "      <td>[(민, Noun), (기와, Noun), (형, Noun), (진이는, Verb)...</td>\n",
       "      <td>[17자루, 3자루]</td>\n",
       "    </tr>\n",
       "  </tbody>\n",
       "</table>\n",
       "</div>"
      ],
      "text/plain": [
       "                                                  질문           수식풀이  \\\n",
       "0  민호는 구슬을 57개 가지고 있습니다. 그런데 민호가 우혁이에게 구슬을 8개 주었더...   57-8+12=[61]   \n",
       "1  지선이는 사탕 23개를 동생이랑 나누어 가졌습니다.  동생이 3개를 더 가졌다면 지...  (23-3)÷2=[10]   \n",
       "2  수현이와 진영이는 사탕 19개를 나누어 먹었습니다.  수현이가 진영이보다 5개 더 ...   (19-5)÷2=[7]   \n",
       "3  형진이와 진수는 색종이로 비행기를 17개 접었습니다.  형진이가 진수보다 3개 더 ...   (17-3)÷2=[7]   \n",
       "4  민기와 형진이는 선물로 받은 연필 17자루를 나누어 갖기로 하였습니다.  민기가 형...   (17-3)÷2=[7]   \n",
       "\n",
       "                                                 형태소              단위  \n",
       "0  [(민호, Noun), (는, Josa), (구슬, Noun), (을, Josa),...  [57개, 8개, 12개]  \n",
       "1  [(지선, Noun), (이, Suffix), (는, Josa), (사탕, Noun...       [23개, 3개]  \n",
       "2  [(수현, Noun), (이, Suffix), (와, Josa), (진영, Noun...       [19개, 5개]  \n",
       "3  [(형, Noun), (진이와, Verb), (진수, Noun), (는, Josa)...       [17개, 3개]  \n",
       "4  [(민, Noun), (기와, Noun), (형, Noun), (진이는, Verb)...     [17자루, 3자루]  "
      ]
     },
     "execution_count": 97,
     "metadata": {},
     "output_type": "execute_result"
    }
   ],
   "source": [
    "df5.head()"
   ]
  },
  {
   "cell_type": "code",
   "execution_count": null,
   "metadata": {},
   "outputs": [],
   "source": []
  }
 ],
 "metadata": {
  "kernelspec": {
   "display_name": "Python 3",
   "language": "python",
   "name": "python3"
  },
  "language_info": {
   "codemirror_mode": {
    "name": "ipython",
    "version": 3
   },
   "file_extension": ".py",
   "mimetype": "text/x-python",
   "name": "python",
   "nbconvert_exporter": "python",
   "pygments_lexer": "ipython3",
   "version": "3.7.3"
  }
 },
 "nbformat": 4,
 "nbformat_minor": 2
}
