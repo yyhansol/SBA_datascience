{
 "cells": [
  {
   "cell_type": "code",
   "execution_count": 6,
   "metadata": {},
   "outputs": [
    {
     "data": {
      "text/html": [
       "<div>\n",
       "<style scoped>\n",
       "    .dataframe tbody tr th:only-of-type {\n",
       "        vertical-align: middle;\n",
       "    }\n",
       "\n",
       "    .dataframe tbody tr th {\n",
       "        vertical-align: top;\n",
       "    }\n",
       "\n",
       "    .dataframe thead th {\n",
       "        text-align: right;\n",
       "    }\n",
       "</style>\n",
       "<table border=\"1\" class=\"dataframe\">\n",
       "  <thead>\n",
       "    <tr style=\"text-align: right;\">\n",
       "      <th></th>\n",
       "      <th>질문</th>\n",
       "      <th>수식풀이</th>\n",
       "      <th>키워드</th>\n",
       "      <th>키워드1</th>\n",
       "    </tr>\n",
       "  </thead>\n",
       "  <tbody>\n",
       "    <tr>\n",
       "      <td>0</td>\n",
       "      <td>참외가 375개 있습니다. 참외를 바구니 한 개에 9개씩 담는다면 바구니는 몇 개가...</td>\n",
       "      <td>375÷9=[41]···[6]</td>\n",
       "      <td>참외, 375개, 바구니 한 개에 9개씩, 바구니는 몇 개, 필요하고, 참외는 몇 ...</td>\n",
       "      <td>한, 에, 씩, 몇, 필요하고,몇, 남을까요</td>\n",
       "    </tr>\n",
       "    <tr>\n",
       "      <td>1</td>\n",
       "      <td>공책 405권을 한 명당 4권씩 나누어 주면 몇 명에게 나누어 줄 수 있고, 몇 권...</td>\n",
       "      <td>405÷4=[101]···[1]</td>\n",
       "      <td>공책 405권, 한 명당 4권씩 나누어, 몇 명에게, 몇 권이 남게</td>\n",
       "      <td>한, 당, 씩, 나누어, 몇, 에게, 몇, 남게</td>\n",
       "    </tr>\n",
       "    <tr>\n",
       "      <td>2</td>\n",
       "      <td>자석 37개를 한 명당 3개씩 나누어 주려고 합니다. 몇 명에게 나누어 줄 수 있고...</td>\n",
       "      <td>37÷3=[12]···[1]</td>\n",
       "      <td>37개를 한 명당 3개씩 나누어, 몇 명에게 나누어, 몇 개가 남을까요</td>\n",
       "      <td>한, 당, 씩, 나누어, 몇, 에게, 나누어, 몇 , 남을까요</td>\n",
       "    </tr>\n",
       "    <tr>\n",
       "      <td>3</td>\n",
       "      <td>연필이 한 묶음에 10자루씩 7묶음 있습니다. 한 명당 2자루씩 나누어 준다면 몇 ...</td>\n",
       "      <td>10×7=[70] ; 70÷2=[35]</td>\n",
       "      <td>한 묶음에 10자루씩 7묶음, 한 명당 2자루씩 나누어, 몇 명에게 나누어</td>\n",
       "      <td>한, 에, 씩, 한, 당, 씩, 나누어, 몇, 에게, 나누어</td>\n",
       "    </tr>\n",
       "    <tr>\n",
       "      <td>4</td>\n",
       "      <td>길이가 같은 파란색 테이프 8개를 겹쳐지는 부분이 3cm가 되게 이어 붙였더니 전체...</td>\n",
       "      <td>3×7=[21] ; 51+21=[72] ; 72÷8=[9]</td>\n",
       "      <td>길이가 같은, 8개, 겹쳐지는 부분이 3cm, 이어 붙였더니, 전체 길이가 51cm...</td>\n",
       "      <td>길이가 같은, 겹쳐지는 부분이, 이어 붙였더니, 전체, 의, 몇</td>\n",
       "    </tr>\n",
       "  </tbody>\n",
       "</table>\n",
       "</div>"
      ],
      "text/plain": [
       "                                                  질문  \\\n",
       "0  참외가 375개 있습니다. 참외를 바구니 한 개에 9개씩 담는다면 바구니는 몇 개가...   \n",
       "1  공책 405권을 한 명당 4권씩 나누어 주면 몇 명에게 나누어 줄 수 있고, 몇 권...   \n",
       "2  자석 37개를 한 명당 3개씩 나누어 주려고 합니다. 몇 명에게 나누어 줄 수 있고...   \n",
       "3  연필이 한 묶음에 10자루씩 7묶음 있습니다. 한 명당 2자루씩 나누어 준다면 몇 ...   \n",
       "4  길이가 같은 파란색 테이프 8개를 겹쳐지는 부분이 3cm가 되게 이어 붙였더니 전체...   \n",
       "\n",
       "                               수식풀이  \\\n",
       "0                  375÷9=[41]···[6]   \n",
       "1                 405÷4=[101]···[1]   \n",
       "2                   37÷3=[12]···[1]   \n",
       "3             10×7=[70] ; 70÷2=[35]   \n",
       "4  3×7=[21] ; 51+21=[72] ; 72÷8=[9]   \n",
       "\n",
       "                                                 키워드  \\\n",
       "0  참외, 375개, 바구니 한 개에 9개씩, 바구니는 몇 개, 필요하고, 참외는 몇 ...   \n",
       "1             공책 405권, 한 명당 4권씩 나누어, 몇 명에게, 몇 권이 남게    \n",
       "2            37개를 한 명당 3개씩 나누어, 몇 명에게 나누어, 몇 개가 남을까요   \n",
       "3         한 묶음에 10자루씩 7묶음, 한 명당 2자루씩 나누어, 몇 명에게 나누어    \n",
       "4  길이가 같은, 8개, 겹쳐지는 부분이 3cm, 이어 붙였더니, 전체 길이가 51cm...   \n",
       "\n",
       "                                   키워드1  \n",
       "0             한, 에, 씩, 몇, 필요하고,몇, 남을까요   \n",
       "1           한, 당, 씩, 나누어, 몇, 에게, 몇, 남게   \n",
       "2    한, 당, 씩, 나누어, 몇, 에게, 나누어, 몇 , 남을까요  \n",
       "3    한, 에, 씩, 한, 당, 씩, 나누어, 몇, 에게, 나누어   \n",
       "4  길이가 같은, 겹쳐지는 부분이, 이어 붙였더니, 전체, 의, 몇   "
      ]
     },
     "execution_count": 6,
     "metadata": {},
     "output_type": "execute_result"
    }
   ],
   "source": [
    "import pandas as pd\n",
    "\n",
    "df=pd.read_excel(\"math_func_type.xlsx\",sheet_name=3)\n",
    "df.head()"
   ]
  },
  {
   "cell_type": "code",
   "execution_count": 4,
   "metadata": {},
   "outputs": [],
   "source": [
    "import platform\n",
    "\n",
    "import numpy as np\n",
    "import pandas as pd\n",
    "import matplotlib.pyplot as plt\n",
    "import seaborn as sns\n",
    "# sns.set()\n",
    "\n",
    "from matplotlib import font_manager, rc\n",
    "if platform.system() == 'Darwin':\n",
    "    rc('font', family='AppleGothic')\n",
    "elif platform.system() == 'Windows':\n",
    "    font_name = font_manager.FontProperties(fname=\"C:/Windows/Fonts/malgun.ttf\").get_name()\n",
    "    rc('font', family=font_name)\n",
    "else:\n",
    "    print(\"It's unknown system. Hangul fonts are not supported!\")\n",
    "    \n",
    "# plt.rcParams['axes.unicode_minus'] = False\n",
    "plt.rcParams[\"figure.figsize\"] = [12,6]\n",
    "\n",
    "%matplotlib inline"
   ]
  },
  {
   "cell_type": "code",
   "execution_count": 7,
   "metadata": {},
   "outputs": [
    {
     "data": {
      "text/html": [
       "<div>\n",
       "<style scoped>\n",
       "    .dataframe tbody tr th:only-of-type {\n",
       "        vertical-align: middle;\n",
       "    }\n",
       "\n",
       "    .dataframe tbody tr th {\n",
       "        vertical-align: top;\n",
       "    }\n",
       "\n",
       "    .dataframe thead th {\n",
       "        text-align: right;\n",
       "    }\n",
       "</style>\n",
       "<table border=\"1\" class=\"dataframe\">\n",
       "  <thead>\n",
       "    <tr style=\"text-align: right;\">\n",
       "      <th></th>\n",
       "      <th>질문</th>\n",
       "      <th>수식풀이</th>\n",
       "      <th>키워드</th>\n",
       "      <th>키워드1</th>\n",
       "      <th>kkma</th>\n",
       "      <th>okt</th>\n",
       "    </tr>\n",
       "  </thead>\n",
       "  <tbody>\n",
       "    <tr>\n",
       "      <td>0</td>\n",
       "      <td>참외가 375개 있습니다. 참외를 바구니 한 개에 9개씩 담는다면 바구니는 몇 개가...</td>\n",
       "      <td>375÷9=[41]···[6]</td>\n",
       "      <td>참외, 375개, 바구니 한 개에 9개씩, 바구니는 몇 개, 필요하고, 참외는 몇 ...</td>\n",
       "      <td>한, 에, 씩, 몇, 필요하고,몇, 남을까요</td>\n",
       "      <td>[(참외, NNG), (가, JKS), (375, NR), (개, NNM), (있,...</td>\n",
       "      <td>[(참외, Noun), (가, Josa), (375, Number), (개, Nou...</td>\n",
       "    </tr>\n",
       "    <tr>\n",
       "      <td>1</td>\n",
       "      <td>공책 405권을 한 명당 4권씩 나누어 주면 몇 명에게 나누어 줄 수 있고, 몇 권...</td>\n",
       "      <td>405÷4=[101]···[1]</td>\n",
       "      <td>공책 405권, 한 명당 4권씩 나누어, 몇 명에게, 몇 권이 남게</td>\n",
       "      <td>한, 당, 씩, 나누어, 몇, 에게, 몇, 남게</td>\n",
       "      <td>[(공책, NNG), (405, NR), (권, NNM), (을, JKO), (하,...</td>\n",
       "      <td>[(공책, Noun), (405, Number), (권, Noun), (을, Jos...</td>\n",
       "    </tr>\n",
       "    <tr>\n",
       "      <td>2</td>\n",
       "      <td>자석 37개를 한 명당 3개씩 나누어 주려고 합니다. 몇 명에게 나누어 줄 수 있고...</td>\n",
       "      <td>37÷3=[12]···[1]</td>\n",
       "      <td>37개를 한 명당 3개씩 나누어, 몇 명에게 나누어, 몇 개가 남을까요</td>\n",
       "      <td>한, 당, 씩, 나누어, 몇, 에게, 나누어, 몇 , 남을까요</td>\n",
       "      <td>[(자석, NNG), (37, NR), (개, NNM), (를, JKO), (하, ...</td>\n",
       "      <td>[(자석, Noun), (37, Number), (개, Noun), (를, Josa...</td>\n",
       "    </tr>\n",
       "    <tr>\n",
       "      <td>3</td>\n",
       "      <td>연필이 한 묶음에 10자루씩 7묶음 있습니다. 한 명당 2자루씩 나누어 준다면 몇 ...</td>\n",
       "      <td>10×7=[70] ; 70÷2=[35]</td>\n",
       "      <td>한 묶음에 10자루씩 7묶음, 한 명당 2자루씩 나누어, 몇 명에게 나누어</td>\n",
       "      <td>한, 에, 씩, 한, 당, 씩, 나누어, 몇, 에게, 나누어</td>\n",
       "      <td>[(연필, NNG), (이, JKS), (한, MDN), (묶음, NNG), (에,...</td>\n",
       "      <td>[(연필, Noun), (이, Josa), (한, Verb), (묶음, Noun),...</td>\n",
       "    </tr>\n",
       "    <tr>\n",
       "      <td>4</td>\n",
       "      <td>길이가 같은 파란색 테이프 8개를 겹쳐지는 부분이 3cm가 되게 이어 붙였더니 전체...</td>\n",
       "      <td>3×7=[21] ; 51+21=[72] ; 72÷8=[9]</td>\n",
       "      <td>길이가 같은, 8개, 겹쳐지는 부분이 3cm, 이어 붙였더니, 전체 길이가 51cm...</td>\n",
       "      <td>길이가 같은, 겹쳐지는 부분이, 이어 붙였더니, 전체, 의, 몇</td>\n",
       "      <td>[(길이, NNG), (가, JKS), (같, VA), (은, ETD), (파란색,...</td>\n",
       "      <td>[(길이, Noun), (가, Josa), (같은, Adjective), (파란색,...</td>\n",
       "    </tr>\n",
       "  </tbody>\n",
       "</table>\n",
       "</div>"
      ],
      "text/plain": [
       "                                                  질문  \\\n",
       "0  참외가 375개 있습니다. 참외를 바구니 한 개에 9개씩 담는다면 바구니는 몇 개가...   \n",
       "1  공책 405권을 한 명당 4권씩 나누어 주면 몇 명에게 나누어 줄 수 있고, 몇 권...   \n",
       "2  자석 37개를 한 명당 3개씩 나누어 주려고 합니다. 몇 명에게 나누어 줄 수 있고...   \n",
       "3  연필이 한 묶음에 10자루씩 7묶음 있습니다. 한 명당 2자루씩 나누어 준다면 몇 ...   \n",
       "4  길이가 같은 파란색 테이프 8개를 겹쳐지는 부분이 3cm가 되게 이어 붙였더니 전체...   \n",
       "\n",
       "                               수식풀이  \\\n",
       "0                  375÷9=[41]···[6]   \n",
       "1                 405÷4=[101]···[1]   \n",
       "2                   37÷3=[12]···[1]   \n",
       "3             10×7=[70] ; 70÷2=[35]   \n",
       "4  3×7=[21] ; 51+21=[72] ; 72÷8=[9]   \n",
       "\n",
       "                                                 키워드  \\\n",
       "0  참외, 375개, 바구니 한 개에 9개씩, 바구니는 몇 개, 필요하고, 참외는 몇 ...   \n",
       "1             공책 405권, 한 명당 4권씩 나누어, 몇 명에게, 몇 권이 남게    \n",
       "2            37개를 한 명당 3개씩 나누어, 몇 명에게 나누어, 몇 개가 남을까요   \n",
       "3         한 묶음에 10자루씩 7묶음, 한 명당 2자루씩 나누어, 몇 명에게 나누어    \n",
       "4  길이가 같은, 8개, 겹쳐지는 부분이 3cm, 이어 붙였더니, 전체 길이가 51cm...   \n",
       "\n",
       "                                   키워드1  \\\n",
       "0             한, 에, 씩, 몇, 필요하고,몇, 남을까요    \n",
       "1           한, 당, 씩, 나누어, 몇, 에게, 몇, 남게    \n",
       "2    한, 당, 씩, 나누어, 몇, 에게, 나누어, 몇 , 남을까요   \n",
       "3    한, 에, 씩, 한, 당, 씩, 나누어, 몇, 에게, 나누어    \n",
       "4  길이가 같은, 겹쳐지는 부분이, 이어 붙였더니, 전체, 의, 몇    \n",
       "\n",
       "                                                kkma  \\\n",
       "0  [(참외, NNG), (가, JKS), (375, NR), (개, NNM), (있,...   \n",
       "1  [(공책, NNG), (405, NR), (권, NNM), (을, JKO), (하,...   \n",
       "2  [(자석, NNG), (37, NR), (개, NNM), (를, JKO), (하, ...   \n",
       "3  [(연필, NNG), (이, JKS), (한, MDN), (묶음, NNG), (에,...   \n",
       "4  [(길이, NNG), (가, JKS), (같, VA), (은, ETD), (파란색,...   \n",
       "\n",
       "                                                 okt  \n",
       "0  [(참외, Noun), (가, Josa), (375, Number), (개, Nou...  \n",
       "1  [(공책, Noun), (405, Number), (권, Noun), (을, Jos...  \n",
       "2  [(자석, Noun), (37, Number), (개, Noun), (를, Josa...  \n",
       "3  [(연필, Noun), (이, Josa), (한, Verb), (묶음, Noun),...  \n",
       "4  [(길이, Noun), (가, Josa), (같은, Adjective), (파란색,...  "
      ]
     },
     "execution_count": 7,
     "metadata": {},
     "output_type": "execute_result"
    }
   ],
   "source": [
    "from konlpy.tag import Kkma\n",
    "kkma = Kkma()\n",
    "\n",
    "from konlpy.tag import Okt\n",
    "okt = Okt()\n",
    "\n",
    "\n",
    "df[\"kkma\"] = ''\n",
    "df[\"okt\"] = ''\n",
    "\n",
    "\n",
    "for i in range(0, len(df)):\n",
    "    #df['kkma'][i] = kkma.morphs(df[\"질문\"][i])\n",
    "    #df['okt'][i] = okt.morphs(df[\"질문\"][i])\n",
    "    df['kkma'][i] = kkma.pos(df[\"질문\"][i])\n",
    "    df['okt'][i] = okt.pos(df[\"질문\"][i])\n",
    "    \n",
    "df.head()"
   ]
  },
  {
   "cell_type": "code",
   "execution_count": 566,
   "metadata": {},
   "outputs": [
    {
     "name": "stdout",
     "output_type": "stream",
     "text": [
      "0 참외가 375개 있습니다. 참외를 바구니 한 개에 9개씩 담는다면 바구니는 몇 개가 필요하고, 참외는 몇 개가 남을까요? \n",
      "2 자석 37개를 한 명당 3개씩 나누어 주려고 합니다. 몇 명에게 나누어 줄 수 있고, 몇 개가 남을까요? \n",
      "3 연필이 한 묶음에 10자루씩 7묶음 있습니다. 한 명당 2자루씩 나누어 준다면 몇 명에게 나누어 줄 수 있을까요? \n"
     ]
    }
   ],
   "source": [
    "import re\n",
    "\n",
    "df[\"model\"]=''\n",
    "df[\"model_answer\"]=''\n",
    "\n",
    "for i in range(0,len(df)):\n",
    "    if re.compile(\"몇 [\\w]{1,5}가 필요하고, [\\w]{0,5} 몇 [\\w]{1,5}가 남을까요?\").findall(df[\"질문\"][i])!=[]:\n",
    "        print(i,df[\"질문\"][i])\n",
    "        \n",
    "    elif re.compile(\"몇 [\\w]{1,5}에게 나누어 줄 수 있고, 몇 [\\w]{1,5}가 남을까요?\").findall(df[\"질문\"][i])!=[]:\n",
    "        print(i,df[\"질문\"][i])\n",
    "        \n",
    "    elif re.compile(\"몇 [\\w]{1,5}에게 나누어 줄 수 있을까요?\").findall(df[\"질문\"][i])!=[]:\n",
    "        print(i,df[\"질문\"][i])\n",
    "        "
   ]
  },
  {
   "cell_type": "code",
   "execution_count": 567,
   "metadata": {},
   "outputs": [
    {
     "name": "stdout",
     "output_type": "stream",
     "text": [
      "0 [41, 6]\n",
      "2 [12, 1]\n",
      "3 35\n"
     ]
    }
   ],
   "source": [
    "#basic\n",
    "\n",
    "\n",
    "for i in range(0,len(df)):\n",
    "    if (re.compile(\"몇 [\\w]{1,5}가 필요하고, [\\w]{0,5} 몇 [\\w]{1,5}가 남을까요?\").findall(df[\"질문\"][i])) or (re.compile(\"몇 [\\w]{1,5}에게 나누어 줄 수 있고, 몇 [\\w]{1,5}가 남을까요?\").findall(df[\"질문\"][i])!= []) or(re.compile(\"몇 [\\w]{1,5}에게 나누어 줄 수 있을까요?\").findall(df[\"질문\"][i])!=[]) or (re.compile(\"몇 [\\w]{1,5}필요합니까?\").findall(df[\"질문\"][i])!=[]):\n",
    "        if (re.compile(\"한 [\\w]{1,5}['에,당'] [\\d]{1,3}[\\w]{1,5}씩 ['나누어, 나눠, 담는다면, 담으려면']\").findall(df[\"질문\"][i])!=[]):\n",
    "            if (re.compile(\"한 [\\w]{1,5}['에,당'] [\\d]{1,3}[\\w]{1,5}씩 [\\d]{1,3}[\\w]{1,5}\").findall(df[\"질문\"][i])!=[]):\n",
    "                a=[]\n",
    "                a1=re.compile(\"한 [\\w]{1,5}['에,당'] [\\d]{1,3}[\\w]{1,5}씩 [\\d]{1,3}[\\w]{1,5}\").findall(df[\"질문\"][i])\n",
    "                a11=re.compile(\"[\\d]{1,3}\").findall(a1[0])\n",
    "                a.append(int(a11[0])*int(a11[1]))\n",
    "                a2=re.compile(\"한 [\\w]{1,5}['에,당'] [\\d]{1,3}[\\w]{1,5}씩 ['나누어, 나눠, 담는다면, 담으려면']\").findall(df[\"질문\"][i])\n",
    "                a22=re.compile(\"[\\d]{1,3}\").findall(a2[0])\n",
    "                a.append(int(a22[0]))\n",
    "                \n",
    "            elif (re.compile(\"[\\d]{1,3}[\\w]{1,5}씩 [\\d]{1,3}[\\w]{1,5}\").findall(df[\"질문\"][i])!=[]):\n",
    "                a=[]\n",
    "                a1=re.compile(\"[\\d]{1,3}[\\w]{1,5}씩 [\\d]{1,3}[\\w]{1,5}\").findall(df[\"질문\"][i])\n",
    "                a11=re.compile(\"[\\d]{1,3}\").findall(a1[0])\n",
    "                a.append(int(a11[0])*int(a11[1]))\n",
    "                a2=re.compile(\"한 [\\w]{1,5}['에,당'] [\\d]{1,3}[\\w]{1,5}씩 ['나누어, 나눠, 담는다면, 담으려면']\").findall(df[\"질문\"][i])\n",
    "                a22=re.compile(\"[\\d]{1,3}\").findall(a2[0])\n",
    "                a.append(int(a22[0]))\n",
    "            \n",
    "            else: a=re.compile(\"[\\d]{1,4}\").findall(df[\"질문\"][i]) \n",
    "            \n",
    "            if (re.compile(\"남을까요\").findall(df[\"질문\"][i])):\n",
    "                df[\"model_answer\"][i]=[int(a[0])//int(a[1]),int(a[0])%int(a[1])]\n",
    "            else: df[\"model_answer\"][i]=int(a[0])//int(a[1])\n",
    "            \n",
    "            print(i,df[\"model_answer\"][i])"
   ]
  },
  {
   "cell_type": "code",
   "execution_count": 568,
   "metadata": {},
   "outputs": [
    {
     "name": "stdout",
     "output_type": "stream",
     "text": [
      "38 어느 공연장에는 5명씩 앉을 수 있는 의자가 놓여 있습니다. 이 공연장에 온 관람객 79명이 모두 앉으려면, 의자는 모두 몇 개가 필요합니까?  16\n"
     ]
    }
   ],
   "source": [
    "#if (re.compile(\"몇 [\\w]{1,4}가 필요합니까?\").findall(df[\"질문\"][i])!=[])\n",
    "\n",
    "#의자 basic\n",
    "\n",
    "for i in range(0,len(df)):\n",
    "    if (re.compile(\"몇 [\\w]{1,4}가 필요합니까?\").findall(df[\"질문\"][i])!=[]) and (re.compile(\"[\\d]{1,4}명이 모두 앉으려면\").findall(df[\"질문\"][i])!=[]):\n",
    "        a1=re.compile(\"[\\d]{1,4}명이 모두 앉으려면\").findall(df[\"질문\"][i])\n",
    "        a11=re.compile(\"[\\d]{1,4}\").findall(a1[0])\n",
    "        a2=re.compile(\"[\\d]{1,4}명씩 앉을 수 있는 의자\").findall(df[\"질문\"][i])\n",
    "        a22=re.compile(\"[\\d]{1,4}\").findall(a2[0])\n",
    "        if int(a11[0])%int(a22[0])!=0:df[\"model_answer\"][i]=(int(a11[0])//int(a22[0]))+1\n",
    "        else:df[\"model_answer\"][i]=int(a11[0])//int(a22[0])\n",
    "        \n",
    "        \n",
    "        print(i,df[\"질문\"][i],df[\"model_answer\"][i])"
   ]
  },
  {
   "cell_type": "code",
   "execution_count": 569,
   "metadata": {},
   "outputs": [
    {
     "name": "stdout",
     "output_type": "stream",
     "text": [
      "85 동전이 모두 12개 있습니다. 동전은 10원짜리, 50원짜리, 100원짜리, 500원짜리로 4종류이고, 종류별 동전의 개수는 모두 같다고 합니다. 동전의 금액을 모두 더하면 얼마입니까?  1980\n",
      "86 동전이 모두 27개 있습니다. 동전은 10원짜리, 50원짜리, 100원짜리로 3종류이고, 종류별 동전의 개수는 모두 같다고 합니다. 동전의 금액을 모두 더하면 얼마입니까?  1440\n",
      "95 동전이 모두 18개 있습니다. 동전은 10원짜리, 50원짜리, 100원짜리로 3종류이고, 종류별 동전의 개수는 모두 같다고 합니다. 동전의 금액을 모두 더하면 얼마입니까?  960\n"
     ]
    }
   ],
   "source": [
    "#동전 총 금액\n",
    "\n",
    "for i in range(0,len(df)):\n",
    "    if (re.compile(\"동전이 모두 [\\d]{1,4}개\").findall(df[\"질문\"][i])!=[]) and (re.compile(\"[\\d]{1,4}원짜리\").findall(df[\"질문\"][i])!=[]) and (re.compile(\"동전의 금액을 모두 더하면 얼마\").findall(df[\"질문\"][i])!=[]):\n",
    "        a1=re.compile(\"동전이 모두 [\\d]{1,4}개\").findall(df[\"질문\"][i])\n",
    "        a11=re.compile(\"[\\d]{1,4}\").findall(a1[0])\n",
    "        a2=re.compile(\"[\\d]{1,4}원짜리\").findall(df[\"질문\"][i])\n",
    "        a22=[]\n",
    "        for jj in range(0,len(a2)):\n",
    "            a22.append(int((re.compile(\"[\\d]{1,4}\").findall(a2[jj]))[0]))\n",
    "        a3=re.compile(\"[\\d]{1,4}종류\").findall(df[\"질문\"][i])\n",
    "        a33=re.compile(\"[\\d]{1,4}\").findall(a3[0])\n",
    "        k=int(a11[0])//int(a33[0])\n",
    "        \n",
    "        df[\"model_answer\"][i]=0\n",
    "        for j in range(0,len(a22)):\n",
    "            df[\"model_answer\"][i]=df[\"model_answer\"][i]+(int(a22[j])*k)\n",
    "        \n",
    "        print(i,df[\"질문\"][i],df[\"model_answer\"][i])"
   ]
  },
  {
   "cell_type": "code",
   "execution_count": 570,
   "metadata": {},
   "outputs": [
    {
     "name": "stdout",
     "output_type": "stream",
     "text": [
      "4 길이가 같은 파란색 테이프 8개를 겹쳐지는 부분이 3cm가 되게 이어 붙였더니 전체 길이가 51cm가 되었습니다. 파란색 테이프 한 개의 길이는 몇 입니까? 9\n",
      "26 60cm짜리 색 테이프로 5cm짜리 고리를 8개 만들고, 나머지 색 테이프를 모두 사용하여 4cm짜리 고리를 만들었습니다. 만든 고리는 모두 몇 개입니까?  5\n",
      "41 색 테이프 6cm로 리본을 한 개 만들 수 있습니다. 색 테이프 79cm로는 같은 크기의 리본을 몇 개까지 만들 수 있습니까? (까지를 몫으로 보면..?) 13\n"
     ]
    }
   ],
   "source": [
    "#테이프나 리본으로 여러개 만들기\n",
    "for i in range(0,len(df)):\n",
    "    if (re.compile('테이프').findall(df[\"질문\"][i])!=[]) or (re.compile('리본').findall(df[\"질문\"][i])!=[]):\n",
    "        if re.compile('전체 길이가 [\\d]{1,2}cm').findall(df[\"질문\"][i])!=[]:\n",
    "            c=re.compile('전체 길이가 [\\d]{1,2}cm').findall(df[\"질문\"][i])\n",
    "        elif re.compile('[\\d]{1,2}cm짜리 색 테이프').findall(df[\"질문\"][i])!=[]:\n",
    "            c=re.compile('[\\d]{1,2}cm짜리 색 테이프').findall(df[\"질문\"][i])\n",
    "        elif re.compile('색 테이프 [\\d]{1,2}cm').findall(df[\"질문\"][i])!=[]:\n",
    "            c=re.compile('색 테이프 [\\d]{1,2}cm[\\w]{1,20} 같은 [\\w]{1,20} [\\w]{1,20} 몇 개까지').findall(df[\"질문\"][i])\n",
    "        c1=re.compile('[\\d]{1,2}').findall(c[0])    \n",
    "        \n",
    "        if (re.compile('겹쳐지는 부분이 [\\d]{1,2}cm').findall(df[\"질문\"][i])!=[]) or (re.compile('전체 길이가 [\\d]{1,2}cm').findall(df[\"질문\"][i])!=[]):\n",
    "            a=re.compile('[\\d]{1,2}개').findall(df[\"질문\"][i])\n",
    "            a1=re.compile('[\\d]{1,2}').findall(a[0])\n",
    "            b=re.compile('겹쳐지는 부분이 [\\d]{1,2}cm').findall(df[\"질문\"][i])\n",
    "            b1=re.compile('[\\d]{1,2}').findall(b[0])\n",
    "            df[\"model_answer\"][i]=(int(c1[0])+int(b1[0])*(int(a1[0])-1))//int(a1[0])\n",
    "\n",
    "        elif (re.compile('[\\d]{1,2}cm짜리 [\\w]{1,20} [\\d]{1,2}개').findall(df[\"질문\"][i])!=[]):\n",
    "            a=re.compile('[\\d]{1,2}cm짜리 [\\w]{1,20} [\\d]{1,2}개').findall(df[\"질문\"][i])\n",
    "            a1=re.compile('[\\d]{1,2}cm').findall(a[0])\n",
    "            a2=re.compile('[\\d]{1,2}개').findall(a[0])\n",
    "            a11=re.compile('[\\d]{1,2}').findall(a1[0])\n",
    "            a22=re.compile('[\\d]{1,2}').findall(a2[0])\n",
    "            b=df[\"질문\"][i].split(\"나머지\")\n",
    "            b1=re.compile('[\\d]{1,2}').findall(b[1])\n",
    "            df[\"model_answer\"][i]=(int(c1[0])-int(a11[0])*int(a22[0]))//int(b1[0])\n",
    "            \n",
    "        elif (re.compile('[\\d]{1,2}cm로 [\\w]{1,10}[\"을,를\"] 한 개').findall(df[\"질문\"][i])!=[]):\n",
    "            a=re.compile('[\\d]{1,2}cm로 [\\w]{1,10}[\"을,를\"] 한 개').findall(df[\"질문\"][i])\n",
    "            a1=re.compile('[\\d]{1,2}').findall(a[0])\n",
    "            df[\"model_answer\"][i]=(int(c1[0])//int(a1[0]))\n",
    "        \n",
    "        print(i,df[\"질문\"][i],df[\"model_answer\"][i])"
   ]
  },
  {
   "cell_type": "code",
   "execution_count": 571,
   "metadata": {},
   "outputs": [
    {
     "name": "stdout",
     "output_type": "stream",
     "text": [
      "81\n",
      "5 81m인 도로의 양쪽에 9m 간격으로 화분을 놓으려고 합니다. 화분은 모두 몇 개가 필요합니까? (단, 도로의 처음과 끝에는 반드시 화분이 놓여야합니다.)  10\n",
      "72\n",
      "25 길이가 72m인 공원 둘레에 밤나무를 심기로 하였습니다. 한 군데만 가운데에 길을 내기 위해 9m 간격으로 심고, 나머지는 모두 7m 간격으로 심기로 하였습니다. 밤나무는 모두 몇 그루가 필요합니까?  10\n",
      "50\n",
      "30 길이가 50m인 호숫가 둘레에 나무를 심기로 하였습니다. 한 군데만 가운데에 길을 내기 위해 8m 간격으로 심고, 나머지는 모두 6m 간격으로 심기로 하였습니다. 나무는 모두 몇 그루가 필요합니까?  8\n",
      "150\n",
      "46 가로 39cm, 세로 36cm인 직사각형 모양의 나무판자가 있습니다. 이 나무판자에 3cm간격으로 못을 박을 때, 박을 수 있는 못은 몇 개입니까? (단, 모서리 부분에는 못을 박지 않습니다.)  46\n"
     ]
    }
   ],
   "source": [
    "#일정간격으로 무언가를 두기\n",
    "for i in range(0,len(df)):\n",
    "    if (re.compile('간격').findall(df[\"질문\"][i])!=[]) and (re.compile('[\\d]{1,2}[\\w]{1,2}인').findall(df[\"질문\"][i])!=[]):\n",
    "        if (re.compile('가로 [\\w]{1,5}, 세로 [\\w]{1,5}').findall(df[\"질문\"][i])!=[]):\n",
    "            a=re.compile('가로 [\\w]{1,5}, 세로 [\\w]{1,5}').findall(df[\"질문\"][i])\n",
    "            aa=re.compile('[\\d]{1,2}').findall(a[0])\n",
    "            a1=2*(int(aa[0])+int(aa[1]))\n",
    "        elif (re.compile('[\\d]{1,2}[\\w]{1,2}인').findall(df[\"질문\"][i])!=[]):\n",
    "            a=re.compile('[\\d]{1,2}m인').findall(df[\"질문\"][i]) or re.compile('[\\d]{1,2}cm인').findall(df[\"질문\"][i]) \n",
    "            aa=re.compile('[\\d]{1,2}').findall(a[0])\n",
    "            a1=int(aa[0])\n",
    "        print(a1)\n",
    "        \n",
    "        if (re.compile('한 군데만').findall(df[\"질문\"][i])!=[]):\n",
    "            b=re.compile('한 군데만 가운데에 길을 내기 위해 [\\d]{1,2}[\\w]{1,2} 간격').findall(df[\"질문\"][i])\n",
    "            b1=re.compile('[\\d]{1,2}').findall(b[0])\n",
    "            c=re.compile('나머지는 모두 [\\d]{1,2}[\\w]{1,2} 간격').findall(df[\"질문\"][i])\n",
    "            c1=re.compile('[\\d]{1,2}').findall(c[0])\n",
    "            k=abs(int(b1[0])-int(c1[0]))\n",
    "            df[\"model_answer\"][i]=(a1-k)//int(c1[0])\n",
    "            \n",
    "        else:\n",
    "            c=re.compile('[\\d]{1,2}[\\w]{1,2} 간격').findall(df[\"질문\"][i]) or re.compile('[\\d]{1,2}[\\w]{1,2}간격').findall(df[\"질문\"][i])\n",
    "            c1=re.compile('[\\d]{1,2}').findall(c[0])\n",
    "            if (re.compile('단').findall(df[\"질문\"][i])!=[]):\n",
    "                if (re.compile('처음과 끝').findall(df[\"질문\"][i])!=[]) or (re.compile('양끝').findall(df[\"질문\"][i])!=[]):\n",
    "                    if (re.compile('않').findall(df[\"질문\"][i])!=[]): \n",
    "                        if a1%int(c1[0])!=0:\n",
    "                            df[\"model_answer\"][i]=a1//int(c1[0])\n",
    "                        else: df[\"model_answer\"][i]=(a1//int(c1[0]))-1\n",
    "                    else: df[\"model_answer\"][i]=(a1//int(c1[0]))+1\n",
    "                if (re.compile('모서리').findall(df[\"질문\"][i])!=[]):\n",
    "                    if (re.compile('않').findall(df[\"질문\"][i])!=[]):df[\"model_answer\"][i]=(a1//int(c1[0]))-4\n",
    "                        \n",
    "        print(i,df[\"질문\"][i],df[\"model_answer\"][i])"
   ]
  },
  {
   "cell_type": "code",
   "execution_count": 572,
   "metadata": {},
   "outputs": [
    {
     "name": "stdout",
     "output_type": "stream",
     "text": [
      "6 고양이 8마리가 하루에 쥐를 24마리씩 잡는다고 합니다. 모든 고양이가 매일 똑같은 수의 쥐를 잡는다면, 고양이 3마리가 쥐를 81마리를 잡는데 며칠이 걸리는지 구하시오.  9\n",
      "31 토끼 6마리가 하루에 당근을 18개 먹습니다. 모든 토끼가 매일 똑같은 개수의 당근을 먹는다면 토끼 8마리가 당근 72개를 먹는 데에는 며칠이 걸리겠습니까?  3\n",
      "90 말 4마리가 하루에 당근을 8개 먹습니다. 모든 말이 매일 똑같은 개수의 당근을 먹는다면 말 6마리가 당근 48개를 먹는 데에는 며칠이 걸리겠습니까?  4\n"
     ]
    }
   ],
   "source": [
    "#매일 똑같은 수\n",
    "for i in range(0,len(df)):\n",
    "    if (re.compile('[\\d]{1,2}[\\w]{1,2}가 하루에 [\\w]{1,2}[\"을,를\"] [\\d]{1,2}[\\w]{1,2}').findall(df[\"질문\"][i])!=[]):\n",
    "        a=re.compile('[\\d]{1,2}[\\w]{1,2}가 하루에 [\\w]{1,2}[\"을,를\"] [\\d]{1,2}[\\w]{1,2}').findall(df[\"질문\"][i])\n",
    "        aa=re.compile('[\\d]{1,2}').findall(a[0])\n",
    "        b=df[\"질문\"][i].split(\"다면\")\n",
    "        bb=re.compile('[\\d]{1,2}').findall(b[1])\n",
    "        df[\"model_answer\"][i]=int(bb[1])//((int(aa[1])//int(aa[0]))*int(bb[0]))\n",
    "        \n",
    "        print(i,df[\"질문\"][i],df[\"model_answer\"][i])"
   ]
  },
  {
   "cell_type": "code",
   "execution_count": 573,
   "metadata": {},
   "outputs": [
    {
     "name": "stdout",
     "output_type": "stream",
     "text": [
      "12 연필이 3타 있습니다. 연필을 한 사람에게 4자루씩 나누어 주려고 합니다. 몇 명에게 나누어 줄 수 있습니까?  (1타에 12개) 9\n",
      "37 연필 6타를 학생 한 명에게 5자루씩 나누어 주려고 합니다. 학생 몇 명에게 나누어 줄 수 있고, 나머지는 몇 자루입니까?\r\n",
      "(          ,          )  [14, 2]\n",
      "40 수영이는 연필을 5타 가지고 있습니다. 친구 한 사람에게 연필을 7자루씩 나누어 주면 몇 명에게 나누어 줄 수 있습니까?  8\n",
      "66 연필 4타를 8명에게 똑같게 나누어 주려고 합니다. 한 사람에게 몇 자루씩 주면 됩니까?  6\n",
      "67 아름이는 연필을 2타가지고 있습니다. 친구 4명에게 똑같이 나누어 주려고 합니다. 한 사람에게 몇 자루씩 주면 됩니까?  6\n"
     ]
    }
   ],
   "source": [
    "#연필 몇타\n",
    "for i in range(0,len(df)):\n",
    "    if re.compile(\"연필[\\w]{0,2} [\\d]{1,2}타\").findall(df[\"질문\"][i])!=[]:\n",
    "        a=re.compile(\"연필[\\w]{0,2} [\\d]{1,2}타\").findall(df[\"질문\"][i])\n",
    "        aa=re.compile(\"[\\d]{1,2}\").findall(a[0])\n",
    "        a1=12*int(aa[0])\n",
    "        \n",
    "        b=re.compile(\"[\\d]{1,2}자루씩\").findall(df[\"질문\"][i]) or re.compile(\"[\\d]{1,2}명에게\").findall(df[\"질문\"][i])\n",
    "        bb=re.compile(\"[\\d]{1,2}\").findall(b[0])\n",
    "        if re.compile(\"나머지\").findall(df[\"질문\"][i])==[]:\n",
    "            df[\"model_answer\"][i]=a1//int(bb[0])\n",
    "        else: df[\"model_answer\"][i]=[a1//int(bb[0]),a1%int(bb[0])]\n",
    "            \n",
    "        print(i,df[\"질문\"][i],df[\"model_answer\"][i])"
   ]
  },
  {
   "cell_type": "code",
   "execution_count": 574,
   "metadata": {},
   "outputs": [
    {
     "name": "stdout",
     "output_type": "stream",
     "text": [
      "65 그림과 같이 둘레의 길이가 36cm인 정사각형 모양의 타일이 있습니다. 이 타일이 똑같은 정사각형 9개로 나누어져 있을 때, 작은 정사각형의 네 변의 길이의 합을 구하시오.  4\n",
      "68 둘레의 길이가 각각 24cm와 36cm인 정사각형 가와 나가 있습니다. 정사각형 가와 나의 한 변의 길이의 차를 구하시오.  3\n",
      "77 세 변의 길이가 같은 삼각형이 있습니다. 세 변의 길이의 합이 15일 때, 한 변의 길이는 몇 입니까?  \n",
      "87 길이가 같은 성냥개비 7개를 자르지 않고 이어 붙여 7개의 변으로 둘러싸인 도형을 만들었습니다. 모든 변의 길이의 합이 56cm라면 성냥개비 한 개의 길이는 몇 cm입니까?  8\n",
      "91 정사각형의 네 변의 길이를 모두 더하였더니 36cm가 되었습니다. 이 정사각형의 한 변의 길이는 몇 cm인지 식을 만들어 답을 구하시오.  9\n",
      "96 길이가 같은 끈 5도막을 자르지 않고 이어 붙여 5개의 변으로 둘러싸인 도형을 만들었습니다. 모든 변의 길이의 합이 35cm라면 끈 한 도막의 길이는 몇 cm입니까?  7\n",
      "97 정사각형의 네 변의 길이의 합이 32라면, 한 변의 길이는 몇 입니까?  8\n",
      "100 진수는 둘레의 길이가 28cm인 정사각형 모양의 액자를 만들려고 합니다. 액자의 한 변의 길이를 몇 cm로 해야 합니까?  7\n",
      "112 세 변의 길이의 합이 54cm인 정삼각형이 있습니다. 이 정삼각형의 한 변의 길이와 한 변의 길이가 같은 정사각형이 있을 때, 이 정사각형의 네 변의 길이의 합은 몇 cm입니까?  72\n"
     ]
    }
   ],
   "source": [
    "#한변 길이\n",
    "for i in range(0,len(df)):\n",
    "    if (re.compile(\"둘레의 길이\").findall(df[\"질문\"][i])!=[]) or (re.compile(\"변의 길이의 합\").findall(df[\"질문\"][i])!=[]) or (re.compile(\"개의 변으로 둘러싸인 도형\").findall(df[\"질문\"][i])!=[]) or (re.compile(\"변의 길이를 모두 더하였더니\").findall(df[\"질문\"][i])!=[]):\n",
    "        r1=['정사각형','세 변', '정삼각형']\n",
    "        r2=[4,3,3]\n",
    "        a=(re.compile(\"둘레의 길이가 각각 [\\w]{1,10} [\\d]{1,2}\").findall(df[\"질문\"][i])) or (re.compile(\"둘레의 길이가 [\\d]{1,2}\").findall(df[\"질문\"][i])) or (re.compile(\"변의 길이의 합이 [\\d]{1,2}\").findall(df[\"질문\"][i])) or (re.compile(\"변의 길이를 모두 더하였더니 [\\d]{1,2}\").findall(df[\"질문\"][i]))\n",
    "        a=re.compile(\"[\\d]{1,2}\").findall(a[0])\n",
    "        b=(re.compile(\"[\\d]{1,2}개의 변으로 둘러싸인 도형\").findall(df[\"질문\"][i]))\n",
    "        if b!=[]:\n",
    "            b=re.compile(\"[\\d]{1,2}\").findall(b[0])\n",
    "            \n",
    "        for r in r1:\n",
    "            if re.compile(r).findall(df[\"질문\"][i]):b.append(r2[r1.index(r)])\n",
    "      \n",
    "        \n",
    "        if (re.compile(\"때,\").findall(df[\"질문\"][i])!=[]): \n",
    "            if (re.compile(\"똑같은 [\\w]{4} [\\d]{1,2}개로 나누어져\").findall(df[\"질문\"][i])!=[]):\n",
    "                c=re.compile(\"똑같은 [\\w]{4} [\\d]{1,2}개로 나누어져\").findall(df[\"질문\"][i])\n",
    "                c1=re.compile(\"[\\d]{1,2}\").findall(c[0])\n",
    "                c2=re.compile(\"[\\w]{4}\").findall(c[0])\n",
    "                c2=[r2[r1.index(c2[0])]]\n",
    "                if (re.compile(\"변의 길이의 합\").findall(df[\"질문\"][i])!=[]):\n",
    "                    df[\"model_answer\"][i]=((int(a[0])//int(b[0]))//int(c1[0]))*int(c2[0])\n",
    "            elif (re.compile(\"[\\w]{4}의 한 변의 길이와 한 변의 길이가 같은 [\\w]{4}이 있을 때\").findall(df[\"질문\"][i])!=[]):\n",
    "                c=re.compile(\"[\\w]{4}의 한 변의 길이와 한 변의 길이가 같은 [\\w]{4}이 있을 때\").findall(df[\"질문\"][i])\n",
    "                c=re.compile(\"[\\w]{4}\").findall(c[0])\n",
    "                c2=[]\n",
    "                for j in range(0,len(c)):\n",
    "                    c2.append(r2[r1.index(c[j])])\n",
    "                if (re.compile(\"변의 길이의 합\").findall(df[\"질문\"][i])!=[]):\n",
    "                    df[\"model_answer\"][i]=(int(a[0])//int(c2[0]))*int(c2[1])\n",
    "                    \n",
    "        elif (re.compile(\"한 변의 길이의 차\").findall(df[\"질문\"][i])!=[]): \n",
    "            df[\"model_answer\"][i]=abs(int(a[0])-int(a[1]))//int(b[0])\n",
    "            \n",
    "        elif (re.compile(\"한 [\\w]{1,2}의 길이[\\w]{1} 몇\").findall(df[\"질문\"][i])!=[]): \n",
    "            df[\"model_answer\"][i]=int(a[0])//int(b[0])\n",
    "            \n",
    "        print(i,df[\"질문\"][i],df[\"model_answer\"][i])"
   ]
  },
  {
   "cell_type": "code",
   "execution_count": 575,
   "metadata": {},
   "outputs": [
    {
     "name": "stdout",
     "output_type": "stream",
     "text": [
      "73 73장의 동화책을 어제까지 10장을 읽고 나머지는 일주일 동안 똑같게 나누어 읽으려고 합니다. 동화책을 다 읽으려면 앞으로 하루에 몇 장씩 읽으면 됩니까?  9\n",
      "98 예슬이는 63 쪽인 수학 문제집을 일주일 동안 매일 같은 쪽수씩 풀려고 합니다. 하루에 몇 쪽씩 풀어야 합니까?  9\n",
      "101 가영이가 매일 똑같은 양만큼 일주일동안 마신 우유는 21잔입니다. 가영이가 하루에 마신 우유는 몇 잔입니까?  3\n"
     ]
    }
   ],
   "source": [
    "#하루분량\n",
    "for i in range(0,len(df)):\n",
    "    if ((re.compile(\"매일 똑같은\").findall(df[\"질문\"][i])!=[]) or (re.compile(\"매일 같은\").findall(df[\"질문\"][i])!=[]) or (re.compile(\"하루에\").findall(df[\"질문\"][i])!=[])):\n",
    "        if (re.compile(\"[\\w]{1}주일 동안\").findall(df[\"질문\"][i])!=[]) or (re.compile(\"[\\w]{1}주일동안\").findall(df[\"질문\"][i])!=[]):\n",
    "        \n",
    "            r1=['일','이','삼','사','오','육','칠','팔','구']\n",
    "            r2=[1,2,3,4,5,6,7,8,9]\n",
    "            a=re.compile(\"[\\w]{1}주일 동안\").findall(df[\"질문\"][i]) or re.compile(\"[\\w]{1}주일동안\").findall(df[\"질문\"][i])\n",
    "            if a!=[]:\n",
    "                a=re.compile(\"[\\w]{1}\").findall(a[0])\n",
    "                a=[r2[r1.index(a[0])]]\n",
    "                b=re.compile(\"[\\d]{1,4}\").findall(df[\"질문\"][i])\n",
    "                df[\"model_answer\"][i]=int(b[0])//(7*(int(a[0])))\n",
    "                \n",
    "                if re.compile(\"나머지는 [\\w]{1}주일 동안\").findall(df[\"질문\"][i]):\n",
    "                    df[\"model_answer\"][i]=abs(int(b[0])-int(b[1]))//(7*(int(a[0])))\n",
    "                    \n",
    "                print(i,df[\"질문\"][i],df[\"model_answer\"][i])"
   ]
  },
  {
   "cell_type": "code",
   "execution_count": 576,
   "metadata": {},
   "outputs": [
    {
     "name": "stdout",
     "output_type": "stream",
     "text": [
      "110 순정이는 엘리베이터를 타고 2층부터 34층까지 멈추지 않고 올라가려 합니다. 2층부터 8층까지 올라가는 데 9초가 걸렸다면 2층부터 34층까지 올라가는 데는 몇 초가 걸리겠습니까? (단, 각 층마다 올라가는 시간은 모두 같습니다.)  48.0\n"
     ]
    }
   ],
   "source": [
    "#층수 시간\n",
    "for i in range(0,len(df)):\n",
    "    if ((re.compile(\"[\\d]{1,3}층부터 [\\d]{1,3}층까지 [\\w]{1,4} 데 [\\d]{1,3}초가 걸렸다면\").findall(df[\"질문\"][i])!=[]) or (re.compile(\"[\\d]{1,3}층부터 [\\d]{1,3}층까지 [\\w]{1,4} [\\w]{1,2} 몇 초\").findall(df[\"질문\"][i])!=[])):\n",
    "        a=(re.compile(\"[\\d]{1,3}층부터 [\\d]{1,3}층까지 [\\w]{1,4} 데 [\\d]{1,3}초가 걸렸다면\").findall(df[\"질문\"][i])) \n",
    "        b=(re.compile(\"[\\d]{1,3}층부터 [\\d]{1,3}층까지 [\\w]{1,4} [\\w]{1,2} 몇 초\").findall(df[\"질문\"][i]))\n",
    "        a=re.compile(\"[\\d]{1,3}\").findall(a[0])\n",
    "        b=re.compile(\"[\\d]{1,3}\").findall(b[0])\n",
    "        for j in range(0,len(a)):\n",
    "            a[j]=int(a[j])\n",
    "        for j in range(0,len(b)):\n",
    "            b[j]=int(b[j])\n",
    "        df[\"model_answer\"][i]=(a[2]/abs(a[0]-a[1]))*abs(b[0]-b[1])\n",
    "        \n",
    "        print(i,df[\"질문\"][i],df[\"model_answer\"][i])"
   ]
  },
  {
   "cell_type": "code",
   "execution_count": 577,
   "metadata": {},
   "outputs": [
    {
     "name": "stdout",
     "output_type": "stream",
     "text": [
      "18\n",
      "18 수빈이네 3학년 학생 117명이 현장학습을 갑니다. 45명씩 탄 버스 2대가 출발하고 남은 학생들은 9명씩 탈 수 있는 차에 타려고 합니다. 차는 몇 대 필요합니까?  3\n",
      "29\n",
      "29 진규네 학교 3학년 학생 135명이 현장 학습을 갑니다. 45명씩 탈 수 있는 버스가 2대 출발하고, 남은 학생들은 9명씩 탈 수 있는 승합차를 이용하였다면, 필요한 승합차는 모두 몇 대입니까?  5\n"
     ]
    }
   ],
   "source": [
    "#일부 출발하고 추가로 필요한 차랑\n",
    "for i in range(0,len(df)):\n",
    "    if (re.compile(\"[\\d]{1,3}명이 현장학습을 갑니다. [\\d]{1,3}명씩 탄 버스 [\\d]{1,3}대가 출발하고 남은 학생들은 [\\d]{1,3}명씩 탈 수 있는 차에 타려고 합니다. 차는 \").findall(df[\"질문\"][i])!=[]) or (re.compile(\"[\\d]{1,3}명이 현장 학습을 갑니다. [\\d]{1,3}명씩 탈 수 있는 버스가 [\\d]{1,3}대 출발하고, 남은 학생들은 [\\d]{1,3}명씩 탈 수 있는 승합차를 이용하였다면, \").findall(df[\"질문\"][i])!=[]):\n",
    "        print(i)\n",
    "        a=re.compile(\"[\\d]{1,3}명이 현장학습을 갑니다. [\\d]{1,3}명씩 탄 버스 [\\d]{1,3}대가 출발하고 남은 학생들은 [\\d]{1,3}명씩 탈 수 있는 차에 타려고 합니다. 차는\").findall(df[\"질문\"][i]) or re.compile(\"[\\d]{1,3}명이 현장 학습을 갑니다. [\\d]{1,3}명씩 탈 수 있는 버스가 [\\d]{1,3}대 출발하고, 남은 학생들은 [\\d]{1,3}명씩 탈 수 있는 승합차를 이용하였다면,\").findall(df[\"질문\"][i])\n",
    "        a=re.compile(\"[\\d]{1,3}\").findall(a[0])\n",
    "        for j in range(0,len(a)):\n",
    "            a[j]=int(a[j])\n",
    "        df[\"model_answer\"][i]=(a[0]-(a[1]*a[2]))//a[3]\n",
    "        if (a[0]-(a[1]*a[2]))%a[3]!=0:df[\"model_answer\"][i]=df[\"model_answer\"][i]+1\n",
    "           \n",
    "        print(i,df[\"질문\"][i],df[\"model_answer\"][i])"
   ]
  },
  {
   "cell_type": "code",
   "execution_count": 578,
   "metadata": {},
   "outputs": [
    {
     "name": "stdout",
     "output_type": "stream",
     "text": [
      "64 우리 조상들은 시기를 나타내기 위해서 24절기를 사용했습니다. 24절기란, 태양의 위치를 기준으로 일 년을 24로 나눈 것입니다. 24절기의 날짜가 거의 일정한 간격으로 떨어져 있을 때, 한 계절에는 몇 번의 절기가 들어갑니까?  6\n"
     ]
    }
   ],
   "source": [
    "#얼마나 시간이 걸리는지\n",
    "for i in range(0,len(df)):\n",
    "    if re.compile(\"1[\\w]{1,3}은 [\\d]{1,3}[\\w]{1,3}입니다\").findall(df[\"질문\"][i])!=[]:\n",
    "        a=re.compile(\"1[\\w]{1,3}은 [\\d]{1,3}[\\w]{1,3}입니다\").findall(df[\"질문\"][i])\n",
    "        a=re.compile(\"[\\d]{1,3}\").findall(a[0])\n",
    "        b=re.compile(\"[\\w]{1,3}[\\w]{1,3} ['며,몇']\").findall(df[\"질문\"][i])\n",
    "        b=re.compile(\"[\\d]{1,3}\").findall(b[0])\n",
    "        \n",
    "        df[\"model_answer\"][i]=[int(b[0])//int(a[1]),int(b[0])%int(a[1])]\n",
    "        \n",
    "    elif re.compile(\"한 계절에는 몇 번의 절기\").findall(df[\"질문\"][i])!=[]:\n",
    "        r1=['일 년','한 계절','한 시간','일 분']\n",
    "        r2=[12,3,60.60]\n",
    "        a=[]\n",
    "        for r in r1:\n",
    "            if r in df['질문'][i]:\n",
    "                a.append(r2[r1.index(r)])\n",
    "        b=re.compile(\"일 년을 24로 나눈 것\").findall(df[\"질문\"][i])\n",
    "        b=re.compile(\"[\\d]{1,3}\").findall(b[0])\n",
    "        df[\"model_answer\"][i]=int(b[0])//a[0]*a[1]\n",
    "        \n",
    "        print(i,df[\"질문\"][i],df[\"model_answer\"][i])"
   ]
  },
  {
   "cell_type": "code",
   "execution_count": 579,
   "metadata": {},
   "outputs": [
    {
     "name": "stdout",
     "output_type": "stream",
     "text": [
      "22 귤이 50개 있습니다. 이 중에서 14개는 썩어서 버렸습니다. 남은 귤을 한 봉지에 9개씩 넣으려고 합니다. 봉지는 몇 개 필요합니까?  4\n",
      "50 귤이 65개가 있습니다. 그 중에서 5개는 썩어서 버리고, 나머지를 4개씩 접시에 담았습니다. 귤이 놓인 접시는 모두 몇 개입니까?  15\n",
      "51 장난감 한 개를 만드는 데 5m의 철사가 필요합니다. 83m의 철사를 3m를 잘라내고 나머지 부분으로 장난감을 만들려고 합니다. 장난감을 몇 개 만들 수 있습니까?  16\n",
      "59 수정이네 밭에서 오이를 364개 땄습니다. 이 중에서 5개는 썩어서 버리고, 남은 오이를 한 상자에 20개씩 담아서 팔려고 합니다. 오이는 몇 상자가 되고, 몇 개가 남습니까?\r\n",
      "(               ), (               )  [17, 19]\n",
      "61 토마토 158개를 4상자에 똑같이 나누어 담으려고 합니다. 한 상자에 토마토를 몇 개씩 담을 수 있고, 몇 개가 남을까요?  [39, 2]\n",
      "70 세영이는 8개씩 6줄 있는 스티커를 한 장 샀습니다. 그중 13개는 동생에게 주고, 남은 스티커는 색종이 5장에 똑같이 나누어 붙이려고 합니다. 색종이 한 장에 스티커를 몇 개씩 붙여야 합니까?  7\n",
      "71 귤이 56개 있습니다. 이 중에서 썩은 것 2개를 버리고, 남은 귤을 6봉지에 똑같이 나누어 담으려고 합니다. 한 봉지에 몇 개씩 담으면 됩니까?  9\n",
      "72 과일 가게에 배가 43개 있습니다. 크기가 작은 배 3개는 남겨 두고 나머지는 5상자에 똑같게 나누어 담아서 포장하였습니다. 한 상자에 몇 개씩 나누어 담으면 됩니까?  8\n",
      "75 재민이는 초콜릿 50개를 가지고 있습니다. 이 중에서 8개를 먹고, 나머지를 친구 6명에게 똑같게 나누어 주려고 합니다. 친구 한 명에게 초콜릿을 몇 개씩 나누어 주어야 합니까?  7\n",
      "76 오렌지 40개를 친구 9명에게 똑같게 나누어 주었더니 4개가 남았습니다. 한 친구에게 몇 개씩 나누어 주었습니까?  4\n",
      "78 정우네 반 학생은 32명입니다. 그중에서 3명씩 6모둠은 공기놀이를 하고, 나머지 학생들은 2모둠으로 똑같이 나누어 피구를 하려고 합니다. 피구를 하는 학생은 한 모둠을 몇 명으로 하면 됩니까?  7\n",
      "82 어린이 45명이 놀이동산에 갔습니다. 이 중에서 13명은 회전목마를 타고, 남은 사람은 기차 모양의 놀이 기구 8칸에 똑같이 나누어 타려고 합니다. 한 칸에 몇 명씩 타면 됩니까?  4\n",
      "89 한 봉지에 8개씩 들어 있는 사탕을 8봉지 샀습니다. 그 중에서 한 개는 먹고, 남은 사탕을 접시 7개에 똑같게 나누어 담으려고 합니다. 한 접시에 몇 개씩 담으면 됩니까?  9\n",
      "113 참외 82개를 봉지에 똑같이 나누어 담았더니 5봉지가 되고, 2개가 남았습니다. 참외를 한 봉지에 몇 개씩 담았습니까?  16\n",
      "114 사탕 한 봉지를 뜯어서 5명이 똑같게 나누어 가졌더니 한 명이 9개씩 가지고, 4개가 남았습니다. 한 봉지에 들어 있는 사탕은 몇 개인지 구하시오.  49\n"
     ]
    }
   ],
   "source": [
    "#일부 버리고 나누기\n",
    "for i in range(0,len(df)):\n",
    "    if (re.compile(\"중\").findall(df[\"질문\"][i])!=[]):\n",
    "        if (re.compile(\"남은\").findall(df[\"질문\"][i])!=[]) or (re.compile(\"나머지\").findall(df[\"질문\"][i])!=[]):\n",
    "            a=df[\"질문\"][i].split(\".\")\n",
    "            b=re.compile(a[0]).findall(df[\"질문\"][i])\n",
    "            b=re.compile(\"[\\d]{1,4}\").findall(b[0])\n",
    "            if len(b)==2:\n",
    "                b=[int(b[0])*int(b[1])]\n",
    "            if len(b)==1:b=[int(b[0])]\n",
    "            c1=a[1].split(\"고\")\n",
    "            #print(len(a))\n",
    "            #print(c1)\n",
    "            c=re.compile(\"[\\d]{1,4}\").findall(c1[0])\n",
    "            if re.compile(\"씩\").findall(c1[0]):c=[int(c[0])*int(c[1])]\n",
    "            if (c==[]) and (re.compile(\"한 \").findall(c1[0])):c=[1]\n",
    "            \n",
    "            if len(a)==3:d=re.compile(\"[\\d]{1,4}\").findall(c1[1])\n",
    "            else:d=re.compile(\"[\\d]{1,4}\").findall(a[2])\n",
    "                \n",
    "            if d==[]:\n",
    "                d=[b[0]]\n",
    "                b=[c[0]]\n",
    "                c=[c[1]]\n",
    "            \n",
    "            #print(b)\n",
    "            #print(c) #뺄것  \n",
    "            #print(d)\n",
    "            if (re.compile(\"몇 개가 남습니까?\").findall(df[\"질문\"][i])!=[]):df[\"model_answer\"][i]=[(int(b[0])-int(c[0]))//int(d[0]),(int(b[0])-int(c[0]))%int(d[0])]\n",
    "            else: df[\"model_answer\"][i]=(int(b[0])-int(c[0]))//int(d[0])\n",
    "            print(i,df[\"질문\"][i],df[\"model_answer\"][i])\n",
    "    \n",
    "    elif (re.compile(\"잘라내고 나머지\").findall(df[\"질문\"][i])!=[]) or (re.compile(\"남겨 두고 나머지\").findall(df[\"질문\"][i])!=[]):\n",
    "        a=df[\"질문\"][i].split(\".\")\n",
    "        b=re.compile(a[0]).findall(df[\"질문\"][i])\n",
    "        b=re.compile(\"[\\d]{1,4}\").findall(b[0])\n",
    "        if len(b)==2:\n",
    "             b=[int(b[0])*int(b[1])]\n",
    "        if len(b)==1:b=[int(b[0])]\n",
    "        c1=a[1].split(\"고\")\n",
    "        #print(len(a))\n",
    "        #print(c1)\n",
    "        c=re.compile(\"[\\d]{1,4}\").findall(c1[0])\n",
    "        if re.compile(\"씩\").findall(c1[0]):c=[int(c[0])*int(c[1])]\n",
    "        if (c==[]) and (re.compile(\"한 \").findall(c1[0])):c=[1]\n",
    "        \n",
    "        if len(a)==3:d=re.compile(\"[\\d]{1,4}\").findall(c1[1])\n",
    "        else:d=re.compile(\"[\\d]{1,4}\").findall(a[2])\n",
    "            \n",
    "        if d==[]:\n",
    "                d=[b[0]]\n",
    "                b=[c[0]]\n",
    "                c=[c[1]]\n",
    "         \n",
    "        #print(b)\n",
    "        #print(c) #뺄것  \n",
    "        #print(d)\n",
    "        \n",
    "        if (re.compile(\"몇 개가 남습니까?\").findall(df[\"질문\"][i])!=[]):df[\"model_answer\"][i]=[(int(b[0])-int(c[0]))//int(d[0]),(int(b[0])-int(c[0]))%int(d[0])]\n",
    "        else: df[\"model_answer\"][i]=(int(b[0])-int(c[0]))//int(d[0])\n",
    "        print(i,df[\"질문\"][i],df[\"model_answer\"][i])\n",
    "            \n",
    "    elif (re.compile(\"똑같이 나누어\").findall(df[\"질문\"][i])!=[]) or (re.compile(\"똑같게 나누어\").findall(df[\"질문\"][i])!=[]):\n",
    "        if (re.compile(\"남았습니다\").findall(df[\"질문\"][i])!=[]) or (re.compile(\"남을까요\").findall(df[\"질문\"][i])!=[]):\n",
    "            a=re.compile(\"[\\d]{1,4}\").findall(df[\"질문\"][i])\n",
    "            for j in range(0,len(a)):\n",
    "                a[j]=int(a[j])\n",
    "            if len(a)==2:df[\"model_answer\"][i]=[max(a)//min(a),max(a)%min(a)]\n",
    "            else:    \n",
    "                b1=df[\"질문\"][i].split(\"를\")\n",
    "                b2=re.compile(\"[\\d]{1,4}\").findall(b1[0])\n",
    "                b3=re.compile(\"[\\d]{1,4}\").findall(b1[1])\n",
    "                if b2==[]:\n",
    "                    b2=b2+re.compile(\"[\\d]{1,4}\").findall(b1[1].split(\",\")[0])\n",
    "                    if len(b2)==2:\n",
    "                        b2=[int(b2[0])*int(b2[1])]\n",
    "                        df[\"model_answer\"][i] =(int(b2[0])+int(b3[-1]))\n",
    "                else: df[\"model_answer\"][i] = (int(b2[0])-int(b3[1]))//int(b3[0])\n",
    "            print(i,df[\"질문\"][i],df[\"model_answer\"][i])\n",
    "    "
   ]
  },
  {
   "cell_type": "code",
   "execution_count": 580,
   "metadata": {},
   "outputs": [
    {
     "name": "stdout",
     "output_type": "stream",
     "text": [
      "111 예림이는 색종이를 사용하여 종이학 93마리를 접었습니다. 이 종이학을 7명의 친구들에게 남김없이 똑같이 나누어 주려고 했더니 종이학 몇 마리가 모자랐습니다. 종이학은 적어도 몇 마리 더 필요한지 구하세요.  5\n",
      "115 방울 토마토 88개를 6명에게 똑같이 나누어 주려고 합니다. 남는 것이 없도록 나누어 주려면, 방울 토마토는 적어도 몇 개가 더 있어야 합니까?  2\n",
      "119 은민이네 모둠은 남학생이 4명, 여학생이 3명입니다. 초콜릿 85개를 학생들에게 남김없이 똑같이 나누어 주려면, 적어도 몇 개가 더 있어야 합니까?\r\n",
      "(          )  6\n"
     ]
    }
   ],
   "source": [
    "#남김없이 나눠주기\n",
    "for i in range(0,len(df)):\n",
    "    if (re.compile(\"똑같이 나누어\").findall(df[\"질문\"][i])!=[]): \n",
    "        if (re.compile(\"남는 것이 없도록\").findall(df[\"질문\"][i])!=[]) or (re.compile(\"남김없이\").findall(df[\"질문\"][i])!=[]):\n",
    "            a=re.compile(\"[\\d]{1,2}\").findall(df[\"질문\"][i])\n",
    "            if len(a)==3:\n",
    "                k=a[0]\n",
    "                for j in range(1,len(a)):\n",
    "                    if k<a[j]:k=a[j]\n",
    "                del a[a.index(k)]\n",
    "                k2=int(a[0])+int(a[1])\n",
    "                a=[k1,str(k2)]\n",
    "\n",
    "            if (int(max(a)))%(int(min(a)))!=0:\n",
    "                df[\"model_answer\"][i]=int(min(a))-(int(max(a))%int(min(a)))\n",
    "            print(i,df[\"질문\"][i],df[\"model_answer\"][i])"
   ]
  },
  {
   "cell_type": "code",
   "execution_count": 581,
   "metadata": {},
   "outputs": [
    {
     "name": "stdout",
     "output_type": "stream",
     "text": [
      "107 장미, 백합, 국화를 모두 합해 27송이를 샀습니다. 똑같은 개수씩 샀다면 각각 몇 송이씩 샀습니까?  9\n",
      "108 사탕 36개를 상수, 영희, 가희, 명수가 똑같게 나누어 먹었습니다. 명수는 몇 개의 사탕을 먹었는지 식을 만들어 답을 구하시오.  9\n",
      "109 귤 27개를 진호, 경진, 미혜가 똑같게 나누어 먹었습니다. 진호는 몇 개의 귤을 먹었는지 식을 만들어 답을 구하시오.  9\n"
     ]
    }
   ],
   "source": [
    "#수를 세고 전체에서 나누기\n",
    "for i in range(0,len(df)):\n",
    "    if (re.compile(\"가 똑같게 나누어\").findall(df[\"질문\"][i])!=[]) or (re.compile(\"모두 합해\").findall(df[\"질문\"][i])!=[]):\n",
    "        a=df[\"질문\"][i].split(\".\")\n",
    "        a=a[0].split(\",\")\n",
    "        b=re.compile(\"[\\d]{1,5}\").findall(df[\"질문\"][i])\n",
    "        if len(b)==1:df[\"model_answer\"][i]=int(b[0])//len(a)\n",
    "        print(i,df[\"질문\"][i],df[\"model_answer\"][i])"
   ]
  },
  {
   "cell_type": "code",
   "execution_count": 582,
   "metadata": {},
   "outputs": [
    {
     "name": "stdout",
     "output_type": "stream",
     "text": [
      "103 바나나 36개를 수아와 친구 5명에게 똑같이 나누어 주었습니다. 수아는 하루에 바나나를 2개씩 먹는다고 합니다. 바나나를 며칠 동안 먹을 수 있습니까?  3.0\n",
      "105 민호와 친구 5명은 색종이 48장를 똑같이 나누어 가졌습니다. 민호는 이 색종이를 하루에 2장씩 사용하려고 합니다. 며칠 동안 사용할 수 있습니까?  4.0\n"
     ]
    }
   ],
   "source": [
    "#누구와 친구가 일정수로 나눠서 하루에 일정개수 사용하면 며칠간 사용가능?\n",
    "for i in range(0,len(df)):\n",
    "    if (re.compile(\"[\\w]{2,4}와 친구 [\\d]{1,2}명\").findall(df[\"질문\"][i])!=[]):\n",
    "        a1=re.compile(\"[\\w]{2,4}와 친구 [\\d]{1,2}명\").findall(df[\"질문\"][i])\n",
    "        a=re.compile(\"[\\d]{1,2}\").findall(a1[0])\n",
    "        a=int(a[0])+1\n",
    "        b1=re.compile(\"하루에 [\\w]{2,4}['를,을'] [\\d]{1,2}[\\w]{1,4}씩\").findall(df[\"질문\"][i]) or re.compile(\"하루에 [\\d]{1,2}[\\w]{1,4}씩\").findall(df[\"질문\"][i])\n",
    "        \n",
    "        b=re.compile(\"[\\d]{1,2}\").findall(b1[0])\n",
    "        b=int(b[0])\n",
    "        c1=re.compile(\"[\\d]{1,2}\").findall(df[\"질문\"][i])\n",
    "        for j in range(0,len(c1)):\n",
    "            c1[j]=int(c1[j])\n",
    "        c=c1[0]\n",
    "        for j in range(1,len(c1)):\n",
    "            if c<c1[j]:c=c1[j]\n",
    "        df[\"model_answer\"][i]=(c/a)/b\n",
    "        print(i,df[\"질문\"][i],df[\"model_answer\"][i])"
   ]
  },
  {
   "cell_type": "code",
   "execution_count": 583,
   "metadata": {},
   "outputs": [
    {
     "name": "stdout",
     "output_type": "stream",
     "text": [
      "21 벽돌이 72장 있습니다. 이 벽돌을 한 번에 9장씩 나르고 있습니다. 한 번 나르는 데 3분 걸린다면, 모두 나르는 데에 걸리는 시간은 몇 분입니까?  24.0\n"
     ]
    }
   ],
   "source": [
    "#나르는데 걸리는 시간 구하기\n",
    "for i in range(0,len(df)):\n",
    "    if (re.compile(\"한 번 나르는 데 [\\d]{1,2}분 걸린다면, 모두 나르는 데에 걸리는 시간\").findall(df[\"질문\"][i])!=[]):\n",
    "        a1=re.compile(\"한 번에 [\\d]{1,2}[\\w]{1,4}씩\").findall(df[\"질문\"][i])\n",
    "        a=int(re.compile(\"[\\d]{1,2}\").findall(a1[0])[0]) #한번에 몇개씩\n",
    "        b1=re.compile(\"한 번 나르는 데 [\\d]{1,2}분 걸린다면, 모두 나르는 데에 걸리는 시간\").findall(df[\"질문\"][i])\n",
    "        b=int(re.compile(\"[\\d]{1,2}\").findall(b1[0])[0]) #나르는데 걸리는 시간\n",
    "        c1=re.compile(\"[\\d]{1,2}\").findall(df[\"질문\"][i])\n",
    "        for j in range(0,len(c1)):\n",
    "            c1[j]=int(c1[j])\n",
    "        c=c1[0]\n",
    "        for j in range(1,len(c1)):\n",
    "            if c<c1[j]:c=c1[j]\n",
    "        df[\"model_answer\"][i]=(c/a)*b\n",
    "        print(i,df[\"질문\"][i],df[\"model_answer\"][i])"
   ]
  },
  {
   "cell_type": "code",
   "execution_count": 584,
   "metadata": {},
   "outputs": [
    {
     "name": "stdout",
     "output_type": "stream",
     "text": [
      "55 13명이 배추를 68포기씩 뽑았다. 뽑은 배추를 25포기씩 묶어서 한 묶음에 3만 원에 팔았다. 묶음으로 포장한 배추를 모두 팔았다면, 배추를 판매한 금액은 모두 얼마이고, 남은 배추는 몇 포기인가?\r\n",
      "(               ), (               )  [1050000, 9]\n"
     ]
    }
   ],
   "source": [
    "#배추 뽑고 팔기\n",
    "for i in range(0,len(df)):\n",
    "    if (re.compile(\"판매한 금액은 모두 얼마\").findall(df[\"질문\"][i])!=[]) and (re.compile(\"남은\").findall(df[\"질문\"][i])!=[]):\n",
    "        a=df[\"질문\"][i].split(\".\")\n",
    "        b=re.compile(\"[\\d]{1,2}\").findall(a[0])\n",
    "        if re.compile(\"씩\").findall(a[0])!=[] and len(b)==2:\n",
    "            b=int(b[0])*int(b[1]) #총수\n",
    "        if re.compile(\"한 묶음에 [\\d]{1,4}만 원\").findall(a[1])!=[] and re.compile(\"[\\d]{1,2}[\\w]{1,2}씩 묶어서\").findall(a[1])!=[]:\n",
    "            c1=re.compile(\"한 묶음에 [\\d]{1,4}만 원\").findall(a[1])\n",
    "            c1=re.compile(\"[\\d]{1,2}\").findall(c1[0])\n",
    "            c2=re.compile(\"[\\d]{1,2}[\\w]{1,2}씩 묶어서\").findall(a[1])\n",
    "            c2=re.compile(\"[\\d]{1,2}\").findall(c2[0])\n",
    "        df[\"model_answer\"][i]=[30000*(b//int(c2[0])),b%int(c2[0])]\n",
    "        print(i,df[\"질문\"][i],df[\"model_answer\"][i])"
   ]
  },
  {
   "cell_type": "code",
   "execution_count": 585,
   "metadata": {},
   "outputs": [
    {
     "name": "stdout",
     "output_type": "stream",
     "text": [
      "52 운동장에 학생들이 한 줄에 21명씩 30줄로 서 있습니다. 이 학생들 중 36명이 교실에 들어가고, 교실에 있던 54명이 운동장으로 나왔습니다. 운동장에 나와 있는 학생들을 한 줄에 18명씩 세우면 몇 줄이 되겠습니까?  36\n"
     ]
    }
   ],
   "source": [
    "#새로운 사람 포함하여 운동장에 줄 세우기\n",
    "for i in range(0,len(df)):\n",
    "    if (re.compile(\"교실\").findall(df[\"질문\"][i])!=[]) and (re.compile(\"운동장\").findall(df[\"질문\"][i])!=[]):\n",
    "        a=re.compile(\"한 줄에 [\\d]{1,2}[\\w]{1,4}씩 [\\d]{1,4}줄로 서 있습니다\").findall(df[\"질문\"][i])\n",
    "        a=re.compile(\"[\\d]{1,2}\").findall(a[0])\n",
    "        a=int(a[0])*int(a[1])\n",
    "        b1=re.compile(\"중 [\\d]{1,2}명이 교실에 들어가고\").findall(df[\"질문\"][i]) #뺄 것\n",
    "        b1=re.compile(\"[\\d]{1,2}\").findall(b1[0])\n",
    "        b2=re.compile(\"교실에 있던 [\\d]{1,2}명이 운동장으로\").findall(df[\"질문\"][i]) #더할 것\n",
    "        b2=re.compile(\"[\\d]{1,2}\").findall(b2[0])\n",
    "        c=re.compile(\"한 줄에 [\\d]{1,2}명씩 세우면 몇 줄\").findall(df[\"질문\"][i])\n",
    "        c=re.compile(\"[\\d]{1,2}\").findall(c[0])\n",
    "        df[\"model_answer\"][i]=(a-int(b1[0])+int(b2[0]))//int(c[0])\n",
    "        print(i,df[\"질문\"][i],df[\"model_answer\"][i])"
   ]
  },
  {
   "cell_type": "code",
   "execution_count": 586,
   "metadata": {},
   "outputs": [
    {
     "name": "stdout",
     "output_type": "stream",
     "text": [
      "13 정현이네 반 학생은 32명입니다. 과학실에서 4명씩 한 모둠이 되어 실험을 하려고 합니다. 알코올램프를 한 모둠에 2개씩 나누어 주려면, 알코올램프는 몇 개 필요합니까?  16\n"
     ]
    }
   ],
   "source": [
    "#모둠으로 나눈 후 몇개씩 주기\n",
    "for i in range(0,len(df)):\n",
    "    if (re.compile(\"한 모둠에 [\\d]{1,2}개씩 나누어 주려면\").findall(df[\"질문\"][i])!=[]) :\n",
    "        c1=re.compile(\"[\\d]{1,2}\").findall(df[\"질문\"][i])\n",
    "        for j in range(0,len(c1)):\n",
    "            c1[j]=int(c1[j])\n",
    "        c=c1[0]\n",
    "        for j in range(1,len(c1)):\n",
    "            if c<c1[j]:c=c1[j]#총 인원\n",
    "        a1=re.compile(\"[\\d]{1,2}명씩 한 모둠\").findall(df[\"질문\"][i])\n",
    "        a=re.compile(\"[\\d]{1,2}\").findall(a1[0])\n",
    "        b1=re.compile(\"한 모둠에 [\\d]{1,2}[\\w]{1,2}씩\").findall(df[\"질문\"][i])\n",
    "        b=re.compile(\"[\\d]{1,2}\").findall(b1[0])\n",
    "        df[\"model_answer\"][i]=(c//int(a[0]))*int(b[0])\n",
    "        print(i,df[\"질문\"][i],df[\"model_answer\"][i])"
   ]
  },
  {
   "cell_type": "code",
   "execution_count": 587,
   "metadata": {},
   "outputs": [
    {
     "name": "stdout",
     "output_type": "stream",
     "text": [
      "43 태우네 반 학생 45명은 체육 시간에 짝짓기놀이를 하였습니다. 6명씩 짝짓기를 하여 남은 사람을 뺀 다음, 다시 4명씩 짝짓기를 하여 남은 사람을 뺐습니다. 빠진 사람은 모두 몇 명입니까?  5\n"
     ]
    }
   ],
   "source": [
    "#몇명모여\n",
    "for i in range(0,len(df)):\n",
    "    if (re.compile(\"남은 사람을 뺀 다음, 다시\").findall(df[\"질문\"][i])!=[]) and (re.compile(\"빠진 사람은 모두 몇 명\").findall(df[\"질문\"][i])!=[]):\n",
    "        c1=re.compile(\"[\\d]{1,2}\").findall(df[\"질문\"][i])\n",
    "        for j in range(0,len(c1)):\n",
    "            c1[j]=int(c1[j])\n",
    "        c=c1[0]\n",
    "        for j in range(1,len(c1)):\n",
    "            if c<c1[j]:c=c1[j]#총 인원\n",
    "        bb=df[\"질문\"][i].split(\"뺀 다음, 다시\")\n",
    "        b1=re.compile(\"[\\d]{1,2}명씩\").findall(bb[0])\n",
    "        b1=re.compile(\"[\\d]{1,2}\").findall(b1[0])\n",
    "        b2=re.compile(\"[\\d]{1,2}명씩\").findall(bb[1])\n",
    "        b2=re.compile(\"[\\d]{1,2}\").findall(b2[0])\n",
    "        df[\"model_answer\"][i]=(c%int(b1[0]))+((c//int(b1[0]))*int(b1[0]))%int(b2[0])\n",
    "        print(i,df[\"질문\"][i],df[\"model_answer\"][i])"
   ]
  },
  {
   "cell_type": "code",
   "execution_count": 588,
   "metadata": {},
   "outputs": [
    {
     "name": "stdout",
     "output_type": "stream",
     "text": [
      "80 준희네 모둠에서는 딱지 40장을 5명이 똑같게 나누어 가집니다. 태우네 모둠에서는 딱지 42장을 6명이 똑같게 나누어 가집니다. 어느 모둠의 학생이 딱지를 몇 장 더 많이 가지게 됩니까?  [1.0]\n",
      "84 진영이는 2묶음으로 나누어 담겨 있는 색종이를 16장 가지고 있고, 정현이는 4묶음으로 나누어 담겨 있는 색종이를 28장 가지고 있습니다. 한 묶음에 있는 색종이의 수는 누구의 것이 더 많습니까?  [1.0]\n"
     ]
    }
   ],
   "source": [
    "#  두 그룹 각각 나눈 몫 비교 후 그의 차이(완료) 준희 / 진영\n",
    "for i in range(0, len(df)):\n",
    "    a=re.compile(\"[\\d]{1,4}\").findall(df[\"질문\"][i])\n",
    "    if (re.compile(\"나누어 ['가집니다','담겨']\").findall(df[\"질문\"][i])!=[]):\n",
    "         if re.compile(\"모둠에서는 딱지 [\\d]{1,4}장을\").findall(df[\"질문\"][i])!=[]:\n",
    "            if (int(a[0])>int(a[1])) & (int(a[2])>int(a[3])):\n",
    "                x = int(a[0])/int(a[1])\n",
    "                y = int(a[2])/int(a[3])\n",
    "                z = x-y\n",
    "                 \n",
    "                df[\"model\"][i] = [int(a[0])/int(a[1]), int(a[2])/int(a[3])]\n",
    "                df[\"model_answer\"][i] = [x-y]\n",
    "                print(i,df[\"질문\"][i],df[\"model_answer\"][i])\n",
    "\n",
    "    if re.compile(\"[\\d]{1,4}묶음으로 나누어\").findall(df[\"질문\"][i])!=[]:\n",
    "        if re.compile(\"색종이를 [\\d]{1,4}[\\w]]\"):\n",
    "            if(int(a[1])>int(a[0])) & (int(a[3])>int(a[2])):\n",
    "\n",
    "                x1 = int(a[1])/int(a[0])\n",
    "                y1 = int(a[3])/int(a[2])\n",
    "                z1 = x1-y1\n",
    "\n",
    "                df[\"model\"][i] = [int(a[1])/int(a[0]), int(a[3])/int(a[2])]\n",
    "                df[\"model_answer\"][i] = [x1-y1]\n",
    "                print(i,df[\"질문\"][i],df[\"model_answer\"][i])\n"
   ]
  },
  {
   "cell_type": "code",
   "execution_count": 589,
   "metadata": {},
   "outputs": [
    {
     "name": "stdout",
     "output_type": "stream",
     "text": [
      "33 파란색 공 15개 있습니다. 빨간색 공은 파란색 공보다 10개 더 많이 있습니다. 빨간색 공과 파란색 공을 섞어서 5상자에 똑같게 나누어 담으려고 한다면 한 상자에 몇 개씩 담을 수 있습니까?  [8.0]\n"
     ]
    }
   ],
   "source": [
    "## 파란색 공 빨간색 공 상자에 똑같게 나누어 \n",
    "for i in range(0, len(df)):\n",
    "    a = re.compile(\"[\\d]{1,4}\").findall(df['질문'][i])\n",
    "    if(re.compile(\"[\\w]색 공\")).findall(df['질문'][i])!=[]:\n",
    "        if int(a[0])>int(a[1]):\n",
    "            x = (int(a[0])+int(a[1]))+int(a[0])\n",
    "            y = x / int(a[2])\n",
    "            df[\"model\"][i] = [(int(a[0])+int(a[1]))+int(a[0])]\n",
    "            df[\"model_answer\"][i] = [x / int(a[2])]\n",
    "            print(i,df[\"질문\"][i],df[\"model_answer\"][i])"
   ]
  },
  {
   "cell_type": "code",
   "execution_count": 590,
   "metadata": {},
   "outputs": [
    {
     "name": "stdout",
     "output_type": "stream",
     "text": [
      "27 지수는 대추를 59개 땄습니다. 이것을 한 명에게 8개씩 나누어 주었더니 3개가 남았습니다. 몇 명에게 나누어 주었습니까?  [7]\n",
      "35 혜수네 반 학생 45명이 소풍을 가려고 줄을 섰습니다. 한 줄에 몇 명씩 줄을 섰더니 11줄이 되고, 1명이 남았습니다. 한 줄에 몇 명씩 섰습니까?  [4]\n",
      "36 사탕 93개를 한 명에게 6개씩 나누어 주었더니 3개가 남았습니다. 사탕을 모두 몇 명에게 나누어 주었습니까?  [15]\n",
      "42 지우개 35개를 한 명에게 4개씩 똑같이 나눠 주었더니 3개가 남았습니다. 지우개를 받은 학생은 몇 명입니까?  [8]\n",
      "76 오렌지 40개를 친구 9명에게 똑같게 나누어 주었더니 4개가 남았습니다. 한 친구에게 몇 개씩 나누어 주었습니까?  [4]\n",
      "113 참외 82개를 봉지에 똑같이 나누어 담았더니 5봉지가 되고, 2개가 남았습니다. 참외를 한 봉지에 몇 개씩 담았습니까?  [16]\n"
     ]
    }
   ],
   "source": [
    "# ## 한 명에게 몇개씩 나누어 주었더니  남았습니다\n",
    "for i in range(0, len(df)):\n",
    "    a = re.compile(\"[\\d]{1,4}\").findall(df['질문'][i])\n",
    "    if(re.compile(\"[\\d][\\w]['가','이'] 남았습니다\").findall(df['질문'][i])!=[]) and ((re.compile(\"다시\")).findall(df['질문'][i])==[]):\n",
    "        if int(a[0]) > int(a[1]):\n",
    "            df[\"model\"][i] = [int(a[0]),\"/\",int(a[1])]\n",
    "            df[\"model_answer\"][i] = [int(int(a[0])/int(a[1]))]\n",
    "            print(i,df[\"질문\"][i],df[\"model_answer\"][i])\n",
    "            "
   ]
  },
  {
   "cell_type": "code",
   "execution_count": 591,
   "metadata": {},
   "outputs": [
    {
     "name": "stdout",
     "output_type": "stream",
     "text": [
      "28 효진이네 학교 3학년 1반의 남학생은 15명이고, 2반의 남학생은 17명입니다. 두 학급의 남학생들을 4명씩 한 조로 만들려고 합니다. 모두 몇 조가 됩니까?  8.0\n",
      "34 3학년 4반은 남자가 17명, 여자가 25명입니다. 한 상자에 5개씩 들어 있는 지우개를 이 반 학생들에게 모두 한 개씩 나누어주려고 합니다. 지우개는 적어도 몇 상자가 필요합니까?  9\n",
      "39 고구마를 아버지는 35개, 철수는 27개 캤습니다. 이 고구마를 한 상자에 5개씩 담으면, 몇 상자가 되고 고구마는 몇 개가 남겠습니까?\n",
      "(          ), (          )  [12, 2]\n",
      "94 민우네 반은 남학생이 21명, 여학생이 19명입니다. 이 학생들이 과학실에 있는 책상 8개에 똑같이 나누어 앉으려고 합니다. 책상 한 개에 몇 명씩 앉으면 됩니까?  5.0\n"
     ]
    }
   ],
   "source": [
    "#  형 변환을 해야함\n",
    "for i in range(0, len(df)):\n",
    "    a = re.compile(\"[\\d]{1,4}\").findall(df['질문'][i])\n",
    "    if(re.compile(\"두 학급의 남학생들을\")).findall(df['질문'][i])!=[] or (re.compile(\"고구마는 몇 개가 남겠습니까\").findall(df['질문'][i])!=[]) or (re.compile(\"지우개는 적어도\").findall(df['질문'][i])!=[]) or (re.compile(\"민우네\").findall(df['질문'][i])!=[]):\n",
    "        b = df[\"질문\"][i].split('.')\n",
    "        if(re.compile(\"[\\d]{1,3}명\").findall(b[0])!=[]) or (re.compile(\"[\\d]{1,3}개\").findall(b[0])!=[]) :\n",
    "            b1= (re.compile(\"[\\d]{1,3}명\").findall(b[0]) or re.compile(\"[\\d]{1,3}개\").findall(b[0]))\n",
    "            a1=[]\n",
    "            for j in range(0,len(b1)):\n",
    "                a1.append(re.compile(\"[\\d]{1,4}\").findall(b1[j])[0])\n",
    "        a1_front = int(a1[0]) + int(a1[1])\n",
    "          \n",
    "        if re.compile(\"[\\d]{1,3}\").findall(b[1])!=[]:\n",
    "            b2 = (re.compile(\"[\\d]{1,3}\").findall(b[1]))\n",
    "            b2 = int(b2[0])\n",
    "            \n",
    "\n",
    "            df[\"model\"][i] = [a1_front, \"/\", b2]\n",
    "            if re.compile(\"적어도 몇\").findall(df[\"질문\"][i])!=[]:\n",
    "                if a1_front % b2 !=0:df[\"model_answer\"][i] = (a1_front // b2) +1\n",
    "            elif re.compile(\"남겠습니까\").findall(df[\"질문\"][i])!=[]:\n",
    "                df[\"model_answer\"][i] = [a1_front // b2, a1_front % b2]\n",
    "            else: df[\"model_answer\"][i] = a1_front / b2\n",
    "            \n",
    "            print(i,df[\"질문\"][i],df[\"model_answer\"][i])"
   ]
  },
  {
   "cell_type": "code",
   "execution_count": 592,
   "metadata": {},
   "outputs": [
    {
     "name": "stdout",
     "output_type": "stream",
     "text": [
      "11 시영이네 집에 있는 강아지의 다리를 세어 보니 모두 20개였습니다. 시영이네 집에 있는 강아지는 몇 마리입니까?  5\n",
      "17 오리 7마리와 염소 몇 마리가 한 울타리에 있습니다. 오리와 염소의 다리 수를 세어 보니 모두 50개입니다. 염소는 몇 마리 있습니까?  9\n",
      "19 마당에 강아지, 닭, 염소가 있습니다. 동물들의 다리 수를 세어 보니 모두 70개였습니다. 강아지는 7마리, 닭은 9마리라면, 염소는 몇 마리입니까?  6\n",
      "20 진호네 농장에서 염소와 닭을 기르고 있습니다. 염소와 닭의 다리를 세었더니 모두 50개였습니다. 닭이 9마리라면 염소는 몇 마리입니까?  8\n",
      "48 아름이네 집에서 기르고 있는 닭, 토끼, 염소의 다리 수를 세어 보니 모두 170개였습니다. 토끼와 염소가 모두 27마리라면, 아름이네 집에서 기르고 있는 닭은 몇 마리입니까?  31\n"
     ]
    }
   ],
   "source": [
    "for i in range(0,len(df)):\n",
    "    if (re.compile(\"다리를 세었더니 모두 [\\d]{1,4}개\").findall(df[\"질문\"][i])) or (re.compile(\"다리를 세어 보니 모두 [\\d]{1,4}개\").findall(df[\"질문\"][i])) or (re.compile(\"다리 수를 세어 보니 모두 [\\d]{1,4}개\").findall(df[\"질문\"][i])) :\n",
    "        a1=(re.compile(\"다리를 세었더니 모두 [\\d]{1,4}개\").findall(df[\"질문\"][i])) or (re.compile(\"다리를 세어 보니 모두 [\\d]{1,4}개\").findall(df[\"질문\"][i])) or (re.compile(\"다리 수를 세어 보니 모두 [\\d]{1,4}개\").findall(df[\"질문\"][i])) \n",
    "        a=int(re.compile(\"[\\d]{1,4}\").findall(a1[0])[0]) #총 다리수\n",
    "        r1=['문어가','강아지가','오리가','염소가','닭이','토끼가','문어는','강아지는','오리는','염소는','닭은','토끼는','문어','강아지','오리','염소','닭','토끼','문어의','강아지의','오리의','염소의','닭의','토끼의']\n",
    "        r2=[8,4,2,4,2,4,8,4,2,4,2,4,8,4,2,4,2,4,8,4,2,4,2,4]\n",
    "        b=[]\n",
    "        if re.compile(\"[\\w]{1,4} [\\d]{1,3}마리\").findall(df[\"질문\"][i])!=[]:\n",
    "            b=re.compile(\"[\\w]{1,4} [\\d]{1,3}마리\").findall(df[\"질문\"][i])\n",
    "        if re.compile(\"[\\w]{1,4} [\\w]{1,4} 모두 [\\d]{1,3}마리라면\").findall(df[\"질문\"][i])!=[]:\n",
    "            b=re.compile(\"[\\w]{1,4} 모두 [\\d]{1,3}마리라면\").findall(df[\"질문\"][i])\n",
    "        c=[] #기존동물 다리수\n",
    "        for j in range(0,len(b)):\n",
    "            if re.compile(\"[\\w]{1,4}\").findall(b[j])[0] in r1:\n",
    "                c.append(r2[r1.index(re.compile(\"[\\w]{1,4}\").findall(b[j])[0])])\n",
    "            b[j]=int(re.compile(\"[\\d]{1,3}\").findall(b[j])[0]) # 기존 동물수\n",
    "               \n",
    "                \n",
    "        if re.compile(\"[\\w]{1,4} 몇 마리\").findall(df[\"질문\"][i])!=[]:\n",
    "            d=re.compile(\"[\\w]{1,4} 몇 마리\").findall(df[\"질문\"][i])\n",
    "            d=[r2[r1.index(re.compile(\"[\\w]{1,4}\").findall(d[0])[0])]] #구하고 싶은 동물 다리수\n",
    "        \n",
    "        if b==[]: df[\"model_answer\"][i]=a//d[0]\n",
    "        else:\n",
    "            for k in range(0,len(b)):\n",
    "                a=a-b[k]*c[k]\n",
    "            df[\"model_answer\"][i]=a//d[0]\n",
    "        print(i,df[\"질문\"][i],df[\"model_answer\"][i])"
   ]
  },
  {
   "cell_type": "code",
   "execution_count": 593,
   "metadata": {},
   "outputs": [
    {
     "name": "stdout",
     "output_type": "stream",
     "text": [
      "14 주차장에 승용차와 오토바이가 주차되어 있습니다. 승용차와 오토바이의 바퀴 수를 세었더니 모두 44개였습니다. 오토바이가 4대라면 승용차는 몇 대입니까?  9\n",
      "15 공원에 세발자전거와 두발자전거가 있습니다. 자전거의 바퀴 수를 세었더니 모두 33개입니다. 세발자전거가 7대라면 놀이터에 있는 두발자전거는 몇 대입니까?  6\n"
     ]
    }
   ],
   "source": [
    "for i in range(0,len(df)):\n",
    "    if (re.compile(\"바퀴 수를 세었더니\").findall(df[\"질문\"][i])):\n",
    "            r1=[\"오토바이\",\"오토바이는\",\"오토바이가\",\"승용차\",'자동차',\"승용차는\",'자동차는', '승용차가','자동차가','세발자전거','세발자전거가','두발자전거','세발자전거는','두발자전거는']\n",
    "            r2=[2,2,2,4,4,4,4,4,4,3,3,2,3,2]\n",
    "            a=re.compile(\"바퀴 수를 세었더니 모두 [\\d]{1,2}개\").findall(df[\"질문\"][i])\n",
    "            a=re.compile(\"[\\d]{1,2}\").findall(a[0])#총 바퀴수\n",
    "            b=re.compile(\"[\\w]{1,10} [\\d]{1,2}대\").findall(df[\"질문\"][i]) \n",
    "            c1=[]\n",
    "            c2=[]\n",
    "            for j in range(0,len(b)):\n",
    "                d1=re.compile(\"[\\d]{1,2}대\").findall(b[j])\n",
    "                c1.append(int(d1[0][0]))\n",
    "                d2=re.compile(\"[\\w]{1,10}\").findall(b[j])\n",
    "                c2.append(r2[r1.index(d2[0])])\n",
    "            c=c1[0]*c2[0] # 주어진 총 바퀴개수\n",
    "            d=re.compile(\"[\\w]{1,6} 몇 대\").findall(df[\"질문\"][i])\n",
    "            d=re.compile(\"[\\w]{1,6}\").findall(d[0])\n",
    "            d=r2[r1.index(d[0])] #구할것의 바퀴수\n",
    "            \n",
    "            df['model_answer'][i]=(int(a[0])-c)//d\n",
    "            print(i,df['질문'][i],df['model_answer'][i])"
   ]
  },
  {
   "cell_type": "code",
   "execution_count": 594,
   "metadata": {},
   "outputs": [
    {
     "name": "stdout",
     "output_type": "stream",
     "text": [
      "7 다음 그림과 같이 가로가 63cm이고, 세로가 49cm인 종이가 있습니다. 이 종이를 남김없이 잘라 한 변의 길이가 7cm인 정사각형을 만들려고 합니다. 한 변의 길이가 7cm인 정사각형은 모두 몇 장 만들 수 있습니까?  63\n",
      "9 영미네 호두과자 가게에서 한 변의 길이가 4cm인 정사각형 모양의 호두과자를 만들었습니다. 가로 20cm, 세로 18cm인 직사각형 모양의 상자에 담아서 포장하려고 할 때, 호두과자를 모두 몇 개까지 담을 수 있습니까? (단, 호두과자를 겹쳐서 쌓지 않습니다.)  20\n",
      "69 64cm의 철사를 남김없이 잘라 정사각형 8개를 만들려고 합니다. 만든 정사각형의 한 변의 길이는 몇 cm입니까?  2\n",
      "99 길이가 28cm인 철사로 가장 큰 정사각형을 만들려고 합니다. 한 변의 길이를 몇 cm로 해야 합니까?  7\n"
     ]
    }
   ],
   "source": [
    "for i in range(0,len(df)):\n",
    "    if (re.compile(\"정사각형\").findall(df[\"질문\"][i])):\n",
    "        if (re.compile(\"가로가 [\\d]{1,3}[\\w]{1,10}, 세로가 [\\d]{1,3}[\\w]{1,10}\").findall(df[\"질문\"][i])) or (re.compile(\"가로 [\\d]{1,3}[\\w]{1,10}, 세로 [\\d]{1,3}[\\w]{1,10}\").findall(df[\"질문\"][i])):\n",
    "            a1=re.compile(\"가로가 [\\d]{1,3}[\\w]{1,10}, 세로가 [\\d]{1,3}[\\w]{1,10}\").findall(df[\"질문\"][i]) or (re.compile(\"가로 [\\d]{1,3}[\\w]{1,10}, 세로 [\\d]{1,3}[\\w]{1,10}\").findall(df[\"질문\"][i]))\n",
    "            a=re.compile(\"[\\d]{1,3}\").findall(a1[0])\n",
    "            b1=re.compile(\"한 변의 길이가 [\\d]{1,3}[\\w]{1,10}\").findall(df[\"질문\"][i])\n",
    "            b=re.compile(\"[\\d]{1,3}\").findall(b1[0])\n",
    "            df['model_answer'][i]=(int(a[0])//int(b[0]))*(int(a[1])//int(b[0]))\n",
    "            print(i,df['질문'][i],df['model_answer'][i])\n",
    "            \n",
    "        elif (re.compile(\"철사\").findall(df[\"질문\"][i])) and (re.compile(\"한 변의 길이\").findall(df[\"질문\"][i])): \n",
    "            a=(re.compile(\"[\\d]{1,3}\").findall(df[\"질문\"][i]))\n",
    "            if len(a)==2:\n",
    "                if int(a[0])>int(a[1]):df['model_answer'][i]=(int(a[0])//int(a[1]))//4\n",
    "                elif int(a[1])>int(a[0]):df['model_answer'][i]=(int(a[1])//int(a[0]))//4\n",
    "                print(i,df['질문'][i],df['model_answer'][i])\n",
    "            elif len(a)==1:\n",
    "                df['model_answer'][i]=int(a[0])//4\n",
    "                print(i,df['질문'][i],df['model_answer'][i])\n",
    "                \n",
    "   \n",
    "                "
   ]
  },
  {
   "cell_type": "code",
   "execution_count": 595,
   "metadata": {},
   "outputs": [
    {
     "name": "stdout",
     "output_type": "stream",
     "text": [
      "45 51일은 몇 주이며 나머지는 며칠입니까?  [7, 2]\n"
     ]
    }
   ],
   "source": [
    "for i in range(0,len(df)):\n",
    "    if re.compile(\"[\\d]{1,4}일은 몇 주이며 나머지\").findall(df[\"질문\"][i]) :\n",
    "        a=int(re.compile(\"[\\d]{1,4}\").findall(df[\"질문\"][i])[0])\n",
    "        df['model_answer'][i]=[a//7,a%7]\n",
    "        print(i,df[\"질문\"][i],df[\"model_answer\"][i])"
   ]
  },
  {
   "cell_type": "code",
   "execution_count": 599,
   "metadata": {},
   "outputs": [
    {
     "name": "stdout",
     "output_type": "stream",
     "text": [
      "1 공책 405권을 한 명당 4권씩 나누어 주면 몇 명에게 나누어 줄 수 있고, 몇 권이 남게 되나요?  \n",
      "8 세진이는 1초에 6m를 달리고, 성아는 1초에 5m를 달린다고 합니다. 두 사람이 같은 방향으로 동시에 출발하여 세진이가 54m를 달렸을 때, 성아는 세진이보다 몇 m 뒤에 있겠습니까? \n",
      "10 비너스는 아름다움을 상징하는 여신입니다. 비너스는 흔히 8등신이라고 하는데, 8등신이란 몸 전체의 길이를 얼굴 길이로 나누었을 때 몫이 8이 되는 것입니다. 단 위에 비너스가 세워져있는 조각상의 전체 길이가 160cm이고, 단의 높이가 88cm라면 비너스 얼굴의 길이는 얼마인지 구하시오.  \n",
      "16 복숭아가 9개씩 4묶음 있습니다. 한 봉지에 6개씩 담으려면 봉지는 몇 개 필요합니까?  \n",
      "23 크기가 다른 2종류의 상자에 크기가 같은 공을 각각 5개, 7개를 담으면 가득 찬다고 합니다. 공 47개를 이들 상자에 가득 채워서 포장하려고 합니다. 포장하는 상자의 수를 가장 적게 할 때, 상자는 몇 개가 필요합니까?  \n",
      "24 우주네 반에서 수학 시간에 7명씩 5모둠으로 나누었더니 1명이 남았습니다. 다시 한 모둠에 6명씩 나누면 몇 모둠이 되겠습니까?  \n",
      "32 1층에서 2층 사이에는 계단이 18개 있습니다. 용수는 계단을 한 번에 2계단씩 올라간다면, 몇 번이면 1층에서 2층까지 올라갈 수 있는지 식을 만들어 답을 구하시오.  \n",
      "44 양계장에서 달걀 76개를 8개씩 포장하여 팔려고 합니다. 남는 달걀이 없이 모두 포장하려면, 달걀은 적어도 몇 개가 더 있어야 합니까?  \n",
      "47 야구공이 7개씩 들어 있는 상자가 9개 있습니다. 이 야구공을 한 사람에게 3개씩 나누어 준다면, 몇 명에게 나누어 줄 수 있는지 풀이 과정을 쓰고 답을 구하시오.  \n",
      "49 어머니께서 한 다발에 12송이씩 묶인 장미를 6다발 사 오셨습니다. 이 장미를 한 꽃병에 9송이씩 꽂으려고 한다면, 꽃병은 모두 몇 개가 필요합니까?  \n",
      "53 통계 자료에 따르면 1인당 1년에 사용하는 물 사용량은 약 84톤이라고 합니다. 만약 800톤의 물을 1인당 84톤씩 사용한다면 최대한 몇 명까지 사용할 수 있습니까? (톤은 들이를 나타내는 단위)  \n",
      "54 양말 공장에서 오전에 양말을 259켤레 만들었고, 오후에 247켤레 만들었습니다. 이날 만든 양말을 한 상자에 12켤레씩 넣어서 포장하면 양말은 몇 상자가 되고, 몇 켤레가 남습니까?\r\n",
      "(               ), (               )  \n",
      "58 지민이가 가지고 있는 철사를 35cm씩 잘랐더니, 14도막이 되고 16cm가 남았습니다. 이 철사를 25cm씩 자른다면, 철사는 몇 도막이 되고 몇 cm가 남습니까?\r\n",
      "(               ), (               )  \n",
      "60 사과 20개를 바구니 4개에 똑같이 나누면 한 바구니에 몇 개씩 담을 수 있는지 알맞은 나눗셈식을 써 보세요.  \n",
      "62 진호는 4월 9일에 있을 체력검사를 대비하여 3월 26일부터 매일 운동장을 돌았습니다. 3월에는 매일 같은 바퀴 수로 48바퀴를 돌았고, 4월에는 매일 같은 바퀴 수로 24바퀴를 돌았습니다. 하루에 돈 운동장의 바퀴 수가 몇 월이 얼마나 더 많은지 구하시오.  \n",
      "63 선생님께서 연필 18자루를 지욱, 민율이에게 똑같이 나누어 주셨습니다. 그리고 지욱이는 받은 연필을 준수, 성빈이와 똑같이 나누어 가졌습니다. 지욱에게 남은 연필은 몇 자루 입니까?  \n",
      "74 세경이는 가지고 있는 연필을 친구 7명에게 똑같게 나누어 주려고 합니다. 친구들에게 연필을 8자루씩 주면 6자루가 모자란다고 합니다. 이 연필을 5명의 친구들에게 똑같게 나누어 준다면 한 사람이 몇 자루의 연필을 갖게 됩니까?  \n",
      "77 세 변의 길이가 같은 삼각형이 있습니다. 세 변의 길이의 합이 15일 때, 한 변의 길이는 몇 입니까?  \n",
      "79 지영이는 자전거를 타고 6분 동안 운동장을 18바퀴 돌았습니다. 같은 빠르기로 10분 동안 운동장을 돈다면, 모두 몇 바퀴를 돌 수 있습니까?  \n",
      "81 운동장에 학생들이 한 줄에 3명씩 8줄로 서 있습니다. 이 학생들을 6줄로 세우려고 합니다. 한 줄에 세우는 학생 수를 같게 하려면, 몇 명씩 세워야 합니까?  \n",
      "83 병호와 희수는 매일 1시간씩 수학문제집을 풀기로 하였습니다. 병호는 일주일 동안 28쪽을, 희수는 6일 동안 36쪽을 풀었다면, 하루 동안에 푸는 문제집 쪽수는 누가 몇 쪽 더 많습니까?  \n",
      "88 초콜릿을 포장하여 선물하려고 합니다. 6개씩 7상자에 넣으려고 했는데 7개를 내가 먹었습니다. 각 상자의 초콜릿 수가 똑같아지도록 2가지 방법으로 다시 나누어 보시오. (단, 한 상자의 초콜릿 수와 상자의 수는 각각 10보다 작습니다.)  \n",
      "92 장난감 공장에서 48개의 장난감을 만드는 데 ㉮ 기계만으로 만들면 8시간, ㉯ 기계만으로 만들면 6시간 걸린다고 합니다. 두 기계가 동시에 장난감을 만들기 시작하여 장난감을 모두 63개 만들려면 몇 시간 몇 분이 걸립니까?  \n",
      "93 우리 반 학생은 모두 32명이고 체육 시간에 짝짓기놀이를 하려고 합니다. 남는 사람이 없게 하려면 몇 명씩 짝짓기놀이를 해야 하는지 구하시오. (단, 2명보다 많고 10명보다 적게 짝짓기놀이를 합니다.)  \n",
      "102 용희는 집에 놀러 올 친구 6명에게 선물로 연필을 3자루씩 줄 수 있을 만큼 준비했습니다. 그런데 3명의 친구가 더 왔습니다. 놀러 온 친구들에게 연필을 똑같게 나누어 주려면 한 사람에게 몇 자루씩 나누어 주면 됩니까?  \n",
      "104 정수는 4개의 상자에 36개의 홍시를 똑같게 나누어 담았습니다. 이 중에서 한 상자의 홍시를 3개의 접시에 똑같이 나누어 담으려고 합니다. 한 접시에 홍시를 몇 개씩 담을 수 있습니까?  \n",
      "106 장미 18송이와 국화 6송이가 있습니다. 영희는 이 꽃을 친구 2명과 똑같게 나누어 가지려고 합니다. 한 사람이 각각 몇 송이씩 가지면 되겠습니까?  \n",
      "116 1반 35명, 2반 38명의 어린이를 6조로 나누어 게임을 하려고 합니다. 한 조에 몇 명이 되고, 몇 명이 남습니까?\r\n",
      "(          ), (          )  \n",
      "117 종이 인형 75개를 4사람에게 똑같이 나누어 주고 남는 것은 명희에게 주기로 하였습니다. 명희가 가지게 될 인형은 몇 개입니까?  \n",
      "118 빨간색 구슬 36개와 초록색 구슬 27개를 5사람에게 똑같이 나누어 주면, 한 사람에게 몇 개씩 나누어 줄 수 있고, 남는 구슬은 몇 개입니까?\r\n",
      "(          ), (          )  \n"
     ]
    },
    {
     "data": {
      "text/plain": [
       "30"
      ]
     },
     "execution_count": 599,
     "metadata": {},
     "output_type": "execute_result"
    }
   ],
   "source": [
    "h=[]\n",
    "for i in range(0,len(df)):\n",
    "    if df['model_answer'][i]==\"\":\n",
    "        h.append(i)\n",
    "        print(i,df[\"질문\"][i],df[\"model_answer\"][i])\n",
    "        \n",
    "len(h)"
   ]
  },
  {
   "cell_type": "code",
   "execution_count": 600,
   "metadata": {},
   "outputs": [],
   "source": [
    "df.to_excel(\"a4.xlsx\",index=False)"
   ]
  },
  {
   "cell_type": "code",
   "execution_count": null,
   "metadata": {},
   "outputs": [],
   "source": []
  }
 ],
 "metadata": {
  "kernelspec": {
   "display_name": "Python 3",
   "language": "python",
   "name": "python3"
  },
  "language_info": {
   "codemirror_mode": {
    "name": "ipython",
    "version": 3
   },
   "file_extension": ".py",
   "mimetype": "text/x-python",
   "name": "python",
   "nbconvert_exporter": "python",
   "pygments_lexer": "ipython3",
   "version": "3.7.4"
  }
 },
 "nbformat": 4,
 "nbformat_minor": 2
}
