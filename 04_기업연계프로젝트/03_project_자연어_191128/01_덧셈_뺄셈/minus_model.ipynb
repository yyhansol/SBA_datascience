{
 "cells": [
  {
   "cell_type": "code",
   "execution_count": 1,
   "metadata": {
    "pycharm": {
     "is_executing": false
    }
   },
   "outputs": [],
   "source": [
    "import pandas as pd"
   ]
  },
  {
   "cell_type": "code",
   "execution_count": 7,
   "outputs": [
    {
     "data": {
      "text/plain": "                                                  질문  \\\n0    그림과 같이 22를 넣었더니 18이 나왔습니다.  31을 넣으면 얼마가 나오겠습니까?   \n1        13을 넣으면 5가 나오는 상자가 있습니다. 9를 넣으면 얼마가 나오겠습니까?   \n2  그림과 같이 17을 넣으면 6이 나오는 상자가 있습니다. 24를 넣으면 얼마가 나오...   \n3  그림과 같이 18을 넣으면 13이 나오는 요술 주머니가 있습니다.  51을 넣으면 ...   \n4  다음 그림과 같이 어떤 수를 넣으면 일정한 수만큼 빼서 나오는 상자가 있습니다. 예...   \n\n                              수식풀이                                     키워드  \\\n0    22-[4]=18 22-18=[4] 31-4=[27]  22, 넣었더니, 18, 나왔습니다., 31, 넣으면, 나오겠습니까?   \n1        13-[8]=5 13-5=[8] 9-8=[1]       13, 넣었더니, 5, 나오는, 9, 넣으면, 나오겠습니까?   \n2      17-[9]=6 17-6=[9] 24-9=[15]      17, 넣었더니, 6, 나오는, 24, 넣으면, 나오겠습니까?   \n3    18-[5]=13 18-13=[5] 51-5=[46]        18, 넣으면, 13, 나오는, 51, 넣으면, 나옵니까?   \n4  34-[9]=25  34-25=[9]  27-9=[18]        34, 넣으면, 25, 나오는, 27, 넣으면, 나옵니까?   \n\n                       키워드1  \n0  넣었더니, 나왔습니다, 넣으면, 나오겠습니까  \n1    넣었더니, 나오는, 넣으면, 나오겠습니까  \n2    넣었더니, 나오는, 넣으면, 나오겠습니까  \n3       넣으면, 나오는, 넣으면, 나옵니까  \n4       넣으면, 나오는, 넣으면, 나옵니까  ",
      "text/html": "<div>\n<style scoped>\n    .dataframe tbody tr th:only-of-type {\n        vertical-align: middle;\n    }\n\n    .dataframe tbody tr th {\n        vertical-align: top;\n    }\n\n    .dataframe thead th {\n        text-align: right;\n    }\n</style>\n<table border=\"1\" class=\"dataframe\">\n  <thead>\n    <tr style=\"text-align: right;\">\n      <th></th>\n      <th>질문</th>\n      <th>수식풀이</th>\n      <th>키워드</th>\n      <th>키워드1</th>\n    </tr>\n  </thead>\n  <tbody>\n    <tr>\n      <td>0</td>\n      <td>그림과 같이 22를 넣었더니 18이 나왔습니다.  31을 넣으면 얼마가 나오겠습니까?</td>\n      <td>22-[4]=18 22-18=[4] 31-4=[27]</td>\n      <td>22, 넣었더니, 18, 나왔습니다., 31, 넣으면, 나오겠습니까?</td>\n      <td>넣었더니, 나왔습니다, 넣으면, 나오겠습니까</td>\n    </tr>\n    <tr>\n      <td>1</td>\n      <td>13을 넣으면 5가 나오는 상자가 있습니다. 9를 넣으면 얼마가 나오겠습니까?</td>\n      <td>13-[8]=5 13-5=[8] 9-8=[1]</td>\n      <td>13, 넣었더니, 5, 나오는, 9, 넣으면, 나오겠습니까?</td>\n      <td>넣었더니, 나오는, 넣으면, 나오겠습니까</td>\n    </tr>\n    <tr>\n      <td>2</td>\n      <td>그림과 같이 17을 넣으면 6이 나오는 상자가 있습니다. 24를 넣으면 얼마가 나오...</td>\n      <td>17-[9]=6 17-6=[9] 24-9=[15]</td>\n      <td>17, 넣었더니, 6, 나오는, 24, 넣으면, 나오겠습니까?</td>\n      <td>넣었더니, 나오는, 넣으면, 나오겠습니까</td>\n    </tr>\n    <tr>\n      <td>3</td>\n      <td>그림과 같이 18을 넣으면 13이 나오는 요술 주머니가 있습니다.  51을 넣으면 ...</td>\n      <td>18-[5]=13 18-13=[5] 51-5=[46]</td>\n      <td>18, 넣으면, 13, 나오는, 51, 넣으면, 나옵니까?</td>\n      <td>넣으면, 나오는, 넣으면, 나옵니까</td>\n    </tr>\n    <tr>\n      <td>4</td>\n      <td>다음 그림과 같이 어떤 수를 넣으면 일정한 수만큼 빼서 나오는 상자가 있습니다. 예...</td>\n      <td>34-[9]=25  34-25=[9]  27-9=[18]</td>\n      <td>34, 넣으면, 25, 나오는, 27, 넣으면, 나옵니까?</td>\n      <td>넣으면, 나오는, 넣으면, 나옵니까</td>\n    </tr>\n  </tbody>\n</table>\n</div>"
     },
     "metadata": {},
     "output_type": "execute_result",
     "execution_count": 7
    }
   ],
   "source": [
    "df=pd.read_excel(\"../data/math_func_type.xlsx\",sheet_name=1)\n",
    "df.head()"
   ],
   "metadata": {
    "collapsed": false,
    "pycharm": {
     "name": "#%%\n",
     "is_executing": false
    }
   }
  },
  {
   "cell_type": "code",
   "execution_count": 8,
   "metadata": {
    "pycharm": {
     "is_executing": false
    }
   },
   "outputs": [],
   "source": [
    "import platform\n",
    "\n",
    "import numpy as np\n",
    "import pandas as pd\n",
    "import matplotlib.pyplot as plt\n",
    "import seaborn as sns\n",
    "# sns.set()\n",
    "\n",
    "from matplotlib import font_manager, rc\n",
    "if platform.system() == 'Darwin':\n",
    "    rc('font', family='AppleGothic')\n",
    "elif platform.system() == 'Windows':\n",
    "    font_name = font_manager.FontProperties(fname=\"C:/Windows/Fonts/malgun.ttf\").get_name()\n",
    "    rc('font', family=font_name)\n",
    "else:\n",
    "    print(\"It's unknown system. Hangul fonts are not supported!\")\n",
    "    \n",
    "# plt.rcParams['axes.unicode_minus'] = False\n",
    "plt.rcParams[\"figure.figsize\"] = [12,6]\n",
    "\n",
    "%matplotlib inline"
   ]
  },
  {
   "cell_type": "code",
   "execution_count": 9,
   "metadata": {
    "pycharm": {
     "is_executing": false
    }
   },
   "outputs": [
    {
     "data": {
      "text/plain": "                                                    질문  \\\n115  철수는 사과 38개를 가지고 있습니다. 철수는 영희에게 사과 몇 개를 줬습니다. 철...   \n116  아름이는 사탕 8개를 가졌습니다. 몇 개를 다운이에게 주었더니 3개가 남았습니다. ...   \n117  민지는 색종이 12장을 가지고 있었는데, 몇 장을 사용하였더니 9장이 남았습니다. ...   \n118  주차장에 있던 자동차 5대 중 몇 대가 나가서 3대가 남았습니다. 주차장에서 나간 ...   \n119  준기는 연필 10자루를 가지고 있습니다. 동생에게 몇 자루를 주었더니 6자루가 남았...   \n\n                       수식풀이                                     키워드  \\\n115  38-[13]=25  38-25=[13]   38개, 가지고, 몇 개, 줬습니다., 지금, 25개, 몇 개, 준   \n116        8-[5]=3  8-3=[5]       8개, 몇 개, 주었더니, 3개, 남았습니다., 준, 몇 개   \n117      12-[3]=9  12-9=[3]  12장, 몇 장, 사용하였더니, 9장, 남았습니다., 사용한, 몇 장   \n118        5-[2]=3  5-3=[2]    5대, 중, 몇 대, 나가서, 3대, 남았습니다., 나간, 몇 대   \n119      10-[4]=6  10-6=[4]           10자루, 몇 자루, 주었더니, 6자루, 남았습니다.   \n\n                         키워드1  \n115             몇, 줬습니다, 몇, 준  \n116     몇, 주었더니, 남았습니다, 준, 몇   \n117  몇, 사용하였더니, 남았습니다, 사용한, 몇  \n118  중, 몇 , 나가서, 남았습니다, 나간, 몇  \n119            몇, 주었더니, 남았습니다  ",
      "text/html": "<div>\n<style scoped>\n    .dataframe tbody tr th:only-of-type {\n        vertical-align: middle;\n    }\n\n    .dataframe tbody tr th {\n        vertical-align: top;\n    }\n\n    .dataframe thead th {\n        text-align: right;\n    }\n</style>\n<table border=\"1\" class=\"dataframe\">\n  <thead>\n    <tr style=\"text-align: right;\">\n      <th></th>\n      <th>질문</th>\n      <th>수식풀이</th>\n      <th>키워드</th>\n      <th>키워드1</th>\n    </tr>\n  </thead>\n  <tbody>\n    <tr>\n      <td>115</td>\n      <td>철수는 사과 38개를 가지고 있습니다. 철수는 영희에게 사과 몇 개를 줬습니다. 철...</td>\n      <td>38-[13]=25  38-25=[13]</td>\n      <td>38개, 가지고, 몇 개, 줬습니다., 지금, 25개, 몇 개, 준</td>\n      <td>몇, 줬습니다, 몇, 준</td>\n    </tr>\n    <tr>\n      <td>116</td>\n      <td>아름이는 사탕 8개를 가졌습니다. 몇 개를 다운이에게 주었더니 3개가 남았습니다. ...</td>\n      <td>8-[5]=3  8-3=[5]</td>\n      <td>8개, 몇 개, 주었더니, 3개, 남았습니다., 준, 몇 개</td>\n      <td>몇, 주었더니, 남았습니다, 준, 몇</td>\n    </tr>\n    <tr>\n      <td>117</td>\n      <td>민지는 색종이 12장을 가지고 있었는데, 몇 장을 사용하였더니 9장이 남았습니다. ...</td>\n      <td>12-[3]=9  12-9=[3]</td>\n      <td>12장, 몇 장, 사용하였더니, 9장, 남았습니다., 사용한, 몇 장</td>\n      <td>몇, 사용하였더니, 남았습니다, 사용한, 몇</td>\n    </tr>\n    <tr>\n      <td>118</td>\n      <td>주차장에 있던 자동차 5대 중 몇 대가 나가서 3대가 남았습니다. 주차장에서 나간 ...</td>\n      <td>5-[2]=3  5-3=[2]</td>\n      <td>5대, 중, 몇 대, 나가서, 3대, 남았습니다., 나간, 몇 대</td>\n      <td>중, 몇 , 나가서, 남았습니다, 나간, 몇</td>\n    </tr>\n    <tr>\n      <td>119</td>\n      <td>준기는 연필 10자루를 가지고 있습니다. 동생에게 몇 자루를 주었더니 6자루가 남았...</td>\n      <td>10-[4]=6  10-6=[4]</td>\n      <td>10자루, 몇 자루, 주었더니, 6자루, 남았습니다.</td>\n      <td>몇, 주었더니, 남았습니다</td>\n    </tr>\n  </tbody>\n</table>\n</div>"
     },
     "metadata": {},
     "output_type": "execute_result",
     "execution_count": 9
    }
   ],
   "source": [
    "df.tail()"
   ]
  },
  {
   "cell_type": "code",
   "execution_count": 10,
   "metadata": {
    "pycharm": {
     "is_executing": false
    }
   },
   "outputs": [
    {
     "data": {
      "text/plain": "                                                  질문  \\\n0    그림과 같이 22를 넣었더니 18이 나왔습니다.  31을 넣으면 얼마가 나오겠습니까?   \n1        13을 넣으면 5가 나오는 상자가 있습니다. 9를 넣으면 얼마가 나오겠습니까?   \n2  그림과 같이 17을 넣으면 6이 나오는 상자가 있습니다. 24를 넣으면 얼마가 나오...   \n3  그림과 같이 18을 넣으면 13이 나오는 요술 주머니가 있습니다.  51을 넣으면 ...   \n4  다음 그림과 같이 어떤 수를 넣으면 일정한 수만큼 빼서 나오는 상자가 있습니다. 예...   \n\n                              수식풀이                                     키워드  \\\n0    22-[4]=18 22-18=[4] 31-4=[27]  22, 넣었더니, 18, 나왔습니다., 31, 넣으면, 나오겠습니까?   \n1        13-[8]=5 13-5=[8] 9-8=[1]       13, 넣었더니, 5, 나오는, 9, 넣으면, 나오겠습니까?   \n2      17-[9]=6 17-6=[9] 24-9=[15]      17, 넣었더니, 6, 나오는, 24, 넣으면, 나오겠습니까?   \n3    18-[5]=13 18-13=[5] 51-5=[46]        18, 넣으면, 13, 나오는, 51, 넣으면, 나옵니까?   \n4  34-[9]=25  34-25=[9]  27-9=[18]        34, 넣으면, 25, 나오는, 27, 넣으면, 나옵니까?   \n\n                       키워드1  \\\n0  넣었더니, 나왔습니다, 넣으면, 나오겠습니까   \n1    넣었더니, 나오는, 넣으면, 나오겠습니까   \n2    넣었더니, 나오는, 넣으면, 나오겠습니까   \n3       넣으면, 나오는, 넣으면, 나옵니까   \n4       넣으면, 나오는, 넣으면, 나옵니까   \n\n                                                kkma  \\\n0  [(그림, NNG), (과, JKM), (같이, MAG), (22, NR), (를,...   \n1  [(13, NR), (을, JKO), (넣, VV), (으면, ECD), (5, N...   \n2  [(그림, NNG), (과, JKM), (같이, MAG), (17, NR), (을,...   \n3  [(그림, NNG), (과, JKM), (같이, MAG), (18, NR), (을,...   \n4  [(다음, NNG), (그림, NNG), (과, JKM), (같이, MAG), (어...   \n\n                                                 okt  \n0  [(그림, Noun), (과, Josa), (같이, Adverb), (22, Num...  \n1  [(13, Number), (을, Josa), (넣으면, Verb), (5, Num...  \n2  [(그림, Noun), (과, Josa), (같이, Adverb), (17, Num...  \n3  [(그림, Noun), (과, Josa), (같이, Adverb), (18, Num...  \n4  [(다음, Noun), (그림, Noun), (과, Josa), (같이, Adver...  ",
      "text/html": "<div>\n<style scoped>\n    .dataframe tbody tr th:only-of-type {\n        vertical-align: middle;\n    }\n\n    .dataframe tbody tr th {\n        vertical-align: top;\n    }\n\n    .dataframe thead th {\n        text-align: right;\n    }\n</style>\n<table border=\"1\" class=\"dataframe\">\n  <thead>\n    <tr style=\"text-align: right;\">\n      <th></th>\n      <th>질문</th>\n      <th>수식풀이</th>\n      <th>키워드</th>\n      <th>키워드1</th>\n      <th>kkma</th>\n      <th>okt</th>\n    </tr>\n  </thead>\n  <tbody>\n    <tr>\n      <td>0</td>\n      <td>그림과 같이 22를 넣었더니 18이 나왔습니다.  31을 넣으면 얼마가 나오겠습니까?</td>\n      <td>22-[4]=18 22-18=[4] 31-4=[27]</td>\n      <td>22, 넣었더니, 18, 나왔습니다., 31, 넣으면, 나오겠습니까?</td>\n      <td>넣었더니, 나왔습니다, 넣으면, 나오겠습니까</td>\n      <td>[(그림, NNG), (과, JKM), (같이, MAG), (22, NR), (를,...</td>\n      <td>[(그림, Noun), (과, Josa), (같이, Adverb), (22, Num...</td>\n    </tr>\n    <tr>\n      <td>1</td>\n      <td>13을 넣으면 5가 나오는 상자가 있습니다. 9를 넣으면 얼마가 나오겠습니까?</td>\n      <td>13-[8]=5 13-5=[8] 9-8=[1]</td>\n      <td>13, 넣었더니, 5, 나오는, 9, 넣으면, 나오겠습니까?</td>\n      <td>넣었더니, 나오는, 넣으면, 나오겠습니까</td>\n      <td>[(13, NR), (을, JKO), (넣, VV), (으면, ECD), (5, N...</td>\n      <td>[(13, Number), (을, Josa), (넣으면, Verb), (5, Num...</td>\n    </tr>\n    <tr>\n      <td>2</td>\n      <td>그림과 같이 17을 넣으면 6이 나오는 상자가 있습니다. 24를 넣으면 얼마가 나오...</td>\n      <td>17-[9]=6 17-6=[9] 24-9=[15]</td>\n      <td>17, 넣었더니, 6, 나오는, 24, 넣으면, 나오겠습니까?</td>\n      <td>넣었더니, 나오는, 넣으면, 나오겠습니까</td>\n      <td>[(그림, NNG), (과, JKM), (같이, MAG), (17, NR), (을,...</td>\n      <td>[(그림, Noun), (과, Josa), (같이, Adverb), (17, Num...</td>\n    </tr>\n    <tr>\n      <td>3</td>\n      <td>그림과 같이 18을 넣으면 13이 나오는 요술 주머니가 있습니다.  51을 넣으면 ...</td>\n      <td>18-[5]=13 18-13=[5] 51-5=[46]</td>\n      <td>18, 넣으면, 13, 나오는, 51, 넣으면, 나옵니까?</td>\n      <td>넣으면, 나오는, 넣으면, 나옵니까</td>\n      <td>[(그림, NNG), (과, JKM), (같이, MAG), (18, NR), (을,...</td>\n      <td>[(그림, Noun), (과, Josa), (같이, Adverb), (18, Num...</td>\n    </tr>\n    <tr>\n      <td>4</td>\n      <td>다음 그림과 같이 어떤 수를 넣으면 일정한 수만큼 빼서 나오는 상자가 있습니다. 예...</td>\n      <td>34-[9]=25  34-25=[9]  27-9=[18]</td>\n      <td>34, 넣으면, 25, 나오는, 27, 넣으면, 나옵니까?</td>\n      <td>넣으면, 나오는, 넣으면, 나옵니까</td>\n      <td>[(다음, NNG), (그림, NNG), (과, JKM), (같이, MAG), (어...</td>\n      <td>[(다음, Noun), (그림, Noun), (과, Josa), (같이, Adver...</td>\n    </tr>\n  </tbody>\n</table>\n</div>"
     },
     "metadata": {},
     "output_type": "execute_result",
     "execution_count": 10
    }
   ],
   "source": [
    "from konlpy.tag import Kkma\n",
    "kkma = Kkma()\n",
    "\n",
    "from konlpy.tag import Okt\n",
    "okt = Okt()\n",
    "\n",
    "\n",
    "df[\"kkma\"] = ''\n",
    "df[\"okt\"] = ''\n",
    "\n",
    "\n",
    "for i in range(0, len(df)):\n",
    "    #df['kkma'][i] = kkma.morphs(df[\"질문\"][i])\n",
    "    #df['okt'][i] = okt.morphs(df[\"질문\"][i])\n",
    "    df['kkma'][i] = kkma.pos(df[\"질문\"][i])\n",
    "    df['okt'][i] = okt.pos(df[\"질문\"][i])\n",
    "    \n",
    "df.head()"
   ]
  },
  {
   "cell_type": "code",
   "execution_count": 11,
   "metadata": {
    "pycharm": {
     "is_executing": false
    }
   },
   "outputs": [
    {
     "data": {
      "text/plain": "['살',\n '살',\n '살',\n '개',\n '개',\n '개',\n '장',\n '장',\n '개',\n '개',\n '개',\n '개',\n '개',\n '개',\n '개',\n '개',\n '개',\n '개',\n '개',\n '개',\n '개',\n '개',\n '개',\n '개',\n '개',\n '개',\n '개',\n '살',\n '살',\n '살',\n '살',\n '장',\n '장',\n '장',\n '장',\n '장',\n '명',\n '권',\n '개',\n '개',\n '개',\n '개',\n '개',\n '개',\n '개',\n '개',\n '개',\n '개',\n '개',\n '개',\n '개',\n '장',\n '장',\n '살',\n '살',\n '살',\n '개',\n '개',\n '개',\n '개',\n '개',\n '개',\n '장',\n '명',\n '개',\n '개',\n '살',\n '살',\n '살',\n '명',\n '명',\n '명',\n '권',\n '권',\n '대',\n '대',\n '번',\n '마리',\n '마리',\n '살',\n '살',\n '살',\n '살',\n '살',\n '살',\n '살',\n '살',\n '살',\n '살',\n '살',\n '살',\n '개',\n '개',\n '개',\n '개',\n '개',\n '개',\n '쪽',\n '장',\n '마리',\n '마리',\n '마리',\n '장',\n '명',\n '명',\n '명',\n '명',\n '개',\n '개',\n '개',\n '개',\n '개',\n '개',\n '개',\n '개',\n '개',\n '개',\n '개',\n '개',\n '개',\n '명',\n '명',\n '명',\n '명',\n '명',\n '명',\n '개',\n '개',\n '명',\n '명',\n '명',\n '개',\n '개',\n '개',\n '개',\n '개',\n '개',\n '개',\n '개',\n '개',\n '개',\n '살',\n '살',\n '살',\n '개',\n '개',\n '개',\n '개',\n '개',\n '번',\n '번',\n '개',\n '개',\n '대',\n '대',\n '개',\n '개',\n '개',\n '개',\n '마리',\n '마리',\n '장',\n '개',\n '개',\n '마리',\n '마리',\n '대',\n '대',\n '마리',\n '마리',\n '명',\n '명',\n '명',\n '마리',\n '마리',\n '개',\n '개',\n '명',\n '명',\n '명',\n '개',\n '개',\n '개',\n '개',\n '개',\n '개',\n '개',\n '개',\n '개',\n '개',\n '개',\n '개',\n '개',\n '개',\n '개',\n '개',\n '장',\n '대',\n '대']"
     },
     "metadata": {},
     "output_type": "execute_result",
     "execution_count": 11
    }
   ],
   "source": [
    "nnm=[]\n",
    "\n",
    "for i in range(0, len(df)):\n",
    "    for j in range(0,len(df[\"kkma\"][i])):\n",
    "        if df[\"kkma\"][i][j][1]==\"NNM\":\n",
    "            nnm.append(df[\"kkma\"][i][j][0])\n",
    "nnm  #단위"
   ]
  },
  {
   "cell_type": "code",
   "execution_count": 12,
   "metadata": {
    "pycharm": {
     "is_executing": false
    }
   },
   "outputs": [
    {
     "name": "stdout",
     "text": [
      "4 어떤\n6 어떤\n16 어떤\n17 어떤\n18 어떤\n19 어떤\n20 어떤\n21 어떤\n22 어떤\n23 어떤\n26 어떤\n27 어떤\n28 어떤\n29 어떤\n30 몇\n31 몇\n32 몇\n33 몇\n34 몇\n35 몇\n36 몇\n37 몇\n38 몇\n39 몇\n40 몇\n40 몇\n41 몇\n42 몇\n43 몇\n44 몇\n45 몇\n46 몇\n47 몇\n48 몇\n49 몇\n50 몇\n51 몇\n52 어느\n52 몇\n53 몇\n54 몇\n55 몇\n56 몇\n57 어느\n57 몇\n58 몇\n59 몇\n60 어느\n60 몇\n61 몇\n62 몇\n63 몇\n64 몇\n65 몇\n66 몇\n67 몇\n68 몇\n69 몇\n70 몇\n71 몇\n72 몇\n73 몇\n74 몇\n75 몇\n76 그\n76 몇\n77 몇\n78 몇\n79 몇\n80 몇\n81 몇\n82 몇\n83 몇\n84 몇\n85 몇\n86 그\n86 몇\n87 그\n87 몇\n88 몇\n89 몇\n90 몇\n91 몇\n92 몇\n93 몇\n94 몇\n95 몇\n96 몇\n97 몇\n98 그\n98 몇\n99 몇\n100 그\n100 몇\n101 몇\n102 그\n102 몇\n103 그\n103 몇\n104 몇\n105 몇\n106 몇\n107 몇\n108 몇\n108 몇\n109 몇\n109 몇\n110 몇\n110 몇\n111 몇\n111 몇\n112 몇\n112 몇\n113 몇\n113 몇\n114 그\n114 몇\n114 몇\n115 몇\n115 몇\n116 몇\n116 몇\n117 몇\n117 몇\n118 몇\n118 몇\n119 몇\n"
     ],
     "output_type": "stream"
    }
   ],
   "source": [
    "mdt=[]\n",
    "\n",
    "for i in range(0, len(df)):\n",
    "    for j in range(0,len(df[\"kkma\"][i])):\n",
    "        if df[\"kkma\"][i][j][1]==\"MDT\":\n",
    "            mdt.append(df[\"kkma\"][i][j][0])\n",
    "            print(i,df[\"kkma\"][i][j][0])\n",
    "# 미지수 x             "
   ]
  },
  {
   "cell_type": "code",
   "execution_count": 13,
   "metadata": {
    "pycharm": {
     "is_executing": false
    }
   },
   "outputs": [],
   "source": [
    "import re\n",
    "\n",
    "df[\"model\"]=''\n",
    "df[\"model_answer\"]=''\n",
    "\n",
    "for i in range(0,len(df)):\n",
    "    if re.compile(\"보다 [\\w]{1,9} ['더 가지고 있습니다, 더 가지고 있습니까, 더 많이 가지고 있는지, 더 팔았습니까, 더 많았다고 합니다, 더 많습니까, 더 많은지, 더 많을까요, 더 많이 먹었습니까, 더 적게']\").findall(df[\"질문\"][i])!=[]:\n",
    "        a=re.compile(\"[\\d]{1,4}\").findall(df[\"질문\"][i])\n",
    "        if int(a[0])<int(a[1]):\n",
    "            df[\"model\"][i]=[int(a[1]),\"-\",int(a[0])]\n",
    "            df[\"model_answer\"][i]=(int(a[1])-int(a[0]))\n",
    "        elif int(a[0])>int(a[1]):\n",
    "            df[\"model\"][i]=[int(a[0]),'-',int(a[1])]\n",
    "            df[\"model_answer\"][i]=((int(a[0])-int(a[1])))\n",
    "            \n",
    "            \n",
    "for i in range(0,len(df)):\n",
    "    if re.compile(\"[\\w]{1,9} ['더 많이 가지고 있는지,더 붙일 수 있습니까']\").findall(df[\"질문\"][i])!=[]:\n",
    "        a=re.compile(\"[\\d]{1,4}\").findall(df[\"질문\"][i])\n",
    "        if int(a[0])<int(a[1]):\n",
    "            df[\"model\"][i]=[int(a[1]),\"-\",int(a[0])]\n",
    "            df[\"model_answer\"][i]=(int(a[1])-int(a[0]))\n",
    "        elif int(a[0])>int(a[1]):\n",
    "            df[\"model\"][i]=[int(a[0]),'-',int(a[1])]\n",
    "            df[\"model_answer\"][i]=((int(a[0])-int(a[1])))\n",
    "            \n",
    "            \n",
    "            \n",
    "for i in range(0,len(df)):\n",
    "    if re.compile(\"몇  [\\w]{1,4}를 ['주었습니다. , 주었더니 ,줬습니다']\").findall(df[\"질문\"][i])!=[]:\n",
    "        a=re.compile(\"[\\d]{1,4}\").findall(df[\"질문\"][i])\n",
    "        if int(a[0])<int(a[1]):\n",
    "            df[\"model\"][i]=[int(a[1]),\"-\",int(a[0])]\n",
    "            df[\"model_answer\"][i]=(int(a[1])-int(a[0]))\n",
    "        elif int(a[0])>int(a[1]):\n",
    "            df[\"model\"][i]=[int(a[0]),'-',int(a[1])]\n",
    "            df[\"model_answer\"][i]=((int(a[0])-int(a[1])))\n",
    "            \n",
    "            \n",
    "            \n",
    "for i in range(0,len(df)):\n",
    "    if re.compile(\"몇  [\\w]{1,4}를 ['주었습니다. , 주었더니 ,줬습니다']\").findall(df[\"질문\"][i])!=[]:\n",
    "        a=re.compile(\"[\\d]{1,4}\").findall(df[\"질문\"][i])\n",
    "        if int(a[0])<int(a[1]):\n",
    "            df[\"model\"][i]=[int(a[1]),\"-\",int(a[0])]\n",
    "            df[\"model_answer\"][i]=(int(a[1])-int(a[0]))\n",
    "        elif int(a[0])>int(a[1]):\n",
    "            df[\"model\"][i]=[int(a[0]),'-',int(a[1])]\n",
    "            df[\"model_answer\"][i]=((int(a[0])-int(a[1])))\n",
    "            \n",
    "            \n",
    "for i in range(0,len(df)):\n",
    "    if re.compile(\"나누어\").findall(df[\"질문\"][i])!=[]:\n",
    "        if re.compile(\"['를 가졌다면, 를 주었다면, 먼저,  를 쥐었다면']\").findall(df[\"질문\"][i])!=[]:\n",
    "            a=re.compile(\"[\\d]{1,4}\").findall(df[\"질문\"][i])\n",
    "            if int(a[0])<int(a[1]):\n",
    "                df[\"model\"][i]=[int(a[1]),\"-\",int(a[0])]\n",
    "                df[\"model_answer\"][i]=(int(a[1])-int(a[0]))\n",
    "            elif int(a[0])>int(a[1]):\n",
    "                df[\"model\"][i]=[int(a[0]),'-',int(a[1])]\n",
    "                df[\"model_answer\"][i]=((int(a[0])-int(a[1])))\n",
    "            \n",
    "            \n",
    "for i in range(0,len(df)):\n",
    "    if re.compile(\"['주었더니, 하였더니']\").findall(df[\"질문\"][i])!=[]:\n",
    "        if re.compile(\"남았습니다.\").findall(df[\"질문\"][i])!=[]:\n",
    "            a=re.compile(\"[\\d]{1,4}\").findall(df[\"질문\"][i])\n",
    "            if int(a[0])<int(a[1]):\n",
    "                df[\"model\"][i]=[int(a[1]),\"-\",int(a[0])]\n",
    "                df[\"model_answer\"][i]=(int(a[1])-int(a[0]))\n",
    "            elif int(a[0])>int(a[1]):\n",
    "                df[\"model\"][i]=[int(a[0]),'-',int(a[1])]\n",
    "                df[\"model_answer\"][i]=((int(a[0])-int(a[1])))\n",
    "                \n",
    "                \n",
    "for i in range(0,len(df)):\n",
    "    if re.compile(\"에게  [\\w]{1,10}['을,를'] 한 [\\w]{1,4}씩\").findall(df[\"질문\"][i])!=[]:\n",
    "        if re.compile(\"몇  [\\w]{1,4} 더 필요합니까\").findall(df[\"질문\"][i])!=[]:\n",
    "            a=re.compile(\"[\\d]{1,4}\").findall(df[\"질문\"][i])\n",
    "            if int(a[0])<int(a[1]):\n",
    "                df[\"model\"][i]=[int(a[1]),\"-\",int(a[0])]\n",
    "                df[\"model_answer\"][i]=(int(a[1])-int(a[0]))\n",
    "            elif int(a[0])>int(a[1]):\n",
    "                df[\"model\"][i]=[int(a[0]),'-',int(a[1])]\n",
    "                df[\"model_answer\"][i]=((int(a[0])-int(a[1])))                \n",
    "              \n",
    "            \n",
    "            \n",
    "            \n",
    "for i in range(0,len(df)):\n",
    "    if re.compile(\"와 똑같은  [\\w]{1,10} 가지려면\").findall(df[\"질문\"][i])!=[]:\n",
    "        a=re.compile(\"[\\d]{1,4}\").findall(df[\"질문\"][i])\n",
    "        if int(a[0])<int(a[1]):\n",
    "            df[\"model\"][i]=[int(a[1]),\"-\",int(a[0])]\n",
    "            df[\"model_answer\"][i]=(int(a[1])-int(a[0]))\n",
    "        elif int(a[0])>int(a[1]):\n",
    "            df[\"model\"][i]=[int(a[0]),'-',int(a[1])]\n",
    "            df[\"model_answer\"][i]=((int(a[0])-int(a[1])))\n",
    "             \n",
    "\n",
    "for i in range(0,len(df)):\n",
    "    if re.compile(\"와 같아질까요\").findall(df[\"질문\"][i])!=[]:\n",
    "        a=re.compile(\"[\\d]{1,4}\").findall(df[\"질문\"][i])\n",
    "        if int(a[0])<int(a[1]):\n",
    "            df[\"model\"][i]=[int(a[1]),\"-\",int(a[0])]\n",
    "            df[\"model_answer\"][i]=(int(a[1])-int(a[0]))\n",
    "        elif int(a[0])>int(a[1]):\n",
    "            df[\"model\"][i]=[int(a[0]),'-',int(a[1])]\n",
    "            df[\"model_answer\"][i]=((int(a[0])-int(a[1])))\n",
    "             \n",
    "                \n",
    "for i in range(0,len(df)):\n",
    "    if re.compile(\"같은 수의  [\\w]{1,10} 갖기 위하여\").findall(df[\"질문\"][i])!=[]:\n",
    "        a=re.compile(\"[\\d]{1,4}\").findall(df[\"질문\"][i])\n",
    "        if int(a[0])<int(a[1]):\n",
    "            df[\"model\"][i]=[int(a[1]),\"-\",int(a[0])]\n",
    "            df[\"model_answer\"][i]=(int(a[1])-int(a[0]))\n",
    "        elif int(a[0])>int(a[1]):\n",
    "            df[\"model\"][i]=[int(a[0]),'-',int(a[1])]\n",
    "            df[\"model_answer\"][i]=((int(a[0])-int(a[1])))\n",
    "            \n",
    "            \n",
    "for i in range(0,len(df)):\n",
    "    if re.compile(\"만큼  [\\w]{1,10}을 가지려면\").findall(df[\"질문\"][i])!=[]:\n",
    "        if re.compile(\"만큼  [\\w]{1,10}을 가지려면  [\\w]{1,10} 몇 [\\w]{1,4}가 더 있어야\").findall(df[\"질문\"][i])!=[]:\n",
    "            a=re.compile(\"[\\d]{1,4}\").findall(df[\"질문\"][i])\n",
    "            if int(a[0])<int(a[1]):\n",
    "                df[\"model\"][i]=[int(a[1]),\"-\",int(a[0])]\n",
    "                df[\"model_answer\"][i]=(int(a[1])-int(a[0]))\n",
    "            elif int(a[0])>int(a[1]):\n",
    "                df[\"model\"][i]=[int(a[0]),'-',int(a[1])]\n",
    "                df[\"model_answer\"][i]=((int(a[0])-int(a[1])))                 \n",
    "            \n",
    "            \n",
    "            \n",
    "for i in range(0,len(df)):\n",
    "    if re.compile(\"['중 , 그중 , 그 중에서, 이 중, 이 중에서, 중에서']\").findall(df[\"질문\"][i])!=[]:\n",
    "        if re.compile(\"['남았습니다, 주었습니다, 남습니까, 잃었습니다, 남은,  나가서, 부러졌습니다, 몇 [\\w]{1,4}입니까']\").findall(df[\"질문\"][i])!=[]:\n",
    "            a=re.compile(\"[\\d]{1,4}\").findall(df[\"질문\"][i])\n",
    "            if int(a[0])<int(a[1]):\n",
    "                df[\"model\"][i]=[int(a[1]),\"-\",int(a[0])]\n",
    "                df[\"model_answer\"][i]=(int(a[1])-int(a[0]))\n",
    "            elif int(a[0])>int(a[1]):\n",
    "                df[\"model\"][i]=[int(a[0]),'-',int(a[1])]\n",
    "                df[\"model_answer\"][i]=((int(a[0])-int(a[1])))                 \n",
    "            \n",
    "            \n",
    "            \n",
    "for i in range(0,len(df)):\n",
    "    if re.compile(\"['잠시 후, 얼마 후, 잠시후, 며칠 후에, 며칠 후']\").findall(df[\"질문\"][i])!=[]:\n",
    "        if re.compile(\"['남아있는,  남았습니까, 날아갔습니다., 졌습니다, 돌아가서']\").findall(df[\"질문\"][i])!=[]:\n",
    "            a=re.compile(\"[\\d]{1,4}\").findall(df[\"질문\"][i])\n",
    "            if int(a[0])<int(a[1]):\n",
    "                df[\"model\"][i]=[int(a[1]),\"-\",int(a[0])]\n",
    "                df[\"model_answer\"][i]=(int(a[1])-int(a[0]))\n",
    "            elif int(a[0])>int(a[1]):\n",
    "                df[\"model\"][i]=[int(a[0]),'-',int(a[1])]\n",
    "                df[\"model_answer\"][i]=((int(a[0])-int(a[1])))                 \n",
    "                        \n",
    "\n",
    "\n",
    "\n",
    "\n",
    "\n",
    "\n",
    "\n",
    "\n",
    "            \n",
    "\n",
    "#상자문제            \n",
    "for i in range(0,len(df)):\n",
    "    if re.compile(\"[\\d]{1,4}['을,를'] 넣었더니 [\\d]{1,4}\").findall(df[\"질문\"][i])!=[]:\n",
    "        a=re.compile(\"[\\d]{1,4}\").findall(df[\"질문\"][i])\n",
    "        if int(a[0])<int(a[1]):\n",
    "            df[\"model\"][i]=[int(a[1]),\"-\",int(a[0]),'+',int(a[2])]\n",
    "            df[\"model_answer\"][i]=(int(a[1])-int(a[0])+int(a[2]))\n",
    "        elif int(a[0])>int(a[1]):\n",
    "            df[\"model\"][i]=[int(a[2]),'-(',int(a[0]),'-',int(a[1]),')']\n",
    "            df[\"model_answer\"][i]=(int(a[2])-int(a[0])+int(a[1]))\n",
    "    elif re.compile(\"[\\d]{1,4}['을,를'] 넣으면 [\\d]{1,4}\").findall(df[\"질문\"][i])!=[]:\n",
    "        a=re.compile(\"[\\d]{1,4}\").findall(df[\"질문\"][i])\n",
    "        if int(a[0])<int(a[1]):\n",
    "            df[\"model\"][i]=[int(a[1]),\"-\",int(a[0]),'+',int(a[2])]\n",
    "            df[\"model_answer\"][i]=(int(a[1])-int(a[0])+int(a[2]))\n",
    "        elif int(a[0])>int(a[1]):\n",
    "            df[\"model\"][i]=[int(a[2]),'-(',int(a[0]),'-',int(a[1]),')']\n",
    "            df[\"model_answer\"][i]=(int(a[2])-int(a[0])+int(a[1]))\n",
    "            "
   ]
  },
  {
   "cell_type": "code",
   "execution_count": 14,
   "metadata": {
    "pycharm": {
     "is_executing": false
    }
   },
   "outputs": [],
   "source": [
    "df.head()\n",
    "df.to_excel(\"a2.xlsx\",index=False)"
   ]
  },
  {
   "cell_type": "code",
   "execution_count": null,
   "metadata": {},
   "outputs": [],
   "source": []
  }
 ],
 "metadata": {
  "kernelspec": {
   "display_name": "Python 3",
   "language": "python",
   "name": "python3"
  },
  "language_info": {
   "codemirror_mode": {
    "name": "ipython",
    "version": 3
   },
   "file_extension": ".py",
   "mimetype": "text/x-python",
   "name": "python",
   "nbconvert_exporter": "python",
   "pygments_lexer": "ipython3",
   "version": "3.7.4"
  },
  "pycharm": {
   "stem_cell": {
    "cell_type": "raw",
    "source": [],
    "metadata": {
     "collapsed": false
    }
   }
  }
 },
 "nbformat": 4,
 "nbformat_minor": 2
}