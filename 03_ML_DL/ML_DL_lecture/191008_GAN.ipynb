{
 "cells": [
  {
   "cell_type": "code",
   "execution_count": 18,
   "metadata": {},
   "outputs": [
    {
     "name": "stdout",
     "output_type": "stream",
     "text": [
      "Extracting ./mnist/data/train-images-idx3-ubyte.gz\n",
      "Extracting ./mnist/data/train-labels-idx1-ubyte.gz\n",
      "Extracting ./mnist/data/t10k-images-idx3-ubyte.gz\n",
      "Extracting ./mnist/data/t10k-labels-idx1-ubyte.gz\n"
     ]
    }
   ],
   "source": [
    "import tensorflow as tf\n",
    "import matplotlib.pyplot as plt\n",
    "import numpy as np\n",
    "from tensorflow.examples.tutorials.mnist import input_data\n",
    "mnist = input_data.read_data_sets(\"./mnist/data/\", one_hot=True)"
   ]
  },
  {
   "cell_type": "code",
   "execution_count": 19,
   "metadata": {},
   "outputs": [],
   "source": [
    "total_epoch = 100\n",
    "batch_size = 100\n",
    "learning_rate = 0.0002\n",
    "\n",
    "n_hidden = 256\n",
    "n_input = 28*28\n",
    "n_noise = 128"
   ]
  },
  {
   "cell_type": "code",
   "execution_count": 20,
   "metadata": {},
   "outputs": [],
   "source": [
    "X = tf.placeholder(tf.float32, [None, n_input])\n",
    "Z = tf.placeholder(tf.float32, [None, n_noise])\n"
   ]
  },
  {
   "cell_type": "code",
   "execution_count": 21,
   "metadata": {},
   "outputs": [],
   "source": [
    "G_W1 = tf.Variable(tf.random_normal([n_noise, n_hidden], stddev=0.01))\n",
    "G_b1 = tf.Variable(tf.zeros([n_hidden]))\n",
    "G_W2 = tf.Variable(tf.random_normal([n_hidden, n_input], stddev=0.01))\n",
    "G_b2 = tf.Variable(tf.zeros([n_input]))"
   ]
  },
  {
   "cell_type": "code",
   "execution_count": 22,
   "metadata": {},
   "outputs": [],
   "source": [
    "D_W1 = tf.Variable(tf.random_normal([n_input, n_hidden], stddev=0.01))\n",
    "D_b1 = tf.Variable(tf.zeros([n_hidden]))\n",
    "\n",
    "D_W2 = tf.Variable(tf.random_normal([n_hidden, 1], stddev=0.01))\n",
    "D_b2 = tf.Variable(tf.zeros([1]))"
   ]
  },
  {
   "cell_type": "code",
   "execution_count": 23,
   "metadata": {},
   "outputs": [],
   "source": [
    "def generator(noise_z):\n",
    "    hidden = tf.nn.relu(tf.matmul(noise_z, G_W1)+G_b1)\n",
    "    output = tf.nn.sigmoid(tf.matmul(hidden, G_W2)+G_b2)\n",
    "    return output"
   ]
  },
  {
   "cell_type": "code",
   "execution_count": 24,
   "metadata": {},
   "outputs": [],
   "source": [
    "def discriminator(inputs):\n",
    "    hidden = tf.nn.relu(tf.matmul(inputs, D_W1)+D_b1)\n",
    "    output = tf.nn.sigmoid(tf.matmul(hidden, D_W2)+D_b2)\n",
    "    return output"
   ]
  },
  {
   "cell_type": "code",
   "execution_count": 25,
   "metadata": {},
   "outputs": [],
   "source": [
    "G = generator(Z)\n",
    "D_fake = discriminator(G)\n",
    "D_real = discriminator(X)"
   ]
  },
  {
   "cell_type": "code",
   "execution_count": 26,
   "metadata": {},
   "outputs": [],
   "source": [
    "loss_D = tf.reduce_mean(tf.log(D_real)+ tf.log(1-D_fake))"
   ]
  },
  {
   "cell_type": "code",
   "execution_count": 27,
   "metadata": {},
   "outputs": [],
   "source": [
    "loss_G = tf.reduce_mean(tf.log(D_fake))"
   ]
  },
  {
   "cell_type": "code",
   "execution_count": 28,
   "metadata": {},
   "outputs": [],
   "source": [
    "D_var_list = [D_W1, D_b1, D_W2, D_b2]\n",
    "G_var_list = [G_W1, G_b1, G_W2, G_b2]"
   ]
  },
  {
   "cell_type": "code",
   "execution_count": 29,
   "metadata": {},
   "outputs": [],
   "source": [
    "train_D = tf.train.AdamOptimizer(learning_rate).minimize(-loss_D, \n",
    "                                                         var_list=D_var_list)\n",
    "train_G = tf.train.AdamOptimizer(learning_rate).minimize(-loss_G,\n",
    "                                                        var_list=G_var_list)\n"
   ]
  },
  {
   "cell_type": "code",
   "execution_count": 33,
   "metadata": {},
   "outputs": [],
   "source": [
    "def get_noise(batch_size, n_noise):\n",
    "    return np.random.normal(size=(batch_size, n_noise))"
   ]
  },
  {
   "cell_type": "code",
   "execution_count": 34,
   "metadata": {},
   "outputs": [],
   "source": [
    "sess = tf.Session()\n",
    "sess.run(tf.global_variables_initializer())\n",
    "total_batch = int(mnist.train.num_examples/batch_size)\n",
    "loss_val_D, loss_val_G = 0,0"
   ]
  },
  {
   "cell_type": "code",
   "execution_count": 37,
   "metadata": {},
   "outputs": [
    {
     "name": "stdout",
     "output_type": "stream",
     "text": [
      "Epoch: 0000 D loss: -0.7613 G loss: -1.688\n",
      "Epoch: 0001 D loss: -0.6933 G loss: -1.909\n",
      "Epoch: 0002 D loss: -0.6391 G loss: -1.835\n",
      "Epoch: 0003 D loss: -0.6474 G loss: -2.19\n",
      "Epoch: 0004 D loss: -0.7445 G loss: -1.643\n",
      "Epoch: 0005 D loss: -0.7142 G loss: -1.912\n",
      "Epoch: 0006 D loss: -0.6734 G loss: -1.884\n",
      "Epoch: 0007 D loss: -0.7538 G loss: -1.961\n",
      "Epoch: 0008 D loss: -0.6045 G loss: -1.83\n",
      "Epoch: 0009 D loss: -0.7499 G loss: -1.638\n",
      "Epoch: 0010 D loss: -0.6826 G loss: -2.04\n",
      "Epoch: 0011 D loss: -0.7206 G loss: -1.88\n",
      "Epoch: 0012 D loss: -0.7861 G loss: -1.853\n",
      "Epoch: 0013 D loss: -0.7212 G loss: -2.024\n",
      "Epoch: 0014 D loss: -0.6131 G loss: -2.22\n",
      "Epoch: 0015 D loss: -0.5598 G loss: -2.009\n",
      "Epoch: 0016 D loss: -0.9221 G loss: -2.002\n",
      "Epoch: 0017 D loss: -0.7758 G loss: -1.833\n",
      "Epoch: 0018 D loss: -0.6396 G loss: -2.108\n",
      "Epoch: 0019 D loss: -0.7539 G loss: -1.923\n",
      "Epoch: 0020 D loss: -0.7533 G loss: -1.77\n",
      "Epoch: 0021 D loss: -0.6995 G loss: -1.983\n",
      "Epoch: 0022 D loss: -0.7772 G loss: -1.989\n",
      "Epoch: 0023 D loss: -0.7077 G loss: -1.939\n",
      "Epoch: 0024 D loss: -0.8356 G loss: -2.045\n",
      "Epoch: 0025 D loss: -0.6143 G loss: -2.212\n",
      "Epoch: 0026 D loss: -0.638 G loss: -2.085\n",
      "Epoch: 0027 D loss: -0.6078 G loss: -2.097\n",
      "Epoch: 0028 D loss: -0.652 G loss: -2.091\n",
      "Epoch: 0029 D loss: -0.7601 G loss: -1.921\n",
      "Epoch: 0030 D loss: -0.564 G loss: -1.803\n",
      "Epoch: 0031 D loss: -0.6346 G loss: -2.237\n",
      "Epoch: 0032 D loss: -0.5615 G loss: -2.278\n",
      "Epoch: 0033 D loss: -0.6382 G loss: -2.464\n",
      "Epoch: 0034 D loss: -0.5553 G loss: -2.359\n",
      "Epoch: 0035 D loss: -0.5442 G loss: -2.282\n",
      "Epoch: 0036 D loss: -0.6453 G loss: -2.175\n",
      "Epoch: 0037 D loss: -0.5612 G loss: -2.558\n",
      "Epoch: 0038 D loss: -0.6544 G loss: -2.14\n",
      "Epoch: 0039 D loss: -0.6553 G loss: -2.436\n",
      "Epoch: 0040 D loss: -0.5318 G loss: -2.507\n",
      "Epoch: 0041 D loss: -0.5897 G loss: -2.303\n",
      "Epoch: 0042 D loss: -0.5632 G loss: -2.338\n",
      "Epoch: 0043 D loss: -0.6102 G loss: -2.187\n",
      "Epoch: 0044 D loss: -0.4787 G loss: -2.624\n",
      "Epoch: 0045 D loss: -0.5611 G loss: -2.314\n",
      "Epoch: 0046 D loss: -0.5662 G loss: -2.809\n",
      "Epoch: 0047 D loss: -0.5382 G loss: -2.473\n",
      "Epoch: 0048 D loss: -0.5504 G loss: -2.161\n",
      "Epoch: 0049 D loss: -0.5397 G loss: -2.381\n",
      "Epoch: 0050 D loss: -0.5466 G loss: -2.128\n",
      "Epoch: 0051 D loss: -0.4373 G loss: -2.573\n",
      "Epoch: 0052 D loss: -0.5878 G loss: -2.029\n",
      "Epoch: 0053 D loss: -0.7413 G loss: -2.316\n",
      "Epoch: 0054 D loss: -0.53 G loss: -2.271\n",
      "Epoch: 0055 D loss: -0.6022 G loss: -2.086\n",
      "Epoch: 0056 D loss: -0.5368 G loss: -2.668\n",
      "Epoch: 0057 D loss: -0.5367 G loss: -2.512\n",
      "Epoch: 0058 D loss: -0.5574 G loss: -2.171\n",
      "Epoch: 0059 D loss: -0.5157 G loss: -2.413\n",
      "Epoch: 0060 D loss: -0.5493 G loss: -2.638\n",
      "Epoch: 0061 D loss: -0.5483 G loss: -2.622\n",
      "Epoch: 0062 D loss: -0.5214 G loss: -1.967\n",
      "Epoch: 0063 D loss: -0.472 G loss: -2.572\n",
      "Epoch: 0064 D loss: -0.5047 G loss: -2.376\n",
      "Epoch: 0065 D loss: -0.414 G loss: -2.587\n",
      "Epoch: 0066 D loss: -0.4376 G loss: -2.58\n",
      "Epoch: 0067 D loss: -0.4726 G loss: -2.636\n",
      "Epoch: 0068 D loss: -0.6026 G loss: -2.539\n",
      "Epoch: 0069 D loss: -0.5422 G loss: -2.592\n",
      "Epoch: 0070 D loss: -0.6141 G loss: -2.549\n",
      "Epoch: 0071 D loss: -0.5049 G loss: -2.496\n",
      "Epoch: 0072 D loss: -0.3748 G loss: -2.677\n",
      "Epoch: 0073 D loss: -0.5181 G loss: -2.381\n",
      "Epoch: 0074 D loss: -0.5003 G loss: -2.435\n",
      "Epoch: 0075 D loss: -0.529 G loss: -2.56\n",
      "Epoch: 0076 D loss: -0.44 G loss: -2.463\n",
      "Epoch: 0077 D loss: -0.4234 G loss: -2.607\n",
      "Epoch: 0078 D loss: -0.4323 G loss: -2.508\n",
      "Epoch: 0079 D loss: -0.5491 G loss: -2.682\n",
      "Epoch: 0080 D loss: -0.4903 G loss: -2.915\n",
      "Epoch: 0081 D loss: -0.509 G loss: -2.748\n",
      "Epoch: 0082 D loss: -0.4437 G loss: -2.618\n",
      "Epoch: 0083 D loss: -0.4413 G loss: -3.092\n",
      "Epoch: 0084 D loss: -0.5001 G loss: -2.908\n",
      "Epoch: 0085 D loss: -0.5087 G loss: -2.733\n",
      "Epoch: 0086 D loss: -0.5044 G loss: -2.527\n",
      "Epoch: 0087 D loss: -0.5798 G loss: -2.417\n",
      "Epoch: 0088 D loss: -0.5208 G loss: -2.405\n",
      "Epoch: 0089 D loss: nan G loss: nan\n"
     ]
    },
    {
     "name": "stderr",
     "output_type": "stream",
     "text": [
      "C:\\Python\\Anaconda3\\lib\\site-packages\\matplotlib\\image.py:397: UserWarning: Warning: converting a masked element to nan.\n",
      "  dv = (np.float64(self.norm.vmax) -\n",
      "C:\\Python\\Anaconda3\\lib\\site-packages\\matplotlib\\image.py:398: UserWarning: Warning: converting a masked element to nan.\n",
      "  np.float64(self.norm.vmin))\n",
      "C:\\Python\\Anaconda3\\lib\\site-packages\\matplotlib\\image.py:405: UserWarning: Warning: converting a masked element to nan.\n",
      "  a_min = np.float64(newmin)\n",
      "C:\\Python\\Anaconda3\\lib\\site-packages\\matplotlib\\image.py:410: UserWarning: Warning: converting a masked element to nan.\n",
      "  a_max = np.float64(newmax)\n",
      "C:\\Python\\Anaconda3\\lib\\site-packages\\matplotlib\\colors.py:885: UserWarning: Warning: converting a masked element to nan.\n",
      "  dtype = np.min_scalar_type(value)\n",
      "C:\\Python\\Anaconda3\\lib\\site-packages\\numpy\\ma\\core.py:713: UserWarning: Warning: converting a masked element to nan.\n",
      "  data = np.array(a, copy=False, subok=subok)\n"
     ]
    },
    {
     "name": "stdout",
     "output_type": "stream",
     "text": [
      "Epoch: 0090 D loss: nan G loss: nan\n",
      "Epoch: 0091 D loss: nan G loss: nan\n",
      "Epoch: 0092 D loss: nan G loss: nan\n",
      "Epoch: 0093 D loss: nan G loss: nan\n",
      "Epoch: 0094 D loss: nan G loss: nan\n",
      "Epoch: 0095 D loss: nan G loss: nan\n",
      "Epoch: 0096 D loss: nan G loss: nan\n",
      "Epoch: 0097 D loss: nan G loss: nan\n",
      "Epoch: 0098 D loss: nan G loss: nan\n",
      "Epoch: 0099 D loss: nan G loss: nan\n",
      "최적화 완료!\n"
     ]
    }
   ],
   "source": [
    "for epoch in range(total_epoch):\n",
    "    for i in range(total_batch):\n",
    "        batch_xs, batch_ys = mnist.train.next_batch(batch_size)\n",
    "        noise = get_noise(batch_size, n_noise)\n",
    "        _, loss_val_D = sess.run([train_D, loss_D],\n",
    "                                feed_dict={X:batch_xs, Z:noise})\n",
    "        _, loss_val_G = sess.run([train_G, loss_G],\n",
    "                                feed_dict={Z:noise})\n",
    "    print('Epoch:', '%04d' % epoch,\n",
    "            'D loss: {:.4}'.format(loss_val_D),\n",
    "            'G loss: {:.4}'.format(loss_val_G))\n",
    "    if epoch == 0 or (epoch + 1) % 10 == 0:\n",
    "        sample_size = 10\n",
    "        noise = get_noise(sample_size, n_noise) # 노이즈 생성.\n",
    "        samples = sess.run(G, feed_dict={Z: noise})\n",
    "        fig, ax = plt.subplots(1, sample_size, figsize=(sample_size, 1))\n",
    "        for i in range(sample_size):\n",
    "            ax[i].set_axis_off()\n",
    "            ax[i].imshow(np.reshape(samples[i], (28, 28)))\n",
    "        plt.savefig('./samples/{}.png'.format(str(epoch).zfill(3)), bbox_inches='tight')\n",
    "        plt.close(fig)\n",
    "            \n",
    "print('최적화 완료!')"
   ]
  },
  {
   "cell_type": "code",
   "execution_count": null,
   "metadata": {},
   "outputs": [],
   "source": []
  }
 ],
 "metadata": {
  "kernelspec": {
   "display_name": "Python 3",
   "language": "python",
   "name": "python3"
  },
  "language_info": {
   "codemirror_mode": {
    "name": "ipython",
    "version": 3
   },
   "file_extension": ".py",
   "mimetype": "text/x-python",
   "name": "python",
   "nbconvert_exporter": "python",
   "pygments_lexer": "ipython3",
   "version": "3.7.3"
  }
 },
 "nbformat": 4,
 "nbformat_minor": 2
}
