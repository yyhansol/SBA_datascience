{
 "cells": [
  {
   "cell_type": "code",
   "execution_count": 1,
   "metadata": {},
   "outputs": [],
   "source": [
    "import tensorflow as tf\n",
    "import numpy as np"
   ]
  },
  {
   "cell_type": "code",
   "execution_count": 3,
   "metadata": {},
   "outputs": [],
   "source": [
    "import os, warnings\n",
    "import tensorflow as tf\n",
    "import time\n",
    "from IPython.display import display, Image"
   ]
  },
  {
   "cell_type": "code",
   "execution_count": 4,
   "metadata": {},
   "outputs": [],
   "source": [
    "warnings.filterwarnings(action='ignore')"
   ]
  },
  {
   "cell_type": "code",
   "execution_count": 5,
   "metadata": {},
   "outputs": [],
   "source": [
    "char_arr = ['a', 'b', 'c', 'd', 'e', 'f', 'g',\n",
    "'h', 'i', 'j', 'k', 'l', 'm', 'n',\n",
    "'o', 'p', 'q', 'r', 's', 't', 'u',\n",
    "'v', 'w', 'x', 'y', 'z']"
   ]
  },
  {
   "cell_type": "code",
   "execution_count": 6,
   "metadata": {},
   "outputs": [
    {
     "name": "stdout",
     "output_type": "stream",
     "text": [
      "26\n"
     ]
    }
   ],
   "source": [
    "num_dic = {n: i for i, n in enumerate(char_arr)}\n",
    "dic_len = len(num_dic)\n",
    "print(dic_len)"
   ]
  },
  {
   "cell_type": "code",
   "execution_count": 7,
   "metadata": {},
   "outputs": [],
   "source": [
    "seq_data = ['word', 'wood', 'deep', 'dive',\n",
    "'cold', 'cool', 'load', 'love', 'kiss', 'kind']"
   ]
  },
  {
   "cell_type": "code",
   "execution_count": 8,
   "metadata": {},
   "outputs": [
    {
     "name": "stdout",
     "output_type": "stream",
     "text": [
      "[22, 14, 17]\n",
      "[[0. 0. 0. 0. 0. 0. 0. 0. 0. 0. 0. 0. 0. 0. 0. 0. 0. 0. 0. 0. 0. 0. 1. 0.\n",
      "  0. 0.]\n",
      " [0. 0. 0. 0. 0. 0. 0. 0. 0. 0. 0. 0. 0. 0. 1. 0. 0. 0. 0. 0. 0. 0. 0. 0.\n",
      "  0. 0.]\n",
      " [0. 0. 0. 0. 0. 0. 0. 0. 0. 0. 0. 0. 0. 0. 0. 0. 0. 1. 0. 0. 0. 0. 0. 0.\n",
      "  0. 0.]]\n"
     ]
    }
   ],
   "source": [
    "print([num_dic[n] for n in seq_data[0][:-1]])\n",
    "print(np.eye(dic_len)[[22, 14, 17]])"
   ]
  },
  {
   "cell_type": "code",
   "execution_count": 9,
   "metadata": {},
   "outputs": [],
   "source": [
    "def make_batch(seq_data, dic_len_num):\n",
    "    input_batch = []\n",
    "    target_batch = []\n",
    "    for seq in seq_data:\n",
    "# input은 단어의 글자 알파벳 배열의 인덱스 번호 입니다.\n",
    "# [22, 14, 17] [22, 14, 14] [3, 4, 4] [3, 8, 21] ...\n",
    "        input = [num_dic[n] for n in seq[:-1]]\n",
    "        target = num_dic[seq[-1]] # 마지막 글자 인덱스\n",
    "# 3글자에 대한 one-hot 인코딩을 합니다.\n",
    "# if input is [0, 1, 2]:\n",
    "# [[ 1. 0. 0. 0. 0. 0. 0. 0. 0. 0.]\n",
    "# [ 0. 1. 0. 0. 0. 0. 0. 0. 0. 0.]\n",
    "# [ 0. 0. 1. 0. 0. 0. 0. 0. 0. 0.]]\n",
    "        input_batch.append(np.eye(dic_len_num)[input])\n",
    "        target_batch.append(target)\n",
    "    return input_batch, target_batch"
   ]
  },
  {
   "cell_type": "code",
   "execution_count": 10,
   "metadata": {},
   "outputs": [],
   "source": [
    "seq_data_test = ['work', 'book']"
   ]
  },
  {
   "cell_type": "code",
   "execution_count": 16,
   "metadata": {},
   "outputs": [
    {
     "name": "stdout",
     "output_type": "stream",
     "text": [
      "a의 값 : 3글자의 알파벳 인덱스 원핫값\n",
      "\n",
      "전체 단어수 : 2\n",
      "\n",
      "첫번째 단어 3글자 :\n",
      "[[0. 0. 0. 0. 0. 0. 0. 0. 0. 0. 0. 0. 0. 0. 0. 0. 0. 0. 0. 0. 0. 0. 1. 0.\n",
      "  0. 0.]\n",
      " [0. 0. 0. 0. 0. 0. 0. 0. 0. 0. 0. 0. 0. 0. 1. 0. 0. 0. 0. 0. 0. 0. 0. 0.\n",
      "  0. 0.]\n",
      " [0. 0. 0. 0. 0. 0. 0. 0. 0. 0. 0. 0. 0. 0. 0. 0. 0. 1. 0. 0. 0. 0. 0. 0.\n",
      "  0. 0.]]\n",
      "두번째 단어 3글자 :\n",
      "[[0. 1. 0. 0. 0. 0. 0. 0. 0. 0. 0. 0. 0. 0. 0. 0. 0. 0. 0. 0. 0. 0. 0. 0.\n",
      "  0. 0.]\n",
      " [0. 0. 0. 0. 0. 0. 0. 0. 0. 0. 0. 0. 0. 0. 1. 0. 0. 0. 0. 0. 0. 0. 0. 0.\n",
      "  0. 0.]\n",
      " [0. 0. 0. 0. 0. 0. 0. 0. 0. 0. 0. 0. 0. 0. 1. 0. 0. 0. 0. 0. 0. 0. 0. 0.\n",
      "  0. 0.]]\n",
      "b의 값 : 마지막 글자 index\n",
      "[10, 10]\n",
      "a와 b의 리스트 길이\n",
      "2 2\n"
     ]
    }
   ],
   "source": [
    "a, b= make_batch(seq_data_test, dic_len)\n",
    "print(\"a의 값 : 3글자의 알파벳 인덱스 원핫값\\n\") # w, o, r\n",
    "print(\"전체 단어수 : {}\\n\".format(len(a)))\n",
    "print(\"첫번째 단어 3글자 :\")\n",
    "print(a[0]) # w, o, r\n",
    "print(\"두번째 단어 3글자 :\")\n",
    "print(a[1]) # b, o, o\n",
    "print(\"b의 값 : 마지막 글자 index\") # k, k\n",
    "print(b) # d\n",
    "print(\"a와 b의 리스트 길이\") # k, k\n",
    "print(len(a), len(b)) # d"
   ]
  },
  {
   "cell_type": "code",
   "execution_count": 12,
   "metadata": {},
   "outputs": [],
   "source": [
    "learning_rate = 0.01\n",
    "n_hidden = 128\n",
    "total_epoch = 30\n",
    "n_step = 3\n",
    "n_input = n_class = dic_len"
   ]
  },
  {
   "cell_type": "code",
   "execution_count": 17,
   "metadata": {},
   "outputs": [],
   "source": [
    "X = tf.placeholder(tf.float32, [None, n_step, n_input]) # 입력\n",
    "Y = tf.placeholder(tf.int32, [None]) # 출력\n",
    "W = tf.Variable(tf.random_normal([n_hidden, n_class]))\n",
    "b = tf.Variable(tf.random_normal([n_class]))"
   ]
  },
  {
   "cell_type": "code",
   "execution_count": 18,
   "metadata": {},
   "outputs": [
    {
     "name": "stderr",
     "output_type": "stream",
     "text": [
      "WARNING: Logging before flag parsing goes to stderr.\n",
      "W1030 16:41:30.493389   232 deprecation.py:323] From <ipython-input-18-bc40387c5c6a>:1: BasicLSTMCell.__init__ (from tensorflow.python.ops.rnn_cell_impl) is deprecated and will be removed in a future version.\n",
      "Instructions for updating:\n",
      "This class is equivalent as tf.keras.layers.LSTMCell, and will be replaced by that in Tensorflow 2.0.\n"
     ]
    }
   ],
   "source": [
    "cell1 = tf.nn.rnn_cell.BasicLSTMCell(n_hidden) # 첫번째 셀 생성\n",
    "cell1 = tf.nn.rnn_cell.DropoutWrapper(cell1, output_keep_prob=0.5) # Dropout\n",
    "cell2 = tf.nn.rnn_cell.BasicLSTMCell(n_hidden) # 두번째 셀 생성"
   ]
  },
  {
   "cell_type": "code",
   "execution_count": 20,
   "metadata": {},
   "outputs": [
    {
     "name": "stderr",
     "output_type": "stream",
     "text": [
      "W1030 16:41:52.076076   232 deprecation.py:323] From <ipython-input-20-2ad9768e99fd>:2: MultiRNNCell.__init__ (from tensorflow.python.ops.rnn_cell_impl) is deprecated and will be removed in a future version.\n",
      "Instructions for updating:\n",
      "This class is equivalent as tf.keras.layers.StackedRNNCells, and will be replaced by that in Tensorflow 2.0.\n",
      "W1030 16:41:52.077975   232 deprecation.py:323] From <ipython-input-20-2ad9768e99fd>:3: dynamic_rnn (from tensorflow.python.ops.rnn) is deprecated and will be removed in a future version.\n",
      "Instructions for updating:\n",
      "Please use `keras.layers.RNN(cell)`, which is equivalent to this API\n",
      "W1030 16:41:52.574114   232 deprecation.py:506] From C:\\Python\\Anaconda3\\lib\\site-packages\\tensorflow\\python\\ops\\init_ops.py:1251: calling VarianceScaling.__init__ (from tensorflow.python.ops.init_ops) with dtype is deprecated and will be removed in a future version.\n",
      "Instructions for updating:\n",
      "Call initializer instance with the dtype argument instead of passing it to the constructor\n",
      "W1030 16:41:52.585801   232 deprecation.py:506] From C:\\Python\\Anaconda3\\lib\\site-packages\\tensorflow\\python\\ops\\rnn_cell_impl.py:738: calling Zeros.__init__ (from tensorflow.python.ops.init_ops) with dtype is deprecated and will be removed in a future version.\n",
      "Instructions for updating:\n",
      "Call initializer instance with the dtype argument instead of passing it to the constructor\n"
     ]
    }
   ],
   "source": [
    "# 에러 발생시 커널 restart\n",
    "multi_cell = tf.nn.rnn_cell.MultiRNNCell([cell1, cell2]) # 멀티 셀 생성.\n",
    "outputs, states = tf.nn.dynamic_rnn(multi_cell, X, dtype=tf.float32) \n",
    "# RNN신경망"
   ]
  },
  {
   "cell_type": "code",
   "execution_count": 21,
   "metadata": {},
   "outputs": [
    {
     "name": "stdout",
     "output_type": "stream",
     "text": [
      "multi_cell ======>\n",
      "<tensorflow.python.ops.rnn_cell_impl.MultiRNNCell object at 0x000002876AA096D8>\n",
      "\n",
      "outputs ======>\n",
      "Tensor(\"rnn/transpose_1:0\", shape=(?, 3, 128), dtype=float32)\n",
      "\n",
      "states ======>\n",
      "(LSTMStateTuple(c=<tf.Tensor 'rnn/while/Exit_3:0' shape=(?, 128) dtype=float32>, h=<tf.Tensor 'rnn/while/Exit_4:0' shape=(?, 128) dtype=float32>), LSTMStateTuple(c=<tf.Tensor 'rnn/while/Exit_5:0' shape=(?, 128) dtype=float32>, h=<tf.Tensor 'rnn/while/Exit_6:0' shape=(?, 128) dtype=float32>))\n"
     ]
    }
   ],
   "source": [
    "print(\"multi_cell ======>\")\n",
    "print(multi_cell)\n",
    "print()\n",
    "print(\"outputs ======>\")\n",
    "print(outputs)\n",
    "print()\n",
    "print(\"states ======>\")\n",
    "print(states)"
   ]
  },
  {
   "cell_type": "code",
   "execution_count": 22,
   "metadata": {},
   "outputs": [],
   "source": [
    "outputs = tf.transpose(outputs, [1, 0, 2])\n",
    "outputs = outputs[-1]\n",
    "model = tf.matmul(outputs, W) + b"
   ]
  },
  {
   "cell_type": "code",
   "execution_count": 24,
   "metadata": {},
   "outputs": [],
   "source": [
    "cost = tf.reduce_mean(\n",
    "            tf.nn.sparse_softmax_cross_entropy_with_logits(\n",
    "                logits=model, labels=Y))\n",
    "optimizer = tf.train.AdamOptimizer(learning_rate).minimize(cost)"
   ]
  },
  {
   "cell_type": "code",
   "execution_count": 25,
   "metadata": {},
   "outputs": [],
   "source": [
    "sess = tf.Session()\n",
    "sess.run(tf.global_variables_initializer())\n",
    "input_batch, target_batch = make_batch(seq_data, dic_len)"
   ]
  },
  {
   "cell_type": "code",
   "execution_count": 26,
   "metadata": {},
   "outputs": [
    {
     "name": "stdout",
     "output_type": "stream",
     "text": [
      "Epoch: 0001 cost = 3.220035\n",
      "Epoch: 0002 cost = 2.331971\n",
      "Epoch: 0003 cost = 1.350989\n",
      "Epoch: 0004 cost = 1.132795\n",
      "Epoch: 0005 cost = 0.930337\n",
      "Epoch: 0006 cost = 0.473265\n",
      "Epoch: 0007 cost = 0.522298\n",
      "Epoch: 0008 cost = 0.380008\n",
      "Epoch: 0009 cost = 0.326321\n",
      "Epoch: 0010 cost = 0.230560\n",
      "Epoch: 0011 cost = 0.133499\n",
      "Epoch: 0012 cost = 0.266808\n",
      "Epoch: 0013 cost = 0.265052\n",
      "Epoch: 0014 cost = 0.095857\n",
      "Epoch: 0015 cost = 0.055672\n",
      "Epoch: 0016 cost = 0.188474\n",
      "Epoch: 0017 cost = 0.487413\n",
      "Epoch: 0018 cost = 0.021052\n",
      "Epoch: 0019 cost = 0.111372\n",
      "Epoch: 0020 cost = 0.102897\n",
      "Epoch: 0021 cost = 0.020141\n",
      "Epoch: 0022 cost = 0.197268\n",
      "Epoch: 0023 cost = 0.160847\n",
      "Epoch: 0024 cost = 0.008887\n",
      "Epoch: 0025 cost = 0.063560\n",
      "Epoch: 0026 cost = 0.045201\n",
      "Epoch: 0027 cost = 0.103657\n",
      "Epoch: 0028 cost = 0.075440\n",
      "Epoch: 0029 cost = 0.079054\n",
      "Epoch: 0030 cost = 0.183254\n",
      "최적화 완료!\n"
     ]
    }
   ],
   "source": [
    "for epoch in range(total_epoch):\n",
    "    _, loss = sess.run([optimizer, cost],\n",
    "                        feed_dict={X: input_batch, Y: target_batch})\n",
    "    print('Epoch:', '%04d' % (epoch + 1),\n",
    "            'cost =', '{:.6f}'.format(loss))\n",
    "print('최적화 완료!')"
   ]
  },
  {
   "cell_type": "code",
   "execution_count": 27,
   "metadata": {},
   "outputs": [
    {
     "name": "stdout",
     "output_type": "stream",
     "text": [
      "prediction :  Tensor(\"Cast:0\", shape=(?,), dtype=int32)\n",
      "accuracy :  Tensor(\"Mean_1:0\", shape=(), dtype=float32)\n"
     ]
    }
   ],
   "source": [
    "# 레이블값이 정수이므로 예측값도 정수로 변경해줍니다.\n",
    "prediction = tf.cast(tf.argmax(model, 1), tf.int32)\n",
    "print(\"prediction : \", prediction)\n",
    "# one-hot 인코딩이 아니므로 입력값을 그대로 비교합니다.\n",
    "prediction_check = tf.equal(prediction, Y)\n",
    "accuracy = tf.reduce_mean(tf.cast(prediction_check, tf.float32))\n",
    "print(\"accuracy : \", accuracy)"
   ]
  },
  {
   "cell_type": "code",
   "execution_count": 28,
   "metadata": {},
   "outputs": [],
   "source": [
    "seq_data_test = ['hard', 'okay', 'deep', 'live',\n",
    "'call', 'cool', 'load', 'love', 'kiss', 'kind']"
   ]
  },
  {
   "cell_type": "code",
   "execution_count": 30,
   "metadata": {},
   "outputs": [
    {
     "name": "stdout",
     "output_type": "stream",
     "text": [
      "[ 3  3 15  4  3 11  3  4 18  3] 0.8\n"
     ]
    }
   ],
   "source": [
    "input_batch, target_batch = make_batch(seq_data_test, dic_len)\n",
    "predict, accuracy_val = sess.run([prediction, accuracy],\n",
    "                                feed_dict={X: input_batch, Y: target_batch})\n",
    "print(predict, accuracy_val)"
   ]
  },
  {
   "cell_type": "code",
   "execution_count": 31,
   "metadata": {},
   "outputs": [
    {
     "name": "stdout",
     "output_type": "stream",
     "text": [
      "\n",
      "=== 예측 결과 ===\n",
      "입력값: ['har ', 'oka ', 'dee ', 'liv ', 'cal ', 'coo ', 'loa ', 'lov ', 'kis ', 'kin ']\n",
      "예측값: ['hard', 'okad', 'deep', 'live', 'cald', 'cool', 'load', 'love', 'kiss', 'kind']\n",
      "정확도: 0.8\n"
     ]
    }
   ],
   "source": [
    "predict_words = []\n",
    "for idx, val in enumerate(seq_data_test):\n",
    "    last_char = char_arr[predict[idx]]\n",
    "    predict_words.append(val[:3] + last_char)\n",
    "print('\\n=== 예측 결과 ===')\n",
    "print('입력값:', [w[:3] + ' ' for w in seq_data_test])\n",
    "print('예측값:', predict_words)\n",
    "print('정확도:', accuracy_val)"
   ]
  },
  {
   "cell_type": "code",
   "execution_count": null,
   "metadata": {},
   "outputs": [],
   "source": []
  }
 ],
 "metadata": {
  "kernelspec": {
   "display_name": "Python 3",
   "language": "python",
   "name": "python3"
  },
  "language_info": {
   "codemirror_mode": {
    "name": "ipython",
    "version": 3
   },
   "file_extension": ".py",
   "mimetype": "text/x-python",
   "name": "python",
   "nbconvert_exporter": "python",
   "pygments_lexer": "ipython3",
   "version": "3.7.3"
  }
 },
 "nbformat": 4,
 "nbformat_minor": 2
}
