{
 "cells": [
  {
   "cell_type": "code",
   "execution_count": 0,
   "metadata": {
    "colab": {},
    "colab_type": "code",
    "id": "nI8rnODpI82O"
   },
   "outputs": [],
   "source": [
    "import tensorflow as tf\n",
    "from tensorflow import keras"
   ]
  },
  {
   "cell_type": "code",
   "execution_count": 2,
   "metadata": {
    "colab": {
     "base_uri": "https://localhost:8080/",
     "height": 35
    },
    "colab_type": "code",
    "executionInfo": {
     "elapsed": 531,
     "status": "ok",
     "timestamp": 1568957348110,
     "user": {
      "displayName": "양한솔",
      "photoUrl": "",
      "userId": "12251541929954576282"
     },
     "user_tz": -540
    },
    "id": "kPYo1aoMJG-f",
    "outputId": "9ac8608d-b85c-42ae-d0b2-63817158ac64"
   },
   "outputs": [
    {
     "name": "stderr",
     "output_type": "stream",
     "text": [
      "Using TensorFlow backend.\n"
     ]
    }
   ],
   "source": [
    "import numpy as np\n",
    "import matplotlib.pyplot as plt\n",
    "\n",
    "from keras.utils import np_utils\n",
    "from keras.datasets import mnist\n",
    "from keras.models import Sequential\n",
    "from keras.layers import Dense, Activation"
   ]
  },
  {
   "cell_type": "code",
   "execution_count": 3,
   "metadata": {
    "colab": {
     "base_uri": "https://localhost:8080/",
     "height": 181
    },
    "colab_type": "code",
    "executionInfo": {
     "elapsed": 1700,
     "status": "ok",
     "timestamp": 1568957455150,
     "user": {
      "displayName": "양한솔",
      "photoUrl": "",
      "userId": "12251541929954576282"
     },
     "user_tz": -540
    },
    "id": "7XkuonmjJTae",
    "outputId": "2ffc1627-6978-4489-a35c-995cf51742ac"
   },
   "outputs": [
    {
     "name": "stdout",
     "output_type": "stream",
     "text": [
      "Downloading data from https://storage.googleapis.com/tensorflow/tf-keras-datasets/train-labels-idx1-ubyte.gz\n",
      "32768/29515 [=================================] - 0s 0us/step\n",
      "Downloading data from https://storage.googleapis.com/tensorflow/tf-keras-datasets/train-images-idx3-ubyte.gz\n",
      "26427392/26421880 [==============================] - 0s 0us/step\n",
      "Downloading data from https://storage.googleapis.com/tensorflow/tf-keras-datasets/t10k-labels-idx1-ubyte.gz\n",
      "8192/5148 [===============================================] - 0s 0us/step\n",
      "Downloading data from https://storage.googleapis.com/tensorflow/tf-keras-datasets/t10k-images-idx3-ubyte.gz\n",
      "4423680/4422102 [==============================] - 0s 0us/step\n"
     ]
    }
   ],
   "source": [
    "fashion_mnist = keras.datasets.fashion_mnist\n",
    "\n",
    "(tr_image, tr_label), (te_image, te_label) = fashion_mnist.load_data()"
   ]
  },
  {
   "cell_type": "code",
   "execution_count": 4,
   "metadata": {
    "colab": {
     "base_uri": "https://localhost:8080/",
     "height": 35
    },
    "colab_type": "code",
    "executionInfo": {
     "elapsed": 561,
     "status": "ok",
     "timestamp": 1568957476676,
     "user": {
      "displayName": "양한솔",
      "photoUrl": "",
      "userId": "12251541929954576282"
     },
     "user_tz": -540
    },
    "id": "gr6qfLrIJtQt",
    "outputId": "c0909367-1c84-46e6-dd80-de56a2b67693"
   },
   "outputs": [
    {
     "data": {
      "text/plain": [
       "(60000, 28, 28)"
      ]
     },
     "execution_count": 4,
     "metadata": {
      "tags": []
     },
     "output_type": "execute_result"
    }
   ],
   "source": [
    "tr_image.shape"
   ]
  },
  {
   "cell_type": "code",
   "execution_count": 6,
   "metadata": {
    "colab": {
     "base_uri": "https://localhost:8080/",
     "height": 35
    },
    "colab_type": "code",
    "executionInfo": {
     "elapsed": 566,
     "status": "ok",
     "timestamp": 1568957510757,
     "user": {
      "displayName": "양한솔",
      "photoUrl": "",
      "userId": "12251541929954576282"
     },
     "user_tz": -540
    },
    "id": "JZR1hA6iJyy-",
    "outputId": "ede20a7f-ef2c-4cc5-eeb3-95255d8693a3"
   },
   "outputs": [
    {
     "data": {
      "text/plain": [
       "(60000,)"
      ]
     },
     "execution_count": 6,
     "metadata": {
      "tags": []
     },
     "output_type": "execute_result"
    }
   ],
   "source": [
    "tr_label.shape"
   ]
  },
  {
   "cell_type": "code",
   "execution_count": 8,
   "metadata": {
    "colab": {
     "base_uri": "https://localhost:8080/",
     "height": 269
    },
    "colab_type": "code",
    "executionInfo": {
     "elapsed": 585,
     "status": "ok",
     "timestamp": 1568957549735,
     "user": {
      "displayName": "양한솔",
      "photoUrl": "",
      "userId": "12251541929954576282"
     },
     "user_tz": -540
    },
    "id": "KhH-bLNuJ5xu",
    "outputId": "b714a664-2a92-49b0-dafd-1b2d52bfc99c"
   },
   "outputs": [
    {
     "data": {
      "image/png": "[encoded data removed]",
      "text/plain": [
       "<Figure size 432x288 with 1 Axes>"
      ]
     },
     "metadata": {
      "tags": []
     },
     "output_type": "display_data"
    }
   ],
   "source": [
    "plt.figure()\n",
    "plt.imshow(tr_image[10])\n",
    "plt.show()"
   ]
  },
  {
   "cell_type": "code",
   "execution_count": 0,
   "metadata": {
    "colab": {},
    "colab_type": "code",
    "id": "HFmYH2A-Kk3M"
   },
   "outputs": [],
   "source": [
    "label_name = ['Top', 'Pants', 'Pullover','Dress','Coat','Sandle','Shirt','Sneaker', 'Bag','Shoes']"
   ]
  },
  {
   "cell_type": "code",
   "execution_count": 10,
   "metadata": {
    "colab": {
     "base_uri": "https://localhost:8080/",
     "height": 592
    },
    "colab_type": "code",
    "executionInfo": {
     "elapsed": 1908,
     "status": "ok",
     "timestamp": 1568957781248,
     "user": {
      "displayName": "양한솔",
      "photoUrl": "",
      "userId": "12251541929954576282"
     },
     "user_tz": -540
    },
    "id": "XK_XcTspKBDN",
    "outputId": "7e567efb-7468-48d0-917b-4cdd3a524d36"
   },
   "outputs": [
    {
     "data": {
      "image/png": "[encoded data removed]",
      "text/plain": [
       "<Figure size 720x720 with 25 Axes>"
      ]
     },
     "metadata": {
      "tags": []
     },
     "output_type": "display_data"
    }
   ],
   "source": [
    "plt.figure(figsize=(10,10))\n",
    "for i in range(25):\n",
    "  plt.subplot(5,5,i+1)\n",
    "  plt.xticks([])\n",
    "  plt.yticks([])\n",
    "  plt.grid(False)\n",
    "  plt.imshow(tr_image[i])\n",
    "  plt.xlabel(label_name[tr_label[i]])\n",
    "plt.show()"
   ]
  },
  {
   "cell_type": "code",
   "execution_count": 0,
   "metadata": {
    "colab": {},
    "colab_type": "code",
    "id": "p0uJNdo2K80u"
   },
   "outputs": [],
   "source": [
    "tr_image = tr_image.reshape(60000, 784).astype('float32')/255.0\n",
    "te_image = te_image.reshape(10000, 784).astype('float32')/255.0"
   ]
  },
  {
   "cell_type": "code",
   "execution_count": 0,
   "metadata": {
    "colab": {},
    "colab_type": "code",
    "id": "b0XE_vv3hlkR"
   },
   "outputs": [],
   "source": []
  },
  {
   "cell_type": "code",
   "execution_count": 0,
   "metadata": {
    "colab": {},
    "colab_type": "code",
    "id": "o1p85IbWLT0O"
   },
   "outputs": [],
   "source": [
    "tr_label = np_utils.to_categorical(tr_label)\n",
    "te_label = np_utils.to_categorical(te_label)"
   ]
  },
  {
   "cell_type": "code",
   "execution_count": 13,
   "metadata": {
    "colab": {
     "base_uri": "https://localhost:8080/",
     "height": 143
    },
    "colab_type": "code",
    "executionInfo": {
     "elapsed": 510,
     "status": "ok",
     "timestamp": 1568957992681,
     "user": {
      "displayName": "양한솔",
      "photoUrl": "",
      "userId": "12251541929954576282"
     },
     "user_tz": -540
    },
    "id": "b8W4DvQMLuof",
    "outputId": "a3e7dcf9-f634-40d6-9e74-8dda21dc90f6"
   },
   "outputs": [
    {
     "data": {
      "text/plain": [
       "array([[0., 0., 0., ..., 0., 0., 1.],\n",
       "       [1., 0., 0., ..., 0., 0., 0.],\n",
       "       [1., 0., 0., ..., 0., 0., 0.],\n",
       "       ...,\n",
       "       [0., 0., 0., ..., 0., 0., 0.],\n",
       "       [1., 0., 0., ..., 0., 0., 0.],\n",
       "       [0., 0., 0., ..., 0., 0., 0.]], dtype=float32)"
      ]
     },
     "execution_count": 13,
     "metadata": {
      "tags": []
     },
     "output_type": "execute_result"
    }
   ],
   "source": [
    "tr_label"
   ]
  },
  {
   "cell_type": "code",
   "execution_count": 0,
   "metadata": {
    "colab": {},
    "colab_type": "code",
    "id": "klN79chjLwyO"
   },
   "outputs": [],
   "source": [
    "val_image = tr_image[50000:]\n",
    "val_label = tr_label[50000:]\n",
    "tr_image = tr_image[:50000]\n",
    "tr_label = tr_label[:50000]"
   ]
  },
  {
   "cell_type": "code",
   "execution_count": 15,
   "metadata": {
    "colab": {
     "base_uri": "https://localhost:8080/",
     "height": 35
    },
    "colab_type": "code",
    "executionInfo": {
     "elapsed": 516,
     "status": "ok",
     "timestamp": 1568958331091,
     "user": {
      "displayName": "양한솔",
      "photoUrl": "",
      "userId": "12251541929954576282"
     },
     "user_tz": -540
    },
    "id": "maTJ5U7gMile",
    "outputId": "ef97efc4-5525-4bac-addb-8e1083eaa36d"
   },
   "outputs": [
    {
     "data": {
      "text/plain": [
       "784"
      ]
     },
     "execution_count": 15,
     "metadata": {
      "tags": []
     },
     "output_type": "execute_result"
    }
   ],
   "source": [
    "28*28"
   ]
  },
  {
   "cell_type": "code",
   "execution_count": 16,
   "metadata": {
    "colab": {
     "base_uri": "https://localhost:8080/",
     "height": 35
    },
    "colab_type": "code",
    "executionInfo": {
     "elapsed": 538,
     "status": "ok",
     "timestamp": 1568958754229,
     "user": {
      "displayName": "양한솔",
      "photoUrl": "",
      "userId": "12251541929954576282"
     },
     "user_tz": -540
    },
    "id": "gL4etpzsNDZv",
    "outputId": "6faa17df-2f7f-4513-a32b-1f3468c18748"
   },
   "outputs": [
    {
     "data": {
      "text/plain": [
       "(10000, 784)"
      ]
     },
     "execution_count": 16,
     "metadata": {
      "tags": []
     },
     "output_type": "execute_result"
    }
   ],
   "source": [
    "val_image.shape"
   ]
  },
  {
   "cell_type": "code",
   "execution_count": 0,
   "metadata": {
    "colab": {},
    "colab_type": "code",
    "id": "iBgPyKwWOqs_"
   },
   "outputs": [],
   "source": [
    "tr_rand = np.random.choice(50000, 700)\n",
    "val_rand = np.random.choice(10000, 300)\n",
    "\n",
    "tr_image = tr_image[tr_rand]\n",
    "tr_label = tr_label[tr_rand]\n",
    "val_image = val_image[val_rand]\n",
    "val_label = val_label[val_rand]"
   ]
  },
  {
   "cell_type": "markdown",
   "metadata": {
    "colab_type": "text",
    "id": "neqOQR7fREYQ"
   },
   "source": [
    "# 모델 구성하기"
   ]
  },
  {
   "cell_type": "code",
   "execution_count": 0,
   "metadata": {
    "colab": {},
    "colab_type": "code",
    "id": "a-5RLBIxRI8D"
   },
   "outputs": [],
   "source": [
    "model = Sequential()\n",
    "model.add(Dense(units=64, input_dim=28*28, activation='relu'))\n",
    "model.add(Dense(64, activation='relu'))\n",
    "model.add(Dense(units=10, activation='softmax'))"
   ]
  },
  {
   "cell_type": "markdown",
   "metadata": {
    "colab_type": "text",
    "id": "gVsL-EowS_Mm"
   },
   "source": [
    "# 모델 학습과정 설정"
   ]
  },
  {
   "cell_type": "code",
   "execution_count": 0,
   "metadata": {
    "colab": {},
    "colab_type": "code",
    "id": "oRgh-KzjTFO1"
   },
   "outputs": [],
   "source": [
    "model.compile(loss='categorical_crossentropy', optimizer='sgd', metrics=['accuracy'])"
   ]
  },
  {
   "cell_type": "code",
   "execution_count": 0,
   "metadata": {
    "colab": {},
    "colab_type": "code",
    "id": "VD0yMNS5TttR"
   },
   "outputs": [],
   "source": []
  },
  {
   "cell_type": "markdown",
   "metadata": {
    "colab_type": "text",
    "id": "l5URQUyGTxuu"
   },
   "source": [
    "# 모델 학습시키기"
   ]
  },
  {
   "cell_type": "code",
   "execution_count": 26,
   "metadata": {
    "colab": {
     "base_uri": "https://localhost:8080/",
     "height": 1000
    },
    "colab_type": "code",
    "executionInfo": {
     "elapsed": 5191,
     "status": "ok",
     "timestamp": 1568961777338,
     "user": {
      "displayName": "양한솔",
      "photoUrl": "",
      "userId": "12251541929954576282"
     },
     "user_tz": -540
    },
    "id": "B3yZ6Jz2T1wF",
    "outputId": "3126a271-a79f-4963-e864-1b9b36dc5b8e"
   },
   "outputs": [
    {
     "name": "stdout",
     "output_type": "stream",
     "text": [
      "Train on 700 samples, validate on 300 samples\n",
      "Epoch 1/100\n",
      "700/700 [==============================] - 0s 274us/step - loss: 2.2379 - acc: 0.2071 - val_loss: 2.0940 - val_acc: 0.2700\n",
      "Epoch 2/100\n",
      "700/700 [==============================] - 0s 56us/step - loss: 2.0370 - acc: 0.3443 - val_loss: 1.9354 - val_acc: 0.3533\n",
      "Epoch 3/100\n",
      "700/700 [==============================] - 0s 60us/step - loss: 1.8826 - acc: 0.4229 - val_loss: 1.7774 - val_acc: 0.4167\n",
      "Epoch 4/100\n",
      "700/700 [==============================] - 0s 57us/step - loss: 1.7281 - acc: 0.4800 - val_loss: 1.6216 - val_acc: 0.5400\n",
      "Epoch 5/100\n",
      "700/700 [==============================] - 0s 65us/step - loss: 1.5814 - acc: 0.5471 - val_loss: 1.4746 - val_acc: 0.6000\n",
      "Epoch 6/100\n",
      "700/700 [==============================] - 0s 60us/step - loss: 1.4485 - acc: 0.6029 - val_loss: 1.3566 - val_acc: 0.6067\n",
      "Epoch 7/100\n",
      "700/700 [==============================] - 0s 59us/step - loss: 1.3363 - acc: 0.6086 - val_loss: 1.2614 - val_acc: 0.6333\n",
      "Epoch 8/100\n",
      "700/700 [==============================] - 0s 58us/step - loss: 1.2391 - acc: 0.6329 - val_loss: 1.1548 - val_acc: 0.6567\n",
      "Epoch 9/100\n",
      "700/700 [==============================] - 0s 59us/step - loss: 1.1612 - acc: 0.6443 - val_loss: 1.0889 - val_acc: 0.6667\n",
      "Epoch 10/100\n",
      "700/700 [==============================] - 0s 58us/step - loss: 1.0970 - acc: 0.6700 - val_loss: 1.0377 - val_acc: 0.6933\n",
      "Epoch 11/100\n",
      "700/700 [==============================] - 0s 61us/step - loss: 1.0466 - acc: 0.6600 - val_loss: 0.9978 - val_acc: 0.6933\n",
      "Epoch 12/100\n",
      "700/700 [==============================] - 0s 65us/step - loss: 0.9997 - acc: 0.6743 - val_loss: 0.9623 - val_acc: 0.7100\n",
      "Epoch 13/100\n",
      "700/700 [==============================] - 0s 60us/step - loss: 0.9607 - acc: 0.7171 - val_loss: 0.9202 - val_acc: 0.7167\n",
      "Epoch 14/100\n",
      "700/700 [==============================] - 0s 61us/step - loss: 0.9267 - acc: 0.7157 - val_loss: 0.9070 - val_acc: 0.7267\n",
      "Epoch 15/100\n",
      "700/700 [==============================] - 0s 59us/step - loss: 0.8997 - acc: 0.7214 - val_loss: 0.8612 - val_acc: 0.7400\n",
      "Epoch 16/100\n",
      "700/700 [==============================] - 0s 59us/step - loss: 0.8636 - acc: 0.7314 - val_loss: 0.8694 - val_acc: 0.7200\n",
      "Epoch 17/100\n",
      "700/700 [==============================] - 0s 68us/step - loss: 0.8398 - acc: 0.7429 - val_loss: 0.8414 - val_acc: 0.7333\n",
      "Epoch 18/100\n",
      "700/700 [==============================] - 0s 60us/step - loss: 0.8214 - acc: 0.7329 - val_loss: 0.8207 - val_acc: 0.7433\n",
      "Epoch 19/100\n",
      "700/700 [==============================] - 0s 59us/step - loss: 0.7969 - acc: 0.7400 - val_loss: 0.8053 - val_acc: 0.7400\n",
      "Epoch 20/100\n",
      "700/700 [==============================] - 0s 63us/step - loss: 0.7720 - acc: 0.7457 - val_loss: 0.7706 - val_acc: 0.7400\n",
      "Epoch 21/100\n",
      "700/700 [==============================] - 0s 59us/step - loss: 0.7551 - acc: 0.7571 - val_loss: 0.7645 - val_acc: 0.7533\n",
      "Epoch 22/100\n",
      "700/700 [==============================] - 0s 63us/step - loss: 0.7401 - acc: 0.7686 - val_loss: 0.7695 - val_acc: 0.7533\n",
      "Epoch 23/100\n",
      "700/700 [==============================] - 0s 66us/step - loss: 0.7223 - acc: 0.7643 - val_loss: 0.7539 - val_acc: 0.7600\n",
      "Epoch 24/100\n",
      "700/700 [==============================] - 0s 69us/step - loss: 0.7038 - acc: 0.7786 - val_loss: 0.7317 - val_acc: 0.7667\n",
      "Epoch 25/100\n",
      "700/700 [==============================] - 0s 60us/step - loss: 0.6904 - acc: 0.7786 - val_loss: 0.7587 - val_acc: 0.7567\n",
      "Epoch 26/100\n",
      "700/700 [==============================] - 0s 59us/step - loss: 0.6803 - acc: 0.7829 - val_loss: 0.7147 - val_acc: 0.7567\n",
      "Epoch 27/100\n",
      "700/700 [==============================] - 0s 67us/step - loss: 0.6616 - acc: 0.7871 - val_loss: 0.7121 - val_acc: 0.7833\n",
      "Epoch 28/100\n",
      "700/700 [==============================] - 0s 65us/step - loss: 0.6510 - acc: 0.7914 - val_loss: 0.7170 - val_acc: 0.7633\n",
      "Epoch 29/100\n",
      "700/700 [==============================] - 0s 60us/step - loss: 0.6388 - acc: 0.7957 - val_loss: 0.6954 - val_acc: 0.7667\n",
      "Epoch 30/100\n",
      "700/700 [==============================] - 0s 60us/step - loss: 0.6229 - acc: 0.7957 - val_loss: 0.6832 - val_acc: 0.7667\n",
      "Epoch 31/100\n",
      "700/700 [==============================] - 0s 60us/step - loss: 0.6139 - acc: 0.7943 - val_loss: 0.6817 - val_acc: 0.7833\n",
      "Epoch 32/100\n",
      "700/700 [==============================] - 0s 63us/step - loss: 0.6063 - acc: 0.8043 - val_loss: 0.6777 - val_acc: 0.7833\n",
      "Epoch 33/100\n",
      "700/700 [==============================] - 0s 60us/step - loss: 0.5889 - acc: 0.8014 - val_loss: 0.6657 - val_acc: 0.7900\n",
      "Epoch 34/100\n",
      "700/700 [==============================] - 0s 60us/step - loss: 0.5778 - acc: 0.8214 - val_loss: 0.6688 - val_acc: 0.7900\n",
      "Epoch 35/100\n",
      "700/700 [==============================] - 0s 59us/step - loss: 0.5707 - acc: 0.8114 - val_loss: 0.6780 - val_acc: 0.7800\n",
      "Epoch 36/100\n",
      "700/700 [==============================] - 0s 60us/step - loss: 0.5567 - acc: 0.8243 - val_loss: 0.6915 - val_acc: 0.7567\n",
      "Epoch 37/100\n",
      "700/700 [==============================] - 0s 59us/step - loss: 0.5533 - acc: 0.8229 - val_loss: 0.6995 - val_acc: 0.7633\n",
      "Epoch 38/100\n",
      "700/700 [==============================] - 0s 57us/step - loss: 0.5436 - acc: 0.8271 - val_loss: 0.6473 - val_acc: 0.7900\n",
      "Epoch 39/100\n",
      "700/700 [==============================] - 0s 58us/step - loss: 0.5292 - acc: 0.8343 - val_loss: 0.6448 - val_acc: 0.7900\n",
      "Epoch 40/100\n",
      "700/700 [==============================] - 0s 66us/step - loss: 0.5300 - acc: 0.8229 - val_loss: 0.6529 - val_acc: 0.7800\n",
      "Epoch 41/100\n",
      "700/700 [==============================] - 0s 58us/step - loss: 0.5235 - acc: 0.8314 - val_loss: 0.6441 - val_acc: 0.8000\n",
      "Epoch 42/100\n",
      "700/700 [==============================] - 0s 63us/step - loss: 0.5071 - acc: 0.8386 - val_loss: 0.6439 - val_acc: 0.7867\n",
      "Epoch 43/100\n",
      "700/700 [==============================] - 0s 58us/step - loss: 0.5040 - acc: 0.8414 - val_loss: 0.6290 - val_acc: 0.7933\n",
      "Epoch 44/100\n",
      "700/700 [==============================] - 0s 60us/step - loss: 0.4883 - acc: 0.8471 - val_loss: 0.6371 - val_acc: 0.7833\n",
      "Epoch 45/100\n",
      "700/700 [==============================] - 0s 59us/step - loss: 0.4842 - acc: 0.8457 - val_loss: 0.6678 - val_acc: 0.7800\n",
      "Epoch 46/100\n",
      "700/700 [==============================] - 0s 66us/step - loss: 0.4865 - acc: 0.8471 - val_loss: 0.6402 - val_acc: 0.7933\n",
      "Epoch 47/100\n",
      "700/700 [==============================] - 0s 57us/step - loss: 0.4705 - acc: 0.8571 - val_loss: 0.6361 - val_acc: 0.7900\n",
      "Epoch 48/100\n",
      "700/700 [==============================] - 0s 59us/step - loss: 0.4727 - acc: 0.8486 - val_loss: 0.6164 - val_acc: 0.7933\n",
      "Epoch 49/100\n",
      "700/700 [==============================] - 0s 59us/step - loss: 0.4617 - acc: 0.8443 - val_loss: 0.6436 - val_acc: 0.7800\n",
      "Epoch 50/100\n",
      "700/700 [==============================] - 0s 61us/step - loss: 0.4603 - acc: 0.8600 - val_loss: 0.6170 - val_acc: 0.7933\n",
      "Epoch 51/100\n",
      "700/700 [==============================] - 0s 61us/step - loss: 0.4622 - acc: 0.8529 - val_loss: 0.6138 - val_acc: 0.7900\n",
      "Epoch 52/100\n",
      "700/700 [==============================] - 0s 58us/step - loss: 0.4457 - acc: 0.8614 - val_loss: 0.6161 - val_acc: 0.7967\n",
      "Epoch 53/100\n",
      "700/700 [==============================] - 0s 59us/step - loss: 0.4375 - acc: 0.8600 - val_loss: 0.6045 - val_acc: 0.7967\n",
      "Epoch 54/100\n",
      "700/700 [==============================] - 0s 59us/step - loss: 0.4317 - acc: 0.8614 - val_loss: 0.6287 - val_acc: 0.7867\n",
      "Epoch 55/100\n",
      "700/700 [==============================] - 0s 59us/step - loss: 0.4254 - acc: 0.8643 - val_loss: 0.6141 - val_acc: 0.7900\n",
      "Epoch 56/100\n",
      "700/700 [==============================] - 0s 66us/step - loss: 0.4246 - acc: 0.8643 - val_loss: 0.6430 - val_acc: 0.7867\n",
      "Epoch 57/100\n",
      "700/700 [==============================] - 0s 58us/step - loss: 0.4200 - acc: 0.8629 - val_loss: 0.6362 - val_acc: 0.7733\n",
      "Epoch 58/100\n",
      "700/700 [==============================] - 0s 60us/step - loss: 0.4109 - acc: 0.8700 - val_loss: 0.6131 - val_acc: 0.7967\n",
      "Epoch 59/100\n",
      "700/700 [==============================] - 0s 59us/step - loss: 0.4086 - acc: 0.8700 - val_loss: 0.6083 - val_acc: 0.8067\n",
      "Epoch 60/100\n",
      "700/700 [==============================] - 0s 62us/step - loss: 0.4031 - acc: 0.8743 - val_loss: 0.6124 - val_acc: 0.7933\n",
      "Epoch 61/100\n",
      "700/700 [==============================] - 0s 60us/step - loss: 0.3980 - acc: 0.8729 - val_loss: 0.6424 - val_acc: 0.7833\n",
      "Epoch 62/100\n",
      "700/700 [==============================] - 0s 64us/step - loss: 0.3928 - acc: 0.8843 - val_loss: 0.5899 - val_acc: 0.8033\n",
      "Epoch 63/100\n",
      "700/700 [==============================] - 0s 60us/step - loss: 0.3876 - acc: 0.8743 - val_loss: 0.5905 - val_acc: 0.8000\n",
      "Epoch 64/100\n",
      "700/700 [==============================] - 0s 60us/step - loss: 0.3795 - acc: 0.8786 - val_loss: 0.5960 - val_acc: 0.8033\n",
      "Epoch 65/100\n",
      "700/700 [==============================] - 0s 59us/step - loss: 0.3726 - acc: 0.8829 - val_loss: 0.6072 - val_acc: 0.7933\n",
      "Epoch 66/100\n",
      "700/700 [==============================] - 0s 57us/step - loss: 0.3740 - acc: 0.8829 - val_loss: 0.6088 - val_acc: 0.8100\n",
      "Epoch 67/100\n",
      "700/700 [==============================] - 0s 61us/step - loss: 0.3643 - acc: 0.8929 - val_loss: 0.6348 - val_acc: 0.7800\n",
      "Epoch 68/100\n",
      "700/700 [==============================] - 0s 59us/step - loss: 0.3636 - acc: 0.8871 - val_loss: 0.6048 - val_acc: 0.8100\n",
      "Epoch 69/100\n",
      "700/700 [==============================] - 0s 60us/step - loss: 0.3659 - acc: 0.8900 - val_loss: 0.6106 - val_acc: 0.7967\n",
      "Epoch 70/100\n",
      "700/700 [==============================] - 0s 64us/step - loss: 0.3483 - acc: 0.8957 - val_loss: 0.6263 - val_acc: 0.8000\n",
      "Epoch 71/100\n",
      "700/700 [==============================] - 0s 57us/step - loss: 0.3499 - acc: 0.8914 - val_loss: 0.6046 - val_acc: 0.7933\n",
      "Epoch 72/100\n",
      "700/700 [==============================] - 0s 58us/step - loss: 0.3430 - acc: 0.8971 - val_loss: 0.5947 - val_acc: 0.8100\n",
      "Epoch 73/100\n",
      "700/700 [==============================] - 0s 62us/step - loss: 0.3435 - acc: 0.8986 - val_loss: 0.5941 - val_acc: 0.8000\n",
      "Epoch 74/100\n",
      "700/700 [==============================] - 0s 61us/step - loss: 0.3437 - acc: 0.8900 - val_loss: 0.5952 - val_acc: 0.8100\n",
      "Epoch 75/100\n",
      "700/700 [==============================] - 0s 57us/step - loss: 0.3384 - acc: 0.8929 - val_loss: 0.6111 - val_acc: 0.8033\n",
      "Epoch 76/100\n",
      "700/700 [==============================] - 0s 58us/step - loss: 0.3317 - acc: 0.8986 - val_loss: 0.5889 - val_acc: 0.8167\n",
      "Epoch 77/100\n",
      "700/700 [==============================] - 0s 58us/step - loss: 0.3347 - acc: 0.9000 - val_loss: 0.5994 - val_acc: 0.8100\n",
      "Epoch 78/100\n",
      "700/700 [==============================] - 0s 62us/step - loss: 0.3300 - acc: 0.8957 - val_loss: 0.6160 - val_acc: 0.8000\n",
      "Epoch 79/100\n",
      "700/700 [==============================] - 0s 57us/step - loss: 0.3201 - acc: 0.8943 - val_loss: 0.5912 - val_acc: 0.8100\n",
      "Epoch 80/100\n",
      "700/700 [==============================] - 0s 60us/step - loss: 0.3207 - acc: 0.8971 - val_loss: 0.6082 - val_acc: 0.8100\n",
      "Epoch 81/100\n",
      "700/700 [==============================] - 0s 57us/step - loss: 0.3121 - acc: 0.9143 - val_loss: 0.6016 - val_acc: 0.8000\n",
      "Epoch 82/100\n",
      "700/700 [==============================] - 0s 60us/step - loss: 0.3062 - acc: 0.9014 - val_loss: 0.5947 - val_acc: 0.8167\n",
      "Epoch 83/100\n",
      "700/700 [==============================] - 0s 60us/step - loss: 0.3140 - acc: 0.9114 - val_loss: 0.5935 - val_acc: 0.8167\n",
      "Epoch 84/100\n",
      "700/700 [==============================] - 0s 64us/step - loss: 0.3007 - acc: 0.8971 - val_loss: 0.6119 - val_acc: 0.7900\n",
      "Epoch 85/100\n",
      "700/700 [==============================] - 0s 58us/step - loss: 0.2975 - acc: 0.9143 - val_loss: 0.5955 - val_acc: 0.8133\n",
      "Epoch 86/100\n",
      "700/700 [==============================] - 0s 59us/step - loss: 0.2918 - acc: 0.9043 - val_loss: 0.5970 - val_acc: 0.8000\n",
      "Epoch 87/100\n",
      "700/700 [==============================] - 0s 60us/step - loss: 0.2927 - acc: 0.9114 - val_loss: 0.5987 - val_acc: 0.7967\n",
      "Epoch 88/100\n",
      "700/700 [==============================] - 0s 57us/step - loss: 0.2908 - acc: 0.9171 - val_loss: 0.6048 - val_acc: 0.7967\n",
      "Epoch 89/100\n",
      "700/700 [==============================] - 0s 62us/step - loss: 0.2833 - acc: 0.9114 - val_loss: 0.6259 - val_acc: 0.7933\n",
      "Epoch 90/100\n",
      "700/700 [==============================] - 0s 63us/step - loss: 0.2822 - acc: 0.9200 - val_loss: 0.6069 - val_acc: 0.8000\n",
      "Epoch 91/100\n",
      "700/700 [==============================] - 0s 60us/step - loss: 0.2735 - acc: 0.9171 - val_loss: 0.6009 - val_acc: 0.7967\n",
      "Epoch 92/100\n",
      "700/700 [==============================] - 0s 59us/step - loss: 0.2742 - acc: 0.9271 - val_loss: 0.6019 - val_acc: 0.7967\n",
      "Epoch 93/100\n",
      "700/700 [==============================] - 0s 59us/step - loss: 0.2651 - acc: 0.9286 - val_loss: 0.6723 - val_acc: 0.7633\n",
      "Epoch 94/100\n",
      "700/700 [==============================] - 0s 65us/step - loss: 0.2688 - acc: 0.9243 - val_loss: 0.6062 - val_acc: 0.7967\n",
      "Epoch 95/100\n",
      "700/700 [==============================] - 0s 59us/step - loss: 0.2623 - acc: 0.9257 - val_loss: 0.5990 - val_acc: 0.8100\n",
      "Epoch 96/100\n",
      "700/700 [==============================] - 0s 60us/step - loss: 0.2674 - acc: 0.9271 - val_loss: 0.5903 - val_acc: 0.8133\n",
      "Epoch 97/100\n",
      "700/700 [==============================] - 0s 62us/step - loss: 0.2551 - acc: 0.9286 - val_loss: 0.6080 - val_acc: 0.8000\n",
      "Epoch 98/100\n",
      "700/700 [==============================] - 0s 55us/step - loss: 0.2515 - acc: 0.9386 - val_loss: 0.5874 - val_acc: 0.8233\n",
      "Epoch 99/100\n",
      "700/700 [==============================] - 0s 61us/step - loss: 0.2462 - acc: 0.9343 - val_loss: 0.5916 - val_acc: 0.8200\n",
      "Epoch 100/100\n",
      "700/700 [==============================] - 0s 58us/step - loss: 0.2478 - acc: 0.9314 - val_loss: 0.6002 - val_acc: 0.8100\n"
     ]
    }
   ],
   "source": [
    "hist= model.fit(tr_image, tr_label, epochs=100, batch_size=32, validation_data=(val_image, val_label)) "
   ]
  },
  {
   "cell_type": "code",
   "execution_count": 27,
   "metadata": {
    "colab": {
     "base_uri": "https://localhost:8080/",
     "height": 283
    },
    "colab_type": "code",
    "executionInfo": {
     "elapsed": 1213,
     "status": "ok",
     "timestamp": 1568961793082,
     "user": {
      "displayName": "양한솔",
      "photoUrl": "",
      "userId": "12251541929954576282"
     },
     "user_tz": -540
    },
    "id": "wopDHJRkV48i",
    "outputId": "42490408-1407-4fb6-d3bc-ba791c5fc4fe"
   },
   "outputs": [
    {
     "data": {
      "image/png": "[encoded data removed]",
      "text/plain": [
       "<Figure size 432x288 with 2 Axes>"
      ]
     },
     "metadata": {
      "tags": []
     },
     "output_type": "display_data"
    }
   ],
   "source": [
    "fig, loss_ax = plt.subplots()\n",
    "\n",
    "acc_ax = loss_ax.twinx()\n",
    "\n",
    "loss_ax.plot(hist.history['loss'], 'y', label='train loss')\n",
    "loss_ax.plot(hist.history['val_loss'], 'r', label='val loss')\n",
    "\n",
    "acc_ax.plot(hist.history['acc'], 'b', label='train acc')\n",
    "acc_ax.plot(hist.history['val_acc'], 'g', label='val acc')\n",
    "\n",
    "loss_ax.set_xlabel('epoch')\n",
    "loss_ax.set_ylabel('loss')\n",
    "acc_ax.set_ylabel('accuracy')\n",
    "\n",
    "loss_ax.legend(loc='upper left')\n",
    "acc_ax.legend(loc='lower left')\n",
    "\n",
    "\n",
    "plt.show()"
   ]
  },
  {
   "cell_type": "code",
   "execution_count": 30,
   "metadata": {
    "colab": {
     "base_uri": "https://localhost:8080/",
     "height": 35
    },
    "colab_type": "code",
    "executionInfo": {
     "elapsed": 580,
     "status": "ok",
     "timestamp": 1568961956845,
     "user": {
      "displayName": "양한솔",
      "photoUrl": "",
      "userId": "12251541929954576282"
     },
     "user_tz": -540
    },
    "id": "itKhVz5mXWFU",
    "outputId": "148d6e5c-223f-495e-dda8-785a1205428a"
   },
   "outputs": [
    {
     "data": {
      "text/plain": [
       "'/content'"
      ]
     },
     "execution_count": 30,
     "metadata": {
      "tags": []
     },
     "output_type": "execute_result"
    }
   ],
   "source": [
    "import os\n",
    "os.getcwd()"
   ]
  },
  {
   "cell_type": "code",
   "execution_count": 31,
   "metadata": {
    "colab": {
     "base_uri": "https://localhost:8080/",
     "height": 91
    },
    "colab_type": "code",
    "executionInfo": {
     "elapsed": 678,
     "status": "ok",
     "timestamp": 1568962165465,
     "user": {
      "displayName": "양한솔",
      "photoUrl": "",
      "userId": "12251541929954576282"
     },
     "user_tz": -540
    },
    "id": "4MoeF7htai8C",
    "outputId": "6df3593b-07d4-4e0a-e459-31dc10be31d9"
   },
   "outputs": [
    {
     "name": "stdout",
     "output_type": "stream",
     "text": [
      "## training loss and acc ##\n",
      "[2.2378665351867677, 2.037015756198338, 1.8825666993004935, 1.7281446252550399, 1.5814336838041032, 1.4485114445005145, 1.3363093553270613, 1.2391094868523733, 1.1611517095565795, 1.0970052293368748, 1.0465643841879708, 0.9997051794188363, 0.9607087888036455, 0.9267017630168369, 0.8997243319238936, 0.863648646899632, 0.8397694761412484, 0.8213787916728429, 0.796907947404044, 0.7720381675447736, 0.755058138029916, 0.7400916273253305, 0.7222513042177473, 0.7038314461708068, 0.6904326350348337, 0.6803488673482623, 0.6616451951435635, 0.6509526704038893, 0.6387647400583539, 0.6228946920803615, 0.6139145854541234, 0.6063133066041129, 0.5888556238583156, 0.5777557969093323, 0.5706865617207119, 0.5567101992879595, 0.5532875081471035, 0.5435868220669883, 0.5292060221944537, 0.5300341532911573, 0.5234866104807172, 0.5070670923164913, 0.5040269548552377, 0.48829412375177655, 0.48422760486602784, 0.486505948134831, 0.470512501512255, 0.47268134798322403, 0.46173123904636926, 0.4603315898350307, 0.4621662437915802, 0.4456835385731288, 0.4374863348688398, 0.43168187516076223, 0.42541411229542325, 0.4246392789908818, 0.4200314715930394, 0.41090562547956194, 0.40862128870827813, 0.40313076513154167, 0.3980433360167912, 0.392838488646916, 0.38763788436140334, 0.3794619851452964, 0.37256291151046755, 0.37397798793656484, 0.3643250037942614, 0.36357406377792356, 0.3658754996742521, 0.34829734104020255, 0.34992189969335286, 0.3430293447630746, 0.34353247880935667, 0.34365189484187536, 0.33844011800629753, 0.3316671545164926, 0.33465078728539605, 0.3299620469127383, 0.3200958784988948, 0.3207200334753309, 0.31207427595342907, 0.3061807589871543, 0.31404975516455513, 0.3006549211059298, 0.297504443866866, 0.2917708941868373, 0.2926809460776193, 0.29084568653787884, 0.28332994971956527, 0.28216875774519784, 0.27348773888179234, 0.2742065223625728, 0.2650823676586151, 0.2688139341558729, 0.26227829762867516, 0.26742066979408263, 0.2550844555241721, 0.25153239182063514, 0.24615719965526037, 0.24784240024430412]\n",
      "[0.20714285697255816, 0.3442857137748173, 0.4228571433680398, 0.480000000340598, 0.5471428574834551, 0.6028571431977409, 0.6085714289120265, 0.6328571438789368, 0.6442857153075082, 0.6700000010217939, 0.6600000010217939, 0.6742857139451163, 0.7171428561210632, 0.7157142846924918, 0.7214285707473755, 0.7314285717691694, 0.7428571428571429, 0.7328571428571429, 0.7400000010217939, 0.7457142867360796, 0.7571428571428571, 0.7685714278902326, 0.7642857136045184, 0.7785714285714286, 0.7785714275496347, 0.7828571428571428, 0.7871428561210633, 0.7914285710879735, 0.7957142863954817, 0.7957142860548837, 0.7942857146263123, 0.8042857136045184, 0.8014285721097674, 0.8214285724503654, 0.8114285707473755, 0.8242857136045183, 0.8228571428571428, 0.8271428561210632, 0.8342857146263123, 0.8228571435383388, 0.8314285704067775, 0.8385714275496347, 0.8414285721097674, 0.8471428574834551, 0.8457142850330898, 0.8471428581646511, 0.8571428568022592, 0.8485714289120265, 0.8442857139451163, 0.859999999659402, 0.8528571425165449, 0.8614285707473754, 0.86, 0.8614285717691694, 0.8642857132639203, 0.8642857142857143, 0.8628571438789367, 0.869999999318804, 0.8700000010217939, 0.8742857153075082, 0.8728571418353489, 0.8842857139451163, 0.8742857149669102, 0.8785714275496347, 0.8828571438789368, 0.8828571438789368, 0.8928571418353489, 0.8871428568022591, 0.8900000006811959, 0.8957142846924918, 0.8914285710879735, 0.8971428564616613, 0.8985714282308306, 0.8899999989782061, 0.8928571431977408, 0.8985714278902326, 0.9000000006811959, 0.8957142846924918, 0.8942857136045184, 0.8971428568022591, 0.9142857149669102, 0.9014285704067775, 0.9114285704067775, 0.8971428578240531, 0.9142857149669102, 0.9042857139451164, 0.9114285717691694, 0.9171428561210633, 0.9114285717691694, 0.919999999659402, 0.9171428561210633, 0.9271428574834552, 0.9285714275496346, 0.9242857149669103, 0.9257142860548837, 0.927142857824053, 0.9285714289120265, 0.9385714275496346, 0.9342857142857143, 0.9314285704067775]\n"
     ]
    }
   ],
   "source": [
    "print('## training loss and acc ##')\n",
    "print(hist.history['loss'])\n",
    "print(hist.history['acc'])"
   ]
  },
  {
   "cell_type": "markdown",
   "metadata": {
    "colab_type": "text",
    "id": "BLcUi5KGcAZT"
   },
   "source": [
    "# 모델 평가"
   ]
  },
  {
   "cell_type": "code",
   "execution_count": 33,
   "metadata": {
    "colab": {
     "base_uri": "https://localhost:8080/",
     "height": 53
    },
    "colab_type": "code",
    "executionInfo": {
     "elapsed": 579,
     "status": "ok",
     "timestamp": 1568962336302,
     "user": {
      "displayName": "양한솔",
      "photoUrl": "",
      "userId": "12251541929954576282"
     },
     "user_tz": -540
    },
    "id": "jmSmO3J3cDE4",
    "outputId": "0731b650-54a0-4608-9f06-4c958c388eeb"
   },
   "outputs": [
    {
     "name": "stdout",
     "output_type": "stream",
     "text": [
      "10000/10000 [==============================] - 0s 21us/step\n",
      "[0.6267356976032257, 0.7894]\n"
     ]
    }
   ],
   "source": [
    "loss_and_acc = model.evaluate(te_image, te_label, batch_size=32)\n",
    "print(loss_and_acc)"
   ]
  },
  {
   "cell_type": "markdown",
   "metadata": {
    "colab_type": "text",
    "id": "QobnGPrvcb8v"
   },
   "source": [
    "# 모델 사용"
   ]
  },
  {
   "cell_type": "code",
   "execution_count": 34,
   "metadata": {
    "colab": {
     "base_uri": "https://localhost:8080/",
     "height": 251
    },
    "colab_type": "code",
    "executionInfo": {
     "elapsed": 532,
     "status": "ok",
     "timestamp": 1568962525248,
     "user": {
      "displayName": "양한솔",
      "photoUrl": "",
      "userId": "12251541929954576282"
     },
     "user_tz": -540
    },
    "id": "s1UGDDnCc3DE",
    "outputId": "97e43dad-1e0f-4eb4-b8ec-c2500b714097"
   },
   "outputs": [
    {
     "name": "stdout",
     "output_type": "stream",
     "text": [
      "[[1.8413455e-04 3.9983162e-05 7.1304756e-05 ... 1.7290296e-01\n",
      "  1.8530138e-02 5.6146252e-01]\n",
      " [3.0584797e-06 2.1942755e-05 9.3618637e-01 ... 5.2609451e-08\n",
      "  9.6288140e-06 8.9133918e-09]\n",
      " [2.5137523e-04 9.9962127e-01 1.8963172e-05 ... 1.5574881e-07\n",
      "  1.0177039e-10 3.5805439e-09]\n",
      " ...\n",
      " [1.7216967e-01 7.3913779e-06 2.6416748e-03 ... 1.9742623e-05\n",
      "  7.5317466e-01 1.5292969e-04]\n",
      " [2.4621302e-04 9.9248987e-01 4.0802712e-04 ... 2.9388741e-05\n",
      "  5.4325294e-08 2.9300290e-06]\n",
      " [3.4347680e-04 6.4233498e-04 1.3351258e-03 ... 7.1094310e-01\n",
      "  3.0341346e-02 9.3172584e-03]]\n"
     ]
    }
   ],
   "source": [
    "xhat = te_image\n",
    "yhat = model.predict(xhat)\n",
    "print(yhat)"
   ]
  },
  {
   "cell_type": "code",
   "execution_count": 35,
   "metadata": {
    "colab": {
     "base_uri": "https://localhost:8080/",
     "height": 592
    },
    "colab_type": "code",
    "executionInfo": {
     "elapsed": 1480,
     "status": "ok",
     "timestamp": 1568963115145,
     "user": {
      "displayName": "양한솔",
      "photoUrl": "",
      "userId": "12251541929954576282"
     },
     "user_tz": -540
    },
    "id": "OlWq9kh0dDXT",
    "outputId": "a34ea48b-3c43-46c5-d433-5a527030b2f2"
   },
   "outputs": [
    {
     "data": {
      "image/png": "[encoded data removed]",
      "text/plain": [
       "<Figure size 720x720 with 18 Axes>"
      ]
     },
     "metadata": {
      "tags": []
     },
     "output_type": "display_data"
    }
   ],
   "source": [
    "%matplotlib inline\n",
    "import matplotlib.pyplot as plt\n",
    "\n",
    "\n",
    "\n",
    "#plt_row = 10\n",
    "#plt_col = 10\n",
    "\n",
    "\n",
    "i = 0\n",
    "\n",
    "\n",
    "plt.figure(figsize=(10,10))\n",
    "for i in range(25):    \n",
    "    if np.argmax(te_label[i]) == np.argmax(yhat[i]):\n",
    "        plt.subplot(5,5,i+1)\n",
    "        plt.xticks([])\n",
    "        plt.yticks([])\n",
    "        plt.grid(False) \n",
    "        plt.imshow(te_image[i].reshape(28, 28))\n",
    "        plt.xlabel('R: ' + str(np.argmax(te_label[i])) + ' P: ' + str(np.argmax(yhat[i])))\n",
    "        i += 1\n",
    "      \n",
    "\n",
    "plt.show()"
   ]
  }
 ],
 "metadata": {
  "colab": {
   "collapsed_sections": [],
   "name": "20190920_fashion.ipynb",
   "provenance": []
  },
  "kernelspec": {
   "display_name": "Python 3",
   "language": "python",
   "name": "python3"
  },
  "language_info": {
   "codemirror_mode": {
    "name": "ipython",
    "version": 3
   },
   "file_extension": ".py",
   "mimetype": "text/x-python",
   "name": "python",
   "nbconvert_exporter": "python",
   "pygments_lexer": "ipython3",
   "version": "3.7.4"
  }
 },
 "nbformat": 4,
 "nbformat_minor": 1
}
