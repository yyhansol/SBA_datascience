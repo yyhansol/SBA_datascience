{
 "cells": [
  {
   "cell_type": "code",
   "execution_count": 1,
   "metadata": {},
   "outputs": [],
   "source": [
    "import glob\n",
    "import time\n",
    "from datetime import datetime\n",
    "\n",
    "import os\n",
    "from os.path import exists\n",
    "\n",
    "import requests\n",
    "from bs4 import BeautifulSoup"
   ]
  },
  {
   "cell_type": "code",
   "execution_count": 9,
   "metadata": {},
   "outputs": [
    {
     "data": {
      "text/plain": [
       "<title>\n",
       "  The 50 Best Sandwiches in Chicago |\n",
       "  Chicago magazine\n",
       "      |  November 2012\n",
       "    </title>"
      ]
     },
     "execution_count": 9,
     "metadata": {},
     "output_type": "execute_result"
    }
   ],
   "source": [
    "url = 'http://www.chicagomag.com/Chicago-Magazine/November-2012/Best-Sandwiches-Chicago/'\n",
    "\n",
    "html_chicago = requests.get(url).text\n",
    "soup_chicago = BeautifulSoup(html_chicago, \"lxml\")\n",
    "soup_chicago.title"
   ]
  },
  {
   "cell_type": "code",
   "execution_count": 10,
   "metadata": {},
   "outputs": [
    {
     "data": {
      "text/plain": [
       "50"
      ]
     },
     "execution_count": 10,
     "metadata": {},
     "output_type": "execute_result"
    }
   ],
   "source": [
    "menu = soup_chicago.select('a b') \n",
    "len(menu)"
   ]
  },
  {
   "cell_type": "code",
   "execution_count": 11,
   "metadata": {},
   "outputs": [
    {
     "data": {
      "text/plain": [
       "[<b>BLT</b>,\n",
       " <b>Fried Bologna</b>,\n",
       " <b>Woodland Mushroom</b>,\n",
       " <b>Roast Beef</b>,\n",
       " <b>PB&amp;L</b>,\n",
       " <b>Belgian Chicken Curry Salad</b>,\n",
       " <b>Lobster Roll</b>,\n",
       " <b>Smoked Salmon Salad</b>,\n",
       " <b>Atomica Cemitas</b>,\n",
       " <b>Grilled Laughing Bird Shrimp and Fried Po’ Boy</b>]"
      ]
     },
     "execution_count": 11,
     "metadata": {},
     "output_type": "execute_result"
    }
   ],
   "source": [
    "menu[:10]"
   ]
  },
  {
   "cell_type": "code",
   "execution_count": 25,
   "metadata": {},
   "outputs": [],
   "source": [
    "chicago_menu = [menu1.get_text() for menu1 in menu]"
   ]
  },
  {
   "cell_type": "code",
   "execution_count": 26,
   "metadata": {},
   "outputs": [
    {
     "data": {
      "text/plain": [
       "['BLT',\n",
       " 'Fried Bologna',\n",
       " 'Woodland Mushroom',\n",
       " 'Roast Beef',\n",
       " 'PB&L',\n",
       " 'Belgian Chicken Curry Salad',\n",
       " 'Lobster Roll',\n",
       " 'Smoked Salmon Salad',\n",
       " 'Atomica Cemitas',\n",
       " 'Grilled Laughing Bird Shrimp and Fried Po’ Boy']"
      ]
     },
     "execution_count": 26,
     "metadata": {},
     "output_type": "execute_result"
    }
   ],
   "source": [
    "chicago_menu[:10]"
   ]
  },
  {
   "cell_type": "code",
   "execution_count": 108,
   "metadata": {},
   "outputs": [
    {
     "data": {
      "text/plain": [
       "50"
      ]
     },
     "execution_count": 108,
     "metadata": {},
     "output_type": "execute_result"
    }
   ],
   "source": [
    "site = soup_chicago.select('div.sammyListing a')\n",
    "len(site)"
   ]
  },
  {
   "cell_type": "code",
   "execution_count": 109,
   "metadata": {},
   "outputs": [
    {
     "data": {
      "text/plain": [
       "[<a href=\"/Chicago-Magazine/November-2012/Best-Sandwiches-in-Chicago-Old-Oak-Tap-BLT/\"><b>BLT</b><br/>\n",
       " Old Oak Tap<br/>\n",
       " <em>Read more</em> </a>,\n",
       " <a href=\"/Chicago-Magazine/November-2012/Best-Sandwiches-in-Chicago-Au-Cheval-Fried-Bologna/\"><b>Fried Bologna</b><br/>\n",
       " Au Cheval<br/>\n",
       " <em>Read more</em> </a>,\n",
       " <a href=\"/Chicago-Magazine/November-2012/Best-Sandwiches-in-Chicago-Xoco-Woodland-Mushroom/\"><b>Woodland Mushroom</b><br/>\n",
       " Xoco<br/>\n",
       " <em>Read more</em> </a>,\n",
       " <a href=\"/Chicago-Magazine/November-2012/Best-Sandwiches-in-Chicago-Als-Deli-Roast-Beef/\"><b>Roast Beef</b><br/>\n",
       " Al’s Deli<br/>\n",
       " <em>Read more</em> </a>,\n",
       " <a href=\"/Chicago-Magazine/November-2012/Best-Sandwiches-in-Chicago-Publican-Quality-Meats-PB-L/\"><b>PB&amp;L</b><br/>\n",
       " Publican Quality Meats<br/>\n",
       " <em>Read more</em> </a>,\n",
       " <a href=\"http://www.chicagomag.com/Chicago-Magazine/November-2012/Best-Sandwiches-in-Chicago-Hendrickx-Belgian-Bread-Crafter-Belgian-Chicken-Curry-Salad/\"><b>Belgian Chicken Curry Salad</b><br/>\n",
       " Hendrickx Belgian Bread Crafter<br/>\n",
       " <em>Read more</em> </a>,\n",
       " <a href=\"/Chicago-Magazine/November-2012/Best-Sandwiches-in-Chicago-Acadia-Lobster-Roll/\"><b>Lobster Roll</b><br/>\n",
       " Acadia<br/>\n",
       " <em>Read more</em> </a>,\n",
       " <a href=\"/Chicago-Magazine/November-2012/Best-Sandwiches-in-Chicago-Birchwood-Kitchen-Smoked-Salmon-Salad/\"><b>Smoked Salmon Salad</b><br/>\n",
       " Birchwood Kitchen<br/>\n",
       " <em>Read more</em> </a>,\n",
       " <a href=\"/Chicago-Magazine/November-2012/Best-Sandwiches-in-Chicago-Cemitas-Puebla-Atomica-Cemitas/\"><b>Atomica Cemitas</b><br/>\n",
       " Cemitas Puebla<br/>\n",
       " <em>Read more</em> </a>,\n",
       " <a href=\"/Chicago-Magazine/November-2012/Best-Sandwiches-in-Chicago-Nana-Grilled-Laughing-Bird-Shrimp-and-Fried-Oyster-Po-Boy/\"><b>Grilled Laughing Bird Shrimp and Fried Po’ Boy</b><br/>\n",
       " Nana<br/>\n",
       " <em>Read more</em> </a>,\n",
       " <a href=\"http://www.chicagomag.com/Chicago-Magazine/November-2012/Best-Sandwiches-in-Chicago-Lula-Cafe-Ham-and-Raclette-Panino/\"><b>Ham and Raclette Panino</b><br/>\n",
       " Lula Cafe<br/>\n",
       " <em>Read more</em> </a>,\n",
       " <a href=\"http://www.chicagomag.com/Chicago-Magazine/November-2012/Best-Sandwiches-in-Chicago-Ricobenes-Breaded-Steak/\"><b>Breaded Steak</b><br/>\n",
       " Ricobene’s<br/>\n",
       " <em>Read more</em> </a>,\n",
       " <a href=\"http://www.chicagomag.com/Chicago-Magazine/November-2012/Best-Sandwiches-in-Chicago-Frog-n-Snail-The-Hawkeye/\"><b>The Hawkeye</b><br/>\n",
       " Frog n Snail<br/>\n",
       " <em>Read more</em> </a>,\n",
       " <a href=\"http://www.chicagomag.com/Chicago-Magazine/November-2012/Best-Sandwiches-in-Chicago-Crosbys-Kitchen-Chicken-Dip/\"><b>Chicken Dip</b><br/>\n",
       " Crosby’s Kitchen<br/>\n",
       " <em>Read more</em> </a>,\n",
       " <a href=\"http://www.chicagomag.com/Chicago-Magazine/November-2012/Best-Sandwiches-in-Chicago-Longman-and-Eagle-Wild-Boar-Sloppy-Joe/\"><b>Wild Boar Sloppy Joe</b><br/>\n",
       " Longman &amp; Eagle<br/>\n",
       " <em>Read more</em> </a>,\n",
       " <a href=\"http://www.chicagomag.com/Chicago-Magazine/November-2012/Best-Sandwiches-in-Chicago-Bari-Meatball-Sub/\"><b>Meatball Sub</b><br/>\n",
       " Bari<br/>\n",
       " <em>Read more</em> </a>,\n",
       " <a href=\"http://www.chicagomag.com/Chicago-Magazine/November-2012/Best-Sandwiches-in-Chicago-Mannys-Corned-Beef/\"><b>Corned Beef</b><br/>\n",
       " Manny’s<br/>\n",
       " <em>Read more</em> </a>,\n",
       " <a href=\"http://www.chicagomag.com/Chicago-Magazine/November-2012/Best-Sandwiches-in-Chicago-Eggys-Turkey-Club/\"><b>Turkey Club</b><br/>\n",
       " Eggy’s<br/>\n",
       " <em>Read more</em> </a>,\n",
       " <a href=\"http://www.chicagomag.com/Chicago-Magazine/November-2012/Best-Sandwiches-in-Chicago-Old-Jerusalem-Falafel/\"><b>Falafel</b><br/>\n",
       " Old Jerusalem<br/>\n",
       " <em>Read more</em> </a>,\n",
       " <a href=\"http://www.chicagomag.com/Chicago-Magazine/November-2012/Best-Sandwiches-in-Chicago-Mindys-HotChocolate-Crab-Cake/\"><b>Crab Cake</b><br/>\n",
       " Mindy’s HotChocolate<br/>\n",
       " <em>Read more</em> </a>,\n",
       " <a href=\"http://www.chicagomag.com/Chicago-Magazine/November-2012/Best-Sandwiches-in-Chicago-Olgas-Delicatessen-Chicken-Schnitzel/\"><b>Chicken Schnitzel</b><br/>\n",
       " Olga’s Delicatessen<br/>\n",
       " <em>Read more</em> </a>,\n",
       " <a href=\"http://www.chicagomag.com/Chicago-Magazine/November-2012/Best-Sandwiches-in-Chicago-Dawali-Mediterranean-Kitchen-Shawarma/\"><b>Shawarma</b><br/>\n",
       " Dawali Mediterranean Kitchen<br/>\n",
       " <em>Read more</em> </a>,\n",
       " <a href=\"http://www.chicagomag.com/Chicago-Magazine/November-2012/Best-Sandwiches-in-Chicago-Big-Jones-Toasted-Pimiento-Cheese/\"><b>Toasted Pimiento Cheese</b><br/>\n",
       " Big Jones<br/>\n",
       " <em>Read more</em> </a>,\n",
       " <a href=\"http://www.chicagomag.com/Chicago-Magazine/November-2012/Best-Sandwiches-in-Chicago-La-Pane-Vegetarian-Panino/\"><b>Vegetarian Panino</b><br/>\n",
       " La Pane<br/>\n",
       " <em>Read more</em> </a>,\n",
       " <a href=\"/Chicago-Magazine/November-2012/Best-Sandwiches-in-Chicago-Pastoral-Cali-Chevre/\"><b>Cali Chèvre</b><br/>\n",
       " Pastoral<br/>\n",
       " <em>Read more</em> </a>,\n",
       " <a href=\"http://www.chicagomag.com/Chicago-Magazine/November-2012/Best-Sandwiches-in-Chicago-Maxs-Deli-Pastrami/\"><b>Pastrami</b><br/>\n",
       " Max’s Deli<br/>\n",
       " <em>Read more</em> </a>,\n",
       " <a href=\"http://www.chicagomag.com/Chicago-Magazine/November-2012/Best-Sandwiches-in-Chicago-Luckys-Sandwich-Co-The-Fredo/\"><b>The Fredo</b><br/>\n",
       " Lucky’s Sandwich Co.<br/>\n",
       " <em>Read more</em> </a>,\n",
       " <a href=\"http://www.chicagomag.com/Chicago-Magazine/November-2012/Best-Sandwiches-in-Chicago-City-Provisions-Smoked-Ham/\"><b>Smoked Ham</b><br/>\n",
       " City Provisions<br/>\n",
       " <em>Read more</em> </a>,\n",
       " <a href=\"http://www.chicagomag.com/Chicago-Magazine/November-2012/Best-Sandwiches-in-Chicago-Papas-Cache-Sabroso-Jibarito/\"><b>Jibarito</b><br/>\n",
       " Papa’s Cache Sabroso<br/>\n",
       " <em>Read more</em> </a>,\n",
       " <a href=\"http://www.chicagomag.com/Chicago-Magazine/November-2012/Best-Sandwiches-in-Chicago-Bavettes-Bar-and-Boeuf-Shaved-Prime-Rib/\"><b>Shaved Prime Rib</b><br/>\n",
       " Bavette’s Bar &amp; Boeuf<br/>\n",
       " <em>Read more</em> </a>,\n",
       " <a href=\"http://www.chicagomag.com/Chicago-Magazine/November-2012/Best-Sandwiches-in-Chicago-Hannahs-Bretzel-Serrano-Ham-and-Manchego-Cheese/\"><b>Serrano Ham and Manchego Cheese</b><br/>\n",
       " Hannah’s Bretzel<br/>\n",
       " <em>Read more</em> </a>,\n",
       " <a href=\"http://www.chicagomag.com/Chicago-Magazine/November-2012/Best-Sandwiches-in-Chicago-La-Fournette-Tuna-Salad/\"><b>Tuna Salad</b><br/>\n",
       " La Fournette<br/>\n",
       " <em>Read more</em> </a>,\n",
       " <a href=\"http://www.chicagomag.com/Chicago-Magazine/November-2012/Best-Sandwiches-in-Chicago-Paramount-Room-Paramount-Reuben/\"><b>Paramount Reuben</b><br/>\n",
       " Paramount Room<br/>\n",
       " <em>Read more</em> </a>,\n",
       " <a href=\"http://www.chicagomag.com/Chicago-Magazine/November-2012/Best-Sandwiches-in-Chicago-Melt-Sandwich-Shoppe-The-Istanbul/\"><b>The Istanbul</b><br/>\n",
       " Melt Sandwich Shoppe<br/>\n",
       " <em>Read more</em> </a>,\n",
       " <a href=\"http://www.chicagomag.com/Chicago-Magazine/November-2012/Best-Sandwiches-in-Chicago-Floriole-Cafe-and-Bakery-BAD/\"><b>B.A.D.</b><br/>\n",
       " Floriole Cafe &amp; Bakery<br/>\n",
       " <em>Read more</em> </a>,\n",
       " <a href=\"http://www.chicagomag.com/Chicago-Magazine/November-2012/Best-Sandwiches-in-Chicago-First-Slice-Pie-Cafe-Duck-Confit-and-Mozzarella/\"><b>Duck Confit and Mozzarella</b><br/>\n",
       " First Slice Pie Café<br/>\n",
       " <em>Read more</em> </a>,\n",
       " <a href=\"http://www.chicagomag.com/Chicago-Magazine/November-2012/Best-Sandwiches-in-Chicago-Troquet-Croque-Monsieur/\"><b>Croque Monsieur</b><br/>\n",
       " Troquet<br/>\n",
       " <em>Read more</em> </a>,\n",
       " <a href=\"http://www.chicagomag.com/Chicago-Magazine/November-2012/Best-Sandwiches-in-Chicago-Grahamwich-Green-Garbanzo/\"><b>Green Garbanzo</b><br/>\n",
       " Grahamwich<br/>\n",
       " <em>Read more</em> </a>,\n",
       " <a href=\"http://www.chicagomag.com/Chicago-Magazine/November-2012/Best-Sandwiches-in-Chicago-Saigon-Sisters-The-Hen-House/\"><b>The Hen House</b><br/>\n",
       " Saigon Sisters<br/>\n",
       " <em>Read more</em> </a>,\n",
       " <a href=\"http://www.chicagomag.com/Chicago-Magazine/November-2012/Best-Sandwiches-in-Chicago-Rosalias-Deli-Tuscan-Chicken/\"><b>Tuscan Chicken</b><br/>\n",
       " Rosalia’s Deli<br/>\n",
       " <em>Read more</em> </a>,\n",
       " <a href=\"http://www.chicagomag.com/Chicago-Magazine/November-2012/Best-Sandwiches-in-Chicago-Z-and-H-MarketCafe-The-Marty/\"><b>The Marty </b><br/>\n",
       " Z&amp;H MarketCafe<br/>\n",
       " <em>Read more</em> </a>,\n",
       " <a href=\"http://www.chicagomag.com/Chicago-Magazine/November-2012/Best-Sandwiches-in-Chicago-Market-House-on-the-Square-Whitefish/\"><b>Whitefish</b><br/>\n",
       " Market House on the Square<br/>\n",
       " <em>Read more</em> </a>,\n",
       " <a href=\"http://www.chicagomag.com/Chicago-Magazine/November-2012/Best-Sandwiches-in-Chicago-Elaines-Coffee-Call-Oat-Bread-Pecan-Butter-and-Fruit-Jam/\"><b>Oat Bread, Pecan Butter, and Fruit Jam</b><br/>\n",
       " Elaine’s Coffee Call<br/>\n",
       " <em>Read more</em> </a>,\n",
       " <a href=\"http://www.chicagomag.com/Chicago-Magazine/November-2012/Best-Sandwiches-in-Chicago-Marion-Street-Cheese-Market-Cauliflower-Melt/\"><b>Cauliflower Melt</b><br/>\n",
       " Marion Street Cheese Market<br/>\n",
       " <em>Read more</em> </a>,\n",
       " <a href=\"http://www.chicagomag.com/Chicago-Magazine/November-2012/Best-Sandwiches-in-Chicago-Cafecito-Cubano/\"><b>Cubana</b><br/>\n",
       " Cafecito<br/>\n",
       " <em>Read more</em> </a>,\n",
       " <a href=\"http://www.chicagomag.com/Chicago-Magazine/November-2012/Best-Sandwiches-in-Chicago-Chickpea-Kufta/\"><b>Kufta</b><br/>\n",
       " Chickpea<br/>\n",
       " <em>Read more</em> </a>,\n",
       " <a href=\"http://www.chicagomag.com/Chicago-Magazine/November-2012/Best-Sandwiches-in-Chicago-The-Goddess-and-Grocer-Debbies-Egg-Salad/\"><b>Debbie’s Egg Salad</b><br/>\n",
       " The Goddess and Grocer<br/>\n",
       " <em>Read more</em> </a>,\n",
       " <a href=\"http://www.chicagomag.com/Chicago-Magazine/November-2012/Best-Sandwiches-in-Chicago-Zenwich-Beef-Curry/\"><b>Beef Curry</b><br/>\n",
       " Zenwich<br/>\n",
       " <em>Read more</em> </a>,\n",
       " <a href=\"http://www.chicagomag.com/Chicago-Magazine/November-2012/Best-Sandwiches-in-Chicago-Toni-Patisserie-Le-Vegetarien/\"><b>Le Végétarien</b><br/>\n",
       " Toni Patisserie<br/>\n",
       " <em>Read more</em> </a>,\n",
       " <a href=\"http://www.chicagomag.com/Chicago-Magazine/November-2012/Best-Sandwiches-in-Chicago-Phoebes-Bakery-The-Gatsby/\"><b>The Gatsby</b><br/>\n",
       " Phoebe’s Bakery<br/>\n",
       " <em>Read more</em> </a>]"
      ]
     },
     "execution_count": 109,
     "metadata": {},
     "output_type": "execute_result"
    }
   ],
   "source": [
    "site"
   ]
  },
  {
   "cell_type": "code",
   "execution_count": 111,
   "metadata": {},
   "outputs": [
    {
     "data": {
      "text/plain": [
       "<a href=\"/Chicago-Magazine/November-2012/Best-Sandwiches-in-Chicago-Old-Oak-Tap-BLT/\"><b>BLT</b><br/>\n",
       "Old Oak Tap<br/>\n",
       "<em>Read more</em> </a>"
      ]
     },
     "execution_count": 111,
     "metadata": {},
     "output_type": "execute_result"
    }
   ],
   "source": [
    "tmp = site[0]\n",
    "tmp"
   ]
  },
  {
   "cell_type": "code",
   "execution_count": 112,
   "metadata": {},
   "outputs": [
    {
     "data": {
      "text/plain": [
       "'/Chicago-Magazine/November-2012/Best-Sandwiches-in-Chicago-Old-Oak-Tap-BLT/'"
      ]
     },
     "execution_count": 112,
     "metadata": {},
     "output_type": "execute_result"
    }
   ],
   "source": [
    "link = tmp['href']\n",
    "link"
   ]
  },
  {
   "cell_type": "code",
   "execution_count": 114,
   "metadata": {
    "scrolled": true
   },
   "outputs": [
    {
     "name": "stdout",
     "output_type": "stream",
     "text": [
      "https://www.chicagomag.com/Chicago-Magazine/November-2012/Best-Sandwiches-in-Chicago-Old-Oak-Tap-BLT/\n",
      "https://www.chicagomag.com/Chicago-Magazine/November-2012/Best-Sandwiches-in-Chicago-Au-Cheval-Fried-Bologna/\n",
      "https://www.chicagomag.com/Chicago-Magazine/November-2012/Best-Sandwiches-in-Chicago-Xoco-Woodland-Mushroom/\n",
      "https://www.chicagomag.com/Chicago-Magazine/November-2012/Best-Sandwiches-in-Chicago-Als-Deli-Roast-Beef/\n",
      "https://www.chicagomag.com/Chicago-Magazine/November-2012/Best-Sandwiches-in-Chicago-Publican-Quality-Meats-PB-L/\n",
      "https://www.chicagomag.comhttp://www.chicagomag.com/Chicago-Magazine/November-2012/Best-Sandwiches-in-Chicago-Hendrickx-Belgian-Bread-Crafter-Belgian-Chicken-Curry-Salad/\n",
      "https://www.chicagomag.com/Chicago-Magazine/November-2012/Best-Sandwiches-in-Chicago-Acadia-Lobster-Roll/\n",
      "https://www.chicagomag.com/Chicago-Magazine/November-2012/Best-Sandwiches-in-Chicago-Birchwood-Kitchen-Smoked-Salmon-Salad/\n",
      "https://www.chicagomag.com/Chicago-Magazine/November-2012/Best-Sandwiches-in-Chicago-Cemitas-Puebla-Atomica-Cemitas/\n",
      "https://www.chicagomag.com/Chicago-Magazine/November-2012/Best-Sandwiches-in-Chicago-Nana-Grilled-Laughing-Bird-Shrimp-and-Fried-Oyster-Po-Boy/\n",
      "https://www.chicagomag.comhttp://www.chicagomag.com/Chicago-Magazine/November-2012/Best-Sandwiches-in-Chicago-Lula-Cafe-Ham-and-Raclette-Panino/\n",
      "https://www.chicagomag.comhttp://www.chicagomag.com/Chicago-Magazine/November-2012/Best-Sandwiches-in-Chicago-Ricobenes-Breaded-Steak/\n",
      "https://www.chicagomag.comhttp://www.chicagomag.com/Chicago-Magazine/November-2012/Best-Sandwiches-in-Chicago-Frog-n-Snail-The-Hawkeye/\n",
      "https://www.chicagomag.comhttp://www.chicagomag.com/Chicago-Magazine/November-2012/Best-Sandwiches-in-Chicago-Crosbys-Kitchen-Chicken-Dip/\n",
      "https://www.chicagomag.comhttp://www.chicagomag.com/Chicago-Magazine/November-2012/Best-Sandwiches-in-Chicago-Longman-and-Eagle-Wild-Boar-Sloppy-Joe/\n",
      "https://www.chicagomag.comhttp://www.chicagomag.com/Chicago-Magazine/November-2012/Best-Sandwiches-in-Chicago-Bari-Meatball-Sub/\n",
      "https://www.chicagomag.comhttp://www.chicagomag.com/Chicago-Magazine/November-2012/Best-Sandwiches-in-Chicago-Mannys-Corned-Beef/\n",
      "https://www.chicagomag.comhttp://www.chicagomag.com/Chicago-Magazine/November-2012/Best-Sandwiches-in-Chicago-Eggys-Turkey-Club/\n",
      "https://www.chicagomag.comhttp://www.chicagomag.com/Chicago-Magazine/November-2012/Best-Sandwiches-in-Chicago-Old-Jerusalem-Falafel/\n",
      "https://www.chicagomag.comhttp://www.chicagomag.com/Chicago-Magazine/November-2012/Best-Sandwiches-in-Chicago-Mindys-HotChocolate-Crab-Cake/\n",
      "https://www.chicagomag.comhttp://www.chicagomag.com/Chicago-Magazine/November-2012/Best-Sandwiches-in-Chicago-Olgas-Delicatessen-Chicken-Schnitzel/\n",
      "https://www.chicagomag.comhttp://www.chicagomag.com/Chicago-Magazine/November-2012/Best-Sandwiches-in-Chicago-Dawali-Mediterranean-Kitchen-Shawarma/\n",
      "https://www.chicagomag.comhttp://www.chicagomag.com/Chicago-Magazine/November-2012/Best-Sandwiches-in-Chicago-Big-Jones-Toasted-Pimiento-Cheese/\n",
      "https://www.chicagomag.comhttp://www.chicagomag.com/Chicago-Magazine/November-2012/Best-Sandwiches-in-Chicago-La-Pane-Vegetarian-Panino/\n",
      "https://www.chicagomag.com/Chicago-Magazine/November-2012/Best-Sandwiches-in-Chicago-Pastoral-Cali-Chevre/\n",
      "https://www.chicagomag.comhttp://www.chicagomag.com/Chicago-Magazine/November-2012/Best-Sandwiches-in-Chicago-Maxs-Deli-Pastrami/\n",
      "https://www.chicagomag.comhttp://www.chicagomag.com/Chicago-Magazine/November-2012/Best-Sandwiches-in-Chicago-Luckys-Sandwich-Co-The-Fredo/\n",
      "https://www.chicagomag.comhttp://www.chicagomag.com/Chicago-Magazine/November-2012/Best-Sandwiches-in-Chicago-City-Provisions-Smoked-Ham/\n",
      "https://www.chicagomag.comhttp://www.chicagomag.com/Chicago-Magazine/November-2012/Best-Sandwiches-in-Chicago-Papas-Cache-Sabroso-Jibarito/\n",
      "https://www.chicagomag.comhttp://www.chicagomag.com/Chicago-Magazine/November-2012/Best-Sandwiches-in-Chicago-Bavettes-Bar-and-Boeuf-Shaved-Prime-Rib/\n",
      "https://www.chicagomag.comhttp://www.chicagomag.com/Chicago-Magazine/November-2012/Best-Sandwiches-in-Chicago-Hannahs-Bretzel-Serrano-Ham-and-Manchego-Cheese/\n",
      "https://www.chicagomag.comhttp://www.chicagomag.com/Chicago-Magazine/November-2012/Best-Sandwiches-in-Chicago-La-Fournette-Tuna-Salad/\n",
      "https://www.chicagomag.comhttp://www.chicagomag.com/Chicago-Magazine/November-2012/Best-Sandwiches-in-Chicago-Paramount-Room-Paramount-Reuben/\n",
      "https://www.chicagomag.comhttp://www.chicagomag.com/Chicago-Magazine/November-2012/Best-Sandwiches-in-Chicago-Melt-Sandwich-Shoppe-The-Istanbul/\n",
      "https://www.chicagomag.comhttp://www.chicagomag.com/Chicago-Magazine/November-2012/Best-Sandwiches-in-Chicago-Floriole-Cafe-and-Bakery-BAD/\n",
      "https://www.chicagomag.comhttp://www.chicagomag.com/Chicago-Magazine/November-2012/Best-Sandwiches-in-Chicago-First-Slice-Pie-Cafe-Duck-Confit-and-Mozzarella/\n",
      "https://www.chicagomag.comhttp://www.chicagomag.com/Chicago-Magazine/November-2012/Best-Sandwiches-in-Chicago-Troquet-Croque-Monsieur/\n",
      "https://www.chicagomag.comhttp://www.chicagomag.com/Chicago-Magazine/November-2012/Best-Sandwiches-in-Chicago-Grahamwich-Green-Garbanzo/\n",
      "https://www.chicagomag.comhttp://www.chicagomag.com/Chicago-Magazine/November-2012/Best-Sandwiches-in-Chicago-Saigon-Sisters-The-Hen-House/\n",
      "https://www.chicagomag.comhttp://www.chicagomag.com/Chicago-Magazine/November-2012/Best-Sandwiches-in-Chicago-Rosalias-Deli-Tuscan-Chicken/\n",
      "https://www.chicagomag.comhttp://www.chicagomag.com/Chicago-Magazine/November-2012/Best-Sandwiches-in-Chicago-Z-and-H-MarketCafe-The-Marty/\n",
      "https://www.chicagomag.comhttp://www.chicagomag.com/Chicago-Magazine/November-2012/Best-Sandwiches-in-Chicago-Market-House-on-the-Square-Whitefish/\n",
      "https://www.chicagomag.comhttp://www.chicagomag.com/Chicago-Magazine/November-2012/Best-Sandwiches-in-Chicago-Elaines-Coffee-Call-Oat-Bread-Pecan-Butter-and-Fruit-Jam/\n",
      "https://www.chicagomag.comhttp://www.chicagomag.com/Chicago-Magazine/November-2012/Best-Sandwiches-in-Chicago-Marion-Street-Cheese-Market-Cauliflower-Melt/\n",
      "https://www.chicagomag.comhttp://www.chicagomag.com/Chicago-Magazine/November-2012/Best-Sandwiches-in-Chicago-Cafecito-Cubano/\n",
      "https://www.chicagomag.comhttp://www.chicagomag.com/Chicago-Magazine/November-2012/Best-Sandwiches-in-Chicago-Chickpea-Kufta/\n",
      "https://www.chicagomag.comhttp://www.chicagomag.com/Chicago-Magazine/November-2012/Best-Sandwiches-in-Chicago-The-Goddess-and-Grocer-Debbies-Egg-Salad/\n",
      "https://www.chicagomag.comhttp://www.chicagomag.com/Chicago-Magazine/November-2012/Best-Sandwiches-in-Chicago-Zenwich-Beef-Curry/\n",
      "https://www.chicagomag.comhttp://www.chicagomag.com/Chicago-Magazine/November-2012/Best-Sandwiches-in-Chicago-Toni-Patisserie-Le-Vegetarien/\n",
      "https://www.chicagomag.comhttp://www.chicagomag.com/Chicago-Magazine/November-2012/Best-Sandwiches-in-Chicago-Phoebes-Bakery-The-Gatsby/\n"
     ]
    }
   ],
   "source": [
    "Link = []\n",
    "\n",
    "url = \"http://www.chicagomag.com/Chicago-Magazine/November-2012/Best-Sandwiches-Chicago/\"\n",
    "\n",
    "html = requests.get(url).text\n",
    "soup = BeautifulSoup(html, \"lxml\")\n",
    "site = soup_chicago.select('div.sammyListing a')\n",
    "\n",
    "for idx in range(len(site)):\n",
    "    tmp  = site[idx]\n",
    "    link = tmp['href']\n",
    "    link = 'https://www.chicagomag.com' + link\n",
    "    \n",
    "    print(\"{link}\".format(\n",
    "        link = ' '*(20-len(site)) + link\n",
    "    ))\n",
    "    Link.append(link)"
   ]
  },
  {
   "cell_type": "code",
   "execution_count": 116,
   "metadata": {},
   "outputs": [
    {
     "data": {
      "text/plain": [
       "['https://www.chicagomag.com/Chicago-Magazine/November-2012/Best-Sandwiches-in-Chicago-Old-Oak-Tap-BLT/',\n",
       " 'https://www.chicagomag.com/Chicago-Magazine/November-2012/Best-Sandwiches-in-Chicago-Au-Cheval-Fried-Bologna/',\n",
       " 'https://www.chicagomag.com/Chicago-Magazine/November-2012/Best-Sandwiches-in-Chicago-Xoco-Woodland-Mushroom/',\n",
       " 'https://www.chicagomag.com/Chicago-Magazine/November-2012/Best-Sandwiches-in-Chicago-Als-Deli-Roast-Beef/',\n",
       " 'https://www.chicagomag.com/Chicago-Magazine/November-2012/Best-Sandwiches-in-Chicago-Publican-Quality-Meats-PB-L/',\n",
       " 'https://www.chicagomag.comhttp://www.chicagomag.com/Chicago-Magazine/November-2012/Best-Sandwiches-in-Chicago-Hendrickx-Belgian-Bread-Crafter-Belgian-Chicken-Curry-Salad/',\n",
       " 'https://www.chicagomag.com/Chicago-Magazine/November-2012/Best-Sandwiches-in-Chicago-Acadia-Lobster-Roll/',\n",
       " 'https://www.chicagomag.com/Chicago-Magazine/November-2012/Best-Sandwiches-in-Chicago-Birchwood-Kitchen-Smoked-Salmon-Salad/',\n",
       " 'https://www.chicagomag.com/Chicago-Magazine/November-2012/Best-Sandwiches-in-Chicago-Cemitas-Puebla-Atomica-Cemitas/',\n",
       " 'https://www.chicagomag.com/Chicago-Magazine/November-2012/Best-Sandwiches-in-Chicago-Nana-Grilled-Laughing-Bird-Shrimp-and-Fried-Oyster-Po-Boy/',\n",
       " 'https://www.chicagomag.comhttp://www.chicagomag.com/Chicago-Magazine/November-2012/Best-Sandwiches-in-Chicago-Lula-Cafe-Ham-and-Raclette-Panino/',\n",
       " 'https://www.chicagomag.comhttp://www.chicagomag.com/Chicago-Magazine/November-2012/Best-Sandwiches-in-Chicago-Ricobenes-Breaded-Steak/',\n",
       " 'https://www.chicagomag.comhttp://www.chicagomag.com/Chicago-Magazine/November-2012/Best-Sandwiches-in-Chicago-Frog-n-Snail-The-Hawkeye/',\n",
       " 'https://www.chicagomag.comhttp://www.chicagomag.com/Chicago-Magazine/November-2012/Best-Sandwiches-in-Chicago-Crosbys-Kitchen-Chicken-Dip/',\n",
       " 'https://www.chicagomag.comhttp://www.chicagomag.com/Chicago-Magazine/November-2012/Best-Sandwiches-in-Chicago-Longman-and-Eagle-Wild-Boar-Sloppy-Joe/',\n",
       " 'https://www.chicagomag.comhttp://www.chicagomag.com/Chicago-Magazine/November-2012/Best-Sandwiches-in-Chicago-Bari-Meatball-Sub/',\n",
       " 'https://www.chicagomag.comhttp://www.chicagomag.com/Chicago-Magazine/November-2012/Best-Sandwiches-in-Chicago-Mannys-Corned-Beef/',\n",
       " 'https://www.chicagomag.comhttp://www.chicagomag.com/Chicago-Magazine/November-2012/Best-Sandwiches-in-Chicago-Eggys-Turkey-Club/',\n",
       " 'https://www.chicagomag.comhttp://www.chicagomag.com/Chicago-Magazine/November-2012/Best-Sandwiches-in-Chicago-Old-Jerusalem-Falafel/',\n",
       " 'https://www.chicagomag.comhttp://www.chicagomag.com/Chicago-Magazine/November-2012/Best-Sandwiches-in-Chicago-Mindys-HotChocolate-Crab-Cake/',\n",
       " 'https://www.chicagomag.comhttp://www.chicagomag.com/Chicago-Magazine/November-2012/Best-Sandwiches-in-Chicago-Olgas-Delicatessen-Chicken-Schnitzel/',\n",
       " 'https://www.chicagomag.comhttp://www.chicagomag.com/Chicago-Magazine/November-2012/Best-Sandwiches-in-Chicago-Dawali-Mediterranean-Kitchen-Shawarma/',\n",
       " 'https://www.chicagomag.comhttp://www.chicagomag.com/Chicago-Magazine/November-2012/Best-Sandwiches-in-Chicago-Big-Jones-Toasted-Pimiento-Cheese/',\n",
       " 'https://www.chicagomag.comhttp://www.chicagomag.com/Chicago-Magazine/November-2012/Best-Sandwiches-in-Chicago-La-Pane-Vegetarian-Panino/',\n",
       " 'https://www.chicagomag.com/Chicago-Magazine/November-2012/Best-Sandwiches-in-Chicago-Pastoral-Cali-Chevre/',\n",
       " 'https://www.chicagomag.comhttp://www.chicagomag.com/Chicago-Magazine/November-2012/Best-Sandwiches-in-Chicago-Maxs-Deli-Pastrami/',\n",
       " 'https://www.chicagomag.comhttp://www.chicagomag.com/Chicago-Magazine/November-2012/Best-Sandwiches-in-Chicago-Luckys-Sandwich-Co-The-Fredo/',\n",
       " 'https://www.chicagomag.comhttp://www.chicagomag.com/Chicago-Magazine/November-2012/Best-Sandwiches-in-Chicago-City-Provisions-Smoked-Ham/',\n",
       " 'https://www.chicagomag.comhttp://www.chicagomag.com/Chicago-Magazine/November-2012/Best-Sandwiches-in-Chicago-Papas-Cache-Sabroso-Jibarito/',\n",
       " 'https://www.chicagomag.comhttp://www.chicagomag.com/Chicago-Magazine/November-2012/Best-Sandwiches-in-Chicago-Bavettes-Bar-and-Boeuf-Shaved-Prime-Rib/',\n",
       " 'https://www.chicagomag.comhttp://www.chicagomag.com/Chicago-Magazine/November-2012/Best-Sandwiches-in-Chicago-Hannahs-Bretzel-Serrano-Ham-and-Manchego-Cheese/',\n",
       " 'https://www.chicagomag.comhttp://www.chicagomag.com/Chicago-Magazine/November-2012/Best-Sandwiches-in-Chicago-La-Fournette-Tuna-Salad/',\n",
       " 'https://www.chicagomag.comhttp://www.chicagomag.com/Chicago-Magazine/November-2012/Best-Sandwiches-in-Chicago-Paramount-Room-Paramount-Reuben/',\n",
       " 'https://www.chicagomag.comhttp://www.chicagomag.com/Chicago-Magazine/November-2012/Best-Sandwiches-in-Chicago-Melt-Sandwich-Shoppe-The-Istanbul/',\n",
       " 'https://www.chicagomag.comhttp://www.chicagomag.com/Chicago-Magazine/November-2012/Best-Sandwiches-in-Chicago-Floriole-Cafe-and-Bakery-BAD/',\n",
       " 'https://www.chicagomag.comhttp://www.chicagomag.com/Chicago-Magazine/November-2012/Best-Sandwiches-in-Chicago-First-Slice-Pie-Cafe-Duck-Confit-and-Mozzarella/',\n",
       " 'https://www.chicagomag.comhttp://www.chicagomag.com/Chicago-Magazine/November-2012/Best-Sandwiches-in-Chicago-Troquet-Croque-Monsieur/',\n",
       " 'https://www.chicagomag.comhttp://www.chicagomag.com/Chicago-Magazine/November-2012/Best-Sandwiches-in-Chicago-Grahamwich-Green-Garbanzo/',\n",
       " 'https://www.chicagomag.comhttp://www.chicagomag.com/Chicago-Magazine/November-2012/Best-Sandwiches-in-Chicago-Saigon-Sisters-The-Hen-House/',\n",
       " 'https://www.chicagomag.comhttp://www.chicagomag.com/Chicago-Magazine/November-2012/Best-Sandwiches-in-Chicago-Rosalias-Deli-Tuscan-Chicken/',\n",
       " 'https://www.chicagomag.comhttp://www.chicagomag.com/Chicago-Magazine/November-2012/Best-Sandwiches-in-Chicago-Z-and-H-MarketCafe-The-Marty/',\n",
       " 'https://www.chicagomag.comhttp://www.chicagomag.com/Chicago-Magazine/November-2012/Best-Sandwiches-in-Chicago-Market-House-on-the-Square-Whitefish/',\n",
       " 'https://www.chicagomag.comhttp://www.chicagomag.com/Chicago-Magazine/November-2012/Best-Sandwiches-in-Chicago-Elaines-Coffee-Call-Oat-Bread-Pecan-Butter-and-Fruit-Jam/',\n",
       " 'https://www.chicagomag.comhttp://www.chicagomag.com/Chicago-Magazine/November-2012/Best-Sandwiches-in-Chicago-Marion-Street-Cheese-Market-Cauliflower-Melt/',\n",
       " 'https://www.chicagomag.comhttp://www.chicagomag.com/Chicago-Magazine/November-2012/Best-Sandwiches-in-Chicago-Cafecito-Cubano/',\n",
       " 'https://www.chicagomag.comhttp://www.chicagomag.com/Chicago-Magazine/November-2012/Best-Sandwiches-in-Chicago-Chickpea-Kufta/',\n",
       " 'https://www.chicagomag.comhttp://www.chicagomag.com/Chicago-Magazine/November-2012/Best-Sandwiches-in-Chicago-The-Goddess-and-Grocer-Debbies-Egg-Salad/',\n",
       " 'https://www.chicagomag.comhttp://www.chicagomag.com/Chicago-Magazine/November-2012/Best-Sandwiches-in-Chicago-Zenwich-Beef-Curry/',\n",
       " 'https://www.chicagomag.comhttp://www.chicagomag.com/Chicago-Magazine/November-2012/Best-Sandwiches-in-Chicago-Toni-Patisserie-Le-Vegetarien/',\n",
       " 'https://www.chicagomag.comhttp://www.chicagomag.com/Chicago-Magazine/November-2012/Best-Sandwiches-in-Chicago-Phoebes-Bakery-The-Gatsby/']"
      ]
     },
     "execution_count": 116,
     "metadata": {},
     "output_type": "execute_result"
    }
   ],
   "source": [
    "Link"
   ]
  },
  {
   "cell_type": "code",
   "execution_count": null,
   "metadata": {},
   "outputs": [],
   "source": []
  }
 ],
 "metadata": {
  "kernelspec": {
   "display_name": "Python 3",
   "language": "python",
   "name": "python3"
  },
  "language_info": {
   "codemirror_mode": {
    "name": "ipython",
    "version": 3
   },
   "file_extension": ".py",
   "mimetype": "text/x-python",
   "name": "python",
   "nbconvert_exporter": "python",
   "pygments_lexer": "ipython3",
   "version": "3.7.3"
  }
 },
 "nbformat": 4,
 "nbformat_minor": 2
}
