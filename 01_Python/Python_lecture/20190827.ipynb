{
 "cells": [
  {
   "cell_type": "code",
   "execution_count": 1,
   "metadata": {},
   "outputs": [],
   "source": [
    "def email_check(email):\n",
    "    regex = '([a-zA-Z0-9_.+-])+@[a-zA-Z0-9-]+\\.[a-zA-Z0-9-.]+)'\n",
    "    pattern = re.compile(regex)\n",
    "    result = pattern.findall(email)\n",
    "    \n",
    "    if len(result):\n",
    "        is_valid = True\n",
    "        rst_msg = '이메일 형식입니다.'\n",
    "    else:\n",
    "        is_valid = True\n",
    "        rst_msg = '이메일 형식이 아닙니다.'\n",
    "    return is_valid, rst_msg"
   ]
  },
  {
   "cell_type": "code",
   "execution_count": 2,
   "metadata": {},
   "outputs": [],
   "source": [
    "def getEmailList(filename):\n",
    "    fp = open(filename, encoding='utf-8')\n",
    "    text = fp.read()\n",
    "    fp.close()\n",
    "    \n",
    "    regex = '[\\w\\.]+@\\w+\\.[\\w\\.]+'\n",
    "    pattern = re.compile(regex)\n",
    "    result = pattern.findall(text)\n",
    "    result = sorted(set(result))\n",
    "    email_cnt = len(result)\n",
    "    \n",
    "    valid_email_end = ['com', 'gov','co.kr','net']\n",
    "    \n",
    "    if email_cnt > 0:\n",
    "        ret_msg = '{}건의 이메일이 수집되었습니다.'.format(email_cnt)\n",
    "        \n",
    "        email_list = ''\n",
    "        for each in result:\n",
    "            temp = each.split('.')\n",
    "            if temp[-1] in valid_email_end:\n",
    "                email_list += each + '\\n'\n",
    "                \n",
    "        fp = open('./data/mail_list.txt', 'w', encoding='utf-8')\n",
    "        fp.write(email_list)\n",
    "        fp.close()\n",
    "    else:\n",
    "        ret_msg = '이메일을 수집하지 못하였습니다. '\n",
    "    return"
   ]
  },
  {
   "cell_type": "code",
   "execution_count": null,
   "metadata": {},
   "outputs": [],
   "source": []
  }
 ],
 "metadata": {
  "kernelspec": {
   "display_name": "Python 3",
   "language": "python",
   "name": "python3"
  },
  "language_info": {
   "codemirror_mode": {
    "name": "ipython",
    "version": 3
   },
   "file_extension": ".py",
   "mimetype": "text/x-python",
   "name": "python",
   "nbconvert_exporter": "python",
   "pygments_lexer": "ipython3",
   "version": "3.7.4"
  }
 },
 "nbformat": 4,
 "nbformat_minor": 2
}
