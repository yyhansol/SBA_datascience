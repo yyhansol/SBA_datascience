{
 "cells": [
  {
   "cell_type": "code",
   "execution_count": 1,
   "metadata": {},
   "outputs": [],
   "source": [
    "import sqlite3\n",
    "db_name = './database/my_books.db'"
   ]
  },
  {
   "cell_type": "code",
   "execution_count": 2,
   "metadata": {},
   "outputs": [],
   "source": [
    "def create_table(db_name, db_sql):\n",
    "    is_success = True\n",
    "    try:\n",
    "        conn = sqlite3.connect(db_name)\n",
    "        cur = conn.cursor()\n",
    "        cur.execute(db_sql)\n",
    "    except:\n",
    "        is_success = False\n",
    "        print('Database Error!')\n",
    "    finally:\n",
    "        if is_success:\n",
    "            conn.commit()\n",
    "            conn.rollback()\n",
    "        conn.close()\n",
    "    return is_success"
   ]
  },
  {
   "cell_type": "code",
   "execution_count": 3,
   "metadata": {},
   "outputs": [],
   "source": [
    "import os\n",
    "from os.path import exists"
   ]
  },
  {
   "cell_type": "code",
   "execution_count": 4,
   "metadata": {},
   "outputs": [
    {
     "name": "stdout",
     "output_type": "stream",
     "text": [
      "[database]은/는 이미 존재합니다.\n"
     ]
    }
   ],
   "source": [
    "dir_name = 'database'\n",
    "if not exists(dir_name):\n",
    "    os.mkdir(dir_name)\n",
    "    print('[%s] 디렉터리를 생성했습니다.'%dir_name)\n",
    "else:\n",
    "    print('[%s]은/는 이미 존재합니다.'%dir_name)\n",
    "    "
   ]
  },
  {
   "cell_type": "code",
   "execution_count": 5,
   "metadata": {},
   "outputs": [
    {
     "name": "stdout",
     "output_type": "stream",
     "text": [
      "테이블이 성공적으로 생성되었습니다. \n"
     ]
    }
   ],
   "source": [
    "db_sql = '''\n",
    "CREATE TABLE my_books (\n",
    "    title text,\n",
    "    published_date text,\n",
    "    publisher text,\n",
    "    pages integer,\n",
    "    recommendation integer\n",
    ")\n",
    "'''\n",
    "if create_table(db_name, db_sql):\n",
    "    print('테이블이 성공적으로 생성되었습니다. ')\n",
    "else:\n",
    "    print('테이블이 생성되지 않았습니다.')"
   ]
  },
  {
   "cell_type": "code",
   "execution_count": 8,
   "metadata": {},
   "outputs": [
    {
     "name": "stdout",
     "output_type": "stream",
     "text": [
      " C 드라이브의 볼륨에는 이름이 없습니다.\n",
      " 볼륨 일련 번호: BE1A-1DEC\n",
      "\n",
      " C:\\Users\\202-018\\Anaconda_src\\database 디렉터리\n",
      "\n",
      "2019-09-02  오전 09:42    <DIR>          .\n",
      "2019-09-02  오전 09:42    <DIR>          ..\n",
      "2019-09-02  오전 09:42             8,192 my_books.db\n",
      "               1개 파일               8,192 바이트\n",
      "               2개 디렉터리  79,482,912,768 바이트 남음\n"
     ]
    }
   ],
   "source": [
    "%ls database"
   ]
  },
  {
   "cell_type": "code",
   "execution_count": 10,
   "metadata": {},
   "outputs": [],
   "source": [
    "def insert_books(db_name):\n",
    "    is_success = True\n",
    "    \n",
    "    try:\n",
    "        conn = sqlite3.connect(db_name)\n",
    "        cur = conn.cursor()\n",
    "        db_sql = \"INSERT INTO my_books VALUES ('메가트랜드', '2002.03.02','A', 200, 0)\"\n",
    "        cur.execute(db_sql)\n",
    "        db_sql =  \"INSERT INTO my_books VALUES (?, ?, ?, ?, ?)\"\n",
    "        cur.execute(db_sql,('인더스트리 4.0', '2016.07.09','B', 584, 1))\n",
    "        books = [\n",
    "            ('유니콘 스타트업', '2011.07.15','A', 248, 1),\n",
    "            ('빅데이터 마케팅', '2012.08.25','A', 296, 1),\n",
    "            ('사물인터넷 전망', '2013.08.22','B', 526, 0)\n",
    "        ]\n",
    "        cur.executemany(db_sql, books)\n",
    "    \n",
    "    except:\n",
    "        is_success = False\n",
    "        print(\"Database Error!\")\n",
    "    \n",
    "    finally:\n",
    "        if is_success:\n",
    "            conn.commit()\n",
    "        else:\n",
    "            conn.rallback()\n",
    "        conn.close()\n",
    "    \n",
    "    return is_success"
   ]
  },
  {
   "cell_type": "code",
   "execution_count": 11,
   "metadata": {},
   "outputs": [
    {
     "name": "stdout",
     "output_type": "stream",
     "text": [
      "데이터가 성공적으로 등록되었습니다.\n"
     ]
    }
   ],
   "source": [
    "if insert_books(db_name):\n",
    "    print('데이터가 성공적으로 등록되었습니다.')\n",
    "else:\n",
    "    print('데이터가 등록되지 않았습니다. ')"
   ]
  },
  {
   "cell_type": "code",
   "execution_count": 26,
   "metadata": {},
   "outputs": [],
   "source": [
    "import sqlite3  \n",
    "\n",
    "db_name = './database/my_books.db'"
   ]
  },
  {
   "cell_type": "code",
   "execution_count": 30,
   "metadata": {},
   "outputs": [],
   "source": [
    "import pandas as pd\n",
    "\n",
    "def getBooksDF(books):\n",
    "    ret_df = pd.DataFrame()\n",
    "    \n",
    "    title = list()\n",
    "    published_date = list()\n",
    "    publisher = list()\n",
    "    pages = list()\n",
    "    recommendation = list()\n",
    "    \n",
    "    column_name = ['title', 'published_date', 'publisher', 'pages', 'recommendation']\n",
    "    for book in books:\n",
    "        title.append(book[0])\n",
    "        published_date.append(book[1])\n",
    "        publisher.append(book[2])\n",
    "        pages.append(book[3])\n",
    "        recommendation.append(book[4])\n",
    "        \n",
    "    data = {\n",
    "        'title'          : title         ,\n",
    "        'published_date' : published_date,\n",
    "        'publisher'      : publisher     ,\n",
    "        'pages'          : pages         ,\n",
    "        'recommendation' : recommendation\n",
    "    }\n",
    "    \n",
    "    ret_df = pd.DataFrame(data, columns=column_name)\n",
    "    \n",
    "    return ret_df"
   ]
  },
  {
   "cell_type": "code",
   "execution_count": 31,
   "metadata": {},
   "outputs": [],
   "source": [
    "import sqlite3\n",
    "import pandas as pd\n",
    "\n",
    "def select_all_books(db_name):\n",
    "    ret_df = pd.DataFrame()\n",
    "    is_success = True\n",
    "    \n",
    "    try:\n",
    "        conn = sqlite3.connect(db_name)\n",
    "        cur = conn.cursor()\n",
    "        db_sql = 'SELECT * FROM my_books'\n",
    "        cur.execute(db_sql)\n",
    "        print('[1] 전체 데이터 출력하기')\n",
    "        books = cur.fetchall()\n",
    "        ret_df = getBooksDF(books)\n",
    "        \n",
    "    except:\n",
    "        is_success = False\n",
    "        print(\"Database Error!\")\n",
    "        \n",
    "    finally:\n",
    "        conn.close()\n",
    "    \n",
    "    return is_success, ret_df"
   ]
  },
  {
   "cell_type": "code",
   "execution_count": 32,
   "metadata": {},
   "outputs": [
    {
     "name": "stdout",
     "output_type": "stream",
     "text": [
      "[1] 전체 데이터 출력하기\n",
      "조회된 데이터는 총 5 건 입니다.\n"
     ]
    },
    {
     "data": {
      "text/html": [
       "<div>\n",
       "<style scoped>\n",
       "    .dataframe tbody tr th:only-of-type {\n",
       "        vertical-align: middle;\n",
       "    }\n",
       "\n",
       "    .dataframe tbody tr th {\n",
       "        vertical-align: top;\n",
       "    }\n",
       "\n",
       "    .dataframe thead th {\n",
       "        text-align: right;\n",
       "    }\n",
       "</style>\n",
       "<table border=\"1\" class=\"dataframe\">\n",
       "  <thead>\n",
       "    <tr style=\"text-align: right;\">\n",
       "      <th></th>\n",
       "      <th>title</th>\n",
       "      <th>published_date</th>\n",
       "      <th>publisher</th>\n",
       "      <th>pages</th>\n",
       "      <th>recommendation</th>\n",
       "    </tr>\n",
       "  </thead>\n",
       "  <tbody>\n",
       "    <tr>\n",
       "      <th>0</th>\n",
       "      <td>메가트랜드</td>\n",
       "      <td>2002.03.02</td>\n",
       "      <td>A</td>\n",
       "      <td>200</td>\n",
       "      <td>0</td>\n",
       "    </tr>\n",
       "    <tr>\n",
       "      <th>1</th>\n",
       "      <td>인더스트리 4.0</td>\n",
       "      <td>2016.07.09</td>\n",
       "      <td>B</td>\n",
       "      <td>584</td>\n",
       "      <td>1</td>\n",
       "    </tr>\n",
       "    <tr>\n",
       "      <th>2</th>\n",
       "      <td>유니콘 스타트업</td>\n",
       "      <td>2011.07.15</td>\n",
       "      <td>A</td>\n",
       "      <td>248</td>\n",
       "      <td>1</td>\n",
       "    </tr>\n",
       "    <tr>\n",
       "      <th>3</th>\n",
       "      <td>빅데이터 마케팅</td>\n",
       "      <td>2012.08.25</td>\n",
       "      <td>A</td>\n",
       "      <td>296</td>\n",
       "      <td>1</td>\n",
       "    </tr>\n",
       "    <tr>\n",
       "      <th>4</th>\n",
       "      <td>사물인터넷 전망</td>\n",
       "      <td>2013.08.22</td>\n",
       "      <td>B</td>\n",
       "      <td>526</td>\n",
       "      <td>0</td>\n",
       "    </tr>\n",
       "  </tbody>\n",
       "</table>\n",
       "</div>"
      ],
      "text/plain": [
       "       title published_date publisher  pages  recommendation\n",
       "0      메가트랜드     2002.03.02         A    200               0\n",
       "1  인더스트리 4.0     2016.07.09         B    584               1\n",
       "2   유니콘 스타트업     2011.07.15         A    248               1\n",
       "3   빅데이터 마케팅     2012.08.25         A    296               1\n",
       "4   사물인터넷 전망     2013.08.22         B    526               0"
      ]
     },
     "execution_count": 32,
     "metadata": {},
     "output_type": "execute_result"
    }
   ],
   "source": [
    "is_success, books_df = select_all_books(db_name)\n",
    "if is_success:\n",
    "    print('조회된 데이터는 총 %d 건 입니다.'%len(books_df))\n",
    "else:\n",
    "    print('데이터를 조회하지 못했습니다.')\n",
    "    \n",
    "books_df"
   ]
  },
  {
   "cell_type": "code",
   "execution_count": 33,
   "metadata": {},
   "outputs": [],
   "source": [
    "def select_some_books(db_name, number):\n",
    "    \n",
    "    ret_df = pd.DataFrame()\n",
    "    is_success = True\n",
    "    \n",
    "    try:\n",
    "        conn = sqlite3.connect(db_name) \n",
    "        cur = conn.cursor()  \n",
    "        db_sql = \"SELECT * FROM my_books\"\n",
    "        cur.execute(db_sql) \n",
    "\n",
    "        print('[2] 데이터 일부 출력하기')\n",
    "        books = cur.fetchmany(number)                   \n",
    "\n",
    "        ret_df = getBooksDF(books)\n",
    "     \n",
    "    except:\n",
    "        is_success = False\n",
    "        print(\"Database Error!\")\n",
    "        \n",
    "    finally : \n",
    "        conn.close()\n",
    "        \n",
    "    return is_success, ret_df                   "
   ]
  },
  {
   "cell_type": "code",
   "execution_count": 34,
   "metadata": {},
   "outputs": [
    {
     "name": "stdout",
     "output_type": "stream",
     "text": [
      "[2] 데이터 일부 출력하기\n",
      "조회된 데이터는 총 3 건 입니다.\n"
     ]
    },
    {
     "data": {
      "text/html": [
       "<div>\n",
       "<style scoped>\n",
       "    .dataframe tbody tr th:only-of-type {\n",
       "        vertical-align: middle;\n",
       "    }\n",
       "\n",
       "    .dataframe tbody tr th {\n",
       "        vertical-align: top;\n",
       "    }\n",
       "\n",
       "    .dataframe thead th {\n",
       "        text-align: right;\n",
       "    }\n",
       "</style>\n",
       "<table border=\"1\" class=\"dataframe\">\n",
       "  <thead>\n",
       "    <tr style=\"text-align: right;\">\n",
       "      <th></th>\n",
       "      <th>title</th>\n",
       "      <th>published_date</th>\n",
       "      <th>publisher</th>\n",
       "      <th>pages</th>\n",
       "      <th>recommendation</th>\n",
       "    </tr>\n",
       "  </thead>\n",
       "  <tbody>\n",
       "    <tr>\n",
       "      <th>0</th>\n",
       "      <td>메가트랜드</td>\n",
       "      <td>2002.03.02</td>\n",
       "      <td>A</td>\n",
       "      <td>200</td>\n",
       "      <td>0</td>\n",
       "    </tr>\n",
       "    <tr>\n",
       "      <th>1</th>\n",
       "      <td>인더스트리 4.0</td>\n",
       "      <td>2016.07.09</td>\n",
       "      <td>B</td>\n",
       "      <td>584</td>\n",
       "      <td>1</td>\n",
       "    </tr>\n",
       "    <tr>\n",
       "      <th>2</th>\n",
       "      <td>유니콘 스타트업</td>\n",
       "      <td>2011.07.15</td>\n",
       "      <td>A</td>\n",
       "      <td>248</td>\n",
       "      <td>1</td>\n",
       "    </tr>\n",
       "  </tbody>\n",
       "</table>\n",
       "</div>"
      ],
      "text/plain": [
       "       title published_date publisher  pages  recommendation\n",
       "0      메가트랜드     2002.03.02         A    200               0\n",
       "1  인더스트리 4.0     2016.07.09         B    584               1\n",
       "2   유니콘 스타트업     2011.07.15         A    248               1"
      ]
     },
     "execution_count": 34,
     "metadata": {},
     "output_type": "execute_result"
    }
   ],
   "source": [
    "is_success, books_df = select_some_books(db_name, number=3)\n",
    "if is_success:\n",
    "    print('조회된 데이터는 총 %d 건 입니다.'%len(books_df))\n",
    "else :\n",
    "    print('데이터를 조회하지 못했습니다')\n",
    "\n",
    "books_df"
   ]
  },
  {
   "cell_type": "code",
   "execution_count": 35,
   "metadata": {},
   "outputs": [],
   "source": [
    "def select_one_book(db_name):\n",
    "\n",
    "    ret_df = pd.DataFrame()\n",
    "    is_success = True\n",
    "    \n",
    "    try:\n",
    "        conn = sqlite3.connect(db_name) \n",
    "\n",
    "        cur = conn.cursor()  \n",
    "\n",
    "        db_sql = \"SELECT * FROM my_books \"\n",
    "        cur.execute(db_sql) \n",
    "\n",
    "        print('[3] 1개 데이터 출력하기')\n",
    "                        \n",
    "        book = cur.fetchone()\n",
    "        books = [book]\n",
    "        ret_df = getBooksDF(books)\n",
    "     \n",
    "    except:\n",
    "        is_success = False\n",
    "        print(\"Database Error!\")\n",
    "        \n",
    "    finally : \n",
    "        conn.close()\n",
    "        \n",
    "    return is_success, ret_df         "
   ]
  },
  {
   "cell_type": "code",
   "execution_count": 36,
   "metadata": {},
   "outputs": [
    {
     "name": "stdout",
     "output_type": "stream",
     "text": [
      "[3] 1개 데이터 출력하기\n",
      "하나의 데이터를 성공적으로 조회하였습니다.\n"
     ]
    },
    {
     "data": {
      "text/html": [
       "<div>\n",
       "<style scoped>\n",
       "    .dataframe tbody tr th:only-of-type {\n",
       "        vertical-align: middle;\n",
       "    }\n",
       "\n",
       "    .dataframe tbody tr th {\n",
       "        vertical-align: top;\n",
       "    }\n",
       "\n",
       "    .dataframe thead th {\n",
       "        text-align: right;\n",
       "    }\n",
       "</style>\n",
       "<table border=\"1\" class=\"dataframe\">\n",
       "  <thead>\n",
       "    <tr style=\"text-align: right;\">\n",
       "      <th></th>\n",
       "      <th>title</th>\n",
       "      <th>published_date</th>\n",
       "      <th>publisher</th>\n",
       "      <th>pages</th>\n",
       "      <th>recommendation</th>\n",
       "    </tr>\n",
       "  </thead>\n",
       "  <tbody>\n",
       "    <tr>\n",
       "      <th>0</th>\n",
       "      <td>메가트랜드</td>\n",
       "      <td>2002.03.02</td>\n",
       "      <td>A</td>\n",
       "      <td>200</td>\n",
       "      <td>0</td>\n",
       "    </tr>\n",
       "  </tbody>\n",
       "</table>\n",
       "</div>"
      ],
      "text/plain": [
       "   title published_date publisher  pages  recommendation\n",
       "0  메가트랜드     2002.03.02         A    200               0"
      ]
     },
     "execution_count": 36,
     "metadata": {},
     "output_type": "execute_result"
    }
   ],
   "source": [
    "is_success, books_df = select_one_book(db_name) \n",
    "if is_success:\n",
    "    print('하나의 데이터를 성공적으로 조회하였습니다.')\n",
    "else :\n",
    "    print('데이터를 조회하지 못했습니다')\n",
    "\n",
    "books_df"
   ]
  },
  {
   "cell_type": "code",
   "execution_count": 37,
   "metadata": {},
   "outputs": [],
   "source": [
    "def find_big_books(db_name):\n",
    "   \n",
    "    ret_df = pd.DataFrame()\n",
    "    is_success = True\n",
    "    \n",
    "    try:\n",
    "        conn = sqlite3.connect(db_name) \n",
    "        cur = conn.cursor()  \n",
    "        db_sql = \"SELECT * FROM my_books \"\n",
    "        db_sql+= \"WHERE pages > 300\"\n",
    "        cur.execute(db_sql) \n",
    "\n",
    "        print('[4] 페이지 많은 책 출력하기')\n",
    "        books = cur.fetchall()\n",
    "        \n",
    "        ret_df = getBooksDF(books)\n",
    "\n",
    "    except:\n",
    "        is_success = False\n",
    "        print(\"Database Error!\")\n",
    "        \n",
    "    finally : \n",
    "\n",
    "        conn.close()\n",
    "        \n",
    "    return is_success, ret_df      "
   ]
  },
  {
   "cell_type": "code",
   "execution_count": 38,
   "metadata": {},
   "outputs": [
    {
     "name": "stdout",
     "output_type": "stream",
     "text": [
      "[4] 페이지 많은 책 출력하기\n",
      "조건에 맞는 데이터는 총 2 건 입니다.(조건:pages>300)\n"
     ]
    },
    {
     "data": {
      "text/html": [
       "<div>\n",
       "<style scoped>\n",
       "    .dataframe tbody tr th:only-of-type {\n",
       "        vertical-align: middle;\n",
       "    }\n",
       "\n",
       "    .dataframe tbody tr th {\n",
       "        vertical-align: top;\n",
       "    }\n",
       "\n",
       "    .dataframe thead th {\n",
       "        text-align: right;\n",
       "    }\n",
       "</style>\n",
       "<table border=\"1\" class=\"dataframe\">\n",
       "  <thead>\n",
       "    <tr style=\"text-align: right;\">\n",
       "      <th></th>\n",
       "      <th>title</th>\n",
       "      <th>published_date</th>\n",
       "      <th>publisher</th>\n",
       "      <th>pages</th>\n",
       "      <th>recommendation</th>\n",
       "    </tr>\n",
       "  </thead>\n",
       "  <tbody>\n",
       "    <tr>\n",
       "      <th>0</th>\n",
       "      <td>인더스트리 4.0</td>\n",
       "      <td>2016.07.09</td>\n",
       "      <td>B</td>\n",
       "      <td>584</td>\n",
       "      <td>1</td>\n",
       "    </tr>\n",
       "    <tr>\n",
       "      <th>1</th>\n",
       "      <td>사물인터넷 전망</td>\n",
       "      <td>2013.08.22</td>\n",
       "      <td>B</td>\n",
       "      <td>526</td>\n",
       "      <td>0</td>\n",
       "    </tr>\n",
       "  </tbody>\n",
       "</table>\n",
       "</div>"
      ],
      "text/plain": [
       "       title published_date publisher  pages  recommendation\n",
       "0  인더스트리 4.0     2016.07.09         B    584               1\n",
       "1   사물인터넷 전망     2013.08.22         B    526               0"
      ]
     },
     "execution_count": 38,
     "metadata": {},
     "output_type": "execute_result"
    }
   ],
   "source": [
    "is_success, books_df = find_big_books(db_name)\n",
    "if is_success:\n",
    "    print('조건에 맞는 데이터는 총 %d 건 입니다.(조건:pages>300)'%len(books_df))\n",
    "else :\n",
    "    print('데이터를 조회하지 못했습니다')\n",
    "\n",
    "books_df"
   ]
  },
  {
   "cell_type": "code",
   "execution_count": 46,
   "metadata": {},
   "outputs": [],
   "source": [
    "def find_books(db_name, title):\n",
    "   \n",
    "    ret_df = pd.DataFrame()\n",
    "    is_success = True\n",
    "    \n",
    "    try:\n",
    "        conn = sqlite3.connect(db_name) \n",
    "        cur = conn.cursor()  \n",
    "        db_sql = \"SELECT * FROM my_books \"\n",
    "        db_sql+= \"WHERE title like '{}%'\"\n",
    "        \n",
    "        print(db_sql.format(title))\n",
    "        cur.execute(db_sql.format(title)) \n",
    "        \n",
    "        print('[4]책 제목 출력하기')\n",
    "        books = cur.fetchall()\n",
    "        ret_df = getBooksDF(books)\n",
    "\n",
    "    except:\n",
    "        is_success = False\n",
    "        print(\"Database Error!\")\n",
    "        \n",
    "    finally : \n",
    "\n",
    "        conn.close()\n",
    "        \n",
    "    return is_success, ret_df      "
   ]
  },
  {
   "cell_type": "code",
   "execution_count": 47,
   "metadata": {},
   "outputs": [
    {
     "name": "stdout",
     "output_type": "stream",
     "text": [
      "SELECT * FROM my_books WHERE title like '빅데이터%'\n",
      "[4]책 제목 출력하기\n",
      "조회된 데이터는 총 1 건 입니다.\n"
     ]
    },
    {
     "data": {
      "text/html": [
       "<div>\n",
       "<style scoped>\n",
       "    .dataframe tbody tr th:only-of-type {\n",
       "        vertical-align: middle;\n",
       "    }\n",
       "\n",
       "    .dataframe tbody tr th {\n",
       "        vertical-align: top;\n",
       "    }\n",
       "\n",
       "    .dataframe thead th {\n",
       "        text-align: right;\n",
       "    }\n",
       "</style>\n",
       "<table border=\"1\" class=\"dataframe\">\n",
       "  <thead>\n",
       "    <tr style=\"text-align: right;\">\n",
       "      <th></th>\n",
       "      <th>title</th>\n",
       "      <th>published_date</th>\n",
       "      <th>publisher</th>\n",
       "      <th>pages</th>\n",
       "      <th>recommendation</th>\n",
       "    </tr>\n",
       "  </thead>\n",
       "  <tbody>\n",
       "    <tr>\n",
       "      <th>0</th>\n",
       "      <td>빅데이터 마케팅</td>\n",
       "      <td>2012.08.25</td>\n",
       "      <td>A</td>\n",
       "      <td>296</td>\n",
       "      <td>1</td>\n",
       "    </tr>\n",
       "  </tbody>\n",
       "</table>\n",
       "</div>"
      ],
      "text/plain": [
       "      title published_date publisher  pages  recommendation\n",
       "0  빅데이터 마케팅     2012.08.25         A    296               1"
      ]
     },
     "execution_count": 47,
     "metadata": {},
     "output_type": "execute_result"
    }
   ],
   "source": [
    "title = '빅데이터'\n",
    "is_success, books_df = find_books(db_name, title)\n",
    "if is_success:\n",
    "    print('조회된 데이터는 총 %d 건 입니다.'%len(books_df))\n",
    "else :\n",
    "    print('데이터를 조회하지 못했습니다')\n",
    "\n",
    "books_df"
   ]
  },
  {
   "cell_type": "code",
   "execution_count": 53,
   "metadata": {},
   "outputs": [],
   "source": [
    "import sqlite3\n",
    "\n",
    "def update_books(db_name):\n",
    "    is_success = True\n",
    "    \n",
    "    try:\n",
    "        conn = sqlite3.connect(db_name)\n",
    "        cur = conn.cursor()\n",
    "        db_sql = 'UPDATE my_books SET recommendation=? WHERE title=? '\n",
    "        cur.execute(db_sql, (1, '메가트랜드'))\n",
    "    except:\n",
    "        is_success = False\n",
    "        print('Database Error!')\n",
    "    finally:\n",
    "        if is_success:\n",
    "            conn.commit()\n",
    "        else:\n",
    "            conn.rollback()\n",
    "        conn.close\n",
    "    return is_success"
   ]
  },
  {
   "cell_type": "code",
   "execution_count": 54,
   "metadata": {},
   "outputs": [
    {
     "name": "stdout",
     "output_type": "stream",
     "text": [
      "[3] 1개 데이터 출력하기\n",
      "데이터가 성공적으로 수정되었습니다.\n",
      "[3] 1개 데이터 출력하기\n"
     ]
    },
    {
     "data": {
      "text/html": [
       "<div>\n",
       "<style scoped>\n",
       "    .dataframe tbody tr th:only-of-type {\n",
       "        vertical-align: middle;\n",
       "    }\n",
       "\n",
       "    .dataframe tbody tr th {\n",
       "        vertical-align: top;\n",
       "    }\n",
       "\n",
       "    .dataframe thead th {\n",
       "        text-align: right;\n",
       "    }\n",
       "</style>\n",
       "<table border=\"1\" class=\"dataframe\">\n",
       "  <thead>\n",
       "    <tr style=\"text-align: right;\">\n",
       "      <th></th>\n",
       "      <th>title</th>\n",
       "      <th>published_date</th>\n",
       "      <th>publisher</th>\n",
       "      <th>pages</th>\n",
       "      <th>recommendation</th>\n",
       "    </tr>\n",
       "    <tr>\n",
       "      <th>update</th>\n",
       "      <th></th>\n",
       "      <th></th>\n",
       "      <th></th>\n",
       "      <th></th>\n",
       "      <th></th>\n",
       "    </tr>\n",
       "  </thead>\n",
       "  <tbody>\n",
       "    <tr>\n",
       "      <th>수정전</th>\n",
       "      <td>메가트랜드</td>\n",
       "      <td>2002.03.02</td>\n",
       "      <td>A</td>\n",
       "      <td>200</td>\n",
       "      <td>0</td>\n",
       "    </tr>\n",
       "    <tr>\n",
       "      <th>수정후</th>\n",
       "      <td>메가트랜드</td>\n",
       "      <td>2002.03.02</td>\n",
       "      <td>A</td>\n",
       "      <td>200</td>\n",
       "      <td>1</td>\n",
       "    </tr>\n",
       "  </tbody>\n",
       "</table>\n",
       "</div>"
      ],
      "text/plain": [
       "        title published_date publisher  pages  recommendation\n",
       "update                                                       \n",
       "수정전     메가트랜드     2002.03.02         A    200               0\n",
       "수정후     메가트랜드     2002.03.02         A    200               1"
      ]
     },
     "execution_count": 54,
     "metadata": {},
     "output_type": "execute_result"
    }
   ],
   "source": [
    "is_success, books_df1 = select_one_book(db_name)\n",
    "\n",
    "if update_books(db_name):\n",
    "    print('데이터가 성공적으로 수정되었습니다.')\n",
    "else:\n",
    "    print('데이터가 수정되지 않았습니다.')\n",
    "\n",
    "is_success, books_df2 = select_one_book(db_name)\n",
    "\n",
    "books_df = pd.concat([books_df1, books_df2], axis=0)\n",
    "books_df['update'] = ['수정전','수정후']\n",
    "books_df.set_index('update', inplace=True)\n",
    "books_df"
   ]
  },
  {
   "cell_type": "code",
   "execution_count": 63,
   "metadata": {},
   "outputs": [],
   "source": [
    "\n",
    "import sqlite3 \n",
    "def delete_books_by_title(db_name, title):\n",
    "    is_success = True\n",
    "    \n",
    "    try:\n",
    "        conn = sqlite3.connect(db_name)\n",
    "        cur = conn.cursor()\n",
    "        db_sql = 'DELETE FROM my_books '\n",
    "        db_sql+= 'WHERE title = ?'\n",
    "        cur.execute(db_sql, (title,))\n",
    "    except:\n",
    "        is_success = False\n",
    "        print(\"Database Error!\")\n",
    "    finally:\n",
    "        if is_success:\n",
    "            conn.commit()\n",
    "        else:\n",
    "            conn.rollback()\n",
    "        conn.close()\n",
    "    return is_success"
   ]
  },
  {
   "cell_type": "code",
   "execution_count": 64,
   "metadata": {},
   "outputs": [
    {
     "name": "stdout",
     "output_type": "stream",
     "text": [
      "데이터가 성공적으로 삭제되었습니다.\n",
      "[1] 전체 데이터 출력하기\n"
     ]
    },
    {
     "data": {
      "text/html": [
       "<div>\n",
       "<style scoped>\n",
       "    .dataframe tbody tr th:only-of-type {\n",
       "        vertical-align: middle;\n",
       "    }\n",
       "\n",
       "    .dataframe tbody tr th {\n",
       "        vertical-align: top;\n",
       "    }\n",
       "\n",
       "    .dataframe thead th {\n",
       "        text-align: right;\n",
       "    }\n",
       "</style>\n",
       "<table border=\"1\" class=\"dataframe\">\n",
       "  <thead>\n",
       "    <tr style=\"text-align: right;\">\n",
       "      <th></th>\n",
       "      <th>title</th>\n",
       "      <th>published_date</th>\n",
       "      <th>publisher</th>\n",
       "      <th>pages</th>\n",
       "      <th>recommendation</th>\n",
       "    </tr>\n",
       "  </thead>\n",
       "  <tbody>\n",
       "    <tr>\n",
       "      <th>0</th>\n",
       "      <td>인더스트리 4.0</td>\n",
       "      <td>2016.07.09</td>\n",
       "      <td>B</td>\n",
       "      <td>584</td>\n",
       "      <td>1</td>\n",
       "    </tr>\n",
       "    <tr>\n",
       "      <th>1</th>\n",
       "      <td>유니콘 스타트업</td>\n",
       "      <td>2011.07.15</td>\n",
       "      <td>A</td>\n",
       "      <td>248</td>\n",
       "      <td>1</td>\n",
       "    </tr>\n",
       "    <tr>\n",
       "      <th>2</th>\n",
       "      <td>빅데이터 마케팅</td>\n",
       "      <td>2012.08.25</td>\n",
       "      <td>A</td>\n",
       "      <td>296</td>\n",
       "      <td>1</td>\n",
       "    </tr>\n",
       "    <tr>\n",
       "      <th>3</th>\n",
       "      <td>사물인터넷 전망</td>\n",
       "      <td>2013.08.22</td>\n",
       "      <td>B</td>\n",
       "      <td>526</td>\n",
       "      <td>0</td>\n",
       "    </tr>\n",
       "  </tbody>\n",
       "</table>\n",
       "</div>"
      ],
      "text/plain": [
       "       title published_date publisher  pages  recommendation\n",
       "0  인더스트리 4.0     2016.07.09         B    584               1\n",
       "1   유니콘 스타트업     2011.07.15         A    248               1\n",
       "2   빅데이터 마케팅     2012.08.25         A    296               1\n",
       "3   사물인터넷 전망     2013.08.22         B    526               0"
      ]
     },
     "execution_count": 64,
     "metadata": {},
     "output_type": "execute_result"
    }
   ],
   "source": [
    "title = '메가트랜드'\n",
    "if delete_books_by_title(db_name, title):\n",
    "    print('데이터가 성공적으로 삭제되었습니다.')\n",
    "else:\n",
    "    print('데이터가 삭제되지 않았습니다.')\n",
    "\n",
    "is_success, books_df = select_all_books(db_name)\n",
    "books_df"
   ]
  },
  {
   "cell_type": "code",
   "execution_count": 65,
   "metadata": {},
   "outputs": [],
   "source": [
    "def delete_books(db_name, col_name, col_val):\n",
    "    is_success = True\n",
    "    \n",
    "    try: \n",
    "        conn = sqlite3.connect(db_name) \n",
    "        cur = conn.cursor()  \n",
    "        db_sql = 'DELETE FROM my_books '\n",
    "        db_sql+= 'WHERE {} = ? '\n",
    "        db_sql = db_sql.format(col_name)\n",
    "        cur.execute(db_sql, (col_val,))\n",
    "\n",
    "    except:\n",
    "        is_success = False\n",
    "        print(\"Database Error!\")\n",
    "        \n",
    "    finally :      \n",
    "        if is_success:\n",
    "            conn.commit()  \n",
    "        else:\n",
    "            conn.rollback()\n",
    "            \n",
    "        conn.close()\n",
    "    \n",
    "    return is_success   "
   ]
  },
  {
   "cell_type": "code",
   "execution_count": 66,
   "metadata": {},
   "outputs": [
    {
     "name": "stdout",
     "output_type": "stream",
     "text": [
      "[1] 전체 데이터 출력하기\n"
     ]
    },
    {
     "data": {
      "text/html": [
       "<div>\n",
       "<style scoped>\n",
       "    .dataframe tbody tr th:only-of-type {\n",
       "        vertical-align: middle;\n",
       "    }\n",
       "\n",
       "    .dataframe tbody tr th {\n",
       "        vertical-align: top;\n",
       "    }\n",
       "\n",
       "    .dataframe thead th {\n",
       "        text-align: right;\n",
       "    }\n",
       "</style>\n",
       "<table border=\"1\" class=\"dataframe\">\n",
       "  <thead>\n",
       "    <tr style=\"text-align: right;\">\n",
       "      <th></th>\n",
       "      <th>title</th>\n",
       "      <th>published_date</th>\n",
       "      <th>publisher</th>\n",
       "      <th>pages</th>\n",
       "      <th>recommendation</th>\n",
       "    </tr>\n",
       "  </thead>\n",
       "  <tbody>\n",
       "    <tr>\n",
       "      <th>0</th>\n",
       "      <td>인더스트리 4.0</td>\n",
       "      <td>2016.07.09</td>\n",
       "      <td>B</td>\n",
       "      <td>584</td>\n",
       "      <td>1</td>\n",
       "    </tr>\n",
       "    <tr>\n",
       "      <th>1</th>\n",
       "      <td>유니콘 스타트업</td>\n",
       "      <td>2011.07.15</td>\n",
       "      <td>A</td>\n",
       "      <td>248</td>\n",
       "      <td>1</td>\n",
       "    </tr>\n",
       "    <tr>\n",
       "      <th>2</th>\n",
       "      <td>빅데이터 마케팅</td>\n",
       "      <td>2012.08.25</td>\n",
       "      <td>A</td>\n",
       "      <td>296</td>\n",
       "      <td>1</td>\n",
       "    </tr>\n",
       "    <tr>\n",
       "      <th>3</th>\n",
       "      <td>사물인터넷 전망</td>\n",
       "      <td>2013.08.22</td>\n",
       "      <td>B</td>\n",
       "      <td>526</td>\n",
       "      <td>0</td>\n",
       "    </tr>\n",
       "  </tbody>\n",
       "</table>\n",
       "</div>"
      ],
      "text/plain": [
       "       title published_date publisher  pages  recommendation\n",
       "0  인더스트리 4.0     2016.07.09         B    584               1\n",
       "1   유니콘 스타트업     2011.07.15         A    248               1\n",
       "2   빅데이터 마케팅     2012.08.25         A    296               1\n",
       "3   사물인터넷 전망     2013.08.22         B    526               0"
      ]
     },
     "execution_count": 66,
     "metadata": {},
     "output_type": "execute_result"
    }
   ],
   "source": [
    "is_success, books_df = select_all_books(db_name) \n",
    "books_df"
   ]
  },
  {
   "cell_type": "code",
   "execution_count": 67,
   "metadata": {},
   "outputs": [
    {
     "name": "stdout",
     "output_type": "stream",
     "text": [
      "데이터가 성공적으로 삭제되었습니다.\n",
      "[1] 전체 데이터 출력하기\n"
     ]
    },
    {
     "data": {
      "text/html": [
       "<div>\n",
       "<style scoped>\n",
       "    .dataframe tbody tr th:only-of-type {\n",
       "        vertical-align: middle;\n",
       "    }\n",
       "\n",
       "    .dataframe tbody tr th {\n",
       "        vertical-align: top;\n",
       "    }\n",
       "\n",
       "    .dataframe thead th {\n",
       "        text-align: right;\n",
       "    }\n",
       "</style>\n",
       "<table border=\"1\" class=\"dataframe\">\n",
       "  <thead>\n",
       "    <tr style=\"text-align: right;\">\n",
       "      <th></th>\n",
       "      <th>title</th>\n",
       "      <th>published_date</th>\n",
       "      <th>publisher</th>\n",
       "      <th>pages</th>\n",
       "      <th>recommendation</th>\n",
       "    </tr>\n",
       "  </thead>\n",
       "  <tbody>\n",
       "    <tr>\n",
       "      <th>0</th>\n",
       "      <td>인더스트리 4.0</td>\n",
       "      <td>2016.07.09</td>\n",
       "      <td>B</td>\n",
       "      <td>584</td>\n",
       "      <td>1</td>\n",
       "    </tr>\n",
       "    <tr>\n",
       "      <th>1</th>\n",
       "      <td>사물인터넷 전망</td>\n",
       "      <td>2013.08.22</td>\n",
       "      <td>B</td>\n",
       "      <td>526</td>\n",
       "      <td>0</td>\n",
       "    </tr>\n",
       "  </tbody>\n",
       "</table>\n",
       "</div>"
      ],
      "text/plain": [
       "       title published_date publisher  pages  recommendation\n",
       "0  인더스트리 4.0     2016.07.09         B    584               1\n",
       "1   사물인터넷 전망     2013.08.22         B    526               0"
      ]
     },
     "execution_count": 67,
     "metadata": {},
     "output_type": "execute_result"
    }
   ],
   "source": [
    "col_name = 'publisher'\n",
    "col_val  = 'A'\n",
    "if delete_books(db_name, col_name, col_val):\n",
    "    print('데이터가 성공적으로 삭제되었습니다.')\n",
    "else :\n",
    "    print('데이터가 삭제되지 않았습니다')\n",
    "\n",
    "is_success, books_df = select_all_books(db_name) \n",
    "books_df"
   ]
  },
  {
   "cell_type": "code",
   "execution_count": 68,
   "metadata": {},
   "outputs": [
    {
     "name": "stdout",
     "output_type": "stream",
     "text": [
      "데이터가 성공적으로 삭제되었습니다.\n",
      "[1] 전체 데이터 출력하기\n"
     ]
    },
    {
     "data": {
      "text/html": [
       "<div>\n",
       "<style scoped>\n",
       "    .dataframe tbody tr th:only-of-type {\n",
       "        vertical-align: middle;\n",
       "    }\n",
       "\n",
       "    .dataframe tbody tr th {\n",
       "        vertical-align: top;\n",
       "    }\n",
       "\n",
       "    .dataframe thead th {\n",
       "        text-align: right;\n",
       "    }\n",
       "</style>\n",
       "<table border=\"1\" class=\"dataframe\">\n",
       "  <thead>\n",
       "    <tr style=\"text-align: right;\">\n",
       "      <th></th>\n",
       "      <th>title</th>\n",
       "      <th>published_date</th>\n",
       "      <th>publisher</th>\n",
       "      <th>pages</th>\n",
       "      <th>recommendation</th>\n",
       "    </tr>\n",
       "  </thead>\n",
       "  <tbody>\n",
       "    <tr>\n",
       "      <th>0</th>\n",
       "      <td>인더스트리 4.0</td>\n",
       "      <td>2016.07.09</td>\n",
       "      <td>B</td>\n",
       "      <td>584</td>\n",
       "      <td>1</td>\n",
       "    </tr>\n",
       "  </tbody>\n",
       "</table>\n",
       "</div>"
      ],
      "text/plain": [
       "       title published_date publisher  pages  recommendation\n",
       "0  인더스트리 4.0     2016.07.09         B    584               1"
      ]
     },
     "execution_count": 68,
     "metadata": {},
     "output_type": "execute_result"
    }
   ],
   "source": [
    "col_name = 'title'\n",
    "col_val  = '사물인터넷 전망'\n",
    "if delete_books(db_name, col_name, col_val):\n",
    "    print('데이터가 성공적으로 삭제되었습니다.')\n",
    "else :\n",
    "    print('데이터가 삭제되지 않았습니다')\n",
    "\n",
    "is_success, books_df = select_all_books(db_name) \n",
    "books_df"
   ]
  },
  {
   "cell_type": "code",
   "execution_count": null,
   "metadata": {},
   "outputs": [],
   "source": []
  }
 ],
 "metadata": {
  "kernelspec": {
   "display_name": "Python 3",
   "language": "python",
   "name": "python3"
  },
  "language_info": {
   "codemirror_mode": {
    "name": "ipython",
    "version": 3
   },
   "file_extension": ".py",
   "mimetype": "text/x-python",
   "name": "python",
   "nbconvert_exporter": "python",
   "pygments_lexer": "ipython3",
   "version": "3.7.3"
  }
 },
 "nbformat": 4,
 "nbformat_minor": 2
}
