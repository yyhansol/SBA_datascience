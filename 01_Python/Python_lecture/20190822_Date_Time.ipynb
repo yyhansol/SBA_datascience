{
 "cells": [
  {
   "cell_type": "code",
   "execution_count": 4,
   "metadata": {},
   "outputs": [],
   "source": [
    "from time import localtime, strftime\n",
    "\n",
    "def writelog(logfile, log):\n",
    "    time_stamp = strftime('%Y-%m-%d %X\\t', localtime())\n",
    "    log = time_stamp + log + \"\\n\"\n",
    "    \n",
    "    with open(logfile, 'a') as f:\n",
    "        f.writelines(log)\n",
    "        \n",
    "logfile = 'test.log'\n",
    "\n",
    "! del test.log\n",
    "\n",
    "writelog(logfile, '첫 번째  로깅 문장입니다.')"
   ]
  },
  {
   "cell_type": "code",
   "execution_count": 5,
   "metadata": {},
   "outputs": [
    {
     "name": "stdout",
     "output_type": "stream",
     "text": [
      "2019-08-22 16:37:47\t첫 번째  로깅 문장입니다.\n"
     ]
    }
   ],
   "source": [
    "! type test.log"
   ]
  },
  {
   "cell_type": "code",
   "execution_count": 6,
   "metadata": {},
   "outputs": [
    {
     "name": "stdout",
     "output_type": "stream",
     "text": [
      "time.struct_time(tm_year=2019, tm_mon=8, tm_mday=22, tm_hour=16, tm_min=40, tm_sec=25, tm_wday=3, tm_yday=234, tm_isdst=0)\n",
      "오늘은 [2019-01-01]이후 [234]일째 되는 날입니다.\n"
     ]
    }
   ],
   "source": [
    "from time import localtime\n",
    "\n",
    "t = localtime()\n",
    "print(t)\n",
    "\n",
    "start_day = '%d-01-01' % (t.tm_year)\n",
    "elapsed_day = t.tm_yday\n",
    "\n",
    "print('오늘은 [%s]이후 [%d]일째 되는 날입니다.' % (start_day, elapsed_day))"
   ]
  },
  {
   "cell_type": "markdown",
   "metadata": {},
   "source": [
    "#### 미션, 기념일 계산"
   ]
  },
  {
   "cell_type": "code",
   "execution_count": 15,
   "metadata": {},
   "outputs": [],
   "source": [
    "from datetime import datetime\n",
    "\n",
    "def getMemorialDay(year, month, day, mem_day='기념일', is_msg=True):\n",
    "    m_day = datetime(year, month, day)\n",
    "    today = datetime.today()\n",
    "    elapsed = today - m_day\n",
    "    elapsed_day   = elapsed.days\n",
    "    elapsed_month = elapsed_day / 30\n",
    "    elapsed_year  = elapsed_day / 365\n",
    "    \n",
    "    print('오늘은 \"' + mem_day + '\"로부터 {0}일 경과되었고, 달 수로는 {1}개월때, 연 수로는 {2}년째 되었습니다.'\n",
    "          .format(elapsed_day,int(elapsed_month),int(elapsed_year)))"
   ]
  },
  {
   "cell_type": "code",
   "execution_count": 16,
   "metadata": {},
   "outputs": [
    {
     "name": "stdout",
     "output_type": "stream",
     "text": [
      "오늘은 \"밀레니엄일\"로부터 7173일 경과되었고, 달 수로는 239개월때, 연 수로는 19년째 되었습니다.\n"
     ]
    }
   ],
   "source": [
    "getMemorialDay(2000,1,1,'밀레니엄일')"
   ]
  },
  {
   "cell_type": "code",
   "execution_count": null,
   "metadata": {},
   "outputs": [],
   "source": []
  }
 ],
 "metadata": {
  "kernelspec": {
   "display_name": "Python 3",
   "language": "python",
   "name": "python3"
  },
  "language_info": {
   "codemirror_mode": {
    "name": "ipython",
    "version": 3
   },
   "file_extension": ".py",
   "mimetype": "text/x-python",
   "name": "python",
   "nbconvert_exporter": "python",
   "pygments_lexer": "ipython3",
   "version": "3.7.3"
  }
 },
 "nbformat": 4,
 "nbformat_minor": 2
}
