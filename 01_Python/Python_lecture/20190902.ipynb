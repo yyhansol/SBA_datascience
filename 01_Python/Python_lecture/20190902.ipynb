{
 "cells": [
  {
   "cell_type": "code",
   "execution_count": 5,
   "metadata": {},
   "outputs": [],
   "source": [
    "import sqlite3  \n",
    "\n",
    "db_name = './database/my_books.db'"
   ]
  },
  {
   "cell_type": "code",
   "execution_count": 6,
   "metadata": {},
   "outputs": [],
   "source": [
    "import pandas as pd\n",
    "\n",
    "def getBooksDF(books):\n",
    "    ret_df = pd.DataFrame()\n",
    "    \n",
    "    title = list()\n",
    "    published_date = list()\n",
    "    publisher = list()\n",
    "    pages = list()\n",
    "    recommendation = list()\n",
    "    \n",
    "    column_name = ['title', 'published_date', 'publisher', 'pages', 'recommendation']\n",
    "    for book in books:\n",
    "        title.append(book[0])\n",
    "        published_date.append(book[1])\n",
    "        publisher.append(book[2])\n",
    "        pages.append(book[3])\n",
    "        recommendation(book[4])\n",
    "        \n",
    "    data = {\n",
    "        'title'          : title         ,\n",
    "        'published_date' : published_date,\n",
    "        'publisher'      : publisher     ,\n",
    "        'pages'          : pages         ,\n",
    "        'recommendation' : recommendation\n",
    "    }\n",
    "    \n",
    "    ret_df = pd.DataFrame(data, columns=column_name)\n",
    "    \n",
    "    return ret_df"
   ]
  },
  {
   "cell_type": "code",
   "execution_count": 7,
   "metadata": {},
   "outputs": [],
   "source": [
    "import sqlite3\n",
    "import pandas as pd\n",
    "\n",
    "def select_all_books(db_name):\n",
    "    ret_df = pd.DataFrame()\n",
    "    is_success = True\n",
    "    \n",
    "    try:\n",
    "        conn = sqlite3.connect(db_name)\n",
    "        cur = conn.cursor()\n",
    "        db_sql = 'SELECT * FROM my_books'\n",
    "        cur.execute(db_sql)\n",
    "        print('[1] 전체 데이터 출력하기')\n",
    "        books = cur.fetchall()\n",
    "        ret_df = getBooksDF(books)\n",
    "        \n",
    "    except:\n",
    "        is_success = False\n",
    "        print(\"Database Error!\")\n",
    "        \n",
    "    finally:\n",
    "        conn.close()\n",
    "    \n",
    "    return is_success, ret_df"
   ]
  },
  {
   "cell_type": "code",
   "execution_count": 8,
   "metadata": {},
   "outputs": [
    {
     "name": "stdout",
     "output_type": "stream",
     "text": [
      "[1] 전체 데이터 출력하기\n",
      "Database Error!\n",
      "데이터를 조회하지 못했습니다.\n"
     ]
    },
    {
     "data": {
      "text/html": [
       "<div>\n",
       "<style scoped>\n",
       "    .dataframe tbody tr th:only-of-type {\n",
       "        vertical-align: middle;\n",
       "    }\n",
       "\n",
       "    .dataframe tbody tr th {\n",
       "        vertical-align: top;\n",
       "    }\n",
       "\n",
       "    .dataframe thead th {\n",
       "        text-align: right;\n",
       "    }\n",
       "</style>\n",
       "<table border=\"1\" class=\"dataframe\">\n",
       "  <thead>\n",
       "    <tr style=\"text-align: right;\">\n",
       "      <th></th>\n",
       "    </tr>\n",
       "  </thead>\n",
       "  <tbody>\n",
       "  </tbody>\n",
       "</table>\n",
       "</div>"
      ],
      "text/plain": [
       "Empty DataFrame\n",
       "Columns: []\n",
       "Index: []"
      ]
     },
     "execution_count": 8,
     "metadata": {},
     "output_type": "execute_result"
    }
   ],
   "source": [
    "is_success, books_df = select_all_books(db_name)\n",
    "if is_success:\n",
    "    print('조회된 데이터는 총 %d 건 입니다.'%len(books_df))\n",
    "else:\n",
    "    print('데이터를 조회하지 못했습니다.')\n",
    "    \n",
    "books_df"
   ]
  },
  {
   "cell_type": "code",
   "execution_count": null,
   "metadata": {},
   "outputs": [],
   "source": []
  }
 ],
 "metadata": {
  "kernelspec": {
   "display_name": "Python 3",
   "language": "python",
   "name": "python3"
  },
  "language_info": {
   "codemirror_mode": {
    "name": "ipython",
    "version": 3
   },
   "file_extension": ".py",
   "mimetype": "text/x-python",
   "name": "python",
   "nbconvert_exporter": "python",
   "pygments_lexer": "ipython3",
   "version": "3.7.3"
  }
 },
 "nbformat": 4,
 "nbformat_minor": 2
}
