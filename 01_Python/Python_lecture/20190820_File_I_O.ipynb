{
 "cells": [
  {
   "cell_type": "code",
   "execution_count": 2,
   "metadata": {},
   "outputs": [],
   "source": [
    "fp = open('./data/hello.txt', 'r')"
   ]
  },
  {
   "cell_type": "code",
   "execution_count": 3,
   "metadata": {},
   "outputs": [
    {
     "data": {
      "text/plain": [
       "'dsfsdhgfkjsdgfkjsd'"
      ]
     },
     "execution_count": 3,
     "metadata": {},
     "output_type": "execute_result"
    }
   ],
   "source": [
    "fp.read()"
   ]
  },
  {
   "cell_type": "code",
   "execution_count": 5,
   "metadata": {},
   "outputs": [],
   "source": [
    "fp.close()"
   ]
  },
  {
   "cell_type": "code",
   "execution_count": 6,
   "metadata": {},
   "outputs": [
    {
     "ename": "ValueError",
     "evalue": "I/O operation on closed file.",
     "output_type": "error",
     "traceback": [
      "\u001b[1;31m---------------------------------------------------------------------------\u001b[0m",
      "\u001b[1;31mValueError\u001b[0m                                Traceback (most recent call last)",
      "\u001b[1;32m<ipython-input-6-5b707e20d623>\u001b[0m in \u001b[0;36m<module>\u001b[1;34m\u001b[0m\n\u001b[1;32m----> 1\u001b[1;33m \u001b[0mfp\u001b[0m\u001b[1;33m.\u001b[0m\u001b[0mread\u001b[0m\u001b[1;33m(\u001b[0m\u001b[1;33m)\u001b[0m\u001b[1;33m\u001b[0m\u001b[1;33m\u001b[0m\u001b[0m\n\u001b[0m",
      "\u001b[1;31mValueError\u001b[0m: I/O operation on closed file."
     ]
    }
   ],
   "source": [
    "fp.read()"
   ]
  },
  {
   "cell_type": "code",
   "execution_count": 7,
   "metadata": {},
   "outputs": [
    {
     "name": "stdout",
     "output_type": "stream",
     "text": [
      "dsfsdhgfkjsdgfkjsd\n"
     ]
    }
   ],
   "source": [
    "with open('./data/hello.txt', 'r') as fp:\n",
    "    data = fp.read()\n",
    "    print(data)"
   ]
  },
  {
   "cell_type": "code",
   "execution_count": 8,
   "metadata": {},
   "outputs": [
    {
     "data": {
      "text/plain": [
       "'dsfsdhgfkjsdgfkjsd'"
      ]
     },
     "execution_count": 8,
     "metadata": {},
     "output_type": "execute_result"
    }
   ],
   "source": [
    "data"
   ]
  },
  {
   "cell_type": "code",
   "execution_count": 10,
   "metadata": {},
   "outputs": [],
   "source": [
    "with open('./data/subject.txt', 'w') as fp:\n",
    "    data = 'Python'\n",
    "    fp.write(data)"
   ]
  },
  {
   "cell_type": "code",
   "execution_count": 11,
   "metadata": {},
   "outputs": [
    {
     "name": "stdout",
     "output_type": "stream",
     "text": [
      "Python\n"
     ]
    }
   ],
   "source": [
    "with open('./data/subject.txt', 'r') as fp:\n",
    "    data = fp.read()\n",
    "    print(data)"
   ]
  },
  {
   "cell_type": "code",
   "execution_count": 31,
   "metadata": {},
   "outputs": [],
   "source": [
    "def read_csv(filepath):\n",
    "    \n",
    "    fp = open(filepath, 'r', encoding='utf-8')\n",
    "    data = fp.read()\n",
    "    fp.close()\n",
    "    \n",
    "    elements = []\n",
    "    rows = data.split(\"\\n\")\n",
    "    \n",
    "    for row in rows:\n",
    "        fields = row.split(\",\")\n",
    "#         print(fields)\n",
    "        element = {\n",
    "            \"name\"   : fields[0],\n",
    "            \"school\" : fields[1],\n",
    "            \"email\"  : fields[2]\n",
    "        }\n",
    "        elements.append(element)\n",
    "    return elements"
   ]
  },
  {
   "cell_type": "code",
   "execution_count": 32,
   "metadata": {},
   "outputs": [
    {
     "data": {
      "text/plain": [
       "[{'name': '김태희', 'school': '서울대', 'email': 'thkim@gmail.com'},\n",
       " {'name': '신민아', 'school': '성균관대', 'email': 'sma@gmial.com'},\n",
       " {'name': '전지현', 'school': '중앙대', 'email': 'jhjeon@gmail.com'},\n",
       " {'name': '이영애', 'school': '숭실대', 'email': 'janggumi@gamil.com'}]"
      ]
     },
     "execution_count": 32,
     "metadata": {},
     "output_type": "execute_result"
    }
   ],
   "source": [
    "filepath = './data/students.csv'\n",
    "read_csv(filepath)"
   ]
  },
  {
   "cell_type": "code",
   "execution_count": 43,
   "metadata": {},
   "outputs": [],
   "source": [
    "def read_csv(filepath):\n",
    "    fp = open(filepath, 'r', encoding = 'utf-8')\n",
    "    data = fp.read()\n",
    "    fp.close()\n",
    "    \n",
    "    elements = []\n",
    "    \n",
    "    rows = data.split(\"\\n\")\n",
    "    col = rows[0].split(\",\")\n",
    "    col = [key.replace(' ','') for key in col]\n",
    "    for row in rows:\n",
    "        fields = row.split(\",\")\n",
    "        element = {}\n",
    "        \n",
    "        for i in range(len(col)):\n",
    "            column = col[i]\n",
    "            field = fields[i]\n",
    "            element[column] = field\n",
    "        \n",
    "        elements.append(element)\n",
    "    return elements"
   ]
  },
  {
   "cell_type": "code",
   "execution_count": 44,
   "metadata": {},
   "outputs": [
    {
     "data": {
      "text/plain": [
       "[{'랭킹': '랭킹', '회사이름': ' 회사이름', '영문명': ' 영문명', '창업자': ' 창업자 '},\n",
       " {'랭킹': '1', '회사이름': ' 애플', '영문명': ' Apple', '창업자': ' 스티브잡스 '},\n",
       " {'랭킹': '2', '회사이름': ' 구글', '영문명': ' Google', '창업자': ' 세르게이브린 & 레리페이지 '},\n",
       " {'랭킹': '3', '회사이름': ' 마이크로소프트', '영문명': ' Microsoft', '창업자': ' 빌게이츠 & 폴앨런 '},\n",
       " {'랭킹': '4', '회사이름': ' 페이스북', '영문명': ' Facebook', '창업자': ' 마크쥬크버그 '},\n",
       " {'랭킹': '5', '회사이름': ' 에어비엔비', '영문명': ' Airbnb', '창업자': ' 브라이언체크키 & 조게비어'}]"
      ]
     },
     "execution_count": 44,
     "metadata": {},
     "output_type": "execute_result"
    }
   ],
   "source": [
    "filepath = './data/company.csv'\n",
    "read_csv(filepath)"
   ]
  },
  {
   "cell_type": "code",
   "execution_count": null,
   "metadata": {},
   "outputs": [],
   "source": []
  }
 ],
 "metadata": {
  "kernelspec": {
   "display_name": "Python 3",
   "language": "python",
   "name": "python3"
  },
  "language_info": {
   "codemirror_mode": {
    "name": "ipython",
    "version": 3
   },
   "file_extension": ".py",
   "mimetype": "text/x-python",
   "name": "python",
   "nbconvert_exporter": "python",
   "pygments_lexer": "ipython3",
   "version": "3.7.4"
  }
 },
 "nbformat": 4,
 "nbformat_minor": 2
}
