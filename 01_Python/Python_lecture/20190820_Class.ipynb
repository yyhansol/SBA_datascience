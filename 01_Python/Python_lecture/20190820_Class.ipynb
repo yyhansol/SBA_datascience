{
 "cells": [
  {
   "cell_type": "code",
   "execution_count": 1,
   "metadata": {},
   "outputs": [],
   "source": [
    "class 빵틀:\n",
    "    모양 = str()\n",
    "    반죽 = str()\n",
    "    앙꼬 = str()\n",
    "    단가 = int()\n",
    "    \n",
    "    def 굽기(self,주문갯수):\n",
    "        굽는횟수 = (주문갯수 - 1)/10 +1\n",
    "        완성시간 = int(굽는횟수) * 5\n",
    "        return 완성시간\n",
    "    \n",
    "    def 가격(self, 주문갯수):\n",
    "        금액 = 주문갯수 * self.단가\n",
    "        return 금액\n",
    "    def 주문(self, 주문갯수, 지불금액):\n",
    "        대기시간 = self.굽기(주문갯수)\n",
    "        주문금액 = self.가격(주문갯수)\n",
    "        거스름돈 = 지불금액 = 주문금액\n",
    "        return 대기시간, 거스름돈\n",
    "    "
   ]
  },
  {
   "cell_type": "code",
   "execution_count": 2,
   "metadata": {},
   "outputs": [],
   "source": [
    "붕어빵 = 빵틀()\n",
    "잉어빵 = 빵틀()"
   ]
  },
  {
   "cell_type": "code",
   "execution_count": 3,
   "metadata": {},
   "outputs": [],
   "source": [
    "붕어빵.모양 = '붕어'\n",
    "붕어빵.반죽 = '밀가루'\n",
    "붕어빵.앙꼬 = '팥'\n",
    "붕어빵.단가 = 300"
   ]
  },
  {
   "cell_type": "code",
   "execution_count": 4,
   "metadata": {},
   "outputs": [],
   "source": [
    "잉어빵.모양 = '황금잉어'\n",
    "잉어빵.반죽 = '찹쌀가루'\n",
    "잉어빵.앙꼬 = '슈크림'\n",
    "잉어빵.단가 = 600"
   ]
  },
  {
   "cell_type": "code",
   "execution_count": 5,
   "metadata": {},
   "outputs": [
    {
     "name": "stdout",
     "output_type": "stream",
     "text": [
      "붕어빵 20개를 주문하였고, 10000원을 지불하였습니다.\n",
      "--------------------------------------------------\n",
      "잔돈은 6000입니다. 10분만 기다려주세요.\n"
     ]
    }
   ],
   "source": [
    "order = 20 \n",
    "payment = 10000\n",
    "\n",
    "wait_time, charge = 붕어빵.주문(order, payment)\n",
    "shape = 붕어빵.모양\n",
    "print('{}빵 {}개를 주문하였고, {}원을 지불하였습니다.'.format(shape, order, payment))\n",
    "\n",
    "if charge == 0:\n",
    "    message = '손님, {}분만 기다려주세요.'.format(wait_time)\n",
    "elif charge > 0:\n",
    "    message = '잔돈은 {}입니다. {}분만 기다려주세요.'.format(charge, wait_time)\n",
    "elif charge < 0:\n",
    "    message = '손님, 금액이 {}원 부족합니다.'.format(charge)\n",
    "else:\n",
    "    message = 'Error'\n",
    "    \n",
    "print('-'*50)\n",
    "print(message)"
   ]
  },
  {
   "cell_type": "code",
   "execution_count": 6,
   "metadata": {},
   "outputs": [
    {
     "name": "stdout",
     "output_type": "stream",
     "text": [
      "aa : ['a', 'b', 'c']\n",
      "bb : ['a', 'b', 'c']\n"
     ]
    }
   ],
   "source": [
    "class Dog:\n",
    "    tricks = []\n",
    "    def __init__(self, name):\n",
    "        self.name = name\n",
    "        \n",
    "    def add_tricks(self, trick):\n",
    "        self.tricks.append(trick)\n",
    "dog1 = Dog('aa')\n",
    "dog2 = Dog('bb')\n",
    "\n",
    "dog1.add_tricks('a')\n",
    "dog2.add_tricks('b')\n",
    "dog2.add_tricks('c')\n",
    "\n",
    "print(dog1.name, ':', dog1.tricks)\n",
    "print(dog2.name, ':', dog2.tricks)"
   ]
  },
  {
   "cell_type": "code",
   "execution_count": 7,
   "metadata": {},
   "outputs": [],
   "source": [
    "class Animal:\n",
    "    tribe = '동물'\n",
    "    def __init__(self, name):\n",
    "        self.name = name\n",
    "    def getInfo(self):\n",
    "        print('나는 %s이고, %s입니다.'%(self.name, self.tribe))\n",
    "class Carnivore(Animal):\n",
    "    def __init__(self, name):\n",
    "        self.name = name\n",
    "        self.tribe = '육식동물'\n",
    "    def favoriteFood(self):\n",
    "        print('나는 고기를 좋아합니다.')\n",
    "class Herbivore(Animal):\n",
    "    def __init__(self, name):\n",
    "        self.name = name\n",
    "        self.tribe = '초식동물'\n",
    "    def favoriteFood(self):\n",
    "        print('나는 풀을 좋아합니다.')"
   ]
  },
  {
   "cell_type": "code",
   "execution_count": 8,
   "metadata": {},
   "outputs": [
    {
     "name": "stdout",
     "output_type": "stream",
     "text": [
      "나는 호랑이이고, 육식동물입니다.\n",
      "나는 고기를 좋아합니다.\n"
     ]
    }
   ],
   "source": [
    "tiger = Carnivore('호랑이')\n",
    "tiger.getInfo()\n",
    "tiger.favoriteFood()"
   ]
  },
  {
   "cell_type": "code",
   "execution_count": 9,
   "metadata": {},
   "outputs": [],
   "source": [
    "class Developer:\n",
    "    def __init__(self, name):\n",
    "        self.name = name\n",
    "    def coding(self):\n",
    "        print(self.name + ' is developer')\n",
    "        \n",
    "class PythonDeveloper(Developer):\n",
    "    def coding(self):\n",
    "        print(self.name + 'is Python developer')\n",
    "        \n",
    "class JavaDeveloper(Developer):\n",
    "    def coding(self):\n",
    "        print(self.name + 'is Java developer')\n",
    "        \n",
    "class CPPDeveloper(Developer):\n",
    "    def coding(self):\n",
    "        print(self.name + 'is C++ developer')"
   ]
  },
  {
   "cell_type": "code",
   "execution_count": 10,
   "metadata": {},
   "outputs": [
    {
     "name": "stdout",
     "output_type": "stream",
     "text": [
      "찬영이is Python developer\n"
     ]
    }
   ],
   "source": [
    "PythonDeveloper('찬영이').coding()"
   ]
  },
  {
   "cell_type": "code",
   "execution_count": 11,
   "metadata": {},
   "outputs": [],
   "source": [
    "class Unit:\n",
    "    def __init__(self, name, energy, is_fly):\n",
    "        self.name = name\n",
    "        self.energy = energy\n",
    "        self.is_fly = is_fly\n",
    "        self.is_alive = True\n",
    "    def get_trive(self):\n",
    "        print(self.name + '의 현재 에너지는 ', self.energy, '입니다.')"
   ]
  }
 ],
 "metadata": {
  "kernelspec": {
   "display_name": "Python 3",
   "language": "python",
   "name": "python3"
  },
  "language_info": {
   "codemirror_mode": {
    "name": "ipython",
    "version": 3
   },
   "file_extension": ".py",
   "mimetype": "text/x-python",
   "name": "python",
   "nbconvert_exporter": "python",
   "pygments_lexer": "ipython3",
   "version": "3.7.4"
  }
 },
 "nbformat": 4,
 "nbformat_minor": 2
}
