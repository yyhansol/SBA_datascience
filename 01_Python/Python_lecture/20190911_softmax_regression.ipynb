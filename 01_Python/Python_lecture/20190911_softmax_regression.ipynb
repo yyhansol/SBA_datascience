{
 "cells": [
  {
   "cell_type": "code",
   "execution_count": 1,
   "metadata": {},
   "outputs": [],
   "source": [
    "from IPython.display import Image \n",
    "from tqdm import tqdm_notebook\n"
   ]
  },
  {
   "cell_type": "code",
   "execution_count": 2,
   "metadata": {},
   "outputs": [],
   "source": [
    "import tensorflow as tf\n",
    "import numpy as np"
   ]
  },
  {
   "cell_type": "code",
   "execution_count": 4,
   "metadata": {},
   "outputs": [],
   "source": [
    "tf.set_random_seed(777)\n",
    "\n",
    "x_data = [[10,5],[9,5],[3,2],[2,4],[11,1]]\n",
    "y_data = [[1,0,0],\n",
    "         [1,0,0],\n",
    "         [0,1,0],\n",
    "         [0,1,0],\n",
    "         [0,0,1]]\n",
    "\n",
    "X = tf.placeholder('float', [None, 2])\n",
    "Y = tf.placeholder('float', [None, 3])\n",
    "nb_classes = 3\n",
    "\n",
    "W = tf.Variable(tf.random_normal([2, nb_classes]), name='weight')\n",
    "b = tf.Variable(tf.random_normal([nb_classes]), name='bias')\n",
    "\n",
    "hypothesis = tf.nn.softmax(tf.matmul(X,W)+b)\n",
    "\n",
    "cost = tf.reduce_mean(-tf.reduce_sum(Y*tf.log(hypothesis), axis=1))\n",
    "\n",
    "optimizer = tf.train.GradientDescentOptimizer(learning_rate=0.1).minimize(cost)\n"
   ]
  },
  {
   "cell_type": "code",
   "execution_count": 5,
   "metadata": {},
   "outputs": [
    {
     "data": {
      "application/vnd.jupyter.widget-view+json": {
       "model_id": "def3f6ff594d4bb59d3c3bc886f23093",
       "version_major": 2,
       "version_minor": 0
      },
      "text/plain": [
       "HBox(children=(IntProgress(value=0, max=2001), HTML(value='')))"
      ]
     },
     "metadata": {},
     "output_type": "display_data"
    },
    {
     "name": "stdout",
     "output_type": "stream",
     "text": [
      "Step : 0, \t Cost : 5.044024467468262\n",
      "Step : 200, \t Cost : 0.1112934798002243\n",
      "Step : 400, \t Cost : 0.05863405019044876\n",
      "Step : 600, \t Cost : 0.03917425870895386\n",
      "Step : 800, \t Cost : 0.029238993301987648\n",
      "Step : 1000, \t Cost : 0.02326115593314171\n",
      "Step : 1200, \t Cost : 0.019285501912236214\n",
      "Step : 1400, \t Cost : 0.01645708829164505\n",
      "Step : 1600, \t Cost : 0.014344898983836174\n",
      "Step : 1800, \t Cost : 0.012708926573395729\n",
      "Step : 2000, \t Cost : 0.011405272409319878\n",
      "\n"
     ]
    }
   ],
   "source": [
    "sess = tf.Session()\n",
    "\n",
    "sess.run(tf.global_variables_initializer())\n",
    "\n",
    "for step in tqdm_notebook(range(2001)):\n",
    "    sess.run(optimizer, feed_dict={X: x_data, Y: y_data})\n",
    "    if step % 200 == 0:\n",
    "        print('Step : {}, \\t Cost : {}'.format(step, sess.run(cost, \n",
    "                                                              feed_dict={X:x_data, Y : y_data})))"
   ]
  },
  {
   "cell_type": "code",
   "execution_count": 7,
   "metadata": {},
   "outputs": [
    {
     "name": "stdout",
     "output_type": "stream",
     "text": [
      "test data : [[9.5, 5.5], [9.9, 1.5], [3.1, 2.1]] \n",
      "\n",
      "predict value : \n",
      " [[9.89088714e-01 1.07102245e-02 2.01088653e-04]\n",
      " [2.56168693e-02 3.51882647e-08 9.74383056e-01]\n",
      " [3.70497927e-02 9.61320758e-01 1.62941683e-03]] \n",
      "\n",
      "predict index : [0 2 1]\n"
     ]
    }
   ],
   "source": [
    "test_data = [[9.5, 5.5], \n",
    "             [9.9, 1.5], \n",
    "             [3.1, 2.1]]\n",
    "\n",
    "pred_val = sess.run(hypothesis, feed_dict={X: test_data})\n",
    "pred_idx = sess.run(tf.argmax(pred_val, 1))\n",
    "\n",
    "print(\"test data : {} \\n\\npredict value : \\n {} \\n\\npredict index : {}\".format(test_data, pred_val, pred_idx))"
   ]
  },
  {
   "cell_type": "code",
   "execution_count": 8,
   "metadata": {},
   "outputs": [
    {
     "name": "stderr",
     "output_type": "stream",
     "text": [
      "WARNING: Logging before flag parsing goes to stderr.\n",
      "W0911 15:12:30.482521  5960 deprecation.py:323] From <ipython-input-8-578b74407afa>:2: arg_max (from tensorflow.python.ops.gen_math_ops) is deprecated and will be removed in a future version.\n",
      "Instructions for updating:\n",
      "Use `tf.math.argmax` instead\n"
     ]
    },
    {
     "name": "stdout",
     "output_type": "stream",
     "text": [
      "['A', 'C', 'B']\n"
     ]
    }
   ],
   "source": [
    "grade = ['A', 'B', 'C']\n",
    "arg_val = sess.run(tf.arg_max(pred_val, 1))\n",
    "p_grade = [ grade[val] for val in arg_val ]\n",
    "print(p_grade)"
   ]
  },
  {
   "cell_type": "code",
   "execution_count": 9,
   "metadata": {},
   "outputs": [],
   "source": [
    "import tensorflow as tf\n",
    "\n",
    "tf.set_random_seed(777)  # for reproducibility\n",
    "\n",
    "x_data = [[1, 2, 1, 1], \n",
    "          [2, 1, 3, 2], \n",
    "          [3, 1, 3, 4], \n",
    "          [4, 1, 5, 5],\n",
    "          [1, 7, 5, 5], \n",
    "          [1, 2, 5, 6], \n",
    "          [1, 6, 6, 6], \n",
    "          [1, 7, 7, 7]]\n",
    "\n",
    "y_data = [[0, 0, 1], \n",
    "          [0, 0, 1], \n",
    "          [0, 0, 1], \n",
    "          [0, 1, 0],\n",
    "          [0, 1, 0], \n",
    "          [0, 1, 0], \n",
    "          [1, 0, 0], \n",
    "          [1, 0, 0]]\n",
    "\n",
    "X = tf.placeholder(\"float\", [None, 4])\n",
    "Y = tf.placeholder(\"float\", [None, 3])\n",
    "nb_classes = 3\n",
    "\n",
    "W = tf.Variable(tf.random_normal([4, nb_classes]), name='weight')\n",
    "b = tf.Variable(tf.random_normal([nb_classes]), name='bias')\n",
    "\n",
    "hypothesis = tf.nn.softmax(tf.matmul(X, W) + b)\n",
    "\n",
    "cost = tf.reduce_mean(-tf.reduce_sum(Y * tf.log(hypothesis), axis=1))\n",
    "\n",
    "optimizer = tf.train.GradientDescentOptimizer(learning_rate=0.1).minimize(cost)"
   ]
  },
  {
   "cell_type": "code",
   "execution_count": 10,
   "metadata": {},
   "outputs": [
    {
     "data": {
      "application/vnd.jupyter.widget-view+json": {
       "model_id": "f071e95f6a3e4e21b2c9003b45c61b08",
       "version_major": 2,
       "version_minor": 0
      },
      "text/plain": [
       "HBox(children=(IntProgress(value=0, max=2001), HTML(value='')))"
      ]
     },
     "metadata": {},
     "output_type": "display_data"
    },
    {
     "name": "stdout",
     "output_type": "stream",
     "text": [
      "Step : 0, \t Cost : 5.4190874099731445\n",
      "Step : 200, \t Cost : 0.546149492263794\n",
      "Step : 400, \t Cost : 0.4448033273220062\n",
      "Step : 600, \t Cost : 0.369295597076416\n",
      "Step : 800, \t Cost : 0.2984141707420349\n",
      "Step : 1000, \t Cost : 0.23387078940868378\n",
      "Step : 1200, \t Cost : 0.21112346649169922\n",
      "Step : 1400, \t Cost : 0.19283469021320343\n",
      "Step : 1600, \t Cost : 0.17738723754882812\n",
      "Step : 1800, \t Cost : 0.1641688346862793\n",
      "Step : 2000, \t Cost : 0.15273377299308777\n",
      "\n"
     ]
    }
   ],
   "source": [
    "sess = tf.Session()\n",
    "\n",
    "sess.run(tf.global_variables_initializer())\n",
    "\n",
    "for step in tqdm_notebook(range(2001)):\n",
    "    sess.run(optimizer, feed_dict={X: x_data, Y: y_data})\n",
    "    if step % 200 == 0:\n",
    "        print(\"Step : {}, \\t Cost : {}\".format(step, sess.run(cost, feed_dict={X: x_data, Y: y_data})))\n"
   ]
  },
  {
   "cell_type": "code",
   "execution_count": 11,
   "metadata": {},
   "outputs": [
    {
     "name": "stdout",
     "output_type": "stream",
     "text": [
      "[[3.1222650e-03 9.9686629e-01 1.1442469e-05]\n",
      " [8.8555580e-01 9.5315114e-02 1.9129099e-02]\n",
      " [1.4553346e-08 3.3987936e-04 9.9966013e-01]] \n",
      "\n",
      "예측값 : [1 0 2]\n"
     ]
    }
   ],
   "source": [
    "all = sess.run(hypothesis, feed_dict={\n",
    "               X: [[1, 11, 7, 9], [1, 3, 4, 3], [1, 1, 0, 1]]})\n",
    "print(all, '\\n\\n예측값 :', sess.run(tf.arg_max(all, 1)))"
   ]
  },
  {
   "cell_type": "code",
   "execution_count": 12,
   "metadata": {},
   "outputs": [
    {
     "name": "stdout",
     "output_type": "stream",
     "text": [
      "(101, 16) (101, 1)\n",
      "\n",
      "x_data :\n",
      " [[1. 0. 0. ... 0. 0. 1.]\n",
      " [1. 0. 0. ... 1. 0. 1.]\n",
      " [0. 0. 1. ... 1. 0. 0.]\n",
      " ...\n",
      " [1. 0. 0. ... 1. 0. 1.]\n",
      " [0. 0. 1. ... 0. 0. 0.]\n",
      " [0. 1. 1. ... 1. 0. 0.]]\n",
      "\n",
      "y_data :\n",
      " [[0.]\n",
      " [0.]\n",
      " [3.]\n",
      " [0.]\n",
      " [0.]\n",
      " [0.]\n",
      " [0.]\n",
      " [3.]\n",
      " [3.]\n",
      " [0.]\n",
      " [0.]\n",
      " [1.]\n",
      " [3.]\n",
      " [6.]\n",
      " [6.]\n",
      " [6.]\n",
      " [1.]\n",
      " [0.]\n",
      " [3.]\n",
      " [0.]\n",
      " [1.]\n",
      " [1.]\n",
      " [0.]\n",
      " [1.]\n",
      " [5.]\n",
      " [4.]\n",
      " [4.]\n",
      " [0.]\n",
      " [0.]\n",
      " [0.]\n",
      " [5.]\n",
      " [0.]\n",
      " [0.]\n",
      " [1.]\n",
      " [3.]\n",
      " [0.]\n",
      " [0.]\n",
      " [1.]\n",
      " [3.]\n",
      " [5.]\n",
      " [5.]\n",
      " [1.]\n",
      " [5.]\n",
      " [1.]\n",
      " [0.]\n",
      " [0.]\n",
      " [6.]\n",
      " [0.]\n",
      " [0.]\n",
      " [0.]\n",
      " [0.]\n",
      " [5.]\n",
      " [4.]\n",
      " [6.]\n",
      " [0.]\n",
      " [0.]\n",
      " [1.]\n",
      " [1.]\n",
      " [1.]\n",
      " [1.]\n",
      " [3.]\n",
      " [3.]\n",
      " [2.]\n",
      " [0.]\n",
      " [0.]\n",
      " [0.]\n",
      " [0.]\n",
      " [0.]\n",
      " [0.]\n",
      " [0.]\n",
      " [0.]\n",
      " [1.]\n",
      " [6.]\n",
      " [3.]\n",
      " [0.]\n",
      " [0.]\n",
      " [2.]\n",
      " [6.]\n",
      " [1.]\n",
      " [1.]\n",
      " [2.]\n",
      " [6.]\n",
      " [3.]\n",
      " [1.]\n",
      " [0.]\n",
      " [6.]\n",
      " [3.]\n",
      " [1.]\n",
      " [5.]\n",
      " [4.]\n",
      " [2.]\n",
      " [2.]\n",
      " [3.]\n",
      " [0.]\n",
      " [0.]\n",
      " [1.]\n",
      " [0.]\n",
      " [5.]\n",
      " [0.]\n",
      " [6.]\n",
      " [1.]]\n",
      "\n",
      "one_hot Tensor(\"one_hot:0\", shape=(?, 1, 7), dtype=float32)\n",
      "\n",
      "reshape Tensor(\"Reshape:0\", shape=(?, 7), dtype=float32)\n"
     ]
    },
    {
     "name": "stderr",
     "output_type": "stream",
     "text": [
      "W0911 15:18:14.920020  5960 deprecation.py:323] From <ipython-input-12-0e2e994fd3a4>:33: softmax_cross_entropy_with_logits (from tensorflow.python.ops.nn_ops) is deprecated and will be removed in a future version.\n",
      "Instructions for updating:\n",
      "\n",
      "Future major versions of TensorFlow will allow gradients to flow\n",
      "into the labels input on backprop by default.\n",
      "\n",
      "See `tf.nn.softmax_cross_entropy_with_logits_v2`.\n",
      "\n"
     ]
    }
   ],
   "source": [
    "import tensorflow as tf\n",
    "import numpy as np\n",
    "\n",
    "tf.set_random_seed(777)  # for reproducibility\n",
    "\n",
    "xy = np.loadtxt('./data/data-04-zoo.csv', delimiter=',', dtype=np.float32)\n",
    "\n",
    "x_data = xy[:, 0:-1]\n",
    "y_data = xy[:, [-1]]\n",
    "\n",
    "print(x_data.shape, y_data.shape)\n",
    "print('\\nx_data :\\n', x_data)\n",
    "print('\\ny_data :\\n', y_data)\n",
    "\n",
    "nb_classes = 7  # 0 ~ 6\n",
    "\n",
    "X = tf.placeholder(tf.float32, [None, 16])\n",
    "Y = tf.placeholder(tf.int32, [None, 1])  # 0 ~ 6\n",
    "\n",
    "Y_one_hot = tf.one_hot(Y, nb_classes)  # one hot\n",
    "print(\"\\none_hot\", Y_one_hot)\n",
    "\n",
    "Y_one_hot = tf.reshape(Y_one_hot, [-1, nb_classes])\n",
    "print(\"\\nreshape\", Y_one_hot)\n",
    "\n",
    "W = tf.Variable(tf.random_normal([16, nb_classes]), name='weight')\n",
    "b = tf.Variable(tf.random_normal([nb_classes]), name='bias')\n",
    "\n",
    "logits = tf.matmul(X, W) + b\n",
    "hypothesis = tf.nn.softmax(logits)\n",
    "\n",
    "cost_i = tf.nn.softmax_cross_entropy_with_logits(logits=logits,\n",
    "                                                 labels=Y_one_hot)\n",
    "cost = tf.reduce_mean(cost_i)\n",
    "optimizer = tf.train.GradientDescentOptimizer(learning_rate=0.1).minimize(cost)\n",
    "\n",
    "prediction = tf.argmax(hypothesis, 1)\n",
    "correct_prediction = tf.equal(prediction, tf.argmax(Y_one_hot, 1))\n",
    "accuracy = tf.reduce_mean(tf.cast(correct_prediction, tf.float32))"
   ]
  },
  {
   "cell_type": "code",
   "execution_count": 13,
   "metadata": {},
   "outputs": [
    {
     "name": "stdout",
     "output_type": "stream",
     "text": [
      "Step:     0, \t Loss: 4.505, \t Acc: 41.58%\n",
      "Step:   100, \t Loss: 0.675, \t Acc: 83.17%\n",
      "Step:   200, \t Loss: 0.407, \t Acc: 87.13%\n",
      "Step:   300, \t Loss: 0.292, \t Acc: 91.09%\n",
      "Step:   400, \t Loss: 0.226, \t Acc: 94.06%\n",
      "Step:   500, \t Loss: 0.183, \t Acc: 95.05%\n",
      "Step:   600, \t Loss: 0.153, \t Acc: 96.04%\n",
      "Step:   700, \t Loss: 0.132, \t Acc: 98.02%\n",
      "Step:   800, \t Loss: 0.115, \t Acc: 100.00%\n",
      "Step:   900, \t Loss: 0.103, \t Acc: 100.00%\n",
      "Step:  1000, \t Loss: 0.092, \t Acc: 100.00%\n",
      "Step:  1100, \t Loss: 0.084, \t Acc: 100.00%\n",
      "Step:  1200, \t Loss: 0.077, \t Acc: 100.00%\n",
      "Step:  1300, \t Loss: 0.072, \t Acc: 100.00%\n",
      "Step:  1400, \t Loss: 0.067, \t Acc: 100.00%\n",
      "Step:  1500, \t Loss: 0.062, \t Acc: 100.00%\n",
      "Step:  1600, \t Loss: 0.059, \t Acc: 100.00%\n",
      "Step:  1700, \t Loss: 0.055, \t Acc: 100.00%\n",
      "Step:  1800, \t Loss: 0.052, \t Acc: 100.00%\n",
      "Step:  1900, \t Loss: 0.050, \t Acc: 100.00%\n"
     ]
    }
   ],
   "source": [
    "sess = tf.Session()\n",
    "\n",
    "sess.run(tf.global_variables_initializer())\n",
    "\n",
    "for step in range(2000):\n",
    "    sess.run(optimizer, feed_dict={X: x_data, Y: y_data})\n",
    "    if step % 100 == 0:\n",
    "        loss, acc = sess.run([cost, accuracy], feed_dict={\n",
    "                             X: x_data, Y: y_data})\n",
    "        print(\"Step: {:5}, \\t Loss: {:.3f}, \\t Acc: {:.2%}\".format(\n",
    "            step, loss, acc))"
   ]
  },
  {
   "cell_type": "code",
   "execution_count": 14,
   "metadata": {},
   "outputs": [
    {
     "name": "stdout",
     "output_type": "stream",
     "text": [
      "[True]  Prediction : 0,  True Y : 0\n",
      "[True]  Prediction : 0,  True Y : 0\n",
      "[True]  Prediction : 3,  True Y : 3\n",
      "[True]  Prediction : 0,  True Y : 0\n",
      "[True]  Prediction : 0,  True Y : 0\n",
      "[True]  Prediction : 0,  True Y : 0\n",
      "[True]  Prediction : 0,  True Y : 0\n",
      "[True]  Prediction : 3,  True Y : 3\n",
      "[True]  Prediction : 3,  True Y : 3\n",
      "[True]  Prediction : 0,  True Y : 0\n",
      "[True]  Prediction : 0,  True Y : 0\n",
      "[True]  Prediction : 1,  True Y : 1\n",
      "[True]  Prediction : 3,  True Y : 3\n",
      "[True]  Prediction : 6,  True Y : 6\n",
      "[True]  Prediction : 6,  True Y : 6\n",
      "[True]  Prediction : 6,  True Y : 6\n",
      "[True]  Prediction : 1,  True Y : 1\n",
      "[True]  Prediction : 0,  True Y : 0\n",
      "[True]  Prediction : 3,  True Y : 3\n",
      "[True]  Prediction : 0,  True Y : 0\n",
      "[True]  Prediction : 1,  True Y : 1\n",
      "[True]  Prediction : 1,  True Y : 1\n",
      "[True]  Prediction : 0,  True Y : 0\n",
      "[True]  Prediction : 1,  True Y : 1\n",
      "[True]  Prediction : 5,  True Y : 5\n",
      "[True]  Prediction : 4,  True Y : 4\n",
      "[True]  Prediction : 4,  True Y : 4\n",
      "[True]  Prediction : 0,  True Y : 0\n",
      "[True]  Prediction : 0,  True Y : 0\n",
      "[True]  Prediction : 0,  True Y : 0\n",
      "[True]  Prediction : 5,  True Y : 5\n",
      "[True]  Prediction : 0,  True Y : 0\n",
      "[True]  Prediction : 0,  True Y : 0\n",
      "[True]  Prediction : 1,  True Y : 1\n",
      "[True]  Prediction : 3,  True Y : 3\n",
      "[True]  Prediction : 0,  True Y : 0\n",
      "[True]  Prediction : 0,  True Y : 0\n",
      "[True]  Prediction : 1,  True Y : 1\n",
      "[True]  Prediction : 3,  True Y : 3\n",
      "[True]  Prediction : 5,  True Y : 5\n",
      "[True]  Prediction : 5,  True Y : 5\n",
      "[True]  Prediction : 1,  True Y : 1\n",
      "[True]  Prediction : 5,  True Y : 5\n",
      "[True]  Prediction : 1,  True Y : 1\n",
      "[True]  Prediction : 0,  True Y : 0\n",
      "[True]  Prediction : 0,  True Y : 0\n",
      "[True]  Prediction : 6,  True Y : 6\n",
      "[True]  Prediction : 0,  True Y : 0\n",
      "[True]  Prediction : 0,  True Y : 0\n",
      "[True]  Prediction : 0,  True Y : 0\n",
      "[True]  Prediction : 0,  True Y : 0\n",
      "[True]  Prediction : 5,  True Y : 5\n",
      "[True]  Prediction : 4,  True Y : 4\n",
      "[True]  Prediction : 6,  True Y : 6\n",
      "[True]  Prediction : 0,  True Y : 0\n",
      "[True]  Prediction : 0,  True Y : 0\n",
      "[True]  Prediction : 1,  True Y : 1\n",
      "[True]  Prediction : 1,  True Y : 1\n",
      "[True]  Prediction : 1,  True Y : 1\n",
      "[True]  Prediction : 1,  True Y : 1\n",
      "[True]  Prediction : 3,  True Y : 3\n",
      "[True]  Prediction : 3,  True Y : 3\n",
      "[True]  Prediction : 2,  True Y : 2\n",
      "[True]  Prediction : 0,  True Y : 0\n",
      "[True]  Prediction : 0,  True Y : 0\n",
      "[True]  Prediction : 0,  True Y : 0\n",
      "[True]  Prediction : 0,  True Y : 0\n",
      "[True]  Prediction : 0,  True Y : 0\n",
      "[True]  Prediction : 0,  True Y : 0\n",
      "[True]  Prediction : 0,  True Y : 0\n",
      "[True]  Prediction : 0,  True Y : 0\n",
      "[True]  Prediction : 1,  True Y : 1\n",
      "[True]  Prediction : 6,  True Y : 6\n",
      "[True]  Prediction : 3,  True Y : 3\n",
      "[True]  Prediction : 0,  True Y : 0\n",
      "[True]  Prediction : 0,  True Y : 0\n",
      "[True]  Prediction : 2,  True Y : 2\n",
      "[True]  Prediction : 6,  True Y : 6\n",
      "[True]  Prediction : 1,  True Y : 1\n",
      "[True]  Prediction : 1,  True Y : 1\n",
      "[True]  Prediction : 2,  True Y : 2\n",
      "[True]  Prediction : 6,  True Y : 6\n",
      "[True]  Prediction : 3,  True Y : 3\n",
      "[True]  Prediction : 1,  True Y : 1\n",
      "[True]  Prediction : 0,  True Y : 0\n",
      "[True]  Prediction : 6,  True Y : 6\n",
      "[True]  Prediction : 3,  True Y : 3\n",
      "[True]  Prediction : 1,  True Y : 1\n",
      "[True]  Prediction : 5,  True Y : 5\n",
      "[True]  Prediction : 4,  True Y : 4\n",
      "[True]  Prediction : 2,  True Y : 2\n",
      "[True]  Prediction : 2,  True Y : 2\n",
      "[True]  Prediction : 3,  True Y : 3\n",
      "[True]  Prediction : 0,  True Y : 0\n",
      "[True]  Prediction : 0,  True Y : 0\n",
      "[True]  Prediction : 1,  True Y : 1\n",
      "[True]  Prediction : 0,  True Y : 0\n",
      "[True]  Prediction : 5,  True Y : 5\n",
      "[True]  Prediction : 0,  True Y : 0\n",
      "[True]  Prediction : 6,  True Y : 6\n",
      "[True]  Prediction : 1,  True Y : 1\n"
     ]
    }
   ],
   "source": [
    "pred = sess.run(prediction, feed_dict={X: x_data})\n",
    "\n",
    "for p, y in zip(pred, y_data.flatten()):\n",
    "    print('[{}]  Prediction : {},  True Y : {}'.format(p==int(y),p,int(y)))"
   ]
  },
  {
   "cell_type": "code",
   "execution_count": null,
   "metadata": {},
   "outputs": [],
   "source": []
  }
 ],
 "metadata": {
  "kernelspec": {
   "display_name": "Python 3",
   "language": "python",
   "name": "python3"
  },
  "language_info": {
   "codemirror_mode": {
    "name": "ipython",
    "version": 3
   },
   "file_extension": ".py",
   "mimetype": "text/x-python",
   "name": "python",
   "nbconvert_exporter": "python",
   "pygments_lexer": "ipython3",
   "version": "3.7.3"
  }
 },
 "nbformat": 4,
 "nbformat_minor": 2
}
