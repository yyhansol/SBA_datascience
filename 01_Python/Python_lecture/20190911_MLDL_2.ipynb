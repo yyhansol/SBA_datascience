{
 "cells": [
  {
   "cell_type": "code",
   "execution_count": 3,
   "metadata": {},
   "outputs": [],
   "source": [
    "import tensorflow as tf\n",
    "from IPython.display import Image \n",
    "from tqdm import tqdm_notebook"
   ]
  },
  {
   "cell_type": "code",
   "execution_count": 4,
   "metadata": {},
   "outputs": [],
   "source": [
    "tf.set_random_seed(777) \n",
    "\n",
    "x_data = [[1, 2], [2, 3], [3, 1], [4, 3], [5, 3], [6, 2]]  \n",
    "y_data = [[0], [0], [0], [1], [1], [1]]                     \n",
    "\n",
    "X = tf.placeholder(tf.float32, shape=[None, 2])\n",
    "Y = tf.placeholder(tf.float32, shape=[None, 1])\n",
    "\n",
    "W = tf.Variable(tf.random_normal([2, 1]), name='weight')\n",
    "b = tf.Variable(tf.random_normal([1]), name='bias')\n",
    "\n",
    "hypothesis = tf.sigmoid(tf.matmul(X, W) + b)\n",
    "\n",
    "cost = -tf.reduce_mean(Y * tf.log(hypothesis) + (1 - Y) *\n",
    "                       tf.log(1 - hypothesis))\n",
    "\n",
    "train = tf.train.GradientDescentOptimizer(learning_rate=0.01).minimize(cost)\n",
    "\n",
    "predicted = tf.cast(hypothesis > 0.5, dtype=tf.float32)\n",
    "accuracy = tf.reduce_mean(tf.cast(tf.equal(predicted, Y), dtype=tf.float32))"
   ]
  },
  {
   "cell_type": "code",
   "execution_count": 5,
   "metadata": {},
   "outputs": [
    {
     "data": {
      "application/vnd.jupyter.widget-view+json": {
       "model_id": "f7a1d25959ce43969c9e9d7fd3b84d6c",
       "version_major": 2,
       "version_minor": 0
      },
      "text/plain": [
       "HBox(children=(IntProgress(value=0, max=10001), HTML(value='')))"
      ]
     },
     "metadata": {},
     "output_type": "display_data"
    },
    {
     "name": "stdout",
     "output_type": "stream",
     "text": [
      "Step : 0 \t Cost : 1.7307828664779663\n",
      "Step : 1 \t Cost : 1.7099443674087524\n",
      "Step : 2 \t Cost : 1.689176082611084\n",
      "Step : 3 \t Cost : 1.6684807538986206\n",
      "Step : 4 \t Cost : 1.6478619575500488\n",
      "Step : 5 \t Cost : 1.6273231506347656\n",
      "Step : 6 \t Cost : 1.6068668365478516\n",
      "Step : 7 \t Cost : 1.5864981412887573\n",
      "Step : 8 \t Cost : 1.5662189722061157\n",
      "Step : 9 \t Cost : 1.5460346937179565\n",
      "Step : 200 \t Cost : 0.5715118050575256\n",
      "Step : 400 \t Cost : 0.507413923740387\n",
      "Step : 600 \t Cost : 0.47182419896125793\n",
      "Step : 800 \t Cost : 0.44758477807044983\n",
      "Step : 1000 \t Cost : 0.42857101559638977\n",
      "Step : 1200 \t Cost : 0.41232457756996155\n",
      "Step : 1400 \t Cost : 0.39775514602661133\n",
      "Step : 1600 \t Cost : 0.3843379020690918\n",
      "Step : 1800 \t Cost : 0.37180110812187195\n",
      "Step : 2000 \t Cost : 0.35999321937561035\n",
      "Step : 2200 \t Cost : 0.34882208704948425\n",
      "Step : 2400 \t Cost : 0.33822622895240784\n",
      "Step : 2600 \t Cost : 0.3281605541706085\n",
      "Step : 2800 \t Cost : 0.31858906149864197\n",
      "Step : 3000 \t Cost : 0.3094808757305145\n",
      "Step : 3200 \t Cost : 0.30080854892730713\n",
      "Step : 3400 \t Cost : 0.2925470173358917\n",
      "Step : 3600 \t Cost : 0.2846728563308716\n",
      "Step : 3800 \t Cost : 0.27716395258903503\n",
      "Step : 4000 \t Cost : 0.2699997127056122\n",
      "Step : 4200 \t Cost : 0.2631605267524719\n",
      "Step : 4400 \t Cost : 0.2566281259059906\n",
      "Step : 4600 \t Cost : 0.2503851354122162\n",
      "Step : 4800 \t Cost : 0.2444150596857071\n",
      "Step : 5000 \t Cost : 0.2387026995420456\n",
      "Step : 5200 \t Cost : 0.23323361575603485\n",
      "Step : 5400 \t Cost : 0.22799426317214966\n",
      "Step : 5600 \t Cost : 0.22297196090221405\n",
      "Step : 5800 \t Cost : 0.21815471351146698\n",
      "Step : 6000 \t Cost : 0.213531494140625\n",
      "Step : 6200 \t Cost : 0.2090916782617569\n",
      "Step : 6400 \t Cost : 0.2048255205154419\n",
      "Step : 6600 \t Cost : 0.2007237672805786\n",
      "Step : 6800 \t Cost : 0.19677765667438507\n",
      "Step : 7000 \t Cost : 0.19297926127910614\n",
      "Step : 7200 \t Cost : 0.18932096660137177\n",
      "Step : 7400 \t Cost : 0.18579550087451935\n",
      "Step : 7600 \t Cost : 0.18239636719226837\n",
      "Step : 7800 \t Cost : 0.1791171282529831\n",
      "Step : 8000 \t Cost : 0.17595182359218597\n",
      "Step : 8200 \t Cost : 0.17289507389068604\n",
      "Step : 8400 \t Cost : 0.16994142532348633\n",
      "Step : 8600 \t Cost : 0.16708624362945557\n",
      "Step : 8800 \t Cost : 0.16432470083236694\n",
      "Step : 9000 \t Cost : 0.16165252029895782\n",
      "Step : 9200 \t Cost : 0.15906552970409393\n",
      "Step : 9400 \t Cost : 0.15655991435050964\n",
      "Step : 9600 \t Cost : 0.1541319489479065\n",
      "Step : 9800 \t Cost : 0.15177832543849945\n",
      "Step : 10000 \t Cost : 0.14949560165405273\n",
      "\n"
     ]
    }
   ],
   "source": [
    "with tf.Session() as sess:\n",
    "    sess.run(tf.global_variables_initializer())\n",
    "\n",
    "    for step in tqdm_notebook(range(10001)):\n",
    "        cost_val, _ = sess.run([cost, train], feed_dict={X: x_data, Y: y_data})\n",
    "        if step % 200 == 0 or step < 10 :\n",
    "            print(\"Step : {} \\t Cost : {}\".format(step, cost_val))\n",
    "            \n",
    "    h, c, a = sess.run([hypothesis, predicted, accuracy],\n",
    "                       feed_dict={X: x_data, Y: y_data})"
   ]
  },
  {
   "cell_type": "code",
   "execution_count": 6,
   "metadata": {},
   "outputs": [
    {
     "name": "stdout",
     "output_type": "stream",
     "text": [
      "# Hypothesis: \n",
      "[[0.03074026]\n",
      " [0.15884683]\n",
      " [0.3048674 ]\n",
      " [0.78138196]\n",
      " [0.93957496]\n",
      " [0.9801688 ]] \n",
      "\n",
      "# Correct (Y): \n",
      "[[0.]\n",
      " [0.]\n",
      " [0.]\n",
      " [1.]\n",
      " [1.]\n",
      " [1.]] \n",
      "\n",
      "# Accuracy: 1.0\n"
     ]
    }
   ],
   "source": [
    "print(\"# Hypothesis: \\n{h} \\n\\n# Correct (Y): \\n{c} \\n\\n# Accuracy: {a}\".\n",
    "      format(\n",
    "    h = h, c = c, a = a\n",
    "))"
   ]
  },
  {
   "cell_type": "code",
   "execution_count": 9,
   "metadata": {},
   "outputs": [
    {
     "data": {
      "text/html": [
       "<div>\n",
       "<style scoped>\n",
       "    .dataframe tbody tr th:only-of-type {\n",
       "        vertical-align: middle;\n",
       "    }\n",
       "\n",
       "    .dataframe tbody tr th {\n",
       "        vertical-align: top;\n",
       "    }\n",
       "\n",
       "    .dataframe thead th {\n",
       "        text-align: right;\n",
       "    }\n",
       "</style>\n",
       "<table border=\"1\" class=\"dataframe\">\n",
       "  <thead>\n",
       "    <tr style=\"text-align: right;\">\n",
       "      <th></th>\n",
       "      <th>0</th>\n",
       "      <th>1</th>\n",
       "      <th>2</th>\n",
       "      <th>3</th>\n",
       "      <th>4</th>\n",
       "      <th>5</th>\n",
       "      <th>6</th>\n",
       "      <th>7</th>\n",
       "      <th>8</th>\n",
       "    </tr>\n",
       "  </thead>\n",
       "  <tbody>\n",
       "    <tr>\n",
       "      <th>0</th>\n",
       "      <td>-0.294118</td>\n",
       "      <td>0.487437</td>\n",
       "      <td>0.180328</td>\n",
       "      <td>-0.292929</td>\n",
       "      <td>0.000000</td>\n",
       "      <td>0.001490</td>\n",
       "      <td>-0.531170</td>\n",
       "      <td>-0.033333</td>\n",
       "      <td>0</td>\n",
       "    </tr>\n",
       "    <tr>\n",
       "      <th>1</th>\n",
       "      <td>-0.882353</td>\n",
       "      <td>-0.145729</td>\n",
       "      <td>0.081967</td>\n",
       "      <td>-0.414141</td>\n",
       "      <td>0.000000</td>\n",
       "      <td>-0.207153</td>\n",
       "      <td>-0.766866</td>\n",
       "      <td>-0.666667</td>\n",
       "      <td>1</td>\n",
       "    </tr>\n",
       "    <tr>\n",
       "      <th>2</th>\n",
       "      <td>-0.058824</td>\n",
       "      <td>0.839196</td>\n",
       "      <td>0.049180</td>\n",
       "      <td>0.000000</td>\n",
       "      <td>0.000000</td>\n",
       "      <td>-0.305514</td>\n",
       "      <td>-0.492741</td>\n",
       "      <td>-0.633333</td>\n",
       "      <td>0</td>\n",
       "    </tr>\n",
       "    <tr>\n",
       "      <th>3</th>\n",
       "      <td>-0.882353</td>\n",
       "      <td>-0.105528</td>\n",
       "      <td>0.081967</td>\n",
       "      <td>-0.535354</td>\n",
       "      <td>-0.777778</td>\n",
       "      <td>-0.162444</td>\n",
       "      <td>-0.923997</td>\n",
       "      <td>0.000000</td>\n",
       "      <td>1</td>\n",
       "    </tr>\n",
       "    <tr>\n",
       "      <th>4</th>\n",
       "      <td>0.000000</td>\n",
       "      <td>0.376884</td>\n",
       "      <td>-0.344262</td>\n",
       "      <td>-0.292929</td>\n",
       "      <td>-0.602837</td>\n",
       "      <td>0.284650</td>\n",
       "      <td>0.887276</td>\n",
       "      <td>-0.600000</td>\n",
       "      <td>0</td>\n",
       "    </tr>\n",
       "    <tr>\n",
       "      <th>5</th>\n",
       "      <td>-0.411765</td>\n",
       "      <td>0.165829</td>\n",
       "      <td>0.213115</td>\n",
       "      <td>0.000000</td>\n",
       "      <td>0.000000</td>\n",
       "      <td>-0.236960</td>\n",
       "      <td>-0.894962</td>\n",
       "      <td>-0.700000</td>\n",
       "      <td>1</td>\n",
       "    </tr>\n",
       "    <tr>\n",
       "      <th>6</th>\n",
       "      <td>-0.647059</td>\n",
       "      <td>-0.216080</td>\n",
       "      <td>-0.180328</td>\n",
       "      <td>-0.353535</td>\n",
       "      <td>-0.791962</td>\n",
       "      <td>-0.076006</td>\n",
       "      <td>-0.854825</td>\n",
       "      <td>-0.833333</td>\n",
       "      <td>0</td>\n",
       "    </tr>\n",
       "    <tr>\n",
       "      <th>7</th>\n",
       "      <td>0.176471</td>\n",
       "      <td>0.155779</td>\n",
       "      <td>0.000000</td>\n",
       "      <td>0.000000</td>\n",
       "      <td>0.000000</td>\n",
       "      <td>0.052161</td>\n",
       "      <td>-0.952178</td>\n",
       "      <td>-0.733333</td>\n",
       "      <td>1</td>\n",
       "    </tr>\n",
       "    <tr>\n",
       "      <th>8</th>\n",
       "      <td>-0.764706</td>\n",
       "      <td>0.979899</td>\n",
       "      <td>0.147541</td>\n",
       "      <td>-0.090909</td>\n",
       "      <td>0.283688</td>\n",
       "      <td>-0.090909</td>\n",
       "      <td>-0.931682</td>\n",
       "      <td>0.066667</td>\n",
       "      <td>0</td>\n",
       "    </tr>\n",
       "    <tr>\n",
       "      <th>9</th>\n",
       "      <td>-0.058824</td>\n",
       "      <td>0.256281</td>\n",
       "      <td>0.573770</td>\n",
       "      <td>0.000000</td>\n",
       "      <td>0.000000</td>\n",
       "      <td>0.000000</td>\n",
       "      <td>-0.868488</td>\n",
       "      <td>0.100000</td>\n",
       "      <td>0</td>\n",
       "    </tr>\n",
       "  </tbody>\n",
       "</table>\n",
       "</div>"
      ],
      "text/plain": [
       "          0         1         2         3         4         5         6  \\\n",
       "0 -0.294118  0.487437  0.180328 -0.292929  0.000000  0.001490 -0.531170   \n",
       "1 -0.882353 -0.145729  0.081967 -0.414141  0.000000 -0.207153 -0.766866   \n",
       "2 -0.058824  0.839196  0.049180  0.000000  0.000000 -0.305514 -0.492741   \n",
       "3 -0.882353 -0.105528  0.081967 -0.535354 -0.777778 -0.162444 -0.923997   \n",
       "4  0.000000  0.376884 -0.344262 -0.292929 -0.602837  0.284650  0.887276   \n",
       "5 -0.411765  0.165829  0.213115  0.000000  0.000000 -0.236960 -0.894962   \n",
       "6 -0.647059 -0.216080 -0.180328 -0.353535 -0.791962 -0.076006 -0.854825   \n",
       "7  0.176471  0.155779  0.000000  0.000000  0.000000  0.052161 -0.952178   \n",
       "8 -0.764706  0.979899  0.147541 -0.090909  0.283688 -0.090909 -0.931682   \n",
       "9 -0.058824  0.256281  0.573770  0.000000  0.000000  0.000000 -0.868488   \n",
       "\n",
       "          7  8  \n",
       "0 -0.033333  0  \n",
       "1 -0.666667  1  \n",
       "2 -0.633333  0  \n",
       "3  0.000000  1  \n",
       "4 -0.600000  0  \n",
       "5 -0.700000  1  \n",
       "6 -0.833333  0  \n",
       "7 -0.733333  1  \n",
       "8  0.066667  0  \n",
       "9  0.100000  0  "
      ]
     },
     "execution_count": 9,
     "metadata": {},
     "output_type": "execute_result"
    }
   ],
   "source": [
    "import pandas as pd\n",
    "\n",
    "df = pd.read_csv(\"./data/data-03-diabetes.csv\", header=None)\n",
    "df.head(10)"
   ]
  },
  {
   "cell_type": "code",
   "execution_count": 10,
   "metadata": {},
   "outputs": [
    {
     "name": "stdout",
     "output_type": "stream",
     "text": [
      " x_data.shape : (759, 8) \n",
      " y_data.shape : (759, 1)\n"
     ]
    }
   ],
   "source": [
    "import tensorflow as tf\n",
    "import numpy as np\n",
    "tf.set_random_seed(777)  \n",
    "\n",
    "xy = np.loadtxt('./data/data-03-diabetes.csv', delimiter=',', dtype=np.float32)\n",
    "x_data = xy[:, 0:-1]\n",
    "y_data = xy[:, [-1]]\n",
    "\n",
    "print(\" x_data.shape : {x_shape} \\n y_data.shape : {y_shape}\".format(\n",
    "        x_shape = x_data.shape, \n",
    "        y_shape = y_data.shape\n",
    "    ))\n",
    "\n",
    "X = tf.placeholder(tf.float32, shape=[None, 8])\n",
    "Y = tf.placeholder(tf.float32, shape=[None, 1])\n",
    "\n",
    "W = tf.Variable(tf.random_normal([8, 1]), name='weight')\n",
    "b = tf.Variable(tf.random_normal([1]), name='bias')\n",
    "\n",
    "hypothesis = tf.sigmoid(tf.matmul(X, W) + b)\n",
    "\n",
    "cost = -tf.reduce_mean(Y * tf.log(hypothesis) + (1 - Y) *\n",
    "                       tf.log(1 - hypothesis))\n",
    "\n",
    "train = tf.train.GradientDescentOptimizer(learning_rate=0.01).minimize(cost)\n",
    "\n",
    "predicted = tf.cast(hypothesis > 0.5, dtype=tf.float32)\n",
    "accuracy = tf.reduce_mean(tf.cast(tf.equal(predicted, Y), dtype=tf.float32))"
   ]
  },
  {
   "cell_type": "code",
   "execution_count": 11,
   "metadata": {},
   "outputs": [
    {
     "name": "stdout",
     "output_type": "stream",
     "text": [
      "759\n"
     ]
    },
    {
     "data": {
      "text/plain": [
       "array([[-0.294118  ,  0.487437  ,  0.180328  , -0.292929  ,  0.        ,\n",
       "         0.00149028, -0.53117   , -0.0333333 ,  0.        ],\n",
       "       [-0.882353  , -0.145729  ,  0.0819672 , -0.414141  ,  0.        ,\n",
       "        -0.207153  , -0.766866  , -0.666667  ,  1.        ],\n",
       "       [-0.0588235 ,  0.839196  ,  0.0491803 ,  0.        ,  0.        ,\n",
       "        -0.305514  , -0.492741  , -0.633333  ,  0.        ],\n",
       "       [-0.882353  , -0.105528  ,  0.0819672 , -0.535354  , -0.777778  ,\n",
       "        -0.162444  , -0.923997  ,  0.        ,  1.        ],\n",
       "       [ 0.        ,  0.376884  , -0.344262  , -0.292929  , -0.602837  ,\n",
       "         0.28465   ,  0.887276  , -0.6       ,  0.        ],\n",
       "       [-0.411765  ,  0.165829  ,  0.213115  ,  0.        ,  0.        ,\n",
       "        -0.23696   , -0.894962  , -0.7       ,  1.        ],\n",
       "       [-0.647059  , -0.21608   , -0.180328  , -0.353535  , -0.791962  ,\n",
       "        -0.0760059 , -0.854825  , -0.833333  ,  0.        ],\n",
       "       [ 0.176471  ,  0.155779  ,  0.        ,  0.        ,  0.        ,\n",
       "         0.052161  , -0.952178  , -0.733333  ,  1.        ],\n",
       "       [-0.764706  ,  0.979899  ,  0.147541  , -0.0909091 ,  0.283688  ,\n",
       "        -0.0909091 , -0.931682  ,  0.0666667 ,  0.        ],\n",
       "       [-0.0588235 ,  0.256281  ,  0.57377   ,  0.        ,  0.        ,\n",
       "         0.        , -0.868488  ,  0.1       ,  0.        ]],\n",
       "      dtype=float32)"
      ]
     },
     "execution_count": 11,
     "metadata": {},
     "output_type": "execute_result"
    }
   ],
   "source": [
    "print(len(xy)) \n",
    "xy[:10]"
   ]
  },
  {
   "cell_type": "code",
   "execution_count": 12,
   "metadata": {},
   "outputs": [
    {
     "name": "stdout",
     "output_type": "stream",
     "text": [
      "759\n"
     ]
    },
    {
     "data": {
      "text/plain": [
       "array([[-0.294118  ,  0.487437  ,  0.180328  , -0.292929  ,  0.        ,\n",
       "         0.00149028, -0.53117   , -0.0333333 ],\n",
       "       [-0.882353  , -0.145729  ,  0.0819672 , -0.414141  ,  0.        ,\n",
       "        -0.207153  , -0.766866  , -0.666667  ],\n",
       "       [-0.0588235 ,  0.839196  ,  0.0491803 ,  0.        ,  0.        ,\n",
       "        -0.305514  , -0.492741  , -0.633333  ],\n",
       "       [-0.882353  , -0.105528  ,  0.0819672 , -0.535354  , -0.777778  ,\n",
       "        -0.162444  , -0.923997  ,  0.        ],\n",
       "       [ 0.        ,  0.376884  , -0.344262  , -0.292929  , -0.602837  ,\n",
       "         0.28465   ,  0.887276  , -0.6       ],\n",
       "       [-0.411765  ,  0.165829  ,  0.213115  ,  0.        ,  0.        ,\n",
       "        -0.23696   , -0.894962  , -0.7       ],\n",
       "       [-0.647059  , -0.21608   , -0.180328  , -0.353535  , -0.791962  ,\n",
       "        -0.0760059 , -0.854825  , -0.833333  ],\n",
       "       [ 0.176471  ,  0.155779  ,  0.        ,  0.        ,  0.        ,\n",
       "         0.052161  , -0.952178  , -0.733333  ],\n",
       "       [-0.764706  ,  0.979899  ,  0.147541  , -0.0909091 ,  0.283688  ,\n",
       "        -0.0909091 , -0.931682  ,  0.0666667 ],\n",
       "       [-0.0588235 ,  0.256281  ,  0.57377   ,  0.        ,  0.        ,\n",
       "         0.        , -0.868488  ,  0.1       ]], dtype=float32)"
      ]
     },
     "execution_count": 12,
     "metadata": {},
     "output_type": "execute_result"
    }
   ],
   "source": [
    "print(len(x_data)) \n",
    "x_data[:10]"
   ]
  },
  {
   "cell_type": "code",
   "execution_count": 13,
   "metadata": {},
   "outputs": [
    {
     "name": "stdout",
     "output_type": "stream",
     "text": [
      "759\n"
     ]
    },
    {
     "data": {
      "text/plain": [
       "array([[0.],\n",
       "       [1.],\n",
       "       [0.],\n",
       "       [1.],\n",
       "       [0.],\n",
       "       [1.],\n",
       "       [0.],\n",
       "       [1.],\n",
       "       [0.],\n",
       "       [0.]], dtype=float32)"
      ]
     },
     "execution_count": 13,
     "metadata": {},
     "output_type": "execute_result"
    }
   ],
   "source": [
    "print(len(y_data)) \n",
    "y_data[:10]"
   ]
  },
  {
   "cell_type": "code",
   "execution_count": 14,
   "metadata": {},
   "outputs": [
    {
     "data": {
      "application/vnd.jupyter.widget-view+json": {
       "model_id": "eade5f4ce96b4414be07aa72937c3294",
       "version_major": 2,
       "version_minor": 0
      },
      "text/plain": [
       "HBox(children=(IntProgress(value=0, max=10001), HTML(value='')))"
      ]
     },
     "metadata": {},
     "output_type": "display_data"
    },
    {
     "name": "stdout",
     "output_type": "stream",
     "text": [
      "Step : 0 \t Cost : 0.9742220044136047\n",
      "Step : 1 \t Cost : 0.9717562198638916\n",
      "Step : 2 \t Cost : 0.9693101644515991\n",
      "Step : 3 \t Cost : 0.966883659362793\n",
      "Step : 4 \t Cost : 0.964477002620697\n",
      "Step : 5 \t Cost : 0.9620894193649292\n",
      "Step : 6 \t Cost : 0.9597210884094238\n",
      "Step : 7 \t Cost : 0.9573723077774048\n",
      "Step : 8 \t Cost : 0.9550420045852661\n",
      "Step : 9 \t Cost : 0.9527310729026794\n",
      "Step : 200 \t Cost : 0.7338058352470398\n",
      "Step : 400 \t Cost : 0.6805428862571716\n",
      "Step : 600 \t Cost : 0.6573832035064697\n",
      "Step : 800 \t Cost : 0.6405060887336731\n",
      "Step : 1000 \t Cost : 0.6259894967079163\n",
      "Step : 1200 \t Cost : 0.6130377650260925\n",
      "Step : 1400 \t Cost : 0.601396381855011\n",
      "Step : 1600 \t Cost : 0.5909146070480347\n",
      "Step : 1800 \t Cost : 0.5814695358276367\n",
      "Step : 2000 \t Cost : 0.5729514360427856\n",
      "Step : 2200 \t Cost : 0.5652616620063782\n",
      "Step : 2400 \t Cost : 0.5583115220069885\n",
      "Step : 2600 \t Cost : 0.5520215034484863\n",
      "Step : 2800 \t Cost : 0.5463204383850098\n",
      "Step : 3000 \t Cost : 0.5411451458930969\n",
      "Step : 3200 \t Cost : 0.5364395380020142\n",
      "Step : 3400 \t Cost : 0.5321536660194397\n",
      "Step : 3600 \t Cost : 0.5282431840896606\n",
      "Step : 3800 \t Cost : 0.5246692895889282\n",
      "Step : 4000 \t Cost : 0.5213969349861145\n",
      "Step : 4200 \t Cost : 0.5183953642845154\n",
      "Step : 4400 \t Cost : 0.5156375169754028\n",
      "Step : 4600 \t Cost : 0.5130991339683533\n",
      "Step : 4800 \t Cost : 0.5107586979866028\n",
      "Step : 5000 \t Cost : 0.508597195148468\n",
      "Step : 5200 \t Cost : 0.5065977573394775\n",
      "Step : 5400 \t Cost : 0.5047451853752136\n",
      "Step : 5600 \t Cost : 0.5030261278152466\n",
      "Step : 5800 \t Cost : 0.5014283061027527\n",
      "Step : 6000 \t Cost : 0.4999411106109619\n",
      "Step : 6200 \t Cost : 0.4985550045967102\n",
      "Step : 6400 \t Cost : 0.4972611665725708\n",
      "Step : 6600 \t Cost : 0.4960518479347229\n",
      "Step : 6800 \t Cost : 0.4949200749397278\n",
      "Step : 7000 \t Cost : 0.4938596189022064\n",
      "Step : 7200 \t Cost : 0.49286454916000366\n",
      "Step : 7400 \t Cost : 0.49193012714385986\n",
      "Step : 7600 \t Cost : 0.49105116724967957\n",
      "Step : 7800 \t Cost : 0.49022379517555237\n",
      "Step : 8000 \t Cost : 0.4894440174102783\n",
      "Step : 8200 \t Cost : 0.48870834708213806\n",
      "Step : 8400 \t Cost : 0.4880136251449585\n",
      "Step : 8600 \t Cost : 0.48735693097114563\n",
      "Step : 8800 \t Cost : 0.4867357015609741\n",
      "Step : 9000 \t Cost : 0.48614731431007385\n",
      "Step : 9200 \t Cost : 0.48558950424194336\n",
      "Step : 9400 \t Cost : 0.4850603938102722\n",
      "Step : 9600 \t Cost : 0.4845581352710724\n",
      "Step : 9800 \t Cost : 0.48408088088035583\n",
      "Step : 10000 \t Cost : 0.4836270213127136\n",
      "\n"
     ]
    }
   ],
   "source": [
    "with tf.Session() as sess:\n",
    "    sess.run(tf.global_variables_initializer())\n",
    "\n",
    "    for step in tqdm_notebook(range(10001)):\n",
    "        cost_val, _ = sess.run([cost, train], feed_dict={X: x_data, Y: y_data})       \n",
    "        if step % 200 == 0 or step < 10 :\n",
    "            print(\"Step : {} \\t Cost : {}\".format(step, cost_val))    \n",
    "\n",
    "    h, c, a = sess.run([hypothesis, predicted, accuracy],\n",
    "                       feed_dict={X: x_data, Y: y_data})\n",
    "    "
   ]
  },
  {
   "cell_type": "code",
   "execution_count": 15,
   "metadata": {},
   "outputs": [
    {
     "name": "stdout",
     "output_type": "stream",
     "text": [
      "# Hypothesis: \n",
      "[[0.37003186]\n",
      " [0.9154805 ]\n",
      " [0.21602729]\n",
      " [0.9483494 ]\n",
      " [0.08354768]\n",
      " [0.7647524 ]\n",
      " [0.94660914]\n",
      " [0.6240098 ]\n",
      " [0.24575189]\n",
      " [0.53068644]\n",
      " [0.7005221 ]\n",
      " [0.17214665]\n",
      " [0.16543275]\n",
      " [0.2199429 ]\n",
      " [0.71247756]\n",
      " [0.45385256]\n",
      " [0.73282206]\n",
      " [0.86161494]\n",
      " [0.8147425 ]\n",
      " [0.5555971 ]] \n",
      "\n",
      "# Correct (Y): \n",
      "[[0.]\n",
      " [1.]\n",
      " [0.]\n",
      " [1.]\n",
      " [0.]\n",
      " [1.]\n",
      " [1.]\n",
      " [1.]\n",
      " [0.]\n",
      " [1.]\n",
      " [1.]\n",
      " [0.]\n",
      " [0.]\n",
      " [0.]\n",
      " [1.]\n",
      " [0.]\n",
      " [1.]\n",
      " [1.]\n",
      " [1.]\n",
      " [1.]] \n",
      "\n",
      "# Accuracy: 0.7667984366416931\n"
     ]
    }
   ],
   "source": [
    "print('# Hypothesis: \\n{h} \\n\\n# Correct (Y): \\n{c} \\n\\n# Accuracy: {a}'.\n",
    "      format(h=h[:20], c=c[:20], a=a))"
   ]
  },
  {
   "cell_type": "code",
   "execution_count": null,
   "metadata": {},
   "outputs": [],
   "source": []
  }
 ],
 "metadata": {
  "kernelspec": {
   "display_name": "Python 3",
   "language": "python",
   "name": "python3"
  },
  "language_info": {
   "codemirror_mode": {
    "name": "ipython",
    "version": 3
   },
   "file_extension": ".py",
   "mimetype": "text/x-python",
   "name": "python",
   "nbconvert_exporter": "python",
   "pygments_lexer": "ipython3",
   "version": "3.7.3"
  }
 },
 "nbformat": 4,
 "nbformat_minor": 2
}
