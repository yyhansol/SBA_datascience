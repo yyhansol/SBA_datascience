{
 "cells": [
  {
   "cell_type": "code",
   "execution_count": 2,
   "metadata": {},
   "outputs": [],
   "source": [
    "import platform\n",
    "import numpy as np\n",
    "import pandas as pd\n",
    "import matplotlib.pyplot as plt\n",
    "from matplotlib import font_manager, rc"
   ]
  },
  {
   "cell_type": "code",
   "execution_count": 3,
   "metadata": {},
   "outputs": [],
   "source": [
    "font_name = font_manager.FontProperties(fname=\"c:/Windows/Fonts/malgun.ttf\").get_name()\n",
    "rc('font', family=font_name)\n",
    "\n",
    "%matplotlib inline\n",
    "plt.rcParams[\"figure.figsize\"] = [12,6]"
   ]
  },
  {
   "cell_type": "code",
   "execution_count": 4,
   "metadata": {},
   "outputs": [
    {
     "data": {
      "text/html": [
       "<div>\n",
       "<style scoped>\n",
       "    .dataframe tbody tr th:only-of-type {\n",
       "        vertical-align: middle;\n",
       "    }\n",
       "\n",
       "    .dataframe tbody tr th {\n",
       "        vertical-align: top;\n",
       "    }\n",
       "\n",
       "    .dataframe thead th {\n",
       "        text-align: right;\n",
       "    }\n",
       "</style>\n",
       "<table border=\"1\" class=\"dataframe\">\n",
       "  <thead>\n",
       "    <tr style=\"text-align: right;\">\n",
       "      <th></th>\n",
       "      <th>시설물명</th>\n",
       "      <th>시설물구분</th>\n",
       "      <th>시설물소재지</th>\n",
       "      <th>준공일자</th>\n",
       "    </tr>\n",
       "  </thead>\n",
       "  <tbody>\n",
       "    <tr>\n",
       "      <th>0</th>\n",
       "      <td>부암1동 동부교육청 입구 옹벽</td>\n",
       "      <td>옹벽</td>\n",
       "      <td>부산광역시 부산진구 부암동</td>\n",
       "      <td>19860510</td>\n",
       "    </tr>\n",
       "    <tr>\n",
       "      <th>1</th>\n",
       "      <td>전포천본류 복개구조물</td>\n",
       "      <td>교량</td>\n",
       "      <td>부산광역시 부산진구 부전2동</td>\n",
       "      <td>19801231</td>\n",
       "    </tr>\n",
       "    <tr>\n",
       "      <th>2</th>\n",
       "      <td>부전천본류 복개구조물</td>\n",
       "      <td>교량</td>\n",
       "      <td>부산광역시 부산진구 부전2동</td>\n",
       "      <td>19791231</td>\n",
       "    </tr>\n",
       "    <tr>\n",
       "      <th>3</th>\n",
       "      <td>사당천복개구조물</td>\n",
       "      <td>교량</td>\n",
       "      <td>서울특별시 서초구 방배동</td>\n",
       "      <td>19801231</td>\n",
       "    </tr>\n",
       "    <tr>\n",
       "      <th>4</th>\n",
       "      <td>반포천복개구조물</td>\n",
       "      <td>교량</td>\n",
       "      <td>서울특별시 서초구 서초동</td>\n",
       "      <td>19820929</td>\n",
       "    </tr>\n",
       "    <tr>\n",
       "      <th>5</th>\n",
       "      <td>두구교(구)</td>\n",
       "      <td>교량</td>\n",
       "      <td>부산광역시 금정구 두구동</td>\n",
       "      <td>19660725</td>\n",
       "    </tr>\n",
       "    <tr>\n",
       "      <th>6</th>\n",
       "      <td>진해1부두</td>\n",
       "      <td>항만</td>\n",
       "      <td>경상남도 창원시 진해구 행암동</td>\n",
       "      <td>19700929</td>\n",
       "    </tr>\n",
       "    <tr>\n",
       "      <th>7</th>\n",
       "      <td>호형정수장</td>\n",
       "      <td>상하수도</td>\n",
       "      <td>전라남도 고흥군 고흥읍</td>\n",
       "      <td>19820101</td>\n",
       "    </tr>\n",
       "    <tr>\n",
       "      <th>8</th>\n",
       "      <td>금사정수장</td>\n",
       "      <td>상하수도</td>\n",
       "      <td>전라남도 고흥군 포두면</td>\n",
       "      <td>19790101</td>\n",
       "    </tr>\n",
       "    <tr>\n",
       "      <th>9</th>\n",
       "      <td>신호정수장</td>\n",
       "      <td>상하수도</td>\n",
       "      <td>전라남도 고흥군 도화면</td>\n",
       "      <td>19850101</td>\n",
       "    </tr>\n",
       "  </tbody>\n",
       "</table>\n",
       "</div>"
      ],
      "text/plain": [
       "               시설물명 시설물구분            시설물소재지      준공일자\n",
       "0  부암1동 동부교육청 입구 옹벽    옹벽    부산광역시 부산진구 부암동  19860510\n",
       "1       전포천본류 복개구조물    교량   부산광역시 부산진구 부전2동  19801231\n",
       "2       부전천본류 복개구조물    교량   부산광역시 부산진구 부전2동  19791231\n",
       "3          사당천복개구조물    교량     서울특별시 서초구 방배동  19801231\n",
       "4          반포천복개구조물    교량     서울특별시 서초구 서초동  19820929\n",
       "5            두구교(구)    교량     부산광역시 금정구 두구동  19660725\n",
       "6             진해1부두    항만  경상남도 창원시 진해구 행암동  19700929\n",
       "7             호형정수장  상하수도      전라남도 고흥군 고흥읍  19820101\n",
       "8             금사정수장  상하수도      전라남도 고흥군 포두면  19790101\n",
       "9             신호정수장  상하수도      전라남도 고흥군 도화면  19850101"
      ]
     },
     "execution_count": 4,
     "metadata": {},
     "output_type": "execute_result"
    }
   ],
   "source": [
    "df = pd.read_csv('./data/public_old_buildings_20171016.csv', encoding = 'EUC-KR')\n",
    "df.head(10)"
   ]
  },
  {
   "cell_type": "code",
   "execution_count": 5,
   "metadata": {},
   "outputs": [
    {
     "name": "stdout",
     "output_type": "stream",
     "text": [
      "<class 'pandas.core.frame.DataFrame'>\n",
      "RangeIndex: 3243 entries, 0 to 3242\n",
      "Data columns (total 4 columns):\n",
      "시설물명      3243 non-null object\n",
      "시설물구분     3243 non-null object\n",
      "시설물소재지    3243 non-null object\n",
      "준공일자      3243 non-null int64\n",
      "dtypes: int64(1), object(3)\n",
      "memory usage: 101.4+ KB\n"
     ]
    }
   ],
   "source": [
    "df.info()"
   ]
  },
  {
   "cell_type": "code",
   "execution_count": 6,
   "metadata": {},
   "outputs": [
    {
     "data": {
      "text/html": [
       "<div>\n",
       "<style scoped>\n",
       "    .dataframe tbody tr th:only-of-type {\n",
       "        vertical-align: middle;\n",
       "    }\n",
       "\n",
       "    .dataframe tbody tr th {\n",
       "        vertical-align: top;\n",
       "    }\n",
       "\n",
       "    .dataframe thead th {\n",
       "        text-align: right;\n",
       "    }\n",
       "</style>\n",
       "<table border=\"1\" class=\"dataframe\">\n",
       "  <thead>\n",
       "    <tr style=\"text-align: right;\">\n",
       "      <th></th>\n",
       "      <th>시설물명</th>\n",
       "      <th>시설물구분</th>\n",
       "      <th>시설물소재지</th>\n",
       "      <th>준공일자</th>\n",
       "    </tr>\n",
       "  </thead>\n",
       "  <tbody>\n",
       "    <tr>\n",
       "      <th>1978</th>\n",
       "      <td>송촌정수장</td>\n",
       "      <td>상하수도</td>\n",
       "      <td>대전광역시 대덕구 송촌동</td>\n",
       "      <td>19870930</td>\n",
       "    </tr>\n",
       "    <tr>\n",
       "      <th>1858</th>\n",
       "      <td>비전2배수지</td>\n",
       "      <td>상하수도</td>\n",
       "      <td>경기도 평택시 매봉산4길</td>\n",
       "      <td>19871001</td>\n",
       "    </tr>\n",
       "    <tr>\n",
       "      <th>2167</th>\n",
       "      <td>염포배수지</td>\n",
       "      <td>상하수도</td>\n",
       "      <td>울산광역시 북구 염포동</td>\n",
       "      <td>19871001</td>\n",
       "    </tr>\n",
       "    <tr>\n",
       "      <th>2169</th>\n",
       "      <td>전하배수지</td>\n",
       "      <td>상하수도</td>\n",
       "      <td>울산광역시 동구 봉수로</td>\n",
       "      <td>19871001</td>\n",
       "    </tr>\n",
       "    <tr>\n",
       "      <th>2165</th>\n",
       "      <td>무거배수지</td>\n",
       "      <td>상하수도</td>\n",
       "      <td>울산광역시 남구 무거동</td>\n",
       "      <td>19871001</td>\n",
       "    </tr>\n",
       "    <tr>\n",
       "      <th>2168</th>\n",
       "      <td>성남배수지</td>\n",
       "      <td>상하수도</td>\n",
       "      <td>울산광역시 중구 북부순환도로</td>\n",
       "      <td>19871001</td>\n",
       "    </tr>\n",
       "    <tr>\n",
       "      <th>1561</th>\n",
       "      <td>강진읍 상수도</td>\n",
       "      <td>상하수도</td>\n",
       "      <td>전라남도 강진군 강진읍</td>\n",
       "      <td>19871002</td>\n",
       "    </tr>\n",
       "    <tr>\n",
       "      <th>1838</th>\n",
       "      <td>팔마주경기장</td>\n",
       "      <td>건축물</td>\n",
       "      <td>전라남도 순천시 팔마로</td>\n",
       "      <td>19871002</td>\n",
       "    </tr>\n",
       "    <tr>\n",
       "      <th>2224</th>\n",
       "      <td>광주종합체육관</td>\n",
       "      <td>건축물</td>\n",
       "      <td>광주광역시 서구 화정동</td>\n",
       "      <td>19871005</td>\n",
       "    </tr>\n",
       "    <tr>\n",
       "      <th>270</th>\n",
       "      <td>순지교</td>\n",
       "      <td>교량</td>\n",
       "      <td>전라남도 장흥군 장흥읍</td>\n",
       "      <td>19871015</td>\n",
       "    </tr>\n",
       "  </tbody>\n",
       "</table>\n",
       "</div>"
      ],
      "text/plain": [
       "         시설물명 시설물구분           시설물소재지      준공일자\n",
       "1978    송촌정수장  상하수도    대전광역시 대덕구 송촌동  19870930\n",
       "1858   비전2배수지  상하수도    경기도 평택시 매봉산4길  19871001\n",
       "2167    염포배수지  상하수도     울산광역시 북구 염포동  19871001\n",
       "2169    전하배수지  상하수도     울산광역시 동구 봉수로  19871001\n",
       "2165    무거배수지  상하수도     울산광역시 남구 무거동  19871001\n",
       "2168    성남배수지  상하수도  울산광역시 중구 북부순환도로  19871001\n",
       "1561  강진읍 상수도  상하수도     전라남도 강진군 강진읍  19871002\n",
       "1838   팔마주경기장   건축물     전라남도 순천시 팔마로  19871002\n",
       "2224  광주종합체육관   건축물     광주광역시 서구 화정동  19871005\n",
       "270       순지교    교량     전라남도 장흥군 장흥읍  19871015"
      ]
     },
     "execution_count": 6,
     "metadata": {},
     "output_type": "execute_result"
    }
   ],
   "source": [
    "df.sort_values(by='준공일자', ascending=1).tail(10)"
   ]
  },
  {
   "cell_type": "code",
   "execution_count": 8,
   "metadata": {},
   "outputs": [
    {
     "data": {
      "text/plain": [
       "Index(['시설물명', '시설물구분', '시설물소재지', '준공일자'], dtype='object')"
      ]
     },
     "execution_count": 8,
     "metadata": {},
     "output_type": "execute_result"
    }
   ],
   "source": [
    "df.columns"
   ]
  },
  {
   "cell_type": "code",
   "execution_count": 9,
   "metadata": {},
   "outputs": [
    {
     "data": {
      "text/plain": [
       "numpy.int64"
      ]
     },
     "execution_count": 9,
     "metadata": {},
     "output_type": "execute_result"
    }
   ],
   "source": [
    "type(df['준공일자'][0])"
   ]
  },
  {
   "cell_type": "code",
   "execution_count": 10,
   "metadata": {},
   "outputs": [],
   "source": [
    "from datetime import datetime"
   ]
  },
  {
   "cell_type": "code",
   "execution_count": 11,
   "metadata": {},
   "outputs": [
    {
     "data": {
      "text/html": [
       "<div>\n",
       "<style scoped>\n",
       "    .dataframe tbody tr th:only-of-type {\n",
       "        vertical-align: middle;\n",
       "    }\n",
       "\n",
       "    .dataframe tbody tr th {\n",
       "        vertical-align: top;\n",
       "    }\n",
       "\n",
       "    .dataframe thead th {\n",
       "        text-align: right;\n",
       "    }\n",
       "</style>\n",
       "<table border=\"1\" class=\"dataframe\">\n",
       "  <thead>\n",
       "    <tr style=\"text-align: right;\">\n",
       "      <th></th>\n",
       "      <th>시설물명</th>\n",
       "      <th>시설물구분</th>\n",
       "      <th>시설물소재지</th>\n",
       "      <th>준공일자</th>\n",
       "    </tr>\n",
       "  </thead>\n",
       "  <tbody>\n",
       "    <tr>\n",
       "      <th>0</th>\n",
       "      <td>부암1동 동부교육청 입구 옹벽</td>\n",
       "      <td>옹벽</td>\n",
       "      <td>부산광역시 부산진구 부암동</td>\n",
       "      <td>1986-05-10</td>\n",
       "    </tr>\n",
       "    <tr>\n",
       "      <th>1</th>\n",
       "      <td>전포천본류 복개구조물</td>\n",
       "      <td>교량</td>\n",
       "      <td>부산광역시 부산진구 부전2동</td>\n",
       "      <td>1980-12-31</td>\n",
       "    </tr>\n",
       "    <tr>\n",
       "      <th>2</th>\n",
       "      <td>부전천본류 복개구조물</td>\n",
       "      <td>교량</td>\n",
       "      <td>부산광역시 부산진구 부전2동</td>\n",
       "      <td>1979-12-31</td>\n",
       "    </tr>\n",
       "    <tr>\n",
       "      <th>3</th>\n",
       "      <td>사당천복개구조물</td>\n",
       "      <td>교량</td>\n",
       "      <td>서울특별시 서초구 방배동</td>\n",
       "      <td>1980-12-31</td>\n",
       "    </tr>\n",
       "    <tr>\n",
       "      <th>4</th>\n",
       "      <td>반포천복개구조물</td>\n",
       "      <td>교량</td>\n",
       "      <td>서울특별시 서초구 서초동</td>\n",
       "      <td>1982-09-29</td>\n",
       "    </tr>\n",
       "    <tr>\n",
       "      <th>5</th>\n",
       "      <td>두구교(구)</td>\n",
       "      <td>교량</td>\n",
       "      <td>부산광역시 금정구 두구동</td>\n",
       "      <td>1966-07-25</td>\n",
       "    </tr>\n",
       "    <tr>\n",
       "      <th>6</th>\n",
       "      <td>진해1부두</td>\n",
       "      <td>항만</td>\n",
       "      <td>경상남도 창원시 진해구 행암동</td>\n",
       "      <td>1970-09-29</td>\n",
       "    </tr>\n",
       "    <tr>\n",
       "      <th>7</th>\n",
       "      <td>호형정수장</td>\n",
       "      <td>상하수도</td>\n",
       "      <td>전라남도 고흥군 고흥읍</td>\n",
       "      <td>1982-01-01</td>\n",
       "    </tr>\n",
       "    <tr>\n",
       "      <th>8</th>\n",
       "      <td>금사정수장</td>\n",
       "      <td>상하수도</td>\n",
       "      <td>전라남도 고흥군 포두면</td>\n",
       "      <td>1979-01-01</td>\n",
       "    </tr>\n",
       "    <tr>\n",
       "      <th>9</th>\n",
       "      <td>신호정수장</td>\n",
       "      <td>상하수도</td>\n",
       "      <td>전라남도 고흥군 도화면</td>\n",
       "      <td>1985-01-01</td>\n",
       "    </tr>\n",
       "  </tbody>\n",
       "</table>\n",
       "</div>"
      ],
      "text/plain": [
       "               시설물명 시설물구분            시설물소재지       준공일자\n",
       "0  부암1동 동부교육청 입구 옹벽    옹벽    부산광역시 부산진구 부암동 1986-05-10\n",
       "1       전포천본류 복개구조물    교량   부산광역시 부산진구 부전2동 1980-12-31\n",
       "2       부전천본류 복개구조물    교량   부산광역시 부산진구 부전2동 1979-12-31\n",
       "3          사당천복개구조물    교량     서울특별시 서초구 방배동 1980-12-31\n",
       "4          반포천복개구조물    교량     서울특별시 서초구 서초동 1982-09-29\n",
       "5            두구교(구)    교량     부산광역시 금정구 두구동 1966-07-25\n",
       "6             진해1부두    항만  경상남도 창원시 진해구 행암동 1970-09-29\n",
       "7             호형정수장  상하수도      전라남도 고흥군 고흥읍 1982-01-01\n",
       "8             금사정수장  상하수도      전라남도 고흥군 포두면 1979-01-01\n",
       "9             신호정수장  상하수도      전라남도 고흥군 도화면 1985-01-01"
      ]
     },
     "execution_count": 11,
     "metadata": {},
     "output_type": "execute_result"
    }
   ],
   "source": [
    "df['준공일자'] = pd.to_datetime(df['준공일자'], format='%Y%m%d')\n",
    "df.head(10)"
   ]
  },
  {
   "cell_type": "code",
   "execution_count": 12,
   "metadata": {},
   "outputs": [
    {
     "data": {
      "text/html": [
       "<div>\n",
       "<style scoped>\n",
       "    .dataframe tbody tr th:only-of-type {\n",
       "        vertical-align: middle;\n",
       "    }\n",
       "\n",
       "    .dataframe tbody tr th {\n",
       "        vertical-align: top;\n",
       "    }\n",
       "\n",
       "    .dataframe thead th {\n",
       "        text-align: right;\n",
       "    }\n",
       "</style>\n",
       "<table border=\"1\" class=\"dataframe\">\n",
       "  <thead>\n",
       "    <tr style=\"text-align: right;\">\n",
       "      <th></th>\n",
       "      <th>시설물명</th>\n",
       "      <th>시설물구분</th>\n",
       "      <th>시설물소재지</th>\n",
       "    </tr>\n",
       "    <tr>\n",
       "      <th>준공일자</th>\n",
       "      <th></th>\n",
       "      <th></th>\n",
       "      <th></th>\n",
       "    </tr>\n",
       "  </thead>\n",
       "  <tbody>\n",
       "    <tr>\n",
       "      <th>1986-05-10</th>\n",
       "      <td>부암1동 동부교육청 입구 옹벽</td>\n",
       "      <td>옹벽</td>\n",
       "      <td>부산광역시 부산진구 부암동</td>\n",
       "    </tr>\n",
       "    <tr>\n",
       "      <th>1980-12-31</th>\n",
       "      <td>전포천본류 복개구조물</td>\n",
       "      <td>교량</td>\n",
       "      <td>부산광역시 부산진구 부전2동</td>\n",
       "    </tr>\n",
       "    <tr>\n",
       "      <th>1979-12-31</th>\n",
       "      <td>부전천본류 복개구조물</td>\n",
       "      <td>교량</td>\n",
       "      <td>부산광역시 부산진구 부전2동</td>\n",
       "    </tr>\n",
       "    <tr>\n",
       "      <th>1980-12-31</th>\n",
       "      <td>사당천복개구조물</td>\n",
       "      <td>교량</td>\n",
       "      <td>서울특별시 서초구 방배동</td>\n",
       "    </tr>\n",
       "    <tr>\n",
       "      <th>1982-09-29</th>\n",
       "      <td>반포천복개구조물</td>\n",
       "      <td>교량</td>\n",
       "      <td>서울특별시 서초구 서초동</td>\n",
       "    </tr>\n",
       "    <tr>\n",
       "      <th>1966-07-25</th>\n",
       "      <td>두구교(구)</td>\n",
       "      <td>교량</td>\n",
       "      <td>부산광역시 금정구 두구동</td>\n",
       "    </tr>\n",
       "    <tr>\n",
       "      <th>1970-09-29</th>\n",
       "      <td>진해1부두</td>\n",
       "      <td>항만</td>\n",
       "      <td>경상남도 창원시 진해구 행암동</td>\n",
       "    </tr>\n",
       "    <tr>\n",
       "      <th>1982-01-01</th>\n",
       "      <td>호형정수장</td>\n",
       "      <td>상하수도</td>\n",
       "      <td>전라남도 고흥군 고흥읍</td>\n",
       "    </tr>\n",
       "    <tr>\n",
       "      <th>1979-01-01</th>\n",
       "      <td>금사정수장</td>\n",
       "      <td>상하수도</td>\n",
       "      <td>전라남도 고흥군 포두면</td>\n",
       "    </tr>\n",
       "    <tr>\n",
       "      <th>1985-01-01</th>\n",
       "      <td>신호정수장</td>\n",
       "      <td>상하수도</td>\n",
       "      <td>전라남도 고흥군 도화면</td>\n",
       "    </tr>\n",
       "  </tbody>\n",
       "</table>\n",
       "</div>"
      ],
      "text/plain": [
       "                        시설물명 시설물구분            시설물소재지\n",
       "준공일자                                                \n",
       "1986-05-10  부암1동 동부교육청 입구 옹벽    옹벽    부산광역시 부산진구 부암동\n",
       "1980-12-31       전포천본류 복개구조물    교량   부산광역시 부산진구 부전2동\n",
       "1979-12-31       부전천본류 복개구조물    교량   부산광역시 부산진구 부전2동\n",
       "1980-12-31          사당천복개구조물    교량     서울특별시 서초구 방배동\n",
       "1982-09-29          반포천복개구조물    교량     서울특별시 서초구 서초동\n",
       "1966-07-25            두구교(구)    교량     부산광역시 금정구 두구동\n",
       "1970-09-29             진해1부두    항만  경상남도 창원시 진해구 행암동\n",
       "1982-01-01             호형정수장  상하수도      전라남도 고흥군 고흥읍\n",
       "1979-01-01             금사정수장  상하수도      전라남도 고흥군 포두면\n",
       "1985-01-01             신호정수장  상하수도      전라남도 고흥군 도화면"
      ]
     },
     "execution_count": 12,
     "metadata": {},
     "output_type": "execute_result"
    }
   ],
   "source": [
    "df.set_index('준공일자', inplace = True)\n",
    "df.head(10)"
   ]
  },
  {
   "cell_type": "code",
   "execution_count": 13,
   "metadata": {},
   "outputs": [
    {
     "name": "stdout",
     "output_type": "stream",
     "text": [
      "<class 'pandas.core.frame.DataFrame'>\n",
      "DatetimeIndex: 3243 entries, 1986-05-10 to 1979-08-20\n",
      "Data columns (total 3 columns):\n",
      "시설물명      3243 non-null object\n",
      "시설물구분     3243 non-null object\n",
      "시설물소재지    3243 non-null object\n",
      "dtypes: object(3)\n",
      "memory usage: 101.3+ KB\n"
     ]
    }
   ],
   "source": [
    "df.info()"
   ]
  },
  {
   "cell_type": "code",
   "execution_count": 14,
   "metadata": {},
   "outputs": [
    {
     "data": {
      "text/plain": [
       "Int64Index([1986, 1980, 1979, 1980, 1982, 1966, 1970, 1982, 1979, 1985,\n",
       "            ...\n",
       "            1985, 1979, 1987, 1984, 1984, 1984, 1984, 1982, 1986, 1979],\n",
       "           dtype='int64', name='준공일자', length=3243)"
      ]
     },
     "execution_count": 14,
     "metadata": {},
     "output_type": "execute_result"
    }
   ],
   "source": [
    "df.index.year"
   ]
  },
  {
   "cell_type": "code",
   "execution_count": 15,
   "metadata": {},
   "outputs": [
    {
     "data": {
      "text/html": [
       "<div>\n",
       "<style scoped>\n",
       "    .dataframe tbody tr th:only-of-type {\n",
       "        vertical-align: middle;\n",
       "    }\n",
       "\n",
       "    .dataframe tbody tr th {\n",
       "        vertical-align: top;\n",
       "    }\n",
       "\n",
       "    .dataframe thead th {\n",
       "        text-align: right;\n",
       "    }\n",
       "</style>\n",
       "<table border=\"1\" class=\"dataframe\">\n",
       "  <thead>\n",
       "    <tr style=\"text-align: right;\">\n",
       "      <th></th>\n",
       "      <th>시설물명</th>\n",
       "      <th>시설물구분</th>\n",
       "      <th>시설물소재지</th>\n",
       "      <th>준공년</th>\n",
       "    </tr>\n",
       "    <tr>\n",
       "      <th>준공일자</th>\n",
       "      <th></th>\n",
       "      <th></th>\n",
       "      <th></th>\n",
       "      <th></th>\n",
       "    </tr>\n",
       "  </thead>\n",
       "  <tbody>\n",
       "    <tr>\n",
       "      <th>1986-05-10</th>\n",
       "      <td>부암1동 동부교육청 입구 옹벽</td>\n",
       "      <td>옹벽</td>\n",
       "      <td>부산광역시 부산진구 부암동</td>\n",
       "      <td>1986</td>\n",
       "    </tr>\n",
       "    <tr>\n",
       "      <th>1980-12-31</th>\n",
       "      <td>전포천본류 복개구조물</td>\n",
       "      <td>교량</td>\n",
       "      <td>부산광역시 부산진구 부전2동</td>\n",
       "      <td>1980</td>\n",
       "    </tr>\n",
       "    <tr>\n",
       "      <th>1979-12-31</th>\n",
       "      <td>부전천본류 복개구조물</td>\n",
       "      <td>교량</td>\n",
       "      <td>부산광역시 부산진구 부전2동</td>\n",
       "      <td>1979</td>\n",
       "    </tr>\n",
       "    <tr>\n",
       "      <th>1980-12-31</th>\n",
       "      <td>사당천복개구조물</td>\n",
       "      <td>교량</td>\n",
       "      <td>서울특별시 서초구 방배동</td>\n",
       "      <td>1980</td>\n",
       "    </tr>\n",
       "    <tr>\n",
       "      <th>1982-09-29</th>\n",
       "      <td>반포천복개구조물</td>\n",
       "      <td>교량</td>\n",
       "      <td>서울특별시 서초구 서초동</td>\n",
       "      <td>1982</td>\n",
       "    </tr>\n",
       "    <tr>\n",
       "      <th>1966-07-25</th>\n",
       "      <td>두구교(구)</td>\n",
       "      <td>교량</td>\n",
       "      <td>부산광역시 금정구 두구동</td>\n",
       "      <td>1966</td>\n",
       "    </tr>\n",
       "    <tr>\n",
       "      <th>1970-09-29</th>\n",
       "      <td>진해1부두</td>\n",
       "      <td>항만</td>\n",
       "      <td>경상남도 창원시 진해구 행암동</td>\n",
       "      <td>1970</td>\n",
       "    </tr>\n",
       "    <tr>\n",
       "      <th>1982-01-01</th>\n",
       "      <td>호형정수장</td>\n",
       "      <td>상하수도</td>\n",
       "      <td>전라남도 고흥군 고흥읍</td>\n",
       "      <td>1982</td>\n",
       "    </tr>\n",
       "    <tr>\n",
       "      <th>1979-01-01</th>\n",
       "      <td>금사정수장</td>\n",
       "      <td>상하수도</td>\n",
       "      <td>전라남도 고흥군 포두면</td>\n",
       "      <td>1979</td>\n",
       "    </tr>\n",
       "    <tr>\n",
       "      <th>1985-01-01</th>\n",
       "      <td>신호정수장</td>\n",
       "      <td>상하수도</td>\n",
       "      <td>전라남도 고흥군 도화면</td>\n",
       "      <td>1985</td>\n",
       "    </tr>\n",
       "  </tbody>\n",
       "</table>\n",
       "</div>"
      ],
      "text/plain": [
       "                        시설물명 시설물구분            시설물소재지   준공년\n",
       "준공일자                                                      \n",
       "1986-05-10  부암1동 동부교육청 입구 옹벽    옹벽    부산광역시 부산진구 부암동  1986\n",
       "1980-12-31       전포천본류 복개구조물    교량   부산광역시 부산진구 부전2동  1980\n",
       "1979-12-31       부전천본류 복개구조물    교량   부산광역시 부산진구 부전2동  1979\n",
       "1980-12-31          사당천복개구조물    교량     서울특별시 서초구 방배동  1980\n",
       "1982-09-29          반포천복개구조물    교량     서울특별시 서초구 서초동  1982\n",
       "1966-07-25            두구교(구)    교량     부산광역시 금정구 두구동  1966\n",
       "1970-09-29             진해1부두    항만  경상남도 창원시 진해구 행암동  1970\n",
       "1982-01-01             호형정수장  상하수도      전라남도 고흥군 고흥읍  1982\n",
       "1979-01-01             금사정수장  상하수도      전라남도 고흥군 포두면  1979\n",
       "1985-01-01             신호정수장  상하수도      전라남도 고흥군 도화면  1985"
      ]
     },
     "execution_count": 15,
     "metadata": {},
     "output_type": "execute_result"
    }
   ],
   "source": [
    "df['준공년'] = df.index.year\n",
    "df.head(10)"
   ]
  },
  {
   "cell_type": "code",
   "execution_count": 18,
   "metadata": {},
   "outputs": [
    {
     "data": {
      "text/plain": [
       "1985    338\n",
       "1984    269\n",
       "1986    233\n",
       "1983    196\n",
       "1980    188\n",
       "1987    167\n",
       "1982    130\n",
       "1981    128\n",
       "1979    128\n",
       "1977     92\n",
       "Name: 준공년, dtype: int64"
      ]
     },
     "execution_count": 18,
     "metadata": {},
     "output_type": "execute_result"
    }
   ],
   "source": [
    "df_year = df['준공년'].value_counts()\n",
    "df_year.head(10)"
   ]
  },
  {
   "cell_type": "code",
   "execution_count": 19,
   "metadata": {},
   "outputs": [
    {
     "data": {
      "text/plain": [
       "Int64Index([1985, 1984, 1986, 1983, 1980, 1987, 1982, 1981, 1979, 1977, 1970,\n",
       "            1978, 1973, 1975, 1974, 1976, 1969, 1971, 1972, 1963, 1965, 1961,\n",
       "            1964, 1968, 1955, 1962, 1966, 1945, 1967, 1959, 1960, 1958, 1940,\n",
       "            1939, 1942, 1938, 1930, 1934, 1937, 1954, 1932, 1957, 1936, 1931,\n",
       "            1935, 1900, 1944, 1926, 1956, 1914, 1922, 1924, 1949, 1953, 1947,\n",
       "            1906, 1925, 1943, 1950, 1946, 1929, 1921, 1933, 1923, 1928, 1920,\n",
       "            1912, 1905, 1941, 1952, 1918, 1951, 1911, 1919, 1915, 1948, 1927],\n",
       "           dtype='int64')"
      ]
     },
     "execution_count": 19,
     "metadata": {},
     "output_type": "execute_result"
    }
   ],
   "source": [
    "df_year.index"
   ]
  },
  {
   "cell_type": "code",
   "execution_count": 20,
   "metadata": {},
   "outputs": [],
   "source": [
    "plt.rcParams['figure.figsize'] = [20, 12]"
   ]
  },
  {
   "cell_type": "code",
   "execution_count": 21,
   "metadata": {},
   "outputs": [
    {
     "data": {
      "text/plain": [
       "<matplotlib.axes._subplots.AxesSubplot at 0x19b1a49fe48>"
      ]
     },
     "execution_count": 21,
     "metadata": {},
     "output_type": "execute_result"
    },
    {
     "data": {
      "image/png": "[encoded data removed]",
      "text/plain": [
       "<Figure size 1440x864 with 1 Axes>"
      ]
     },
     "metadata": {
      "needs_background": "light"
     },
     "output_type": "display_data"
    }
   ],
   "source": [
    "df_year.plot(kind='bar')"
   ]
  },
  {
   "cell_type": "code",
   "execution_count": 22,
   "metadata": {},
   "outputs": [
    {
     "data": {
      "text/plain": [
       "1900    11\n",
       "1905     2\n",
       "1906     5\n",
       "1911     1\n",
       "1912     2\n",
       "1914     7\n",
       "1915     1\n",
       "1918     1\n",
       "1919     1\n",
       "1920     2\n",
       "Name: 준공년, dtype: int64"
      ]
     },
     "execution_count": 22,
     "metadata": {},
     "output_type": "execute_result"
    }
   ],
   "source": [
    "df_year = df_year.sort_index()\n",
    "df_year.head(10)"
   ]
  },
  {
   "cell_type": "code",
   "execution_count": 23,
   "metadata": {},
   "outputs": [
    {
     "data": {
      "text/plain": [
       "<matplotlib.axes._subplots.AxesSubplot at 0x19b1a64c400>"
      ]
     },
     "execution_count": 23,
     "metadata": {},
     "output_type": "execute_result"
    },
    {
     "data": {
      "image/png": "[encoded data removed]",
      "text/plain": [
       "<Figure size 1440x864 with 1 Axes>"
      ]
     },
     "metadata": {
      "needs_background": "light"
     },
     "output_type": "display_data"
    }
   ],
   "source": [
    "df_year.plot(kind='bar')"
   ]
  },
  {
   "cell_type": "code",
   "execution_count": 25,
   "metadata": {},
   "outputs": [
    {
     "data": {
      "text/plain": [
       "'경기도 가평군 외서면'"
      ]
     },
     "execution_count": 25,
     "metadata": {},
     "output_type": "execute_result"
    }
   ],
   "source": [
    "df['시설물소재지'].values[100]"
   ]
  },
  {
   "cell_type": "code",
   "execution_count": 26,
   "metadata": {},
   "outputs": [],
   "source": [
    "tmp = '부산광역시 부산진구 부암동'\n"
   ]
  },
  {
   "cell_type": "code",
   "execution_count": 28,
   "metadata": {},
   "outputs": [
    {
     "data": {
      "text/plain": [
       "5"
      ]
     },
     "execution_count": 28,
     "metadata": {},
     "output_type": "execute_result"
    }
   ],
   "source": [
    "tmp.find(' ')      ## 인덱스값"
   ]
  },
  {
   "cell_type": "code",
   "execution_count": 29,
   "metadata": {},
   "outputs": [],
   "source": [
    "tmp2 = tmp[0:(tmp.find(' '))]"
   ]
  },
  {
   "cell_type": "code",
   "execution_count": 30,
   "metadata": {},
   "outputs": [
    {
     "data": {
      "text/plain": [
       "'부산광역시'"
      ]
     },
     "execution_count": 30,
     "metadata": {},
     "output_type": "execute_result"
    }
   ],
   "source": [
    "tmp2"
   ]
  },
  {
   "cell_type": "code",
   "execution_count": 31,
   "metadata": {},
   "outputs": [
    {
     "data": {
      "text/plain": [
       "3243"
      ]
     },
     "execution_count": 31,
     "metadata": {},
     "output_type": "execute_result"
    }
   ],
   "source": [
    "len(df)"
   ]
  },
  {
   "cell_type": "code",
   "execution_count": 32,
   "metadata": {},
   "outputs": [
    {
     "data": {
      "text/plain": [
       "'부산광역시'"
      ]
     },
     "execution_count": 32,
     "metadata": {},
     "output_type": "execute_result"
    }
   ],
   "source": [
    "df['시설물소재지'].values[1][0:5]"
   ]
  },
  {
   "cell_type": "code",
   "execution_count": 33,
   "metadata": {},
   "outputs": [],
   "source": [
    "tmp3= df['시설물소재지'].values[1].find(' ')"
   ]
  },
  {
   "cell_type": "code",
   "execution_count": 34,
   "metadata": {},
   "outputs": [
    {
     "data": {
      "text/plain": [
       "'부산광역시'"
      ]
     },
     "execution_count": 34,
     "metadata": {},
     "output_type": "execute_result"
    }
   ],
   "source": [
    "df['시설물소재지'].values[1][0:tmp3]"
   ]
  },
  {
   "cell_type": "code",
   "execution_count": 35,
   "metadata": {},
   "outputs": [
    {
     "data": {
      "text/html": [
       "<div>\n",
       "<style scoped>\n",
       "    .dataframe tbody tr th:only-of-type {\n",
       "        vertical-align: middle;\n",
       "    }\n",
       "\n",
       "    .dataframe tbody tr th {\n",
       "        vertical-align: top;\n",
       "    }\n",
       "\n",
       "    .dataframe thead th {\n",
       "        text-align: right;\n",
       "    }\n",
       "</style>\n",
       "<table border=\"1\" class=\"dataframe\">\n",
       "  <thead>\n",
       "    <tr style=\"text-align: right;\">\n",
       "      <th></th>\n",
       "      <th>시설물명</th>\n",
       "      <th>시설물구분</th>\n",
       "      <th>시설물소재지</th>\n",
       "      <th>준공년</th>\n",
       "      <th>state</th>\n",
       "    </tr>\n",
       "    <tr>\n",
       "      <th>준공일자</th>\n",
       "      <th></th>\n",
       "      <th></th>\n",
       "      <th></th>\n",
       "      <th></th>\n",
       "      <th></th>\n",
       "    </tr>\n",
       "  </thead>\n",
       "  <tbody>\n",
       "    <tr>\n",
       "      <th>1986-05-10</th>\n",
       "      <td>부암1동 동부교육청 입구 옹벽</td>\n",
       "      <td>옹벽</td>\n",
       "      <td>부산광역시 부산진구 부암동</td>\n",
       "      <td>1986</td>\n",
       "      <td></td>\n",
       "    </tr>\n",
       "    <tr>\n",
       "      <th>1980-12-31</th>\n",
       "      <td>전포천본류 복개구조물</td>\n",
       "      <td>교량</td>\n",
       "      <td>부산광역시 부산진구 부전2동</td>\n",
       "      <td>1980</td>\n",
       "      <td></td>\n",
       "    </tr>\n",
       "    <tr>\n",
       "      <th>1979-12-31</th>\n",
       "      <td>부전천본류 복개구조물</td>\n",
       "      <td>교량</td>\n",
       "      <td>부산광역시 부산진구 부전2동</td>\n",
       "      <td>1979</td>\n",
       "      <td></td>\n",
       "    </tr>\n",
       "    <tr>\n",
       "      <th>1980-12-31</th>\n",
       "      <td>사당천복개구조물</td>\n",
       "      <td>교량</td>\n",
       "      <td>서울특별시 서초구 방배동</td>\n",
       "      <td>1980</td>\n",
       "      <td></td>\n",
       "    </tr>\n",
       "    <tr>\n",
       "      <th>1982-09-29</th>\n",
       "      <td>반포천복개구조물</td>\n",
       "      <td>교량</td>\n",
       "      <td>서울특별시 서초구 서초동</td>\n",
       "      <td>1982</td>\n",
       "      <td></td>\n",
       "    </tr>\n",
       "    <tr>\n",
       "      <th>1966-07-25</th>\n",
       "      <td>두구교(구)</td>\n",
       "      <td>교량</td>\n",
       "      <td>부산광역시 금정구 두구동</td>\n",
       "      <td>1966</td>\n",
       "      <td></td>\n",
       "    </tr>\n",
       "    <tr>\n",
       "      <th>1970-09-29</th>\n",
       "      <td>진해1부두</td>\n",
       "      <td>항만</td>\n",
       "      <td>경상남도 창원시 진해구 행암동</td>\n",
       "      <td>1970</td>\n",
       "      <td></td>\n",
       "    </tr>\n",
       "    <tr>\n",
       "      <th>1982-01-01</th>\n",
       "      <td>호형정수장</td>\n",
       "      <td>상하수도</td>\n",
       "      <td>전라남도 고흥군 고흥읍</td>\n",
       "      <td>1982</td>\n",
       "      <td></td>\n",
       "    </tr>\n",
       "    <tr>\n",
       "      <th>1979-01-01</th>\n",
       "      <td>금사정수장</td>\n",
       "      <td>상하수도</td>\n",
       "      <td>전라남도 고흥군 포두면</td>\n",
       "      <td>1979</td>\n",
       "      <td></td>\n",
       "    </tr>\n",
       "    <tr>\n",
       "      <th>1985-01-01</th>\n",
       "      <td>신호정수장</td>\n",
       "      <td>상하수도</td>\n",
       "      <td>전라남도 고흥군 도화면</td>\n",
       "      <td>1985</td>\n",
       "      <td></td>\n",
       "    </tr>\n",
       "  </tbody>\n",
       "</table>\n",
       "</div>"
      ],
      "text/plain": [
       "                        시설물명 시설물구분            시설물소재지   준공년 state\n",
       "준공일자                                                            \n",
       "1986-05-10  부암1동 동부교육청 입구 옹벽    옹벽    부산광역시 부산진구 부암동  1986      \n",
       "1980-12-31       전포천본류 복개구조물    교량   부산광역시 부산진구 부전2동  1980      \n",
       "1979-12-31       부전천본류 복개구조물    교량   부산광역시 부산진구 부전2동  1979      \n",
       "1980-12-31          사당천복개구조물    교량     서울특별시 서초구 방배동  1980      \n",
       "1982-09-29          반포천복개구조물    교량     서울특별시 서초구 서초동  1982      \n",
       "1966-07-25            두구교(구)    교량     부산광역시 금정구 두구동  1966      \n",
       "1970-09-29             진해1부두    항만  경상남도 창원시 진해구 행암동  1970      \n",
       "1982-01-01             호형정수장  상하수도      전라남도 고흥군 고흥읍  1982      \n",
       "1979-01-01             금사정수장  상하수도      전라남도 고흥군 포두면  1979      \n",
       "1985-01-01             신호정수장  상하수도      전라남도 고흥군 도화면  1985      "
      ]
     },
     "execution_count": 35,
     "metadata": {},
     "output_type": "execute_result"
    }
   ],
   "source": [
    "df['state'] = ' '\n",
    "df.head(10)"
   ]
  },
  {
   "cell_type": "code",
   "execution_count": 38,
   "metadata": {},
   "outputs": [],
   "source": [
    "for n in np.arange(len(df)):\n",
    "    endN = df['시설물소재지'].values[n].find(' ')\n",
    "    df['state'].values[n] = df['시설물소재지'].values[n][0:endN]"
   ]
  },
  {
   "cell_type": "code",
   "execution_count": 39,
   "metadata": {},
   "outputs": [
    {
     "data": {
      "text/html": [
       "<div>\n",
       "<style scoped>\n",
       "    .dataframe tbody tr th:only-of-type {\n",
       "        vertical-align: middle;\n",
       "    }\n",
       "\n",
       "    .dataframe tbody tr th {\n",
       "        vertical-align: top;\n",
       "    }\n",
       "\n",
       "    .dataframe thead th {\n",
       "        text-align: right;\n",
       "    }\n",
       "</style>\n",
       "<table border=\"1\" class=\"dataframe\">\n",
       "  <thead>\n",
       "    <tr style=\"text-align: right;\">\n",
       "      <th></th>\n",
       "      <th>시설물명</th>\n",
       "      <th>시설물구분</th>\n",
       "      <th>시설물소재지</th>\n",
       "      <th>준공년</th>\n",
       "      <th>state</th>\n",
       "    </tr>\n",
       "    <tr>\n",
       "      <th>준공일자</th>\n",
       "      <th></th>\n",
       "      <th></th>\n",
       "      <th></th>\n",
       "      <th></th>\n",
       "      <th></th>\n",
       "    </tr>\n",
       "  </thead>\n",
       "  <tbody>\n",
       "    <tr>\n",
       "      <th>1986-05-10</th>\n",
       "      <td>부암1동 동부교육청 입구 옹벽</td>\n",
       "      <td>옹벽</td>\n",
       "      <td>부산광역시 부산진구 부암동</td>\n",
       "      <td>1986</td>\n",
       "      <td>부산광역시</td>\n",
       "    </tr>\n",
       "    <tr>\n",
       "      <th>1980-12-31</th>\n",
       "      <td>전포천본류 복개구조물</td>\n",
       "      <td>교량</td>\n",
       "      <td>부산광역시 부산진구 부전2동</td>\n",
       "      <td>1980</td>\n",
       "      <td>부산광역시</td>\n",
       "    </tr>\n",
       "    <tr>\n",
       "      <th>1979-12-31</th>\n",
       "      <td>부전천본류 복개구조물</td>\n",
       "      <td>교량</td>\n",
       "      <td>부산광역시 부산진구 부전2동</td>\n",
       "      <td>1979</td>\n",
       "      <td>부산광역시</td>\n",
       "    </tr>\n",
       "    <tr>\n",
       "      <th>1980-12-31</th>\n",
       "      <td>사당천복개구조물</td>\n",
       "      <td>교량</td>\n",
       "      <td>서울특별시 서초구 방배동</td>\n",
       "      <td>1980</td>\n",
       "      <td>서울특별시</td>\n",
       "    </tr>\n",
       "    <tr>\n",
       "      <th>1982-09-29</th>\n",
       "      <td>반포천복개구조물</td>\n",
       "      <td>교량</td>\n",
       "      <td>서울특별시 서초구 서초동</td>\n",
       "      <td>1982</td>\n",
       "      <td>서울특별시</td>\n",
       "    </tr>\n",
       "    <tr>\n",
       "      <th>1966-07-25</th>\n",
       "      <td>두구교(구)</td>\n",
       "      <td>교량</td>\n",
       "      <td>부산광역시 금정구 두구동</td>\n",
       "      <td>1966</td>\n",
       "      <td>부산광역시</td>\n",
       "    </tr>\n",
       "    <tr>\n",
       "      <th>1970-09-29</th>\n",
       "      <td>진해1부두</td>\n",
       "      <td>항만</td>\n",
       "      <td>경상남도 창원시 진해구 행암동</td>\n",
       "      <td>1970</td>\n",
       "      <td>경상남도</td>\n",
       "    </tr>\n",
       "    <tr>\n",
       "      <th>1982-01-01</th>\n",
       "      <td>호형정수장</td>\n",
       "      <td>상하수도</td>\n",
       "      <td>전라남도 고흥군 고흥읍</td>\n",
       "      <td>1982</td>\n",
       "      <td>전라남도</td>\n",
       "    </tr>\n",
       "    <tr>\n",
       "      <th>1979-01-01</th>\n",
       "      <td>금사정수장</td>\n",
       "      <td>상하수도</td>\n",
       "      <td>전라남도 고흥군 포두면</td>\n",
       "      <td>1979</td>\n",
       "      <td>전라남도</td>\n",
       "    </tr>\n",
       "    <tr>\n",
       "      <th>1985-01-01</th>\n",
       "      <td>신호정수장</td>\n",
       "      <td>상하수도</td>\n",
       "      <td>전라남도 고흥군 도화면</td>\n",
       "      <td>1985</td>\n",
       "      <td>전라남도</td>\n",
       "    </tr>\n",
       "  </tbody>\n",
       "</table>\n",
       "</div>"
      ],
      "text/plain": [
       "                        시설물명 시설물구분            시설물소재지   준공년  state\n",
       "준공일자                                                             \n",
       "1986-05-10  부암1동 동부교육청 입구 옹벽    옹벽    부산광역시 부산진구 부암동  1986  부산광역시\n",
       "1980-12-31       전포천본류 복개구조물    교량   부산광역시 부산진구 부전2동  1980  부산광역시\n",
       "1979-12-31       부전천본류 복개구조물    교량   부산광역시 부산진구 부전2동  1979  부산광역시\n",
       "1980-12-31          사당천복개구조물    교량     서울특별시 서초구 방배동  1980  서울특별시\n",
       "1982-09-29          반포천복개구조물    교량     서울특별시 서초구 서초동  1982  서울특별시\n",
       "1966-07-25            두구교(구)    교량     부산광역시 금정구 두구동  1966  부산광역시\n",
       "1970-09-29             진해1부두    항만  경상남도 창원시 진해구 행암동  1970   경상남도\n",
       "1982-01-01             호형정수장  상하수도      전라남도 고흥군 고흥읍  1982   전라남도\n",
       "1979-01-01             금사정수장  상하수도      전라남도 고흥군 포두면  1979   전라남도\n",
       "1985-01-01             신호정수장  상하수도      전라남도 고흥군 도화면  1985   전라남도"
      ]
     },
     "execution_count": 39,
     "metadata": {},
     "output_type": "execute_result"
    }
   ],
   "source": [
    "df.head(10)"
   ]
  },
  {
   "cell_type": "code",
   "execution_count": 41,
   "metadata": {},
   "outputs": [
    {
     "data": {
      "text/plain": [
       "array(['부산광역시', '서울특별시', '경상남도', '전라남도', '대구광역시', '전라북도', '인천광역시', '충청북도',\n",
       "       '강원도', '제주특별자치도', '경기도', '충청남도', '광주광역시', '경상북도', '대전광역시',\n",
       "       '세종특별자치시', '울산광역시'], dtype=object)"
      ]
     },
     "execution_count": 41,
     "metadata": {},
     "output_type": "execute_result"
    }
   ],
   "source": [
    "df['state'].unique()"
   ]
  },
  {
   "cell_type": "code",
   "execution_count": 42,
   "metadata": {},
   "outputs": [
    {
     "data": {
      "text/plain": [
       "서울특별시      609\n",
       "경상북도       454\n",
       "경상남도       369\n",
       "강원도        244\n",
       "경기도        213\n",
       "전라남도       210\n",
       "충청북도       204\n",
       "충청남도       203\n",
       "전라북도       187\n",
       "부산광역시      160\n",
       "대구광역시      105\n",
       "광주광역시       92\n",
       "대전광역시       59\n",
       "인천광역시       55\n",
       "울산광역시       53\n",
       "세종특별자치시     14\n",
       "제주특별자치도     12\n",
       "Name: state, dtype: int64"
      ]
     },
     "execution_count": 42,
     "metadata": {},
     "output_type": "execute_result"
    }
   ],
   "source": [
    "df_state = df['state'].value_counts()\n",
    "df_state"
   ]
  },
  {
   "cell_type": "code",
   "execution_count": 43,
   "metadata": {},
   "outputs": [
    {
     "data": {
      "image/png": "[encoded data removed]",
      "text/plain": [
       "<Figure size 1080x1080 with 1 Axes>"
      ]
     },
     "metadata": {},
     "output_type": "display_data"
    }
   ],
   "source": [
    "plt.rcParams['figure.figsize'] = [15,15]\n",
    "df_state.plot(kind='pie')\n",
    "plt.show()"
   ]
  },
  {
   "cell_type": "code",
   "execution_count": 44,
   "metadata": {},
   "outputs": [
    {
     "data": {
      "image/png": "[encoded data removed]",
      "text/plain": [
       "<Figure size 864x432 with 1 Axes>"
      ]
     },
     "metadata": {
      "needs_background": "light"
     },
     "output_type": "display_data"
    }
   ],
   "source": [
    "plt.rcParams['figure.figsize'] = [12,6]\n",
    "df_state.plot(kind='barh')\n",
    "plt.show()"
   ]
  },
  {
   "cell_type": "code",
   "execution_count": 45,
   "metadata": {},
   "outputs": [
    {
     "data": {
      "text/plain": [
       "서울특별시    609\n",
       "경상북도     454\n",
       "경상남도     369\n",
       "강원도      244\n",
       "경기도      213\n",
       "Name: state, dtype: int64"
      ]
     },
     "execution_count": 45,
     "metadata": {},
     "output_type": "execute_result"
    }
   ],
   "source": [
    "df_state.sort_values(ascending=False).head(5)"
   ]
  },
  {
   "cell_type": "code",
   "execution_count": 46,
   "metadata": {},
   "outputs": [
    {
     "data": {
      "text/plain": [
       "제주특별자치도    12\n",
       "세종특별자치시    14\n",
       "울산광역시      53\n",
       "인천광역시      55\n",
       "대전광역시      59\n",
       "Name: state, dtype: int64"
      ]
     },
     "execution_count": 46,
     "metadata": {},
     "output_type": "execute_result"
    }
   ],
   "source": [
    "df_state.sort_values(ascending=True).head(5)"
   ]
  },
  {
   "cell_type": "code",
   "execution_count": 47,
   "metadata": {},
   "outputs": [
    {
     "data": {
      "image/png": "[encoded data removed]",
      "text/plain": [
       "<Figure size 1440x1440 with 3 Axes>"
      ]
     },
     "metadata": {
      "needs_background": "light"
     },
     "output_type": "display_data"
    }
   ],
   "source": [
    "plt.figure(figsize=(20,20))\n",
    "\n",
    "plt.subplot(211) \n",
    "plt.title('노후공공시설물 설립년도별 현황')\n",
    "df_year.plot(kind='bar')\n",
    "\n",
    "plt.subplot(223) \n",
    "plt.title(\"시도별 노후공공시설 현황\")\n",
    "df_state.plot(kind='pie')\n",
    "\n",
    "plt.subplot(224)\n",
    "plt.title(\"시도별 노후공공시설 순위 TOP10\")\n",
    "df_state.sort_values(ascending=False).head(10).plot(kind='barh', color='y')\n",
    "\n",
    "plt.show()"
   ]
  },
  {
   "cell_type": "code",
   "execution_count": null,
   "metadata": {},
   "outputs": [],
   "source": []
  }
 ],
 "metadata": {
  "kernelspec": {
   "display_name": "Python 3",
   "language": "python",
   "name": "python3"
  },
  "language_info": {
   "codemirror_mode": {
    "name": "ipython",
    "version": 3
   },
   "file_extension": ".py",
   "mimetype": "text/x-python",
   "name": "python",
   "nbconvert_exporter": "python",
   "pygments_lexer": "ipython3",
   "version": "3.7.3"
  }
 },
 "nbformat": 4,
 "nbformat_minor": 2
}
