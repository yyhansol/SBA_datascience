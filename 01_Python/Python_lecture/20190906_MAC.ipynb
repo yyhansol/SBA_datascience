{
 "cells": [
  {
   "cell_type": "code",
   "execution_count": 1,
   "metadata": {},
   "outputs": [],
   "source": [
    "from bs4 import BeautifulSoup \n",
    "from urllib.request import urlopen\n",
    "import pandas as pd"
   ]
  },
  {
   "cell_type": "code",
   "execution_count": 64,
   "metadata": {},
   "outputs": [
    {
     "data": {
      "text/plain": [
       "<title>지역별 - McDonald's</title>"
      ]
     },
     "execution_count": 64,
     "metadata": {},
     "output_type": "execute_result"
    }
   ],
   "source": [
    "html = 'http://www.mcdonalds.co.kr/www/kor/findus/district.do?pageIndex={page}&sSearch_yn=Y&skey=2&skey1=&skey2=&skeyword=%EC%84%9C%EC%9A%B8&skey4=&skey5=&skeyword2=&sflag1=&sflag2=&sflag3=&sflag4=&sflag5=&sflag6=&sflag=N'\n",
    "\n",
    "response = urlopen(html.format(page=1))\n",
    "\n",
    "soup = BeautifulSoup(response, \"lxml\")\n",
    "soup.title"
   ]
  },
  {
   "cell_type": "code",
   "execution_count": 65,
   "metadata": {},
   "outputs": [],
   "source": [
    "tmp = soup.select('dl.clearFix dt a')"
   ]
  },
  {
   "cell_type": "code",
   "execution_count": 148,
   "metadata": {},
   "outputs": [],
   "source": [
    "location = tmp[4]"
   ]
  },
  {
   "cell_type": "code",
   "execution_count": 150,
   "metadata": {},
   "outputs": [
    {
     "data": {
      "text/plain": [
       "'강남구청점'"
      ]
     },
     "execution_count": 150,
     "metadata": {},
     "output_type": "execute_result"
    }
   ],
   "source": [
    "location.get_text().strip()"
   ]
  },
  {
   "cell_type": "code",
   "execution_count": null,
   "metadata": {},
   "outputs": [],
   "source": []
  },
  {
   "cell_type": "code",
   "execution_count": 161,
   "metadata": {},
   "outputs": [],
   "source": [
    "tmp2 = soup.select('dl.clearFix dd.road')"
   ]
  },
  {
   "cell_type": "code",
   "execution_count": 235,
   "metadata": {},
   "outputs": [
    {
     "data": {
      "text/plain": [
       "5"
      ]
     },
     "execution_count": 235,
     "metadata": {},
     "output_type": "execute_result"
    }
   ],
   "source": [
    "tmp2"
   ]
  },
  {
   "cell_type": "code",
   "execution_count": 226,
   "metadata": {},
   "outputs": [],
   "source": [
    "add = tmp2[4]"
   ]
  },
  {
   "cell_type": "code",
   "execution_count": 219,
   "metadata": {},
   "outputs": [],
   "source": [
    "add = add.get_text()"
   ]
  },
  {
   "cell_type": "code",
   "execution_count": 220,
   "metadata": {},
   "outputs": [
    {
     "data": {
      "text/plain": [
       "'강남구'"
      ]
     },
     "execution_count": 220,
     "metadata": {},
     "output_type": "execute_result"
    }
   ],
   "source": [
    "add.split(\" \")[1]"
   ]
  },
  {
   "cell_type": "code",
   "execution_count": 255,
   "metadata": {},
   "outputs": [],
   "source": [
    "def GetMac(pages) :\n",
    "    ret_dict = dict()\n",
    "    columns = ['구','매장 개수']\n",
    "    add_list = list()\n",
    "    \n",
    "    for n in range(pages) :\n",
    "        n += 1\n",
    "        html = 'http://www.mcdonalds.co.kr/www/kor/findus/district.do?pageIndex={page}&sSearch_yn=Y&skey=2&skey1=&skey2=&skeyword=%EC%84%9C%EC%9A%B8&skey4=&skey5=&skeyword2=&sflag1=&sflag2=&sflag3=&sflag4=&sflag5=&sflag6=&sflag=N'\n",
    "        response = urlopen(html.format(page=n))\n",
    "        soup = BeautifulSoup(response, \"lxml\")\n",
    "        \n",
    "        tmp2 = soup.select('dl.clearFix dd.road')\n",
    "        \n",
    "        for j in range(0,5) :\n",
    "            if len(tmp2) == 5 :\n",
    "                add = tmp2[j]\n",
    "                add = add.get_text()\n",
    "                Add = add.split(\" \")[1]\n",
    "            else :\n",
    "                add = tmp2[j-1]\n",
    "                add = add.get_text()\n",
    "                Add = add.split(\" \")[1]\n",
    "        \n",
    "            add_list.append(Add)\n",
    "        #ADD = add_list.group()\n",
    "        \n",
    "    ret_dict[columns[0]] = add_list\n",
    "    ret_dict[columns[1]] = 0\n",
    "        \n",
    "    return ret_dict\n",
    "    print(response)"
   ]
  },
  {
   "cell_type": "code",
   "execution_count": 256,
   "metadata": {},
   "outputs": [],
   "source": [
    "ret = GetMac(20)"
   ]
  },
  {
   "cell_type": "code",
   "execution_count": 257,
   "metadata": {},
   "outputs": [
    {
     "data": {
      "text/plain": [
       "{'구': ['송파구',\n",
       "  '금천구',\n",
       "  '금천구',\n",
       "  '강남구',\n",
       "  '강남구',\n",
       "  '강남구',\n",
       "  '강동구',\n",
       "  '구로구',\n",
       "  '마포구',\n",
       "  '노원구',\n",
       "  '구로구',\n",
       "  '은평구',\n",
       "  '광진구',\n",
       "  '강동구',\n",
       "  '동작구',\n",
       "  '종로구',\n",
       "  '강서구',\n",
       "  '금천구',\n",
       "  '마포구',\n",
       "  '중구',\n",
       "  '중구',\n",
       "  '서대문구',\n",
       "  '양천구',\n",
       "  '강북구',\n",
       "  '강북구',\n",
       "  '강북구',\n",
       "  '서초구',\n",
       "  '도봉구',\n",
       "  '영등포구',\n",
       "  '성북구',\n",
       "  '강남구',\n",
       "  '노원구',\n",
       "  '강동구',\n",
       "  '서초구',\n",
       "  '종로구',\n",
       "  '강동구',\n",
       "  '강북구',\n",
       "  '마포구',\n",
       "  '중구',\n",
       "  '금천구',\n",
       "  '용산구',\n",
       "  '서초구',\n",
       "  '서초구',\n",
       "  '송파구',\n",
       "  '강남구',\n",
       "  '종로구',\n",
       "  '노원구',\n",
       "  '강서구',\n",
       "  '송파구',\n",
       "  '강북구',\n",
       "  '동작구',\n",
       "  '중랑구',\n",
       "  '구로구',\n",
       "  '구로구',\n",
       "  '관악구',\n",
       "  '강남구',\n",
       "  '양천구',\n",
       "  '양천구',\n",
       "  '송파구',\n",
       "  '도봉구',\n",
       "  '성북구',\n",
       "  '강남구',\n",
       "  '서초구',\n",
       "  '서초구',\n",
       "  '양천구',\n",
       "  '영등포구',\n",
       "  '광진구',\n",
       "  '영등포구',\n",
       "  '서대문구',\n",
       "  '은평구',\n",
       "  '강서구',\n",
       "  '영등포구',\n",
       "  '성동구',\n",
       "  '강서구',\n",
       "  '송파구',\n",
       "  '중랑구',\n",
       "  '성동구',\n",
       "  '은평구',\n",
       "  '동작구',\n",
       "  '용산구',\n",
       "  '송파구',\n",
       "  '동대문구',\n",
       "  '동대문구',\n",
       "  '종로구',\n",
       "  '성북구',\n",
       "  '노원구',\n",
       "  '노원구',\n",
       "  '중랑구',\n",
       "  '동작구',\n",
       "  '강남구',\n",
       "  '강남구',\n",
       "  '양천구',\n",
       "  '강남구',\n",
       "  '동대문구',\n",
       "  '성동구',\n",
       "  '서대문구',\n",
       "  '강남구',\n",
       "  '마포구',\n",
       "  '마포구',\n",
       "  '서대문구'],\n",
       " '매장 개수': 0}"
      ]
     },
     "execution_count": 257,
     "metadata": {},
     "output_type": "execute_result"
    }
   ],
   "source": [
    "ret"
   ]
  },
  {
   "cell_type": "code",
   "execution_count": 258,
   "metadata": {},
   "outputs": [],
   "source": [
    "a = pd.DataFrame(ret)"
   ]
  },
  {
   "cell_type": "code",
   "execution_count": 278,
   "metadata": {},
   "outputs": [
    {
     "data": {
      "text/html": [
       "<div>\n",
       "<style scoped>\n",
       "    .dataframe tbody tr th:only-of-type {\n",
       "        vertical-align: middle;\n",
       "    }\n",
       "\n",
       "    .dataframe tbody tr th {\n",
       "        vertical-align: top;\n",
       "    }\n",
       "\n",
       "    .dataframe thead th {\n",
       "        text-align: right;\n",
       "    }\n",
       "</style>\n",
       "<table border=\"1\" class=\"dataframe\">\n",
       "  <thead>\n",
       "    <tr style=\"text-align: right;\">\n",
       "      <th></th>\n",
       "      <th>매장 개수</th>\n",
       "    </tr>\n",
       "    <tr>\n",
       "      <th>구</th>\n",
       "      <th></th>\n",
       "    </tr>\n",
       "  </thead>\n",
       "  <tbody>\n",
       "    <tr>\n",
       "      <th>강남구</th>\n",
       "      <td>11</td>\n",
       "    </tr>\n",
       "    <tr>\n",
       "      <th>강동구</th>\n",
       "      <td>4</td>\n",
       "    </tr>\n",
       "    <tr>\n",
       "      <th>강북구</th>\n",
       "      <td>5</td>\n",
       "    </tr>\n",
       "    <tr>\n",
       "      <th>강서구</th>\n",
       "      <td>4</td>\n",
       "    </tr>\n",
       "    <tr>\n",
       "      <th>관악구</th>\n",
       "      <td>1</td>\n",
       "    </tr>\n",
       "    <tr>\n",
       "      <th>광진구</th>\n",
       "      <td>2</td>\n",
       "    </tr>\n",
       "    <tr>\n",
       "      <th>구로구</th>\n",
       "      <td>4</td>\n",
       "    </tr>\n",
       "    <tr>\n",
       "      <th>금천구</th>\n",
       "      <td>4</td>\n",
       "    </tr>\n",
       "    <tr>\n",
       "      <th>노원구</th>\n",
       "      <td>5</td>\n",
       "    </tr>\n",
       "    <tr>\n",
       "      <th>도봉구</th>\n",
       "      <td>2</td>\n",
       "    </tr>\n",
       "    <tr>\n",
       "      <th>동대문구</th>\n",
       "      <td>3</td>\n",
       "    </tr>\n",
       "    <tr>\n",
       "      <th>동작구</th>\n",
       "      <td>4</td>\n",
       "    </tr>\n",
       "    <tr>\n",
       "      <th>마포구</th>\n",
       "      <td>5</td>\n",
       "    </tr>\n",
       "    <tr>\n",
       "      <th>서대문구</th>\n",
       "      <td>4</td>\n",
       "    </tr>\n",
       "    <tr>\n",
       "      <th>서초구</th>\n",
       "      <td>6</td>\n",
       "    </tr>\n",
       "    <tr>\n",
       "      <th>성동구</th>\n",
       "      <td>3</td>\n",
       "    </tr>\n",
       "    <tr>\n",
       "      <th>성북구</th>\n",
       "      <td>3</td>\n",
       "    </tr>\n",
       "    <tr>\n",
       "      <th>송파구</th>\n",
       "      <td>6</td>\n",
       "    </tr>\n",
       "    <tr>\n",
       "      <th>양천구</th>\n",
       "      <td>5</td>\n",
       "    </tr>\n",
       "    <tr>\n",
       "      <th>영등포구</th>\n",
       "      <td>4</td>\n",
       "    </tr>\n",
       "    <tr>\n",
       "      <th>용산구</th>\n",
       "      <td>2</td>\n",
       "    </tr>\n",
       "    <tr>\n",
       "      <th>은평구</th>\n",
       "      <td>3</td>\n",
       "    </tr>\n",
       "    <tr>\n",
       "      <th>종로구</th>\n",
       "      <td>4</td>\n",
       "    </tr>\n",
       "    <tr>\n",
       "      <th>중구</th>\n",
       "      <td>3</td>\n",
       "    </tr>\n",
       "    <tr>\n",
       "      <th>중랑구</th>\n",
       "      <td>3</td>\n",
       "    </tr>\n",
       "  </tbody>\n",
       "</table>\n",
       "</div>"
      ],
      "text/plain": [
       "      매장 개수\n",
       "구          \n",
       "강남구      11\n",
       "강동구       4\n",
       "강북구       5\n",
       "강서구       4\n",
       "관악구       1\n",
       "광진구       2\n",
       "구로구       4\n",
       "금천구       4\n",
       "노원구       5\n",
       "도봉구       2\n",
       "동대문구      3\n",
       "동작구       4\n",
       "마포구       5\n",
       "서대문구      4\n",
       "서초구       6\n",
       "성동구       3\n",
       "성북구       3\n",
       "송파구       6\n",
       "양천구       5\n",
       "영등포구      4\n",
       "용산구       2\n",
       "은평구       3\n",
       "종로구       4\n",
       "중구        3\n",
       "중랑구       3"
      ]
     },
     "execution_count": 278,
     "metadata": {},
     "output_type": "execute_result"
    }
   ],
   "source": [
    "a.groupby('구').count()"
   ]
  }
 ],
 "metadata": {
  "kernelspec": {
   "display_name": "Python 3",
   "language": "python",
   "name": "python3"
  },
  "language_info": {
   "codemirror_mode": {
    "name": "ipython",
    "version": 3
   },
   "file_extension": ".py",
   "mimetype": "text/x-python",
   "name": "python",
   "nbconvert_exporter": "python",
   "pygments_lexer": "ipython3",
   "version": "3.7.4"
  }
 },
 "nbformat": 4,
 "nbformat_minor": 2
}
